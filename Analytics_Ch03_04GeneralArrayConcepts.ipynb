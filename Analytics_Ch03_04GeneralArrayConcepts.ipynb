{
 "cells": [
  {
   "cell_type": "code",
   "execution_count": 1,
   "metadata": {
    "collapsed": false
   },
   "outputs": [
    {
     "name": "stdout",
     "output_type": "stream",
     "text": [
      "[1 2 3 4] \n",
      "\n",
      "[1 2 0 4] \n",
      "\n",
      "[1 2 0 4] \n",
      "\n"
     ]
    }
   ],
   "source": [
    "import numpy as np\n",
    "#Copies and view of objects\n",
    "\n",
    "a = np.array([1,2,3,4])\n",
    "b = a            #Assigning value of a to b;\n",
    "print(b,\"\\n\")\n",
    "a[2] = 0         #Changing value of an element of a\n",
    "print(a,'\\n')  #Print a\n",
    "print(b,'\\n')  #print b: note the value change in b;\n",
    "                #when assignment is performed, both point to same location\n",
    "                "
   ]
  },
  {
   "cell_type": "code",
   "execution_count": 2,
   "metadata": {
    "collapsed": false
   },
   "outputs": [
    {
     "name": "stdout",
     "output_type": "stream",
     "text": [
      "[2 3] \n",
      "\n",
      "[  1 999   3   4] \n",
      "\n",
      "[999   3] \n",
      "\n"
     ]
    }
   ],
   "source": [
    "a = np.array([1,2,3,4])\n",
    "c = a[1:3]     #Slicing and assigning part of a to c\n",
    "print(c,\"\\n\")\n",
    "a[1] = 999     #Changing value of an element of a\n",
    "print(a,'\\n')  #Print a\n",
    "print(c,'\\n')  #print c: note the value change in c;\n",
    "                #Even when slicing is performed, \n",
    "                #both point to same location"
   ]
  },
  {
   "cell_type": "code",
   "execution_count": 3,
   "metadata": {
    "collapsed": false
   },
   "outputs": [
    {
     "name": "stdout",
     "output_type": "stream",
     "text": [
      "[1 2 3 4] \n",
      "\n",
      "[1 2 0 4] \n",
      "\n",
      "[1 2 3 4] \n",
      "\n"
     ]
    }
   ],
   "source": [
    "#use Copy() for generating copies\n",
    "a = np.array([1,2,3,4])\n",
    "b = a.copy()    #Copy array a onto b\n",
    "print(b,\"\\n\")\n",
    "a[2] = 0         #Changing value of an element of a\n",
    "print(a,'\\n')  #Print a\n",
    "print(b,'\\n')  #print b: in this case, b[2] is not changed as this is a copy"
   ]
  },
  {
   "cell_type": "code",
   "execution_count": 5,
   "metadata": {
    "collapsed": false
   },
   "outputs": [
    {
     "name": "stdout",
     "output_type": "stream",
     "text": [
      "[[ 0  1  2  3]\n",
      " [ 4  5  6  7]\n",
      " [ 8  9 10 11]\n",
      " [12 13 14 15]] \n",
      "\n",
      "[ 1.  1.  1.  1.] \n",
      "\n",
      "[[  1.   2.   3.   4.]\n",
      " [  5.   6.   7.   8.]\n",
      " [  9.  10.  11.  12.]\n",
      " [ 13.  14.  15.  16.]]\n"
     ]
    }
   ],
   "source": [
    "#VECTORIZATION\n",
    "#Concept for internal implementation of numpy\n",
    "#vectorization is the absence of explicit loop\n",
    "#loops are not ommitted they are implemented internally\n",
    "\n",
    "#E.g Multiplying of elements of two arrays using a*b\n",
    "\n",
    "#BROADCASTING\n",
    "#Broadcasting allows an operator or function to act on two or more arrays\n",
    "# to operate even if these arrays do nothave same shape. However there \n",
    "# are other rules\n",
    "a = np.arange(16).reshape(4,4)\n",
    "b = np.ones(4)\n",
    "print(a,\"\\n\")\n",
    "print(b,\"\\n\")\n",
    "print(a+b)\n",
    "#a+b got added even though they are of different dimension\n",
    "# a=4*4 and b=1*4; so when a+b is done, b is made as 4*4 by replicating\n",
    "# its rows"
   ]
  },
  {
   "cell_type": "code",
   "execution_count": 7,
   "metadata": {
    "collapsed": false
   },
   "outputs": [
    {
     "name": "stdout",
     "output_type": "stream",
     "text": [
      "[[[0 1]]\n",
      "\n",
      " [[2 3]]\n",
      "\n",
      " [[4 5]]] \n",
      "\n",
      "[[[0]\n",
      "  [1]]\n",
      "\n",
      " [[2]\n",
      "  [3]]\n",
      "\n",
      " [[4]\n",
      "  [5]]] \n",
      "\n"
     ]
    }
   ],
   "source": [
    "#Broadcasting with different hsapes\n",
    "m = np.arange(6).reshape(3,1,2) #3*1*2 array\n",
    "print(m,\"\\n\")\n",
    "n = np.arange(6).reshape(3,2,1) #3*2*1 array\n",
    "print(n,\"\\n\")\n",
    "# visualize m in 3d\n",
    "#    1       \n",
    "#   0\n",
    "#    3\n",
    "#   2\n",
    "#    5\n",
    "#   4\n",
    "\n",
    "#n  0 1\n",
    "#   2 3\n",
    "#   4 5\n"
   ]
  },
  {
   "cell_type": "code",
   "execution_count": 8,
   "metadata": {
    "collapsed": true
   },
   "outputs": [],
   "source": [
    "#For adding m and n both need augmentation of dimention\n"
   ]
  },
  {
   "cell_type": "code",
   "execution_count": 9,
   "metadata": {
    "collapsed": false
   },
   "outputs": [
    {
     "name": "stdout",
     "output_type": "stream",
     "text": [
      "[[0 1 2]\n",
      " [3 4 5]] \n",
      "\n",
      "[[0 1]\n",
      " [2 3]\n",
      " [4 5]] \n",
      "\n"
     ]
    },
    {
     "ename": "ValueError",
     "evalue": "operands could not be broadcast together with shapes (2,3) (3,2) ",
     "output_type": "error",
     "traceback": [
      "\u001b[1;31m---------------------------------------------------------------------------\u001b[0m",
      "\u001b[1;31mValueError\u001b[0m                                Traceback (most recent call last)",
      "\u001b[1;32m<ipython-input-9-ab90c8bc18a6>\u001b[0m in \u001b[0;36m<module>\u001b[1;34m()\u001b[0m\n\u001b[0;32m      4\u001b[0m \u001b[0mn\u001b[0m \u001b[1;33m=\u001b[0m \u001b[0mnp\u001b[0m\u001b[1;33m.\u001b[0m\u001b[0marange\u001b[0m\u001b[1;33m(\u001b[0m\u001b[1;36m6\u001b[0m\u001b[1;33m)\u001b[0m\u001b[1;33m.\u001b[0m\u001b[0mreshape\u001b[0m\u001b[1;33m(\u001b[0m\u001b[1;36m3\u001b[0m\u001b[1;33m,\u001b[0m\u001b[1;36m2\u001b[0m\u001b[1;33m)\u001b[0m \u001b[1;31m#3*2 array\u001b[0m\u001b[1;33m\u001b[0m\u001b[0m\n\u001b[0;32m      5\u001b[0m \u001b[0mprint\u001b[0m\u001b[1;33m(\u001b[0m\u001b[0mn\u001b[0m\u001b[1;33m,\u001b[0m\u001b[1;34m\"\\n\"\u001b[0m\u001b[1;33m)\u001b[0m\u001b[1;33m\u001b[0m\u001b[0m\n\u001b[1;32m----> 6\u001b[1;33m \u001b[0mprint\u001b[0m\u001b[1;33m(\u001b[0m\u001b[0mm\u001b[0m\u001b[1;33m+\u001b[0m\u001b[0mn\u001b[0m\u001b[1;33m)\u001b[0m\u001b[1;33m\u001b[0m\u001b[0m\n\u001b[0m",
      "\u001b[1;31mValueError\u001b[0m: operands could not be broadcast together with shapes (2,3) (3,2) "
     ]
    }
   ],
   "source": [
    "#Broadcasting with different shapes\n",
    "m = np.arange(6).reshape(2,3) #2*3 array\n",
    "print(m,\"\\n\")\n",
    "n = np.arange(6).reshape(3,2) #3*2 array\n",
    "print(n,\"\\n\")\n",
    "# print(m+n) # This doesn't work"
   ]
  },
  {
   "cell_type": "code",
   "execution_count": null,
   "metadata": {
    "collapsed": true
   },
   "outputs": [],
   "source": []
  }
 ],
 "metadata": {
  "kernelspec": {
   "display_name": "Python 3",
   "language": "python",
   "name": "python3"
  },
  "language_info": {
   "codemirror_mode": {
    "name": "ipython",
    "version": 3
   },
   "file_extension": ".py",
   "mimetype": "text/x-python",
   "name": "python",
   "nbconvert_exporter": "python",
   "pygments_lexer": "ipython3",
   "version": "3.5.1"
  }
 },
 "nbformat": 4,
 "nbformat_minor": 0
}
