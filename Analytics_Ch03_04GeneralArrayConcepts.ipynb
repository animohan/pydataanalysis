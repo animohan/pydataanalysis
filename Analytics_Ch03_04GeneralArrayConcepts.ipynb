{
 "cells": [
  {
   "cell_type": "code",
   "execution_count": 3,
   "metadata": {
    "collapsed": false
   },
   "outputs": [
    {
     "name": "stdout",
     "output_type": "stream",
     "text": [
      "[1 2 3 4] \n",
      "\n",
      "[1 2 0 4] \n",
      "\n",
      "[1 2 0 4] \n",
      "\n"
     ]
    }
   ],
   "source": [
    "import numpy as np\n",
    "#Copies and view of objects\n",
    "\n",
    "a = np.array([1,2,3,4])\n",
    "b = a            #Assigning value of a to b;\n",
    "print(b,\"\\n\")\n",
    "a[2] = 0         #Changing value of an element of a\n",
    "print(a,'\\n')  #Print a\n",
    "print(b,'\\n')  #print b: note the value change in b;\n",
    "                #when assignment is performed, both point to same location\n",
    "                "
   ]
  },
  {
   "cell_type": "code",
   "execution_count": 4,
   "metadata": {
    "collapsed": false
   },
   "outputs": [
    {
     "name": "stdout",
     "output_type": "stream",
     "text": [
      "[2 3] \n",
      "\n",
      "[  1 999   3   4] \n",
      "\n",
      "[999   3] \n",
      "\n"
     ]
    }
   ],
   "source": [
    "a = np.array([1,2,3,4])\n",
    "c = a[1:3]     #Slicing and assigning part of a to c\n",
    "print(c,\"\\n\")\n",
    "a[1] = 999     #Changing value of an element of a\n",
    "print(a,'\\n')  #Print a\n",
    "print(c,'\\n')  #print c: note the value change in c;\n",
    "                #Even when slicing is performed, \n",
    "                #both point to same location"
   ]
  },
  {
   "cell_type": "code",
   "execution_count": 5,
   "metadata": {
    "collapsed": false
   },
   "outputs": [
    {
     "name": "stdout",
     "output_type": "stream",
     "text": [
      "[1 2 3 4] \n",
      "\n",
      "[1 2 0 4] \n",
      "\n",
      "[1 2 3 4] \n",
      "\n"
     ]
    }
   ],
   "source": [
    "#use Copy() for generating copies\n",
    "a = np.array([1,2,3,4])\n",
    "b = a.copy()    #Copy array a onto b\n",
    "print(b,\"\\n\")\n",
    "a[2] = 0         #Changing value of an element of a\n",
    "print(a,'\\n')  #Print a\n",
    "print(b,'\\n')  #print b: in this case, b[2] is not changed as this is a copy"
   ]
  },
  {
   "cell_type": "code",
   "execution_count": 6,
   "metadata": {
    "collapsed": false
   },
   "outputs": [
    {
     "name": "stdout",
     "output_type": "stream",
     "text": [
      "[[ 0  1  2  3]\n",
      " [ 4  5  6  7]\n",
      " [ 8  9 10 11]\n",
      " [12 13 14 15]] \n",
      "\n",
      "[ 1.  1.  1.  1.] \n",
      "\n",
      "[[  1.   2.   3.   4.]\n",
      " [  5.   6.   7.   8.]\n",
      " [  9.  10.  11.  12.]\n",
      " [ 13.  14.  15.  16.]]\n"
     ]
    }
   ],
   "source": [
    "#VECTORIZATION\n",
    "#Concept for internal implementation of numpy\n",
    "#vectorization is the absence of explicit loop\n",
    "#loops are not ommitted they are implemented internally\n",
    "\n",
    "#E.g Multiplying of elements of two arrays using a*b\n",
    "\n",
    "#BROADCASTING\n",
    "#Broadcasting allows an operator or function to act on two or more arrays\n",
    "# to operate even if these arrays do nothave same shape. However there \n",
    "# are other rules\n",
    "a = np.arange(16).reshape(4,4)\n",
    "b = np.ones(4)\n",
    "print(a,\"\\n\")\n",
    "print(b,\"\\n\")\n",
    "print(a+b)\n",
    "#a+b got added even though they are of different dimension\n",
    "# a=4*4 and b=1*4; so when a+b is done, b is made as 4*4 by replicating\n",
    "# its rows"
   ]
  },
  {
   "cell_type": "code",
   "execution_count": 7,
   "metadata": {
    "collapsed": false
   },
   "outputs": [
    {
     "name": "stdout",
     "output_type": "stream",
     "text": [
      "[[[0 1]]\n",
      "\n",
      " [[2 3]]\n",
      "\n",
      " [[4 5]]] \n",
      "\n",
      "[[[0]\n",
      "  [1]]\n",
      "\n",
      " [[2]\n",
      "  [3]]\n",
      "\n",
      " [[4]\n",
      "  [5]]] \n",
      "\n"
     ]
    }
   ],
   "source": [
    "#Broadcasting with different hsapes\n",
    "m = np.arange(6).reshape(3,1,2) #3*1*2 array\n",
    "print(m,\"\\n\")\n",
    "n = np.arange(6).reshape(3,2,1) #3*2*1 array\n",
    "print(n,\"\\n\")\n",
    "# visualize m in 3d\n",
    "#           \n",
    "#   0\n",
    "#    1\n",
    "#   2\n",
    "#    3\n",
    "#   4\n",
    "#    5\n",
    "\n",
    "#n  0 1\n",
    "#   2 3\n",
    "#   4 5\n"
   ]
  },
  {
   "cell_type": "code",
   "execution_count": 9,
   "metadata": {
    "collapsed": false
   },
   "outputs": [
    {
     "data": {
      "text/plain": [
       "array([[[ 0,  1],\n",
       "        [ 1,  2]],\n",
       "\n",
       "       [[ 4,  5],\n",
       "        [ 5,  6]],\n",
       "\n",
       "       [[ 8,  9],\n",
       "        [ 9, 10]]])"
      ]
     },
     "execution_count": 9,
     "metadata": {},
     "output_type": "execute_result"
    }
   ],
   "source": [
    "#For adding m and n both need augmentation of dimention\n",
    "# m = 3*1*2 ->3*2*2\n",
    "# n = 3*2*1 ->3*2*2\n",
    "# m becomes\n",
    "#         \n",
    "#   0   0    Duplicate the 3*1*2 by duplicating 3*2 entries\n",
    "#    1   1\n",
    "#   2   2\n",
    "#    3   3\n",
    "#   4   4\n",
    "#    5   5\n",
    "\n",
    "# n become\n",
    "# \n",
    "#   0   1     Duplicate the 3*2*1 by duplicating 3*2 entries\n",
    "#    0   1\n",
    "#   2   3\n",
    "#    3   3\n",
    "#   4   5\n",
    "#    4   5\n",
    "\n",
    "# m+n\n",
    "#   \n",
    "#  0    1\n",
    "#   1    2\n",
    "#  4    5\n",
    "#   5    6\n",
    "#  8    9\n",
    "#   9    10\n",
    "m+n #Output  matches"
   ]
  },
  {
   "cell_type": "code",
   "execution_count": 10,
   "metadata": {
    "collapsed": false
   },
   "outputs": [
    {
     "name": "stdout",
     "output_type": "stream",
     "text": [
      "[[0 1 2]\n",
      " [3 4 5]] \n",
      "\n",
      "[[0 1]\n",
      " [2 3]\n",
      " [4 5]] \n",
      "\n"
     ]
    }
   ],
   "source": [
    "#Broadcasting with different shapes\n",
    "m = np.arange(6).reshape(2,3) #2*3 array\n",
    "print(m,\"\\n\")\n",
    "n = np.arange(6).reshape(3,2) #3*2 array\n",
    "print(n,\"\\n\")\n",
    "# print(m+n) # This doesn't work; Rule #1 where add a *1 to a missing\n",
    "            # dimension; here no dimensions are misssing."
   ]
  },
  {
   "cell_type": "code",
   "execution_count": 17,
   "metadata": {
    "collapsed": false
   },
   "outputs": [
    {
     "data": {
      "text/plain": [
       "array([(1, b'First', 0.5, (1+2j)),\n",
       "       (2, b'Second', 1.2999999523162842, (2-2j)),\n",
       "       (3, b'third', 0.800000011920929, (1+3j))], \n",
       "      dtype=[('f0', '<i2'), ('f1', 'S6'), ('f2', '<f4'), ('f3', '<c8')])"
      ]
     },
     "execution_count": 17,
     "metadata": {},
     "output_type": "execute_result"
    }
   ],
   "source": [
    "#Structured Arrays\n",
    "#Arrays can contain complex data atype, like struct\n",
    "#Creat a simple array of structs as items. Use Dtype to specify comma\n",
    "# separated specifiers to indicae elements that constitute a struct\n",
    "\n",
    "structured = np.array([(1,\"First\",0.5,1+2j),(2,\"Second\",1.3,2-2j),\n",
    "                       (3,\"third\",0.8,1+3j)],dtype=('i2,a6,f4,c8'))\n",
    "structured\n",
    "\n",
    "#dtypes:\n",
    "#bytes = b1\n",
    "# int = i1, i2,i4,i8\n",
    "# unsigned ints = u1, u2, u4, u8\n",
    "# floats f2,f4,f8\n",
    "# complex: c8, c16\n",
    "# fixed length string a<n>"
   ]
  },
  {
   "cell_type": "code",
   "execution_count": 16,
   "metadata": {
    "collapsed": false
   },
   "outputs": [
    {
     "name": "stdout",
     "output_type": "stream",
     "text": [
      "\n",
      "(2, b'Second', 1.2999999523162842, (2-2j)) \n",
      "\n"
     ]
    }
   ],
   "source": [
    "print()\n",
    "print(structured[1],\"\\n\")"
   ]
  },
  {
   "cell_type": "code",
   "execution_count": 19,
   "metadata": {
    "collapsed": false
   },
   "outputs": [
    {
     "data": {
      "text/plain": [
       "array([(1, b'First', 0.5, (1+2j)),\n",
       "       (2, b'Second', 1.2999999523162842, (2-2j)),\n",
       "       (3, b'third', 0.800000011920929, (1+3j))], \n",
       "      dtype=[('f0', '<i4'), ('f1', 'S6'), ('f2', '<f4'), ('f3', '<c8')])"
      ]
     },
     "execution_count": 19,
     "metadata": {},
     "output_type": "execute_result"
    }
   ],
   "source": [
    "structured = np.array([(1,\"First\",0.5,1+2j),(2,\"Second\",1.3,2-2j),\n",
    "                       (3,\"third\",0.8,1+3j)],dtype= \n",
    "                      ('int32,a6,float32,complex64')) #use explicit dtype\n",
    "structured"
   ]
  },
  {
   "cell_type": "code",
   "execution_count": 25,
   "metadata": {
    "collapsed": false
   },
   "outputs": [
    {
     "name": "stdout",
     "output_type": "stream",
     "text": [
      "[1 2 3] \n",
      "\n",
      "[b'First' b'Second' b'third'] \n",
      "\n",
      "[ 0.5         1.29999995  0.80000001] \n",
      "\n",
      "[ 1.+2.j  2.-2.j  1.+3.j] \n",
      "\n"
     ]
    }
   ],
   "source": [
    "structured = np.array([(1,\"First\",0.5,1+2j),(2,\"Second\",1.3,2-2j),\n",
    "                       (3,\"third\",0.8,1+3j)],dtype= \n",
    "                      ('int32,a6,float32,complex64')) #use explicit dtype\n",
    "print(structured['f0'], \"\\n\")\n",
    "#print(structured['<i4'], \"\\n\") #fails\n",
    "print(structured['f1'], \"\\n\")\n",
    "print(structured['f2'], \"\\n\")\n",
    "print(structured['f3'], \"\\n\")\n",
    "\n"
   ]
  },
  {
   "cell_type": "code",
   "execution_count": 26,
   "metadata": {
    "collapsed": true
   },
   "outputs": [],
   "source": []
  },
  {
   "cell_type": "code",
   "execution_count": 10,
   "metadata": {
    "collapsed": false
   },
   "outputs": [
    {
     "name": "stdout",
     "output_type": "stream",
     "text": [
      "[[1 2 3]\n",
      " [4 5 6]\n",
      " [7 8 9]]\n"
     ]
    }
   ],
   "source": [
    "#Reading and Writing Array Data on Files#\n",
    "#load() and #save commands\n",
    "data = np.arange(1,10).reshape(3,3)\n",
    "np.save(\"saved_data\",data)\n",
    "loaded_data= np.load('saved_data.npy')\n",
    "print(loaded_data)"
   ]
  },
  {
   "cell_type": "code",
   "execution_count": 11,
   "metadata": {
    "collapsed": false
   },
   "outputs": [
    {
     "name": "stdout",
     "output_type": "stream",
     "text": [
      "[(1.0, 5.0, 7.0, 8.0) (2.0, 10.0, 14.0, 16.0) (3.0, 15.0, 21.0, 24.0)]\n"
     ]
    },
    {
     "data": {
      "text/plain": [
       "array([(1.0, 5.0, 7.0, 8.0), (2.0, 10.0, 14.0, 16.0),\n",
       "       (3.0, 15.0, 21.0, 24.0)], \n",
       "      dtype=[('id', '<f8'), ('value2', '<f8'), ('value2_1', '<f8'), ('value3', '<f8')])"
      ]
     },
     "execution_count": 11,
     "metadata": {},
     "output_type": "execute_result"
    }
   ],
   "source": [
    "#Reading file with Tabular data\n",
    "#reading csv file\n",
    "data = np.genfromtxt(\"data.csv\", delimiter = \",\" ,names =True)\n",
    "    # data.csv has headings id, value1, value2, value3\n",
    "print(data)\n",
    "data #we get structured array where column heading has become names of field"
   ]
  },
  {
   "cell_type": "code",
   "execution_count": 13,
   "metadata": {
    "collapsed": false
   },
   "outputs": [
    {
     "name": "stdout",
     "output_type": "stream",
     "text": [
      "[(1.0, 5.0, 7.0, 8.0) (2.0, 10.0, 14.0, 16.0) (3.0, 15.0, 21.0, nan)]\n"
     ]
    },
    {
     "data": {
      "text/plain": [
       "array([(1.0, 5.0, 7.0, 8.0), (2.0, 10.0, 14.0, 16.0),\n",
       "       (3.0, 15.0, 21.0, nan)], \n",
       "      dtype=[('id', '<f8'), ('value2', '<f8'), ('value2_1', '<f8'), ('value3', '<f8')])"
      ]
     },
     "execution_count": 13,
     "metadata": {},
     "output_type": "execute_result"
    }
   ],
   "source": [
    "#reading csv file\n",
    "data = np.genfromtxt(\"data2.csv\", delimiter = \",\" ,names =True)\n",
    "    # data.csv has headings id, value1, value2, value3\n",
    "    # last entry in value3 is missing\n",
    "print(data) #note nan is entered when there is missing data\n",
    "data #we get structured array where column heading has become names of field"
   ]
  },
  {
   "cell_type": "code",
   "execution_count": 15,
   "metadata": {
    "collapsed": false
   },
   "outputs": [
    {
     "name": "stdout",
     "output_type": "stream",
     "text": [
      "[ 1.  2.  3.]\n",
      "[  8.  16.  nan]\n"
     ]
    }
   ],
   "source": [
    "print(data['id']) #retrieving values of id\n",
    "print(data['value3']) #retrieving values of id"
   ]
  },
  {
   "cell_type": "code",
   "execution_count": null,
   "metadata": {
    "collapsed": true
   },
   "outputs": [],
   "source": []
  }
 ],
 "metadata": {
  "anaconda-cloud": {},
  "kernelspec": {
   "display_name": "Python [default]",
   "language": "python",
   "name": "python3"
  },
  "language_info": {
   "codemirror_mode": {
    "name": "ipython",
    "version": 3
   },
   "file_extension": ".py",
   "mimetype": "text/x-python",
   "name": "python",
   "nbconvert_exporter": "python",
   "pygments_lexer": "ipython3",
   "version": "3.5.2"
  }
 },
 "nbformat": 4,
 "nbformat_minor": 0
}
