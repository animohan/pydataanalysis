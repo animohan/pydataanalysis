{
 "cells": [
  {
   "cell_type": "code",
   "execution_count": 8,
   "metadata": {
    "collapsed": false
   },
   "outputs": [],
   "source": [
    "import numpy as np\n",
    "import pandas as pd\n",
    "#Arithmetic methods\n",
    "\n",
    "\n",
    "frame = pd.DataFrame(np.arange(16).reshape((4,4)),index =[\"red\",\"blue\",\n",
    "            \"yellow\",\"white\"],columns=[\"ball\",\"pen\",\"pencil\",\"paper\"])\n",
    "\n",
    "frame2 = pd.DataFrame(np.arange(12).reshape((4,3)),index = [\"blue\",\"green\",\n",
    "            \"white\",\"yellow\"],columns =[\"mug\",\"pen\",\"ball\"])\n",
    "\n",
    "frame3 = pd.DataFrame(np.random.random(16).reshape((4,4)),index = [\"red\",\n",
    "        \"blue\",\"yellow\",\"white\"],columns=[\"ball\",\"pen\",\"pencil\",\"paper\"])\n",
    "\n",
    "frame4 = pd.DataFrame((0.25*np.ones(16)).reshape((4,4)),index = [\"red\",\n",
    "        \"blue\",\"yellow\",\"white\"],columns=[\"ball\",\"pen\",\"pencil\",\"paper\"])\n",
    "\n",
    "frame5 = pd.DataFrame((np.ones(16)).reshape((4,4)),index = [\"red\",\n",
    "        \"blue\",\"yellow\",\"white\"],columns=[\"ball\",\"pen\",\"pencil\",\"paper\"])\n"
   ]
  },
  {
   "cell_type": "code",
   "execution_count": 4,
   "metadata": {
    "collapsed": false
   },
   "outputs": [
    {
     "data": {
      "text/html": [
       "<div>\n",
       "<table border=\"1\" class=\"dataframe\">\n",
       "  <thead>\n",
       "    <tr style=\"text-align: right;\">\n",
       "      <th></th>\n",
       "      <th>ball</th>\n",
       "      <th>pen</th>\n",
       "      <th>pencil</th>\n",
       "      <th>paper</th>\n",
       "    </tr>\n",
       "  </thead>\n",
       "  <tbody>\n",
       "    <tr>\n",
       "      <th>red</th>\n",
       "      <td>0.057505</td>\n",
       "      <td>1.416801</td>\n",
       "      <td>2.458549</td>\n",
       "      <td>3.384198</td>\n",
       "    </tr>\n",
       "    <tr>\n",
       "      <th>blue</th>\n",
       "      <td>4.204604</td>\n",
       "      <td>5.557346</td>\n",
       "      <td>6.216747</td>\n",
       "      <td>7.819513</td>\n",
       "    </tr>\n",
       "    <tr>\n",
       "      <th>yellow</th>\n",
       "      <td>8.570750</td>\n",
       "      <td>9.528240</td>\n",
       "      <td>10.116447</td>\n",
       "      <td>11.355605</td>\n",
       "    </tr>\n",
       "    <tr>\n",
       "      <th>white</th>\n",
       "      <td>12.061295</td>\n",
       "      <td>13.150072</td>\n",
       "      <td>14.113967</td>\n",
       "      <td>15.293574</td>\n",
       "    </tr>\n",
       "  </tbody>\n",
       "</table>\n",
       "</div>"
      ],
      "text/plain": [
       "             ball        pen     pencil      paper\n",
       "red      0.057505   1.416801   2.458549   3.384198\n",
       "blue     4.204604   5.557346   6.216747   7.819513\n",
       "yellow   8.570750   9.528240  10.116447  11.355605\n",
       "white   12.061295  13.150072  14.113967  15.293574"
      ]
     },
     "execution_count": 4,
     "metadata": {},
     "output_type": "execute_result"
    }
   ],
   "source": [
    "frame.add(frame3) #Adding frames that have same indices and columns"
   ]
  },
  {
   "cell_type": "code",
   "execution_count": 5,
   "metadata": {
    "collapsed": false
   },
   "outputs": [
    {
     "data": {
      "text/html": [
       "<div>\n",
       "<table border=\"1\" class=\"dataframe\">\n",
       "  <thead>\n",
       "    <tr style=\"text-align: right;\">\n",
       "      <th></th>\n",
       "      <th>ball</th>\n",
       "      <th>mug</th>\n",
       "      <th>paper</th>\n",
       "      <th>pen</th>\n",
       "      <th>pencil</th>\n",
       "    </tr>\n",
       "  </thead>\n",
       "  <tbody>\n",
       "    <tr>\n",
       "      <th>blue</th>\n",
       "      <td>6.0</td>\n",
       "      <td>NaN</td>\n",
       "      <td>NaN</td>\n",
       "      <td>6.0</td>\n",
       "      <td>NaN</td>\n",
       "    </tr>\n",
       "    <tr>\n",
       "      <th>green</th>\n",
       "      <td>NaN</td>\n",
       "      <td>NaN</td>\n",
       "      <td>NaN</td>\n",
       "      <td>NaN</td>\n",
       "      <td>NaN</td>\n",
       "    </tr>\n",
       "    <tr>\n",
       "      <th>red</th>\n",
       "      <td>NaN</td>\n",
       "      <td>NaN</td>\n",
       "      <td>NaN</td>\n",
       "      <td>NaN</td>\n",
       "      <td>NaN</td>\n",
       "    </tr>\n",
       "    <tr>\n",
       "      <th>white</th>\n",
       "      <td>20.0</td>\n",
       "      <td>NaN</td>\n",
       "      <td>NaN</td>\n",
       "      <td>20.0</td>\n",
       "      <td>NaN</td>\n",
       "    </tr>\n",
       "    <tr>\n",
       "      <th>yellow</th>\n",
       "      <td>19.0</td>\n",
       "      <td>NaN</td>\n",
       "      <td>NaN</td>\n",
       "      <td>19.0</td>\n",
       "      <td>NaN</td>\n",
       "    </tr>\n",
       "  </tbody>\n",
       "</table>\n",
       "</div>"
      ],
      "text/plain": [
       "        ball  mug  paper   pen  pencil\n",
       "blue     6.0  NaN    NaN   6.0     NaN\n",
       "green    NaN  NaN    NaN   NaN     NaN\n",
       "red      NaN  NaN    NaN   NaN     NaN\n",
       "white   20.0  NaN    NaN  20.0     NaN\n",
       "yellow  19.0  NaN    NaN  19.0     NaN"
      ]
     },
     "execution_count": 5,
     "metadata": {},
     "output_type": "execute_result"
    }
   ],
   "source": [
    "frame.add(frame2) #Adding frames that have different indices and columns\n",
    "# only entries that have same column and indice name in both arrays are \n",
    "added"
   ]
  },
  {
   "cell_type": "code",
   "execution_count": 9,
   "metadata": {
    "collapsed": false
   },
   "outputs": [
    {
     "data": {
      "text/html": [
       "<div>\n",
       "<table border=\"1\" class=\"dataframe\">\n",
       "  <thead>\n",
       "    <tr style=\"text-align: right;\">\n",
       "      <th></th>\n",
       "      <th>ball</th>\n",
       "      <th>pen</th>\n",
       "      <th>pencil</th>\n",
       "      <th>paper</th>\n",
       "    </tr>\n",
       "  </thead>\n",
       "  <tbody>\n",
       "    <tr>\n",
       "      <th>red</th>\n",
       "      <td>0.75</td>\n",
       "      <td>0.75</td>\n",
       "      <td>0.75</td>\n",
       "      <td>0.75</td>\n",
       "    </tr>\n",
       "    <tr>\n",
       "      <th>blue</th>\n",
       "      <td>0.75</td>\n",
       "      <td>0.75</td>\n",
       "      <td>0.75</td>\n",
       "      <td>0.75</td>\n",
       "    </tr>\n",
       "    <tr>\n",
       "      <th>yellow</th>\n",
       "      <td>0.75</td>\n",
       "      <td>0.75</td>\n",
       "      <td>0.75</td>\n",
       "      <td>0.75</td>\n",
       "    </tr>\n",
       "    <tr>\n",
       "      <th>white</th>\n",
       "      <td>0.75</td>\n",
       "      <td>0.75</td>\n",
       "      <td>0.75</td>\n",
       "      <td>0.75</td>\n",
       "    </tr>\n",
       "  </tbody>\n",
       "</table>\n",
       "</div>"
      ],
      "text/plain": [
       "        ball   pen  pencil  paper\n",
       "red     0.75  0.75    0.75   0.75\n",
       "blue    0.75  0.75    0.75   0.75\n",
       "yellow  0.75  0.75    0.75   0.75\n",
       "white   0.75  0.75    0.75   0.75"
      ]
     },
     "execution_count": 9,
     "metadata": {},
     "output_type": "execute_result"
    }
   ],
   "source": [
    "frame5.sub(frame4) #subtraction"
   ]
  },
  {
   "cell_type": "code",
   "execution_count": 10,
   "metadata": {
    "collapsed": false
   },
   "outputs": [
    {
     "data": {
      "text/html": [
       "<div>\n",
       "<table border=\"1\" class=\"dataframe\">\n",
       "  <thead>\n",
       "    <tr style=\"text-align: right;\">\n",
       "      <th></th>\n",
       "      <th>ball</th>\n",
       "      <th>pen</th>\n",
       "      <th>pencil</th>\n",
       "      <th>paper</th>\n",
       "    </tr>\n",
       "  </thead>\n",
       "  <tbody>\n",
       "    <tr>\n",
       "      <th>red</th>\n",
       "      <td>4.0</td>\n",
       "      <td>4.0</td>\n",
       "      <td>4.0</td>\n",
       "      <td>4.0</td>\n",
       "    </tr>\n",
       "    <tr>\n",
       "      <th>blue</th>\n",
       "      <td>4.0</td>\n",
       "      <td>4.0</td>\n",
       "      <td>4.0</td>\n",
       "      <td>4.0</td>\n",
       "    </tr>\n",
       "    <tr>\n",
       "      <th>yellow</th>\n",
       "      <td>4.0</td>\n",
       "      <td>4.0</td>\n",
       "      <td>4.0</td>\n",
       "      <td>4.0</td>\n",
       "    </tr>\n",
       "    <tr>\n",
       "      <th>white</th>\n",
       "      <td>4.0</td>\n",
       "      <td>4.0</td>\n",
       "      <td>4.0</td>\n",
       "      <td>4.0</td>\n",
       "    </tr>\n",
       "  </tbody>\n",
       "</table>\n",
       "</div>"
      ],
      "text/plain": [
       "        ball  pen  pencil  paper\n",
       "red      4.0  4.0     4.0    4.0\n",
       "blue     4.0  4.0     4.0    4.0\n",
       "yellow   4.0  4.0     4.0    4.0\n",
       "white    4.0  4.0     4.0    4.0"
      ]
     },
     "execution_count": 10,
     "metadata": {},
     "output_type": "execute_result"
    }
   ],
   "source": [
    "frame5.div(frame4) #division"
   ]
  },
  {
   "cell_type": "code",
   "execution_count": 11,
   "metadata": {
    "collapsed": false
   },
   "outputs": [
    {
     "data": {
      "text/html": [
       "<div>\n",
       "<table border=\"1\" class=\"dataframe\">\n",
       "  <thead>\n",
       "    <tr style=\"text-align: right;\">\n",
       "      <th></th>\n",
       "      <th>ball</th>\n",
       "      <th>pen</th>\n",
       "      <th>pencil</th>\n",
       "      <th>paper</th>\n",
       "    </tr>\n",
       "  </thead>\n",
       "  <tbody>\n",
       "    <tr>\n",
       "      <th>red</th>\n",
       "      <td>0.25</td>\n",
       "      <td>0.25</td>\n",
       "      <td>0.25</td>\n",
       "      <td>0.25</td>\n",
       "    </tr>\n",
       "    <tr>\n",
       "      <th>blue</th>\n",
       "      <td>0.25</td>\n",
       "      <td>0.25</td>\n",
       "      <td>0.25</td>\n",
       "      <td>0.25</td>\n",
       "    </tr>\n",
       "    <tr>\n",
       "      <th>yellow</th>\n",
       "      <td>0.25</td>\n",
       "      <td>0.25</td>\n",
       "      <td>0.25</td>\n",
       "      <td>0.25</td>\n",
       "    </tr>\n",
       "    <tr>\n",
       "      <th>white</th>\n",
       "      <td>0.25</td>\n",
       "      <td>0.25</td>\n",
       "      <td>0.25</td>\n",
       "      <td>0.25</td>\n",
       "    </tr>\n",
       "  </tbody>\n",
       "</table>\n",
       "</div>"
      ],
      "text/plain": [
       "        ball   pen  pencil  paper\n",
       "red     0.25  0.25    0.25   0.25\n",
       "blue    0.25  0.25    0.25   0.25\n",
       "yellow  0.25  0.25    0.25   0.25\n",
       "white   0.25  0.25    0.25   0.25"
      ]
     },
     "execution_count": 11,
     "metadata": {},
     "output_type": "execute_result"
    }
   ],
   "source": [
    "frame5.mul(frame4) #multiplication"
   ]
  },
  {
   "cell_type": "code",
   "execution_count": 14,
   "metadata": {
    "collapsed": false
   },
   "outputs": [
    {
     "name": "stdout",
     "output_type": "stream",
     "text": [
      "ball      0\n",
      "pen       1\n",
      "pencil    2\n",
      "paper     3\n",
      "dtype: int64 \n",
      "\n",
      "        ball  pen  pencil  paper\n",
      "red        0    1       2      3\n",
      "blue       4    5       6      7\n",
      "yellow     8    9      10     11\n",
      "white     12   13      14     15 \n",
      "\n",
      "        ball  pen  pencil  paper\n",
      "red        0    0       0      0\n",
      "blue       4    4       4      4\n",
      "yellow     8    8       8      8\n",
      "white     12   12      12     12\n"
     ]
    }
   ],
   "source": [
    "#Operation between data frames and series\n",
    "\n",
    "ser = pd.Series(np.arange(4),[\"ball\",\"pen\",\"pencil\",\"paper\"])\n",
    "print(ser,\"\\n\")\n",
    "print(frame,\"\\n\")\n",
    "print(frame-ser) #Note entires in frames with corresponding indices\n",
    "                    # in series are subtractre"
   ]
  },
  {
   "cell_type": "code",
   "execution_count": 15,
   "metadata": {
    "collapsed": false
   },
   "outputs": [
    {
     "name": "stdout",
     "output_type": "stream",
     "text": [
      "ball      0\n",
      "pen       1\n",
      "pencil    2\n",
      "paper     3\n",
      "mug       9\n",
      "dtype: int64 \n",
      "\n",
      "        ball  mug  paper  pen  pencil\n",
      "red        0  NaN      0    0       0\n",
      "blue       4  NaN      4    4       4\n",
      "yellow     8  NaN      8    8       8\n",
      "white     12  NaN     12   12      12\n"
     ]
    }
   ],
   "source": [
    "ser[\"mug\"]= 9\n",
    "print(ser,\"\\n\")\n",
    "print(frame-ser) #mug doesnt exist in frame hence resultant - NaN"
   ]
  },
  {
   "cell_type": "code",
   "execution_count": 17,
   "metadata": {
    "collapsed": false
   },
   "outputs": [
    {
     "data": {
      "text/html": [
       "<div>\n",
       "<table border=\"1\" class=\"dataframe\">\n",
       "  <thead>\n",
       "    <tr style=\"text-align: right;\">\n",
       "      <th></th>\n",
       "      <th>ball</th>\n",
       "      <th>pen</th>\n",
       "      <th>pencil</th>\n",
       "      <th>paper</th>\n",
       "    </tr>\n",
       "  </thead>\n",
       "  <tbody>\n",
       "    <tr>\n",
       "      <th>red</th>\n",
       "      <td>0.000000</td>\n",
       "      <td>1.000000</td>\n",
       "      <td>1.414214</td>\n",
       "      <td>1.732051</td>\n",
       "    </tr>\n",
       "    <tr>\n",
       "      <th>blue</th>\n",
       "      <td>2.000000</td>\n",
       "      <td>2.236068</td>\n",
       "      <td>2.449490</td>\n",
       "      <td>2.645751</td>\n",
       "    </tr>\n",
       "    <tr>\n",
       "      <th>yellow</th>\n",
       "      <td>2.828427</td>\n",
       "      <td>3.000000</td>\n",
       "      <td>3.162278</td>\n",
       "      <td>3.316625</td>\n",
       "    </tr>\n",
       "    <tr>\n",
       "      <th>white</th>\n",
       "      <td>3.464102</td>\n",
       "      <td>3.605551</td>\n",
       "      <td>3.741657</td>\n",
       "      <td>3.872983</td>\n",
       "    </tr>\n",
       "  </tbody>\n",
       "</table>\n",
       "</div>"
      ],
      "text/plain": [
       "            ball       pen    pencil     paper\n",
       "red     0.000000  1.000000  1.414214  1.732051\n",
       "blue    2.000000  2.236068  2.449490  2.645751\n",
       "yellow  2.828427  3.000000  3.162278  3.316625\n",
       "white   3.464102  3.605551  3.741657  3.872983"
      ]
     },
     "execution_count": 17,
     "metadata": {},
     "output_type": "execute_result"
    }
   ],
   "source": [
    "#Function Application and Mapping\n",
    "np.sqrt(frame) #square root function on frame"
   ]
  },
  {
   "cell_type": "code",
   "execution_count": 19,
   "metadata": {
    "collapsed": false
   },
   "outputs": [
    {
     "name": "stdout",
     "output_type": "stream",
     "text": [
      "        ball  pen  pencil  paper\n",
      "red        0    1       2      3\n",
      "blue       4    5       6      7\n",
      "yellow     8    9      10     11\n",
      "white     12   13      14     15 \n",
      "\n"
     ]
    },
    {
     "data": {
      "text/plain": [
       "ball      12\n",
       "pen       12\n",
       "pencil    12\n",
       "paper     12\n",
       "dtype: int64"
      ]
     },
     "execution_count": 19,
     "metadata": {},
     "output_type": "execute_result"
    }
   ],
   "source": [
    "#applying functions\n",
    "print(frame, \"\\n\")\n",
    "def f(x):\n",
    "    return(x.max()-x.min())\n",
    "\n",
    "frame.apply(f) #applied to each column"
   ]
  },
  {
   "cell_type": "code",
   "execution_count": 20,
   "metadata": {
    "collapsed": false
   },
   "outputs": [
    {
     "data": {
      "text/plain": [
       "red       3\n",
       "blue      3\n",
       "yellow    3\n",
       "white     3\n",
       "dtype: int64"
      ]
     },
     "execution_count": 20,
     "metadata": {},
     "output_type": "execute_result"
    }
   ],
   "source": [
    "frame.apply(f, axis =1) #apply function to each row"
   ]
  },
  {
   "cell_type": "code",
   "execution_count": 22,
   "metadata": {
    "collapsed": false
   },
   "outputs": [
    {
     "name": "stdout",
     "output_type": "stream",
     "text": [
      "     ball  pen  pencil  paper\n",
      "min     0    1       2      3\n",
      "max    12   13      14     15 \n",
      "\n",
      "        min  max\n",
      "red       0    3\n",
      "blue      4    7\n",
      "yellow    8   11\n",
      "white    12   15\n"
     ]
    }
   ],
   "source": [
    "def f(x):\n",
    "    return (pd.Series([x.min(),x.max()], index =[\"min\",\"max\"])) #return a\n",
    "                    #series containing min and max\n",
    "\n",
    "print(frame.apply(f),\"\\n\")\n",
    "print(frame.apply(f, axis=1))"
   ]
  },
  {
   "cell_type": "code",
   "execution_count": 24,
   "metadata": {
    "collapsed": false
   },
   "outputs": [
    {
     "name": "stdout",
     "output_type": "stream",
     "text": [
      "ball      24\n",
      "pen       28\n",
      "pencil    32\n",
      "paper     36\n",
      "dtype: int64 \n",
      "\n",
      "ball      6.0\n",
      "pen       7.0\n",
      "pencil    8.0\n",
      "paper     9.0\n",
      "dtype: float64 \n",
      "\n",
      "            ball        pen     pencil      paper\n",
      "count   4.000000   4.000000   4.000000   4.000000\n",
      "mean    6.000000   7.000000   8.000000   9.000000\n",
      "std     5.163978   5.163978   5.163978   5.163978\n",
      "min     0.000000   1.000000   2.000000   3.000000\n",
      "25%     3.000000   4.000000   5.000000   6.000000\n",
      "50%     6.000000   7.000000   8.000000   9.000000\n",
      "75%     9.000000  10.000000  11.000000  12.000000\n",
      "max    12.000000  13.000000  14.000000  15.000000 \n",
      "\n"
     ]
    }
   ],
   "source": [
    "#Statistical Functions:\n",
    "print(frame.sum(),\"\\n\")\n",
    "print(frame.mean(),\"\\n\")\n",
    "print(frame.describe(),\"\\n\")"
   ]
  },
  {
   "cell_type": "code",
   "execution_count": 28,
   "metadata": {
    "collapsed": false
   },
   "outputs": [
    {
     "name": "stdout",
     "output_type": "stream",
     "text": [
      "red       5\n",
      "blue      0\n",
      "yellow    3\n",
      "white     8\n",
      "green     4\n",
      "dtype: int64 \n",
      "\n",
      "blue      0\n",
      "green     4\n",
      "red       5\n",
      "white     8\n",
      "yellow    3\n",
      "dtype: int64 \n",
      "\n",
      "yellow    3\n",
      "white     8\n",
      "red       5\n",
      "green     4\n",
      "blue      0\n",
      "dtype: int64\n"
     ]
    }
   ],
   "source": [
    "#Sorting and Ranking\n",
    "ser = pd.Series([5,0,3,8,4], index =[\"red\",\"blue\",\"yellow\",\"white\",\"green\"])\n",
    "print(ser,\"\\n\")\n",
    "print(ser.sort_index(),\"\\n\") #Default sorting order descenading\n",
    "                    #sort in alphabetical order as index = string\n",
    "print(ser.sort_index(ascending=False)) "
   ]
  },
  {
   "cell_type": "code",
   "execution_count": 29,
   "metadata": {
    "collapsed": false
   },
   "outputs": [
    {
     "name": "stdout",
     "output_type": "stream",
     "text": [
      "        ball  pen  pencil  paper\n",
      "red        0    1       2      3\n",
      "blue       4    5       6      7\n",
      "yellow     8    9      10     11\n",
      "white     12   13      14     15 \n",
      "\n",
      "        ball  pen  pencil  paper\n",
      "blue       4    5       6      7\n",
      "red        0    1       2      3\n",
      "white     12   13      14     15\n",
      "yellow     8    9      10     11 \n",
      "\n",
      "        ball  paper  pen  pencil\n",
      "red        0      3    1       2\n",
      "blue       4      7    5       6\n",
      "yellow     8     11    9      10\n",
      "white     12     15   13      14 \n",
      "\n"
     ]
    }
   ],
   "source": [
    "frame = pd.DataFrame(np.arange(16).reshape((4,4)),index=[\"red\",\"blue\",\n",
    "                \"yellow\",\"white\"], columns=[\"ball\",\"pen\",\"pencil\",\"paper\"])\n",
    "print(frame,\"\\n\")\n",
    "print(frame.sort_index(),\"\\n\") #sort row order\n",
    "print(frame.sort_index(axis=1),\"\\n\") #sort column order"
   ]
  },
  {
   "cell_type": "code",
   "execution_count": 34,
   "metadata": {
    "collapsed": false
   },
   "outputs": [
    {
     "name": "stdout",
     "output_type": "stream",
     "text": [
      "red       5\n",
      "blue      0\n",
      "yellow    3\n",
      "white     8\n",
      "green     4\n",
      "dtype: int64 \n",
      "\n",
      "blue      0\n",
      "yellow    3\n",
      "green     4\n",
      "red       5\n",
      "white     8\n",
      "dtype: int64\n"
     ]
    }
   ],
   "source": [
    "print(ser,\"\\n\")\n",
    "print(ser.sort_values()) #ser.order() ..order() is deprecated\n",
    "    #sort based on values"
   ]
  },
  {
   "cell_type": "code",
   "execution_count": 39,
   "metadata": {
    "collapsed": false
   },
   "outputs": [
    {
     "name": "stdout",
     "output_type": "stream",
     "text": [
      "        ball  pen  pencil  paper\n",
      "red        0    1       2      3\n",
      "blue       4    5       6      7\n",
      "yellow     8    9      10     11\n",
      "white     12   13      14     15 \n",
      "\n",
      "        ball  pen  pencil  paper\n",
      "red        0    1       2      3\n",
      "blue       4    5       6      7\n",
      "yellow     8    9      10     11\n",
      "white     12   13      14     15\n",
      "        ball  pen  pencil  paper\n",
      "red        0    1       2      3\n",
      "blue       4    5       6      7\n",
      "yellow     8    9      10     11\n",
      "white     12   13      14     15\n"
     ]
    }
   ],
   "source": [
    "print(frame,\"\\n\")\n",
    "print(frame.sort_values(by=\"pen\")) #sort on column values of pen\n",
    "print(frame.sort_values(by=[\"pen\",\"pencil\"])) "
   ]
  },
  {
   "cell_type": "code",
   "execution_count": 43,
   "metadata": {
    "collapsed": false
   },
   "outputs": [
    {
     "name": "stdout",
     "output_type": "stream",
     "text": [
      "red       5\n",
      "blue      0\n",
      "yellow    3\n",
      "white     8\n",
      "green     4\n",
      "dtype: int64 \n",
      "\n",
      "red       4.0\n",
      "blue      1.0\n",
      "yellow    2.0\n",
      "white     5.0\n",
      "green     3.0\n",
      "dtype: float64 \n",
      "\n",
      "blue      0\n",
      "yellow    3\n",
      "green     4\n",
      "red       5\n",
      "white     8\n",
      "dtype: int64\n"
     ]
    }
   ],
   "source": [
    "print(ser,\"\\n\")\n",
    "print(ser.rank(),\"\\n\") #gives rank in sorted order\n",
    "print(ser.sort_values()) #compare ranks and sorted order"
   ]
  },
  {
   "cell_type": "code",
   "execution_count": 46,
   "metadata": {
    "collapsed": false
   },
   "outputs": [
    {
     "name": "stdout",
     "output_type": "stream",
     "text": [
      "red       5\n",
      "blue      0\n",
      "yellow    3\n",
      "white     8\n",
      "green     4\n",
      "dtype: int64 \n",
      "\n",
      "red       4.0\n",
      "blue      1.0\n",
      "yellow    2.0\n",
      "white     5.0\n",
      "green     3.0\n",
      "dtype: float64\n"
     ]
    }
   ],
   "source": [
    "print(ser,\"\\n\")\n",
    "print(ser.rank(method='first')) #dont know what the first paramter does"
   ]
  },
  {
   "cell_type": "code",
   "execution_count": 4,
   "metadata": {
    "collapsed": false
   },
   "outputs": [
    {
     "name": "stdout",
     "output_type": "stream",
     "text": [
      "Calculating correlation\n",
      "a and b correlation:  -2.5 \n",
      "\n",
      "Calculating covariance\n",
      "a and b covariance:  -1.0 \n",
      "\n",
      "Correlation from forumla -1.0\n",
      "Covariance from forumla -2.5\n",
      "0.774596669241 \n",
      "\n",
      "0.857142857143 \n",
      "\n"
     ]
    }
   ],
   "source": [
    "#Correlation and Covariance\n",
    "import pandas as pd\n",
    "import numpy as np\n",
    "a = pd.Series([1,2,3,4,5])\n",
    "b = pd.Series([5,4,3,2,1])\n",
    "\n",
    "print(\"Calculating co-variance\")\n",
    "abcorr = sum((a-a.mean())*(b-b.mean()))/(len(a)-1)\n",
    "print(\"a and b correlation: \", abcorr,\"\\n\")\n",
    "\n",
    "print(\"Calculating correlation\")\n",
    "numerator = sum((a-a.mean())*(b-b.mean()))\n",
    "denominator = np.sqrt(sum((a-a.mean())*(a-a.mean())) * sum((b-b.mean())*(b-b.mean())))\n",
    "abcovar = numerator/denominator\n",
    "print(\"a and b covariance: \", abcovar,\"\\n\")\n",
    "\n",
    "print(\"Correlation from forumla\", a.corr(b))\n",
    "print(\"Covariance from forumla\", a.cov(b))\n",
    "\n",
    "\n",
    "\n",
    "seq2 = pd.Series([3,4,3,4,5,4,3,2],[\"2006\",'2007',\"2008\",\"2009\",\"2010\",\n",
    "                                  \"2011\",\"2012\",\"2013\"])\n",
    "seq = pd.Series([1,2,3,4,4,3,2,1],[\"2006\",'2007',\"2008\",\"2009\",\"2010\",\n",
    "                                  \"2011\",\"2012\",\"2013\"])\n",
    "print(seq.corr(seq2),\"\\n\") #correlation between the sequences\n",
    "print(seq.cov(seq2),\"\\n\") #covariance of the sequence"
   ]
  },
  {
   "cell_type": "code",
   "execution_count": 11,
   "metadata": {
    "collapsed": false
   },
   "outputs": [
    {
     "name": "stdout",
     "output_type": "stream",
     "text": [
      "        ball  pen  pencil  paper  cup\n",
      "red        1    1       1      1    1\n",
      "blue       2    2       2      2    2\n",
      "yellow     3    3       3      3    3\n",
      "white      3    3       3      3    3\n",
      "green      3    3       3      3    3 \n",
      "\n",
      "        ball  pen  pencil  paper  cup\n",
      "ball     1.0  1.0     1.0    1.0  1.0\n",
      "pen      1.0  1.0     1.0    1.0  1.0\n",
      "pencil   1.0  1.0     1.0    1.0  1.0\n",
      "paper    1.0  1.0     1.0    1.0  1.0\n",
      "cup      1.0  1.0     1.0    1.0  1.0 \n",
      "\n",
      "        ball  pen  pencil  paper  cup\n",
      "ball     0.8  0.8     0.8    0.8  0.8\n",
      "pen      0.8  0.8     0.8    0.8  0.8\n",
      "pencil   0.8  0.8     0.8    0.8  0.8\n",
      "paper    0.8  0.8     0.8    0.8  0.8\n",
      "cup      0.8  0.8     0.8    0.8  0.8\n"
     ]
    }
   ],
   "source": [
    "#frame = pd.DataFrame([[1,2,3,4],[2,1,6,1],[3,6,1,5],[4,1,5,1]],index=[\"red\",\"blue\",\n",
    "#        \"yellow\",\"white\"], columns=[\"ball\",\"pen\",\"pencil\",\"paper\"])\n",
    "\n",
    "frame = pd.DataFrame([[1,2,3,4,5],[1,2,3,4,5],[1,2,3,4,5],[1,2,3,4,5],[1,2,3,4,5]],index=[\"red\",\"blue\",\n",
    "        \"yellow\",\"white\",\"green\"], columns=[\"ball\",\"pen\",\"pencil\",\"paper\",\"cup\"])\n",
    "\n",
    "frame = pd.DataFrame([[1,1,1,1,1],[2,2,2,2,2],[3,3,3,3,3],[3,3,3,3,3],[3,3,3,3,3]],index=[\"red\",\"blue\",\n",
    "        \"yellow\",\"white\",\"green\"], columns=[\"ball\",\"pen\",\"pencil\",\"paper\",\"cup\"])\n",
    "#use any one of the frame definitions above\n",
    "\n",
    "print(frame, \"\\n\")\n",
    "print(frame.corr(),\"\\n\")\n",
    "print(frame.cov())"
   ]
  },
  {
   "cell_type": "code",
   "execution_count": 12,
   "metadata": {
    "collapsed": false
   },
   "outputs": [
    {
     "ename": "NameError",
     "evalue": "name 'ser' is not defined",
     "output_type": "error",
     "traceback": [
      "\u001b[1;31m---------------------------------------------------------------------------\u001b[0m",
      "\u001b[1;31mNameError\u001b[0m                                 Traceback (most recent call last)",
      "\u001b[1;32m<ipython-input-12-001ca5aa1369>\u001b[0m in \u001b[0;36m<module>\u001b[1;34m()\u001b[0m\n\u001b[1;32m----> 1\u001b[1;33m \u001b[0mprint\u001b[0m\u001b[1;33m(\u001b[0m\u001b[0mser\u001b[0m\u001b[1;33m,\u001b[0m\u001b[1;34m\"\\n\"\u001b[0m\u001b[1;33m)\u001b[0m\u001b[1;33m\u001b[0m\u001b[0m\n\u001b[0m\u001b[0;32m      2\u001b[0m \u001b[0mprint\u001b[0m\u001b[1;33m(\u001b[0m\u001b[0mframe\u001b[0m\u001b[1;33m,\u001b[0m\u001b[1;34m\"\\n\"\u001b[0m\u001b[1;33m)\u001b[0m\u001b[1;33m\u001b[0m\u001b[0m\n\u001b[0;32m      3\u001b[0m \u001b[0mprint\u001b[0m\u001b[1;33m(\u001b[0m\u001b[0mframe\u001b[0m\u001b[1;33m.\u001b[0m\u001b[0mcorrwith\u001b[0m\u001b[1;33m(\u001b[0m\u001b[0mser\u001b[0m\u001b[1;33m)\u001b[0m\u001b[1;33m)\u001b[0m\u001b[1;33m\u001b[0m\u001b[0m\n",
      "\u001b[1;31mNameError\u001b[0m: name 'ser' is not defined"
     ]
    }
   ],
   "source": [
    "print(ser,\"\\n\")\n",
    "print(frame,\"\\n\")\n",
    "print(frame.corrwith(ser))"
   ]
  },
  {
   "cell_type": "code",
   "execution_count": 57,
   "metadata": {
    "collapsed": false
   },
   "outputs": [
    {
     "data": {
      "text/plain": [
       "ball     -0.140028\n",
       "pen      -0.869657\n",
       "pencil    0.080845\n",
       "paper     0.595854\n",
       "dtype: float64"
      ]
     },
     "execution_count": 57,
     "metadata": {},
     "output_type": "execute_result"
    }
   ],
   "source": [
    "frame.corrwith(ser)"
   ]
  },
  {
   "cell_type": "code",
   "execution_count": 60,
   "metadata": {
    "collapsed": false
   },
   "outputs": [
    {
     "name": "stdout",
     "output_type": "stream",
     "text": [
      "        ball  pen  pencil  paper\n",
      "red        1    4       3      6\n",
      "blue       4    5       6      1\n",
      "yellow     3    3       1      5\n",
      "white      4    1       6      4 \n",
      "\n",
      "        mug  pen  ball\n",
      "blue      0    1     2\n",
      "green     3    4     5\n",
      "white     6    7     8\n",
      "yellow    9   10    11 \n",
      "\n",
      "ball     -0.755929\n",
      "mug            NaN\n",
      "paper          NaN\n",
      "pen      -0.654654\n",
      "pencil         NaN\n",
      "dtype: float64\n"
     ]
    }
   ],
   "source": [
    "print(frame,\"\\n\")\n",
    "print(frame2,\"\\n\")\n",
    "print(frame.corrwith(frame2))"
   ]
  },
  {
   "cell_type": "code",
   "execution_count": 63,
   "metadata": {
    "collapsed": false
   },
   "outputs": [
    {
     "name": "stdout",
     "output_type": "stream",
     "text": [
      "red       0.0\n",
      "blue      1.0\n",
      "yellow    2.0\n",
      "white     NaN\n",
      "green     9.0\n",
      "dtype: float64 \n",
      "\n",
      "red       NaN\n",
      "blue      1.0\n",
      "yellow    2.0\n",
      "white     NaN\n",
      "green     9.0\n",
      "dtype: float64 \n",
      "\n"
     ]
    }
   ],
   "source": [
    "#Managing NaN\n",
    "\n",
    "ser = pd.Series([0,1,2,np.NaN,9],[\"red\",\"blue\",\"yellow\",\"white\",\"green\"])\n",
    "            #explicitly assign NaN\n",
    "print(ser,\"\\n\")\n",
    "ser['red'] = None\n",
    "print(ser,\"\\n\")"
   ]
  },
  {
   "cell_type": "code",
   "execution_count": 65,
   "metadata": {
    "collapsed": false
   },
   "outputs": [
    {
     "name": "stdout",
     "output_type": "stream",
     "text": [
      "blue      1.0\n",
      "yellow    2.0\n",
      "green     9.0\n",
      "dtype: float64\n"
     ]
    }
   ],
   "source": [
    "print(ser.dropna()) #Drop the NaN values"
   ]
  },
  {
   "cell_type": "code",
   "execution_count": 66,
   "metadata": {
    "collapsed": false
   },
   "outputs": [
    {
     "name": "stdout",
     "output_type": "stream",
     "text": [
      "blue      1.0\n",
      "yellow    2.0\n",
      "green     9.0\n",
      "dtype: float64\n"
     ]
    }
   ],
   "source": [
    "print(ser[ser.notnull()]) #same as dropna"
   ]
  },
  {
   "cell_type": "code",
   "execution_count": 71,
   "metadata": {
    "collapsed": false
   },
   "outputs": [
    {
     "name": "stdout",
     "output_type": "stream",
     "text": [
      "       ball  mug  pen\n",
      "blue    6.0  NaN  6.0\n",
      "green   NaN  NaN  NaN\n",
      "red     2.0  NaN  5.0 \n",
      "\n",
      "Empty DataFrame\n",
      "Columns: [ball, mug, pen]\n",
      "Index: []\n"
     ]
    }
   ],
   "source": [
    "#Frames dropna is bit more complicated\n",
    "\n",
    "frame3 = pd.DataFrame([[6,np.NaN,6],[np.NaN,np.NaN,np.NaN],[2,np.NaN,5]],\n",
    "             index=[\"blue\",\"green\",\"red\"],columns=[\"ball\",\"mug\",\"pen\"])\n",
    "\n",
    "print(frame3,\"\\n\")\n",
    "print(frame3.dropna()) #one na in a row or column will elminate the row or\n",
    "                #column\n"
   ]
  },
  {
   "cell_type": "code",
   "execution_count": 72,
   "metadata": {
    "collapsed": false
   },
   "outputs": [
    {
     "name": "stdout",
     "output_type": "stream",
     "text": [
      "       ball  mug  pen\n",
      "blue    6.0  6.0  6.0\n",
      "green   NaN  NaN  NaN\n",
      "red     2.0  NaN  5.0 \n",
      "\n",
      "      ball  mug  pen\n",
      "blue   6.0  6.0  6.0\n"
     ]
    }
   ],
   "source": [
    "frame3 = pd.DataFrame([[6,6,6],[np.NaN,np.NaN,np.NaN],[2,np.NaN,5]],\n",
    "                index=[\"blue\",\"green\",\"red\"],columns=[\"ball\",\"mug\",\"pen\"])\n",
    "print(frame3,\"\\n\")\n",
    "print(frame3.dropna()) #if all entires in row exist that is retained."
   ]
  },
  {
   "cell_type": "code",
   "execution_count": 74,
   "metadata": {
    "collapsed": false
   },
   "outputs": [
    {
     "name": "stdout",
     "output_type": "stream",
     "text": [
      "       ball  mug  pen\n",
      "blue    6.0  NaN  6.0\n",
      "green   NaN  NaN  NaN\n",
      "red     2.0  NaN  5.0 \n",
      "\n",
      "      ball  mug  pen\n",
      "blue   6.0  NaN  6.0\n",
      "red    2.0  NaN  5.0\n"
     ]
    }
   ],
   "source": [
    "frame3 = pd.DataFrame([[6,np.NaN,6],[np.NaN,np.NaN,np.NaN],[2,np.NaN,5]],\n",
    "             index=[\"blue\",\"green\",\"red\"],columns=[\"ball\",\"mug\",\"pen\"])\n",
    "\n",
    "print(frame3,\"\\n\")\n",
    "print(frame3.dropna(how =\"all\")) #drop only rows that have all\n",
    "                        #nan values "
   ]
  },
  {
   "cell_type": "code",
   "execution_count": 79,
   "metadata": {
    "collapsed": false
   },
   "outputs": [
    {
     "name": "stdout",
     "output_type": "stream",
     "text": [
      "       ball  mug  pen\n",
      "blue    6.0  NaN  6.0\n",
      "green   NaN  NaN  NaN\n",
      "red     2.0  NaN  5.0 \n",
      "\n",
      "       ball  mug  pen\n",
      "blue    6.0  0.0  6.0\n",
      "green   0.0  0.0  0.0\n",
      "red     2.0  0.0  5.0 \n",
      "\n",
      "       ball  mug   pen\n",
      "blue    6.0  0.0   6.0\n",
      "green   1.0  0.0  99.0\n",
      "red     2.0  0.0   5.0\n"
     ]
    }
   ],
   "source": [
    "#Filling in NaN occurences:\n",
    "print(frame3,\"\\n\")\n",
    "print(frame3.fillna(0),\"\\n\") #fill na with 0s\n",
    "print(frame3.fillna({'ball':1,\"mug\":0,\"pen\":99})) #for each column \n",
    "                #fill with specific values"
   ]
  },
  {
   "cell_type": "code",
   "execution_count": 86,
   "metadata": {
    "collapsed": false
   },
   "outputs": [
    {
     "name": "stdout",
     "output_type": "stream",
     "text": [
      "white  up       0.171420\n",
      "       down     0.262817\n",
      "       right    0.486335\n",
      "blue   up       0.303756\n",
      "       down     0.762339\n",
      "red    up       0.413721\n",
      "       down     0.961194\n",
      "       left     0.447588\n",
      "dtype: float64 \n",
      "\n",
      "MultiIndex(levels=[['blue', 'red', 'white'], ['down', 'left', 'right', 'up']],\n",
      "           labels=[[2, 2, 2, 0, 0, 1, 1, 1], [3, 0, 2, 3, 0, 3, 0, 1]])\n"
     ]
    }
   ],
   "source": [
    "#Hierarchial Indexing and Levelling\n",
    "\n",
    "mser = pd.Series(np.random.rand(8),index=[[\"white\",\"white\",\"white\",\"blue\",\n",
    "        \"blue\",\"red\",\"red\",\"red\"],[\"up\",\"down\",\"right\",\"up\",\"down\",\"up\",\n",
    "                             \"down\",\"left\"]]) #Series with two arrays of \n",
    "                                                #indexes\n",
    "print(mser,\"\\n\")\n",
    "print(mser.index) #gives levels and labels; labels correspond to levels"
   ]
  },
  {
   "cell_type": "code",
   "execution_count": 87,
   "metadata": {
    "collapsed": false
   },
   "outputs": [
    {
     "data": {
      "text/plain": [
       "up       0.171420\n",
       "down     0.262817\n",
       "right    0.486335\n",
       "dtype: float64"
      ]
     },
     "execution_count": 87,
     "metadata": {},
     "output_type": "execute_result"
    }
   ],
   "source": [
    "mser[\"white\"] #values corresponding to first index"
   ]
  },
  {
   "cell_type": "code",
   "execution_count": 88,
   "metadata": {
    "collapsed": false
   },
   "outputs": [
    {
     "data": {
      "text/plain": [
       "white    0.171420\n",
       "blue     0.303756\n",
       "red      0.413721\n",
       "dtype: float64"
      ]
     },
     "execution_count": 88,
     "metadata": {},
     "output_type": "execute_result"
    }
   ],
   "source": [
    "mser[:,'up'] #values corresponding to 2nd index"
   ]
  },
  {
   "cell_type": "code",
   "execution_count": 89,
   "metadata": {
    "collapsed": false
   },
   "outputs": [
    {
     "data": {
      "text/plain": [
       "0.17141992426897779"
      ]
     },
     "execution_count": 89,
     "metadata": {},
     "output_type": "execute_result"
    }
   ],
   "source": [
    "mser[\"white\",\"up\"]"
   ]
  },
  {
   "cell_type": "code",
   "execution_count": 90,
   "metadata": {
    "collapsed": false
   },
   "outputs": [
    {
     "data": {
      "text/html": [
       "<div>\n",
       "<table border=\"1\" class=\"dataframe\">\n",
       "  <thead>\n",
       "    <tr style=\"text-align: right;\">\n",
       "      <th></th>\n",
       "      <th>down</th>\n",
       "      <th>left</th>\n",
       "      <th>right</th>\n",
       "      <th>up</th>\n",
       "    </tr>\n",
       "  </thead>\n",
       "  <tbody>\n",
       "    <tr>\n",
       "      <th>blue</th>\n",
       "      <td>0.762339</td>\n",
       "      <td>NaN</td>\n",
       "      <td>NaN</td>\n",
       "      <td>0.303756</td>\n",
       "    </tr>\n",
       "    <tr>\n",
       "      <th>red</th>\n",
       "      <td>0.961194</td>\n",
       "      <td>0.447588</td>\n",
       "      <td>NaN</td>\n",
       "      <td>0.413721</td>\n",
       "    </tr>\n",
       "    <tr>\n",
       "      <th>white</th>\n",
       "      <td>0.262817</td>\n",
       "      <td>NaN</td>\n",
       "      <td>0.486335</td>\n",
       "      <td>0.171420</td>\n",
       "    </tr>\n",
       "  </tbody>\n",
       "</table>\n",
       "</div>"
      ],
      "text/plain": [
       "           down      left     right        up\n",
       "blue   0.762339       NaN       NaN  0.303756\n",
       "red    0.961194  0.447588       NaN  0.413721\n",
       "white  0.262817       NaN  0.486335  0.171420"
      ]
     },
     "execution_count": 90,
     "metadata": {},
     "output_type": "execute_result"
    }
   ],
   "source": [
    "#think hierarchial indexing like a pivot table.\n",
    "mser.unstack() #series now is converted into a dataframe"
   ]
  },
  {
   "cell_type": "code",
   "execution_count": 92,
   "metadata": {
    "collapsed": false
   },
   "outputs": [
    {
     "name": "stdout",
     "output_type": "stream",
     "text": [
      "        ball  pen  pencil  paper\n",
      "red        1    4       3      6\n",
      "blue       4    5       6      1\n",
      "yellow     3    3       1      5\n",
      "white      4    1       6      4 \n",
      "\n"
     ]
    },
    {
     "data": {
      "text/plain": [
       "red     ball      1\n",
       "        pen       4\n",
       "        pencil    3\n",
       "        paper     6\n",
       "blue    ball      4\n",
       "        pen       5\n",
       "        pencil    6\n",
       "        paper     1\n",
       "yellow  ball      3\n",
       "        pen       3\n",
       "        pencil    1\n",
       "        paper     5\n",
       "white   ball      4\n",
       "        pen       1\n",
       "        pencil    6\n",
       "        paper     4\n",
       "dtype: int64"
      ]
     },
     "execution_count": 92,
     "metadata": {},
     "output_type": "execute_result"
    }
   ],
   "source": [
    "#DataFrames can be converted into series as well\n",
    "print(frame,\"\\n\")\n",
    "frame.stack()"
   ]
  },
  {
   "cell_type": "code",
   "execution_count": 94,
   "metadata": {
    "collapsed": false
   },
   "outputs": [
    {
     "data": {
      "text/html": [
       "<div>\n",
       "<table border=\"1\" class=\"dataframe\">\n",
       "  <thead>\n",
       "    <tr>\n",
       "      <th></th>\n",
       "      <th></th>\n",
       "      <th colspan=\"2\" halign=\"left\">pen</th>\n",
       "      <th colspan=\"2\" halign=\"left\">paper</th>\n",
       "    </tr>\n",
       "    <tr>\n",
       "      <th></th>\n",
       "      <th></th>\n",
       "      <th>1</th>\n",
       "      <th>2</th>\n",
       "      <th>1</th>\n",
       "      <th>2</th>\n",
       "    </tr>\n",
       "  </thead>\n",
       "  <tbody>\n",
       "    <tr>\n",
       "      <th rowspan=\"2\" valign=\"top\">white</th>\n",
       "      <th>up</th>\n",
       "      <td>0.163825</td>\n",
       "      <td>0.244662</td>\n",
       "      <td>0.503679</td>\n",
       "      <td>0.182339</td>\n",
       "    </tr>\n",
       "    <tr>\n",
       "      <th>down</th>\n",
       "      <td>0.737813</td>\n",
       "      <td>0.997104</td>\n",
       "      <td>0.075293</td>\n",
       "      <td>0.937136</td>\n",
       "    </tr>\n",
       "    <tr>\n",
       "      <th rowspan=\"2\" valign=\"top\">red</th>\n",
       "      <th>up</th>\n",
       "      <td>0.758702</td>\n",
       "      <td>0.607976</td>\n",
       "      <td>0.734363</td>\n",
       "      <td>0.624690</td>\n",
       "    </tr>\n",
       "    <tr>\n",
       "      <th>down</th>\n",
       "      <td>0.761754</td>\n",
       "      <td>0.210458</td>\n",
       "      <td>0.378771</td>\n",
       "      <td>0.949036</td>\n",
       "    </tr>\n",
       "  </tbody>\n",
       "</table>\n",
       "</div>"
      ],
      "text/plain": [
       "                 pen               paper          \n",
       "                   1         2         1         2\n",
       "white up    0.163825  0.244662  0.503679  0.182339\n",
       "      down  0.737813  0.997104  0.075293  0.937136\n",
       "red   up    0.758702  0.607976  0.734363  0.624690\n",
       "      down  0.761754  0.210458  0.378771  0.949036"
      ]
     },
     "execution_count": 94,
     "metadata": {},
     "output_type": "execute_result"
    }
   ],
   "source": [
    "#hierarchial index for dataframe\n",
    "\n",
    "mframe = pd.DataFrame(np.random.rand(16).reshape(4,4),\n",
    "         index =[[\"white\",\"white\",\"red\",\"red\"],[\"up\",\"down\",\"up\",\"down\"]],\n",
    "        columns =[[\"pen\",\"pen\",\"paper\",\"paper\"],[1,2,1,2]])\n",
    "mframe"
   ]
  },
  {
   "cell_type": "code",
   "execution_count": 95,
   "metadata": {
    "collapsed": false
   },
   "outputs": [
    {
     "data": {
      "text/html": [
       "<div>\n",
       "<table border=\"1\" class=\"dataframe\">\n",
       "  <thead>\n",
       "    <tr>\n",
       "      <th></th>\n",
       "      <th colspan=\"4\" halign=\"left\">pen</th>\n",
       "      <th colspan=\"4\" halign=\"left\">paper</th>\n",
       "    </tr>\n",
       "    <tr>\n",
       "      <th></th>\n",
       "      <th colspan=\"2\" halign=\"left\">1</th>\n",
       "      <th colspan=\"2\" halign=\"left\">2</th>\n",
       "      <th colspan=\"2\" halign=\"left\">1</th>\n",
       "      <th colspan=\"2\" halign=\"left\">2</th>\n",
       "    </tr>\n",
       "    <tr>\n",
       "      <th></th>\n",
       "      <th>down</th>\n",
       "      <th>up</th>\n",
       "      <th>down</th>\n",
       "      <th>up</th>\n",
       "      <th>down</th>\n",
       "      <th>up</th>\n",
       "      <th>down</th>\n",
       "      <th>up</th>\n",
       "    </tr>\n",
       "  </thead>\n",
       "  <tbody>\n",
       "    <tr>\n",
       "      <th>red</th>\n",
       "      <td>0.761754</td>\n",
       "      <td>0.758702</td>\n",
       "      <td>0.210458</td>\n",
       "      <td>0.607976</td>\n",
       "      <td>0.378771</td>\n",
       "      <td>0.734363</td>\n",
       "      <td>0.949036</td>\n",
       "      <td>0.624690</td>\n",
       "    </tr>\n",
       "    <tr>\n",
       "      <th>white</th>\n",
       "      <td>0.737813</td>\n",
       "      <td>0.163825</td>\n",
       "      <td>0.997104</td>\n",
       "      <td>0.244662</td>\n",
       "      <td>0.075293</td>\n",
       "      <td>0.503679</td>\n",
       "      <td>0.937136</td>\n",
       "      <td>0.182339</td>\n",
       "    </tr>\n",
       "  </tbody>\n",
       "</table>\n",
       "</div>"
      ],
      "text/plain": [
       "            pen                                   paper                      \\\n",
       "              1                   2                   1                   2   \n",
       "           down        up      down        up      down        up      down   \n",
       "red    0.761754  0.758702  0.210458  0.607976  0.378771  0.734363  0.949036   \n",
       "white  0.737813  0.163825  0.997104  0.244662  0.075293  0.503679  0.937136   \n",
       "\n",
       "                 \n",
       "                 \n",
       "             up  \n",
       "red    0.624690  \n",
       "white  0.182339  "
      ]
     },
     "execution_count": 95,
     "metadata": {},
     "output_type": "execute_result"
    }
   ],
   "source": [
    "mframe.unstack()"
   ]
  },
  {
   "cell_type": "code",
   "execution_count": 96,
   "metadata": {
    "collapsed": false
   },
   "outputs": [
    {
     "data": {
      "text/plain": [
       "pen    1  down  red      0.761754\n",
       "                white    0.737813\n",
       "          up    red      0.758702\n",
       "                white    0.163825\n",
       "       2  down  red      0.210458\n",
       "                white    0.997104\n",
       "          up    red      0.607976\n",
       "                white    0.244662\n",
       "paper  1  down  red      0.378771\n",
       "                white    0.075293\n",
       "          up    red      0.734363\n",
       "                white    0.503679\n",
       "       2  down  red      0.949036\n",
       "                white    0.937136\n",
       "          up    red      0.624690\n",
       "                white    0.182339\n",
       "dtype: float64"
      ]
     },
     "execution_count": 96,
     "metadata": {},
     "output_type": "execute_result"
    }
   ],
   "source": [
    "mframe.unstack().unstack()"
   ]
  },
  {
   "cell_type": "code",
   "execution_count": 98,
   "metadata": {
    "collapsed": false
   },
   "outputs": [
    {
     "data": {
      "text/html": [
       "<div>\n",
       "<table border=\"1\" class=\"dataframe\">\n",
       "  <thead>\n",
       "    <tr>\n",
       "      <th></th>\n",
       "      <th>objects</th>\n",
       "      <th colspan=\"2\" halign=\"left\">pen</th>\n",
       "      <th colspan=\"2\" halign=\"left\">paper</th>\n",
       "    </tr>\n",
       "    <tr>\n",
       "      <th></th>\n",
       "      <th>id</th>\n",
       "      <th>1</th>\n",
       "      <th>2</th>\n",
       "      <th>1</th>\n",
       "      <th>2</th>\n",
       "    </tr>\n",
       "    <tr>\n",
       "      <th>colors</th>\n",
       "      <th>status</th>\n",
       "      <th></th>\n",
       "      <th></th>\n",
       "      <th></th>\n",
       "      <th></th>\n",
       "    </tr>\n",
       "  </thead>\n",
       "  <tbody>\n",
       "    <tr>\n",
       "      <th rowspan=\"2\" valign=\"top\">white</th>\n",
       "      <th>up</th>\n",
       "      <td>0.163825</td>\n",
       "      <td>0.244662</td>\n",
       "      <td>0.503679</td>\n",
       "      <td>0.182339</td>\n",
       "    </tr>\n",
       "    <tr>\n",
       "      <th>down</th>\n",
       "      <td>0.737813</td>\n",
       "      <td>0.997104</td>\n",
       "      <td>0.075293</td>\n",
       "      <td>0.937136</td>\n",
       "    </tr>\n",
       "    <tr>\n",
       "      <th rowspan=\"2\" valign=\"top\">red</th>\n",
       "      <th>up</th>\n",
       "      <td>0.758702</td>\n",
       "      <td>0.607976</td>\n",
       "      <td>0.734363</td>\n",
       "      <td>0.624690</td>\n",
       "    </tr>\n",
       "    <tr>\n",
       "      <th>down</th>\n",
       "      <td>0.761754</td>\n",
       "      <td>0.210458</td>\n",
       "      <td>0.378771</td>\n",
       "      <td>0.949036</td>\n",
       "    </tr>\n",
       "  </tbody>\n",
       "</table>\n",
       "</div>"
      ],
      "text/plain": [
       "objects             pen               paper          \n",
       "id                    1         2         1         2\n",
       "colors status                                        \n",
       "white  up      0.163825  0.244662  0.503679  0.182339\n",
       "       down    0.737813  0.997104  0.075293  0.937136\n",
       "red    up      0.758702  0.607976  0.734363  0.624690\n",
       "       down    0.761754  0.210458  0.378771  0.949036"
      ]
     },
     "execution_count": 98,
     "metadata": {},
     "output_type": "execute_result"
    }
   ],
   "source": [
    "#Reordering and Sorting levels\n",
    "\n",
    "mframe.columns.names =['objects',\"id\"]\n",
    "mframe.index.names =['colors',\"status\"]\n",
    "mframe"
   ]
  },
  {
   "cell_type": "markdown",
   "metadata": {},
   "source": [
    "mframe.swaplevel('colors',\"status\")"
   ]
  },
  {
   "cell_type": "code",
   "execution_count": 99,
   "metadata": {
    "collapsed": false
   },
   "outputs": [
    {
     "data": {
      "text/html": [
       "<div>\n",
       "<table border=\"1\" class=\"dataframe\">\n",
       "  <thead>\n",
       "    <tr>\n",
       "      <th></th>\n",
       "      <th>objects</th>\n",
       "      <th colspan=\"2\" halign=\"left\">pen</th>\n",
       "      <th colspan=\"2\" halign=\"left\">paper</th>\n",
       "    </tr>\n",
       "    <tr>\n",
       "      <th></th>\n",
       "      <th>id</th>\n",
       "      <th>1</th>\n",
       "      <th>2</th>\n",
       "      <th>1</th>\n",
       "      <th>2</th>\n",
       "    </tr>\n",
       "    <tr>\n",
       "      <th>status</th>\n",
       "      <th>colors</th>\n",
       "      <th></th>\n",
       "      <th></th>\n",
       "      <th></th>\n",
       "      <th></th>\n",
       "    </tr>\n",
       "  </thead>\n",
       "  <tbody>\n",
       "    <tr>\n",
       "      <th>up</th>\n",
       "      <th>white</th>\n",
       "      <td>0.163825</td>\n",
       "      <td>0.244662</td>\n",
       "      <td>0.503679</td>\n",
       "      <td>0.182339</td>\n",
       "    </tr>\n",
       "    <tr>\n",
       "      <th>down</th>\n",
       "      <th>white</th>\n",
       "      <td>0.737813</td>\n",
       "      <td>0.997104</td>\n",
       "      <td>0.075293</td>\n",
       "      <td>0.937136</td>\n",
       "    </tr>\n",
       "    <tr>\n",
       "      <th>up</th>\n",
       "      <th>red</th>\n",
       "      <td>0.758702</td>\n",
       "      <td>0.607976</td>\n",
       "      <td>0.734363</td>\n",
       "      <td>0.624690</td>\n",
       "    </tr>\n",
       "    <tr>\n",
       "      <th>down</th>\n",
       "      <th>red</th>\n",
       "      <td>0.761754</td>\n",
       "      <td>0.210458</td>\n",
       "      <td>0.378771</td>\n",
       "      <td>0.949036</td>\n",
       "    </tr>\n",
       "  </tbody>\n",
       "</table>\n",
       "</div>"
      ],
      "text/plain": [
       "objects             pen               paper          \n",
       "id                    1         2         1         2\n",
       "status colors                                        \n",
       "up     white   0.163825  0.244662  0.503679  0.182339\n",
       "down   white   0.737813  0.997104  0.075293  0.937136\n",
       "up     red     0.758702  0.607976  0.734363  0.624690\n",
       "down   red     0.761754  0.210458  0.378771  0.949036"
      ]
     },
     "execution_count": 99,
     "metadata": {},
     "output_type": "execute_result"
    }
   ],
   "source": [
    "mframe.swaplevel('colors',\"status\") #leaves values unchanged"
   ]
  },
  {
   "cell_type": "code",
   "execution_count": 101,
   "metadata": {
    "collapsed": false
   },
   "outputs": [
    {
     "data": {
      "text/html": [
       "<div>\n",
       "<table border=\"1\" class=\"dataframe\">\n",
       "  <thead>\n",
       "    <tr>\n",
       "      <th></th>\n",
       "      <th>objects</th>\n",
       "      <th colspan=\"2\" halign=\"left\">pen</th>\n",
       "      <th colspan=\"2\" halign=\"left\">paper</th>\n",
       "    </tr>\n",
       "    <tr>\n",
       "      <th></th>\n",
       "      <th>id</th>\n",
       "      <th>1</th>\n",
       "      <th>2</th>\n",
       "      <th>1</th>\n",
       "      <th>2</th>\n",
       "    </tr>\n",
       "    <tr>\n",
       "      <th>colors</th>\n",
       "      <th>status</th>\n",
       "      <th></th>\n",
       "      <th></th>\n",
       "      <th></th>\n",
       "      <th></th>\n",
       "    </tr>\n",
       "  </thead>\n",
       "  <tbody>\n",
       "    <tr>\n",
       "      <th rowspan=\"2\" valign=\"top\">red</th>\n",
       "      <th>down</th>\n",
       "      <td>0.761754</td>\n",
       "      <td>0.210458</td>\n",
       "      <td>0.378771</td>\n",
       "      <td>0.949036</td>\n",
       "    </tr>\n",
       "    <tr>\n",
       "      <th>up</th>\n",
       "      <td>0.758702</td>\n",
       "      <td>0.607976</td>\n",
       "      <td>0.734363</td>\n",
       "      <td>0.624690</td>\n",
       "    </tr>\n",
       "    <tr>\n",
       "      <th rowspan=\"2\" valign=\"top\">white</th>\n",
       "      <th>down</th>\n",
       "      <td>0.737813</td>\n",
       "      <td>0.997104</td>\n",
       "      <td>0.075293</td>\n",
       "      <td>0.937136</td>\n",
       "    </tr>\n",
       "    <tr>\n",
       "      <th>up</th>\n",
       "      <td>0.163825</td>\n",
       "      <td>0.244662</td>\n",
       "      <td>0.503679</td>\n",
       "      <td>0.182339</td>\n",
       "    </tr>\n",
       "  </tbody>\n",
       "</table>\n",
       "</div>"
      ],
      "text/plain": [
       "objects             pen               paper          \n",
       "id                    1         2         1         2\n",
       "colors status                                        \n",
       "red    down    0.761754  0.210458  0.378771  0.949036\n",
       "       up      0.758702  0.607976  0.734363  0.624690\n",
       "white  down    0.737813  0.997104  0.075293  0.937136\n",
       "       up      0.163825  0.244662  0.503679  0.182339"
      ]
     },
     "execution_count": 101,
     "metadata": {},
     "output_type": "execute_result"
    }
   ],
   "source": [
    "mframe.sortlevel('colors') #sort by value of colors"
   ]
  },
  {
   "cell_type": "code",
   "execution_count": 102,
   "metadata": {
    "collapsed": false
   },
   "outputs": [
    {
     "data": {
      "text/html": [
       "<div>\n",
       "<table border=\"1\" class=\"dataframe\">\n",
       "  <thead>\n",
       "    <tr>\n",
       "      <th>objects</th>\n",
       "      <th colspan=\"2\" halign=\"left\">pen</th>\n",
       "      <th colspan=\"2\" halign=\"left\">paper</th>\n",
       "    </tr>\n",
       "    <tr>\n",
       "      <th>id</th>\n",
       "      <th>1</th>\n",
       "      <th>2</th>\n",
       "      <th>1</th>\n",
       "      <th>2</th>\n",
       "    </tr>\n",
       "    <tr>\n",
       "      <th>colors</th>\n",
       "      <th></th>\n",
       "      <th></th>\n",
       "      <th></th>\n",
       "      <th></th>\n",
       "    </tr>\n",
       "  </thead>\n",
       "  <tbody>\n",
       "    <tr>\n",
       "      <th>red</th>\n",
       "      <td>1.520456</td>\n",
       "      <td>0.818434</td>\n",
       "      <td>1.113134</td>\n",
       "      <td>1.573726</td>\n",
       "    </tr>\n",
       "    <tr>\n",
       "      <th>white</th>\n",
       "      <td>0.901638</td>\n",
       "      <td>1.241766</td>\n",
       "      <td>0.578973</td>\n",
       "      <td>1.119475</td>\n",
       "    </tr>\n",
       "  </tbody>\n",
       "</table>\n",
       "</div>"
      ],
      "text/plain": [
       "objects       pen               paper          \n",
       "id              1         2         1         2\n",
       "colors                                         \n",
       "red      1.520456  0.818434  1.113134  1.573726\n",
       "white    0.901638  1.241766  0.578973  1.119475"
      ]
     },
     "execution_count": 102,
     "metadata": {},
     "output_type": "execute_result"
    }
   ],
   "source": [
    "mframe.sum(level =\"colors\") #summary statistic like sum at various levels"
   ]
  },
  {
   "cell_type": "code",
   "execution_count": 106,
   "metadata": {
    "collapsed": false
   },
   "outputs": [
    {
     "data": {
      "text/html": [
       "<div>\n",
       "<table border=\"1\" class=\"dataframe\">\n",
       "  <thead>\n",
       "    <tr>\n",
       "      <th></th>\n",
       "      <th>objects</th>\n",
       "      <th colspan=\"2\" halign=\"left\">pen</th>\n",
       "      <th colspan=\"2\" halign=\"left\">paper</th>\n",
       "    </tr>\n",
       "    <tr>\n",
       "      <th></th>\n",
       "      <th>id</th>\n",
       "      <th>1</th>\n",
       "      <th>2</th>\n",
       "      <th>1</th>\n",
       "      <th>2</th>\n",
       "    </tr>\n",
       "    <tr>\n",
       "      <th>colors</th>\n",
       "      <th>status</th>\n",
       "      <th></th>\n",
       "      <th></th>\n",
       "      <th></th>\n",
       "      <th></th>\n",
       "    </tr>\n",
       "  </thead>\n",
       "  <tbody>\n",
       "    <tr>\n",
       "      <th rowspan=\"2\" valign=\"top\">white</th>\n",
       "      <th>up</th>\n",
       "      <td>0.163825</td>\n",
       "      <td>0.244662</td>\n",
       "      <td>0.503679</td>\n",
       "      <td>0.182339</td>\n",
       "    </tr>\n",
       "    <tr>\n",
       "      <th>down</th>\n",
       "      <td>0.737813</td>\n",
       "      <td>0.997104</td>\n",
       "      <td>0.075293</td>\n",
       "      <td>0.937136</td>\n",
       "    </tr>\n",
       "    <tr>\n",
       "      <th rowspan=\"2\" valign=\"top\">red</th>\n",
       "      <th>up</th>\n",
       "      <td>0.758702</td>\n",
       "      <td>0.607976</td>\n",
       "      <td>0.734363</td>\n",
       "      <td>0.624690</td>\n",
       "    </tr>\n",
       "    <tr>\n",
       "      <th>down</th>\n",
       "      <td>0.761754</td>\n",
       "      <td>0.210458</td>\n",
       "      <td>0.378771</td>\n",
       "      <td>0.949036</td>\n",
       "    </tr>\n",
       "  </tbody>\n",
       "</table>\n",
       "</div>"
      ],
      "text/plain": [
       "objects             pen               paper          \n",
       "id                    1         2         1         2\n",
       "colors status                                        \n",
       "white  up      0.163825  0.244662  0.503679  0.182339\n",
       "       down    0.737813  0.997104  0.075293  0.937136\n",
       "red    up      0.758702  0.607976  0.734363  0.624690\n",
       "       down    0.761754  0.210458  0.378771  0.949036"
      ]
     },
     "execution_count": 106,
     "metadata": {},
     "output_type": "execute_result"
    }
   ],
   "source": [
    "mframe"
   ]
  },
  {
   "cell_type": "code",
   "execution_count": 105,
   "metadata": {
    "collapsed": false
   },
   "outputs": [
    {
     "data": {
      "text/html": [
       "<div>\n",
       "<table border=\"1\" class=\"dataframe\">\n",
       "  <thead>\n",
       "    <tr style=\"text-align: right;\">\n",
       "      <th></th>\n",
       "      <th>id</th>\n",
       "      <th>1</th>\n",
       "      <th>2</th>\n",
       "    </tr>\n",
       "    <tr>\n",
       "      <th>colors</th>\n",
       "      <th>status</th>\n",
       "      <th></th>\n",
       "      <th></th>\n",
       "    </tr>\n",
       "  </thead>\n",
       "  <tbody>\n",
       "    <tr>\n",
       "      <th rowspan=\"2\" valign=\"top\">white</th>\n",
       "      <th>up</th>\n",
       "      <td>0.667504</td>\n",
       "      <td>0.427001</td>\n",
       "    </tr>\n",
       "    <tr>\n",
       "      <th>down</th>\n",
       "      <td>0.813106</td>\n",
       "      <td>1.934241</td>\n",
       "    </tr>\n",
       "    <tr>\n",
       "      <th rowspan=\"2\" valign=\"top\">red</th>\n",
       "      <th>up</th>\n",
       "      <td>1.493064</td>\n",
       "      <td>1.232666</td>\n",
       "    </tr>\n",
       "    <tr>\n",
       "      <th>down</th>\n",
       "      <td>1.140525</td>\n",
       "      <td>1.159494</td>\n",
       "    </tr>\n",
       "  </tbody>\n",
       "</table>\n",
       "</div>"
      ],
      "text/plain": [
       "id                    1         2\n",
       "colors status                    \n",
       "white  up      0.667504  0.427001\n",
       "       down    0.813106  1.934241\n",
       "red    up      1.493064  1.232666\n",
       "       down    1.140525  1.159494"
      ]
     },
     "execution_count": 105,
     "metadata": {},
     "output_type": "execute_result"
    }
   ],
   "source": [
    "mframe.sum(level=\"id\", axis =1) #sums column wise"
   ]
  },
  {
   "cell_type": "code",
   "execution_count": null,
   "metadata": {
    "collapsed": true
   },
   "outputs": [],
   "source": []
  }
 ],
 "metadata": {
  "kernelspec": {
   "display_name": "Python 3",
   "language": "python",
   "name": "python3"
  },
  "language_info": {
   "codemirror_mode": {
    "name": "ipython",
    "version": 3
   },
   "file_extension": ".py",
   "mimetype": "text/x-python",
   "name": "python",
   "nbconvert_exporter": "python",
   "pygments_lexer": "ipython3",
   "version": "3.5.1"
  }
 },
 "nbformat": 4,
 "nbformat_minor": 0
}
