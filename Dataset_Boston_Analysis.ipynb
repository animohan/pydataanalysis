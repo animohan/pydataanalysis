{
 "cells": [
  {
   "cell_type": "code",
   "execution_count": 5,
   "metadata": {
    "collapsed": true
   },
   "outputs": [],
   "source": [
    "import numpy as np\n",
    "import pandas as pd\n",
    "import matplotlib.pyplot as plt\n",
    "import matplotlib as mpl\n",
    "import seaborn as sns\n",
    "import statsmodels.formula.api as smf\n",
    "\n",
    "%matplotlib inline"
   ]
  },
  {
   "cell_type": "code",
   "execution_count": 6,
   "metadata": {
    "collapsed": false
   },
   "outputs": [
    {
     "data": {
      "text/html": [
       "<div>\n",
       "<table border=\"1\" class=\"dataframe\">\n",
       "  <thead>\n",
       "    <tr style=\"text-align: right;\">\n",
       "      <th></th>\n",
       "      <th>crim</th>\n",
       "      <th>zn</th>\n",
       "      <th>indus</th>\n",
       "      <th>chas</th>\n",
       "      <th>nox</th>\n",
       "      <th>rm</th>\n",
       "      <th>age</th>\n",
       "      <th>dis</th>\n",
       "      <th>rad</th>\n",
       "      <th>tax</th>\n",
       "      <th>ptratio</th>\n",
       "      <th>black</th>\n",
       "      <th>lstat</th>\n",
       "      <th>medv</th>\n",
       "    </tr>\n",
       "  </thead>\n",
       "  <tbody>\n",
       "    <tr>\n",
       "      <th>0</th>\n",
       "      <td>0.00632</td>\n",
       "      <td>18.0</td>\n",
       "      <td>2.31</td>\n",
       "      <td>0</td>\n",
       "      <td>0.538</td>\n",
       "      <td>6.575</td>\n",
       "      <td>65.2</td>\n",
       "      <td>4.0900</td>\n",
       "      <td>1</td>\n",
       "      <td>296</td>\n",
       "      <td>15.3</td>\n",
       "      <td>396.90</td>\n",
       "      <td>4.98</td>\n",
       "      <td>24.0</td>\n",
       "    </tr>\n",
       "    <tr>\n",
       "      <th>1</th>\n",
       "      <td>0.02731</td>\n",
       "      <td>0.0</td>\n",
       "      <td>7.07</td>\n",
       "      <td>0</td>\n",
       "      <td>0.469</td>\n",
       "      <td>6.421</td>\n",
       "      <td>78.9</td>\n",
       "      <td>4.9671</td>\n",
       "      <td>2</td>\n",
       "      <td>242</td>\n",
       "      <td>17.8</td>\n",
       "      <td>396.90</td>\n",
       "      <td>9.14</td>\n",
       "      <td>21.6</td>\n",
       "    </tr>\n",
       "    <tr>\n",
       "      <th>2</th>\n",
       "      <td>0.02729</td>\n",
       "      <td>0.0</td>\n",
       "      <td>7.07</td>\n",
       "      <td>0</td>\n",
       "      <td>0.469</td>\n",
       "      <td>7.185</td>\n",
       "      <td>61.1</td>\n",
       "      <td>4.9671</td>\n",
       "      <td>2</td>\n",
       "      <td>242</td>\n",
       "      <td>17.8</td>\n",
       "      <td>392.83</td>\n",
       "      <td>4.03</td>\n",
       "      <td>34.7</td>\n",
       "    </tr>\n",
       "    <tr>\n",
       "      <th>3</th>\n",
       "      <td>0.03237</td>\n",
       "      <td>0.0</td>\n",
       "      <td>2.18</td>\n",
       "      <td>0</td>\n",
       "      <td>0.458</td>\n",
       "      <td>6.998</td>\n",
       "      <td>45.8</td>\n",
       "      <td>6.0622</td>\n",
       "      <td>3</td>\n",
       "      <td>222</td>\n",
       "      <td>18.7</td>\n",
       "      <td>394.63</td>\n",
       "      <td>2.94</td>\n",
       "      <td>33.4</td>\n",
       "    </tr>\n",
       "    <tr>\n",
       "      <th>4</th>\n",
       "      <td>0.06905</td>\n",
       "      <td>0.0</td>\n",
       "      <td>2.18</td>\n",
       "      <td>0</td>\n",
       "      <td>0.458</td>\n",
       "      <td>7.147</td>\n",
       "      <td>54.2</td>\n",
       "      <td>6.0622</td>\n",
       "      <td>3</td>\n",
       "      <td>222</td>\n",
       "      <td>18.7</td>\n",
       "      <td>396.90</td>\n",
       "      <td>5.33</td>\n",
       "      <td>36.2</td>\n",
       "    </tr>\n",
       "  </tbody>\n",
       "</table>\n",
       "</div>"
      ],
      "text/plain": [
       "      crim    zn  indus  chas    nox     rm   age     dis  rad  tax  ptratio  \\\n",
       "0  0.00632  18.0   2.31     0  0.538  6.575  65.2  4.0900    1  296     15.3   \n",
       "1  0.02731   0.0   7.07     0  0.469  6.421  78.9  4.9671    2  242     17.8   \n",
       "2  0.02729   0.0   7.07     0  0.469  7.185  61.1  4.9671    2  242     17.8   \n",
       "3  0.03237   0.0   2.18     0  0.458  6.998  45.8  6.0622    3  222     18.7   \n",
       "4  0.06905   0.0   2.18     0  0.458  7.147  54.2  6.0622    3  222     18.7   \n",
       "\n",
       "    black  lstat  medv  \n",
       "0  396.90   4.98  24.0  \n",
       "1  396.90   9.14  21.6  \n",
       "2  392.83   4.03  34.7  \n",
       "3  394.63   2.94  33.4  \n",
       "4  396.90   5.33  36.2  "
      ]
     },
     "execution_count": 6,
     "metadata": {},
     "output_type": "execute_result"
    }
   ],
   "source": [
    "# Read the Boston Data\n",
    "data = pd.read_csv(\"datasets/ISLR/Boston.csv\")\n",
    "data.head()"
   ]
  },
  {
   "cell_type": "code",
   "execution_count": 7,
   "metadata": {
    "collapsed": false
   },
   "outputs": [],
   "source": [
    "#Description of the Boston Data\n",
    "# Boston dataset has 506 rows and 14 columns\n",
    "# Columns are:\n",
    "# crim: per capita crime rate by town\n",
    "# zn: proportion of residential land zoned for lots over 250000 sqft\n",
    "# indux: proportion of non-retail business acres per town\n",
    "# chas: Charles River dummy variable(=1 if tract bounds river,  otherwise)\n",
    "# nox: nitrogen oxides concentration(parts per 10 million)\n",
    "# rm: average number of rooms per dwelling\n",
    "# age: proportion of owner occupied units built prior to 1940\n",
    "# dis: weighted mean of distances to five Boston Employment centers\n",
    "# rad: index of accessibility to radial highways\n",
    "# tax: full-value property-tax rate per $10K\n",
    "# ptratio:  pupli-teacher ratio per town.\n",
    "# black: 1000*(Bk -0.63)^2 where Bk is the proportion of blacks by town.\n",
    "# lstat: lower status of the population(percent)\n",
    "# medv: median value of owner occupied homes in $1000s\n",
    "\n",
    "# Source:\n",
    "# Harrison, D. and Rubinfeld, D.L. (1978) Hedonic prices and the demand for clean air. J. Environ. Economics and Management 5, 81–102.\n",
    "# Belsley D.A., Kuh, E. and Welsch, R.E. (1980) Regression Diagnostics. Identifying Influential Data and Sources of Collinearity. New York: Wiley."
   ]
  },
  {
   "cell_type": "code",
   "execution_count": 8,
   "metadata": {
    "collapsed": false
   },
   "outputs": [
    {
     "data": {
      "text/plain": [
       "<matplotlib.text.Text at 0x45bba17e10>"
      ]
     },
     "execution_count": 8,
     "metadata": {},
     "output_type": "execute_result"
    },
    {
     "data": {
      "image/png": "[encoded data removed]",
      "text/plain": [
       "<matplotlib.figure.Figure at 0x45bb618fd0>"
      ]
     },
     "metadata": {},
     "output_type": "display_data"
    }
   ],
   "source": [
    "fig,axs = plt.subplots(1,2)\n",
    "data.plot(kind = \"scatter\", x = \"age\", y = \"crim\", marker = '*',color =\"green\",ax= axs[0], figsize =(12,8))\n",
    "axs[0].set_xlabel(\"Age of property\")\n",
    "axs[0].set_ylabel(\"Per capita crime Rate\")\n",
    "\n",
    "data.plot(kind = \"scatter\", x = \"dis\", y = \"crim\", color = \"red\", marker = 'o',ax= axs[1])\n",
    "axs[1].set_xlabel(\"Distance to Employment Center\")\n",
    "axs[1].set_ylabel(\"Per capita crime Rate\")"
   ]
  },
  {
   "cell_type": "markdown",
   "metadata": {},
   "source": [
    "Graph on the left shows the relationship between the per capita crime rate \n",
    "and proportion of owner occupied units that are built prior to 1940. There seems to be higher rate of crime, when the community has older buildings.\n",
    "\n",
    "Graph on the right shows come relationship between the per capita crime rate and the distance of the city/count to the five development centers.\n",
    "Crime rate seems to be lower as the distance from Employment centers increase.\n"
   ]
  },
  {
   "cell_type": "code",
   "execution_count": 9,
   "metadata": {
    "collapsed": false
   },
   "outputs": [
    {
     "data": {
      "text/plain": [
       "<matplotlib.text.Text at 0x45bc106320>"
      ]
     },
     "execution_count": 9,
     "metadata": {},
     "output_type": "execute_result"
    },
    {
     "data": {
      "image/png": "[encoded data removed]",
      "text/plain": [
       "<matplotlib.figure.Figure at 0x45bba8cb38>"
      ]
     },
     "metadata": {},
     "output_type": "display_data"
    }
   ],
   "source": [
    "fig,(ax1,ax2) = plt.subplots(1,2,figsize =(12,8))\n",
    "ax1.scatter(data[\"crim\"],data[\"lstat\"], color = \"blue\", marker = \"o\")\n",
    "ax1.set_xlabel(\"% of Lower Status Population\")\n",
    "ax1.set_ylabel(\"Per capita crime rate.\")\n",
    "\n",
    "ax2.scatter(data[\"crim\"],data[\"medv\"],color = \"red\", marker = \"*\" )\n",
    "ax2.set_xlabel(\"Median value of owner occupied home\")\n",
    "ax2.set_ylabel(\"Per capita crime rate\")\n",
    "\n"
   ]
  },
  {
   "cell_type": "markdown",
   "metadata": {},
   "source": [
    "Graph on the left shows the relationship between the per capita crime rate and proportion of population being lower status population.\n",
    "\n",
    "Graph on the right shows come relationship between the per capita crime rate and median value of the house. Crime rate seems to be lower as the median value of the houses increase.\n"
   ]
  },
  {
   "cell_type": "markdown",
   "metadata": {},
   "source": [
    "## Multi-Linear Regression"
   ]
  },
  {
   "cell_type": "code",
   "execution_count": 10,
   "metadata": {
    "collapsed": false
   },
   "outputs": [],
   "source": [
    "import statsmodels.formula.api as smf\n",
    "from sklearn.cross_validation import train_test_split\n",
    "\n",
    "#Partition the data into test and training samples\n",
    "trainBoston, testBoston = train_test_split(data, test_size=0.2)"
   ]
  },
  {
   "cell_type": "code",
   "execution_count": 11,
   "metadata": {
    "collapsed": false
   },
   "outputs": [
    {
     "name": "stdout",
     "output_type": "stream",
     "text": [
      "Training Data dimensions: (404, 14)\n",
      "Test Data dimensions: (102, 14)\n"
     ]
    },
    {
     "data": {
      "text/html": [
       "<div>\n",
       "<table border=\"1\" class=\"dataframe\">\n",
       "  <thead>\n",
       "    <tr style=\"text-align: right;\">\n",
       "      <th></th>\n",
       "      <th>crim</th>\n",
       "      <th>zn</th>\n",
       "      <th>indus</th>\n",
       "      <th>chas</th>\n",
       "      <th>nox</th>\n",
       "      <th>rm</th>\n",
       "      <th>age</th>\n",
       "      <th>dis</th>\n",
       "      <th>rad</th>\n",
       "      <th>tax</th>\n",
       "      <th>ptratio</th>\n",
       "      <th>black</th>\n",
       "      <th>lstat</th>\n",
       "      <th>medv</th>\n",
       "    </tr>\n",
       "  </thead>\n",
       "  <tbody>\n",
       "    <tr>\n",
       "      <th>150</th>\n",
       "      <td>1.65660</td>\n",
       "      <td>0.0</td>\n",
       "      <td>19.58</td>\n",
       "      <td>0</td>\n",
       "      <td>0.871</td>\n",
       "      <td>6.122</td>\n",
       "      <td>97.3</td>\n",
       "      <td>1.6180</td>\n",
       "      <td>5</td>\n",
       "      <td>403</td>\n",
       "      <td>14.7</td>\n",
       "      <td>372.80</td>\n",
       "      <td>14.10</td>\n",
       "      <td>21.5</td>\n",
       "    </tr>\n",
       "    <tr>\n",
       "      <th>219</th>\n",
       "      <td>0.11425</td>\n",
       "      <td>0.0</td>\n",
       "      <td>13.89</td>\n",
       "      <td>1</td>\n",
       "      <td>0.550</td>\n",
       "      <td>6.373</td>\n",
       "      <td>92.4</td>\n",
       "      <td>3.3633</td>\n",
       "      <td>5</td>\n",
       "      <td>276</td>\n",
       "      <td>16.4</td>\n",
       "      <td>393.74</td>\n",
       "      <td>10.50</td>\n",
       "      <td>23.0</td>\n",
       "    </tr>\n",
       "    <tr>\n",
       "      <th>270</th>\n",
       "      <td>0.29916</td>\n",
       "      <td>20.0</td>\n",
       "      <td>6.96</td>\n",
       "      <td>0</td>\n",
       "      <td>0.464</td>\n",
       "      <td>5.856</td>\n",
       "      <td>42.1</td>\n",
       "      <td>4.4290</td>\n",
       "      <td>3</td>\n",
       "      <td>223</td>\n",
       "      <td>18.6</td>\n",
       "      <td>388.65</td>\n",
       "      <td>13.00</td>\n",
       "      <td>21.1</td>\n",
       "    </tr>\n",
       "    <tr>\n",
       "      <th>251</th>\n",
       "      <td>0.21409</td>\n",
       "      <td>22.0</td>\n",
       "      <td>5.86</td>\n",
       "      <td>0</td>\n",
       "      <td>0.431</td>\n",
       "      <td>6.438</td>\n",
       "      <td>8.9</td>\n",
       "      <td>7.3967</td>\n",
       "      <td>7</td>\n",
       "      <td>330</td>\n",
       "      <td>19.1</td>\n",
       "      <td>377.07</td>\n",
       "      <td>3.59</td>\n",
       "      <td>24.8</td>\n",
       "    </tr>\n",
       "    <tr>\n",
       "      <th>440</th>\n",
       "      <td>22.05110</td>\n",
       "      <td>0.0</td>\n",
       "      <td>18.10</td>\n",
       "      <td>0</td>\n",
       "      <td>0.740</td>\n",
       "      <td>5.818</td>\n",
       "      <td>92.4</td>\n",
       "      <td>1.8662</td>\n",
       "      <td>24</td>\n",
       "      <td>666</td>\n",
       "      <td>20.2</td>\n",
       "      <td>391.45</td>\n",
       "      <td>22.11</td>\n",
       "      <td>10.5</td>\n",
       "    </tr>\n",
       "  </tbody>\n",
       "</table>\n",
       "</div>"
      ],
      "text/plain": [
       "         crim    zn  indus  chas    nox     rm   age     dis  rad  tax  \\\n",
       "150   1.65660   0.0  19.58     0  0.871  6.122  97.3  1.6180    5  403   \n",
       "219   0.11425   0.0  13.89     1  0.550  6.373  92.4  3.3633    5  276   \n",
       "270   0.29916  20.0   6.96     0  0.464  5.856  42.1  4.4290    3  223   \n",
       "251   0.21409  22.0   5.86     0  0.431  6.438   8.9  7.3967    7  330   \n",
       "440  22.05110   0.0  18.10     0  0.740  5.818  92.4  1.8662   24  666   \n",
       "\n",
       "     ptratio   black  lstat  medv  \n",
       "150     14.7  372.80  14.10  21.5  \n",
       "219     16.4  393.74  10.50  23.0  \n",
       "270     18.6  388.65  13.00  21.1  \n",
       "251     19.1  377.07   3.59  24.8  \n",
       "440     20.2  391.45  22.11  10.5  "
      ]
     },
     "execution_count": 11,
     "metadata": {},
     "output_type": "execute_result"
    }
   ],
   "source": [
    "#Verify the training and test splits\n",
    "print(\"Training Data dimensions:\", trainBoston.shape)\n",
    "print(\"Test Data dimensions:\", testBoston.shape)\n",
    "trainBoston.head()"
   ]
  },
  {
   "cell_type": "code",
   "execution_count": 12,
   "metadata": {
    "collapsed": false
   },
   "outputs": [
    {
     "data": {
      "text/plain": [
       "Intercept    22.093815\n",
       "zn            0.054274\n",
       "indus        -0.053623\n",
       "chas         -1.029807\n",
       "nox         -13.662915\n",
       "rm            0.264119\n",
       "age           0.005598\n",
       "dis          -1.154598\n",
       "rad           0.628083\n",
       "tax          -0.004190\n",
       "ptratio      -0.324459\n",
       "black        -0.007377\n",
       "lstat         0.092162\n",
       "medv         -0.233204\n",
       "dtype: float64"
      ]
     },
     "execution_count": 12,
     "metadata": {},
     "output_type": "execute_result"
    }
   ],
   "source": [
    "#Applying Multi linear regression \n",
    "mlm = smf.ols(formula=\"crim~zn+indus+chas+nox+rm+age+dis+rad+tax+ptratio+black+lstat+medv\", data = trainBoston)\n",
    "mlmfit = mlm.fit()\n",
    "mlmfit.params"
   ]
  },
  {
   "cell_type": "markdown",
   "metadata": {},
   "source": [
    "The above table shows the the weighting of the various parameters as produced by the linear regression model. Lets look at a more detailed picture about the parameters and the associated confidence levels with the value."
   ]
  },
  {
   "cell_type": "code",
   "execution_count": 13,
   "metadata": {
    "collapsed": false
   },
   "outputs": [
    {
     "data": {
      "text/html": [
       "<table class=\"simpletable\">\n",
       "<caption>OLS Regression Results</caption>\n",
       "<tr>\n",
       "  <th>Dep. Variable:</th>          <td>crim</td>       <th>  R-squared:         </th> <td>   0.445</td>\n",
       "</tr>\n",
       "<tr>\n",
       "  <th>Model:</th>                   <td>OLS</td>       <th>  Adj. R-squared:    </th> <td>   0.426</td>\n",
       "</tr>\n",
       "<tr>\n",
       "  <th>Method:</th>             <td>Least Squares</td>  <th>  F-statistic:       </th> <td>   24.04</td>\n",
       "</tr>\n",
       "<tr>\n",
       "  <th>Date:</th>             <td>Tue, 01 Nov 2016</td> <th>  Prob (F-statistic):</th> <td>2.58e-42</td>\n",
       "</tr>\n",
       "<tr>\n",
       "  <th>Time:</th>                 <td>09:32:32</td>     <th>  Log-Likelihood:    </th> <td> -1343.1</td>\n",
       "</tr>\n",
       "<tr>\n",
       "  <th>No. Observations:</th>      <td>   404</td>      <th>  AIC:               </th> <td>   2714.</td>\n",
       "</tr>\n",
       "<tr>\n",
       "  <th>Df Residuals:</th>          <td>   390</td>      <th>  BIC:               </th> <td>   2770.</td>\n",
       "</tr>\n",
       "<tr>\n",
       "  <th>Df Model:</th>              <td>    13</td>      <th>                     </th>     <td> </td>   \n",
       "</tr>\n",
       "<tr>\n",
       "  <th>Covariance Type:</th>      <td>nonrobust</td>    <th>                     </th>     <td> </td>   \n",
       "</tr>\n",
       "</table>\n",
       "<table class=\"simpletable\">\n",
       "<tr>\n",
       "      <td></td>         <th>coef</th>     <th>std err</th>      <th>t</th>      <th>P>|t|</th> <th>[95.0% Conf. Int.]</th> \n",
       "</tr>\n",
       "<tr>\n",
       "  <th>Intercept</th> <td>   22.0938</td> <td>    8.953</td> <td>    2.468</td> <td> 0.014</td> <td>    4.492    39.696</td>\n",
       "</tr>\n",
       "<tr>\n",
       "  <th>zn</th>        <td>    0.0543</td> <td>    0.023</td> <td>    2.337</td> <td> 0.020</td> <td>    0.009     0.100</td>\n",
       "</tr>\n",
       "<tr>\n",
       "  <th>indus</th>     <td>   -0.0536</td> <td>    0.103</td> <td>   -0.521</td> <td> 0.602</td> <td>   -0.256     0.149</td>\n",
       "</tr>\n",
       "<tr>\n",
       "  <th>chas</th>      <td>   -1.0298</td> <td>    1.472</td> <td>   -0.699</td> <td> 0.485</td> <td>   -3.925     1.865</td>\n",
       "</tr>\n",
       "<tr>\n",
       "  <th>nox</th>       <td>  -13.6629</td> <td>    6.473</td> <td>   -2.111</td> <td> 0.035</td> <td>  -26.390    -0.936</td>\n",
       "</tr>\n",
       "<tr>\n",
       "  <th>rm</th>        <td>    0.2641</td> <td>    0.743</td> <td>    0.355</td> <td> 0.723</td> <td>   -1.197     1.725</td>\n",
       "</tr>\n",
       "<tr>\n",
       "  <th>age</th>       <td>    0.0056</td> <td>    0.022</td> <td>    0.258</td> <td> 0.797</td> <td>   -0.037     0.048</td>\n",
       "</tr>\n",
       "<tr>\n",
       "  <th>dis</th>       <td>   -1.1546</td> <td>    0.350</td> <td>   -3.297</td> <td> 0.001</td> <td>   -1.843    -0.466</td>\n",
       "</tr>\n",
       "<tr>\n",
       "  <th>rad</th>       <td>    0.6281</td> <td>    0.102</td> <td>    6.176</td> <td> 0.000</td> <td>    0.428     0.828</td>\n",
       "</tr>\n",
       "<tr>\n",
       "  <th>tax</th>       <td>   -0.0042</td> <td>    0.006</td> <td>   -0.691</td> <td> 0.490</td> <td>   -0.016     0.008</td>\n",
       "</tr>\n",
       "<tr>\n",
       "  <th>ptratio</th>   <td>   -0.3245</td> <td>    0.219</td> <td>   -1.478</td> <td> 0.140</td> <td>   -0.756     0.107</td>\n",
       "</tr>\n",
       "<tr>\n",
       "  <th>black</th>     <td>   -0.0074</td> <td>    0.004</td> <td>   -1.665</td> <td> 0.097</td> <td>   -0.016     0.001</td>\n",
       "</tr>\n",
       "<tr>\n",
       "  <th>lstat</th>     <td>    0.0922</td> <td>    0.093</td> <td>    0.990</td> <td> 0.323</td> <td>   -0.091     0.275</td>\n",
       "</tr>\n",
       "<tr>\n",
       "  <th>medv</th>      <td>   -0.2332</td> <td>    0.071</td> <td>   -3.291</td> <td> 0.001</td> <td>   -0.373    -0.094</td>\n",
       "</tr>\n",
       "</table>\n",
       "<table class=\"simpletable\">\n",
       "<tr>\n",
       "  <th>Omnibus:</th>       <td>533.765</td> <th>  Durbin-Watson:     </th> <td>   2.088</td> \n",
       "</tr>\n",
       "<tr>\n",
       "  <th>Prob(Omnibus):</th> <td> 0.000</td>  <th>  Jarque-Bera (JB):  </th> <td>59254.788</td>\n",
       "</tr>\n",
       "<tr>\n",
       "  <th>Skew:</th>          <td> 6.468</td>  <th>  Prob(JB):          </th> <td>    0.00</td> \n",
       "</tr>\n",
       "<tr>\n",
       "  <th>Kurtosis:</th>      <td>60.903</td>  <th>  Cond. No.          </th> <td>1.65e+04</td> \n",
       "</tr>\n",
       "</table>"
      ],
      "text/plain": [
       "<class 'statsmodels.iolib.summary.Summary'>\n",
       "\"\"\"\n",
       "                            OLS Regression Results                            \n",
       "==============================================================================\n",
       "Dep. Variable:                   crim   R-squared:                       0.445\n",
       "Model:                            OLS   Adj. R-squared:                  0.426\n",
       "Method:                 Least Squares   F-statistic:                     24.04\n",
       "Date:                Tue, 01 Nov 2016   Prob (F-statistic):           2.58e-42\n",
       "Time:                        09:32:32   Log-Likelihood:                -1343.1\n",
       "No. Observations:                 404   AIC:                             2714.\n",
       "Df Residuals:                     390   BIC:                             2770.\n",
       "Df Model:                          13                                         \n",
       "Covariance Type:            nonrobust                                         \n",
       "==============================================================================\n",
       "                 coef    std err          t      P>|t|      [95.0% Conf. Int.]\n",
       "------------------------------------------------------------------------------\n",
       "Intercept     22.0938      8.953      2.468      0.014         4.492    39.696\n",
       "zn             0.0543      0.023      2.337      0.020         0.009     0.100\n",
       "indus         -0.0536      0.103     -0.521      0.602        -0.256     0.149\n",
       "chas          -1.0298      1.472     -0.699      0.485        -3.925     1.865\n",
       "nox          -13.6629      6.473     -2.111      0.035       -26.390    -0.936\n",
       "rm             0.2641      0.743      0.355      0.723        -1.197     1.725\n",
       "age            0.0056      0.022      0.258      0.797        -0.037     0.048\n",
       "dis           -1.1546      0.350     -3.297      0.001        -1.843    -0.466\n",
       "rad            0.6281      0.102      6.176      0.000         0.428     0.828\n",
       "tax           -0.0042      0.006     -0.691      0.490        -0.016     0.008\n",
       "ptratio       -0.3245      0.219     -1.478      0.140        -0.756     0.107\n",
       "black         -0.0074      0.004     -1.665      0.097        -0.016     0.001\n",
       "lstat          0.0922      0.093      0.990      0.323        -0.091     0.275\n",
       "medv          -0.2332      0.071     -3.291      0.001        -0.373    -0.094\n",
       "==============================================================================\n",
       "Omnibus:                      533.765   Durbin-Watson:                   2.088\n",
       "Prob(Omnibus):                  0.000   Jarque-Bera (JB):            59254.788\n",
       "Skew:                           6.468   Prob(JB):                         0.00\n",
       "Kurtosis:                      60.903   Cond. No.                     1.65e+04\n",
       "==============================================================================\n",
       "\n",
       "Warnings:\n",
       "[1] Standard Errors assume that the covariance matrix of the errors is correctly specified.\n",
       "[2] The condition number is large, 1.65e+04. This might indicate that there are\n",
       "strong multicollinearity or other numerical problems.\n",
       "\"\"\""
      ]
     },
     "execution_count": 13,
     "metadata": {},
     "output_type": "execute_result"
    }
   ],
   "source": [
    "mlmfit.summary()"
   ]
  },
  {
   "cell_type": "markdown",
   "metadata": {},
   "source": [
    "### Adj R.Squared of the model: 0.425\n",
    "This implies that model accounts for ~43% of the error taking into account that there are 13 variables. Adj R.Squared = $1 - \\frac {\\frac{RSS}{n-d-1}}{\\frac{TSS}{n-1}}$\n",
    "- RSS = Residual Sum of Squares and \n",
    "- TSS = Total sum of squares for the response $\\sum(y- \\hat y)^2$ \n",
    "\n",
    "### P-Value: Ranges from 0.001 to 0.8\n",
    "The t-statistic scores are not that high and hence the p-values are not low. For selecting a metric, we generally target a p-value of 0.05 or lower because that gives us 95% accuracy probability\n",
    "\n",
    "### Significant factors:\n",
    "From the model, it looks like the top 5 factors that could influence the per capita crime rates are:\n",
    "\n",
    "- zn: proportion of residential land zoned for lots over 250000 sqft\n",
    "- dis: weighted mean of distances to five Boston Employment centers\n",
    "- rad: index of accessibility to radial highways\n",
    "- medv: median value of owner occupied homes in $1000s\n",
    "\n",
    "Next we will try to just build the model with these key variables. Then we will compare the result of the full model and the reduced model with the test data"
   ]
  },
  {
   "cell_type": "code",
   "execution_count": 14,
   "metadata": {
    "collapsed": false
   },
   "outputs": [
    {
     "name": "stdout",
     "output_type": "stream",
     "text": [
      "Prediction Error:  2211.97859406\n"
     ]
    }
   ],
   "source": [
    "#Prediction on the test data set.\n",
    "predictTestBoston = mlmfit.predict(testBoston)\n",
    "error = sum(np.square((predictTestBoston - testBoston[\"crim\"])))\n",
    "\n",
    "#Total Squared Error in the the Test set prediction\n",
    "print(\"Prediction Error: \", error)\n"
   ]
  },
  {
   "cell_type": "code",
   "execution_count": 15,
   "metadata": {
    "collapsed": false
   },
   "outputs": [
    {
     "data": {
      "text/html": [
       "<table class=\"simpletable\">\n",
       "<caption>OLS Regression Results</caption>\n",
       "<tr>\n",
       "  <th>Dep. Variable:</th>          <td>crim</td>       <th>  R-squared:         </th> <td>   0.423</td>\n",
       "</tr>\n",
       "<tr>\n",
       "  <th>Model:</th>                   <td>OLS</td>       <th>  Adj. R-squared:    </th> <td>   0.418</td>\n",
       "</tr>\n",
       "<tr>\n",
       "  <th>Method:</th>             <td>Least Squares</td>  <th>  F-statistic:       </th> <td>   73.27</td>\n",
       "</tr>\n",
       "<tr>\n",
       "  <th>Date:</th>             <td>Tue, 01 Nov 2016</td> <th>  Prob (F-statistic):</th> <td>1.64e-46</td>\n",
       "</tr>\n",
       "<tr>\n",
       "  <th>Time:</th>                 <td>09:32:36</td>     <th>  Log-Likelihood:    </th> <td> -1350.8</td>\n",
       "</tr>\n",
       "<tr>\n",
       "  <th>No. Observations:</th>      <td>   404</td>      <th>  AIC:               </th> <td>   2712.</td>\n",
       "</tr>\n",
       "<tr>\n",
       "  <th>Df Residuals:</th>          <td>   399</td>      <th>  BIC:               </th> <td>   2732.</td>\n",
       "</tr>\n",
       "<tr>\n",
       "  <th>Df Model:</th>              <td>     4</td>      <th>                     </th>     <td> </td>   \n",
       "</tr>\n",
       "<tr>\n",
       "  <th>Covariance Type:</th>      <td>nonrobust</td>    <th>                     </th>     <td> </td>   \n",
       "</tr>\n",
       "</table>\n",
       "<table class=\"simpletable\">\n",
       "<tr>\n",
       "      <td></td>         <th>coef</th>     <th>std err</th>      <th>t</th>      <th>P>|t|</th> <th>[95.0% Conf. Int.]</th> \n",
       "</tr>\n",
       "<tr>\n",
       "  <th>Intercept</th> <td>    5.8615</td> <td>    1.659</td> <td>    3.533</td> <td> 0.000</td> <td>    2.600     9.123</td>\n",
       "</tr>\n",
       "<tr>\n",
       "  <th>zn</th>        <td>    0.0647</td> <td>    0.021</td> <td>    3.053</td> <td> 0.002</td> <td>    0.023     0.106</td>\n",
       "</tr>\n",
       "<tr>\n",
       "  <th>rad</th>       <td>    0.5112</td> <td>    0.049</td> <td>   10.459</td> <td> 0.000</td> <td>    0.415     0.607</td>\n",
       "</tr>\n",
       "<tr>\n",
       "  <th>dis</th>       <td>   -0.7975</td> <td>    0.251</td> <td>   -3.179</td> <td> 0.002</td> <td>   -1.291    -0.304</td>\n",
       "</tr>\n",
       "<tr>\n",
       "  <th>medv</th>      <td>   -0.2112</td> <td>    0.042</td> <td>   -5.006</td> <td> 0.000</td> <td>   -0.294    -0.128</td>\n",
       "</tr>\n",
       "</table>\n",
       "<table class=\"simpletable\">\n",
       "<tr>\n",
       "  <th>Omnibus:</th>       <td>531.010</td> <th>  Durbin-Watson:     </th> <td>   2.122</td> \n",
       "</tr>\n",
       "<tr>\n",
       "  <th>Prob(Omnibus):</th> <td> 0.000</td>  <th>  Jarque-Bera (JB):  </th> <td>55998.477</td>\n",
       "</tr>\n",
       "<tr>\n",
       "  <th>Skew:</th>          <td> 6.432</td>  <th>  Prob(JB):          </th> <td>    0.00</td> \n",
       "</tr>\n",
       "<tr>\n",
       "  <th>Kurtosis:</th>      <td>59.224</td>  <th>  Cond. No.          </th> <td>    156.</td> \n",
       "</tr>\n",
       "</table>"
      ],
      "text/plain": [
       "<class 'statsmodels.iolib.summary.Summary'>\n",
       "\"\"\"\n",
       "                            OLS Regression Results                            \n",
       "==============================================================================\n",
       "Dep. Variable:                   crim   R-squared:                       0.423\n",
       "Model:                            OLS   Adj. R-squared:                  0.418\n",
       "Method:                 Least Squares   F-statistic:                     73.27\n",
       "Date:                Tue, 01 Nov 2016   Prob (F-statistic):           1.64e-46\n",
       "Time:                        09:32:36   Log-Likelihood:                -1350.8\n",
       "No. Observations:                 404   AIC:                             2712.\n",
       "Df Residuals:                     399   BIC:                             2732.\n",
       "Df Model:                           4                                         \n",
       "Covariance Type:            nonrobust                                         \n",
       "==============================================================================\n",
       "                 coef    std err          t      P>|t|      [95.0% Conf. Int.]\n",
       "------------------------------------------------------------------------------\n",
       "Intercept      5.8615      1.659      3.533      0.000         2.600     9.123\n",
       "zn             0.0647      0.021      3.053      0.002         0.023     0.106\n",
       "rad            0.5112      0.049     10.459      0.000         0.415     0.607\n",
       "dis           -0.7975      0.251     -3.179      0.002        -1.291    -0.304\n",
       "medv          -0.2112      0.042     -5.006      0.000        -0.294    -0.128\n",
       "==============================================================================\n",
       "Omnibus:                      531.010   Durbin-Watson:                   2.122\n",
       "Prob(Omnibus):                  0.000   Jarque-Bera (JB):            55998.477\n",
       "Skew:                           6.432   Prob(JB):                         0.00\n",
       "Kurtosis:                      59.224   Cond. No.                         156.\n",
       "==============================================================================\n",
       "\n",
       "Warnings:\n",
       "[1] Standard Errors assume that the covariance matrix of the errors is correctly specified.\n",
       "\"\"\""
      ]
     },
     "execution_count": 15,
     "metadata": {},
     "output_type": "execute_result"
    }
   ],
   "source": [
    "#Applying Multi linear regression with reduced set of parameters\n",
    "red_mlm = smf.ols(formula=\"crim~zn+rad+dis+medv\", data = trainBoston)\n",
    "red_mlmfit = red_mlm.fit()\n",
    "red_mlmfit.summary()"
   ]
  },
  {
   "cell_type": "markdown",
   "metadata": {},
   "source": [
    "Adj.R.Squared = 0.416 i.e with reduced set of variables, the model accounts for about 42% of error compared to Total Sum of Square error of the model.\n",
    "\n",
    "The p-values of the features are fairly low indicating  higher confidence in the accuracy of these parameters. Let's calculate error on the training set"
   ]
  },
  {
   "cell_type": "code",
   "execution_count": 16,
   "metadata": {
    "collapsed": false
   },
   "outputs": [
    {
     "name": "stdout",
     "output_type": "stream",
     "text": [
      "Prediction Error:  2239.29896203\n"
     ]
    }
   ],
   "source": [
    "#Prediction on the test data set.\n",
    "predictTestBoston = red_mlmfit.predict(testBoston)\n",
    "error = sum(np.square((predictTestBoston - testBoston[\"crim\"])))\n",
    "\n",
    "#Total Squared Error in the the Test set prediction\n",
    "print(\"Prediction Error: \", error)"
   ]
  },
  {
   "cell_type": "markdown",
   "metadata": {},
   "source": [
    "# Logistic Regression"
   ]
  },
  {
   "cell_type": "markdown",
   "metadata": {
    "collapsed": true
   },
   "source": [
    "Logistic regression is a classification algorithm which assigns a probability value for a data point to belong to a particular class. \n",
    "\n",
    "In our case, the Crim data is numerical. For this exercise, we will convert the numerical crim rate into a categorical field having three labels: \n",
    "- High Crime Rate:\n",
    "- Medium Crime Rate:\n",
    "- Low Crime Rate.\n",
    "\n",
    "We will analyze the Boston Data Set to find out what constitutes a high, medium and low crime rates."
   ]
  },
  {
   "cell_type": "code",
   "execution_count": 31,
   "metadata": {
    "collapsed": false
   },
   "outputs": [
    {
     "data": {
      "text/plain": [
       "[<matplotlib.lines.Line2D at 0x45be27f2e8>]"
      ]
     },
     "execution_count": 31,
     "metadata": {},
     "output_type": "execute_result"
    },
    {
     "data": {
      "image/png": "[encoded data removed]",
      "text/plain": [
       "<matplotlib.figure.Figure at 0x45be27f2b0>"
      ]
     },
     "metadata": {},
     "output_type": "display_data"
    }
   ],
   "source": [
    "# Analysis of Boston Crime Rate.\n",
    "crimBoston = data[\"crim\"]\n",
    "fig,ax = plt.subplots(1,1)\n",
    "ax.plot(crimBoston, 'ro', x)\n",
    "ax.set_xlabel(\"Row Number\")\n",
    "ax.set_ylable(\"Per Capita Crime rate\")"
   ]
  },
  {
   "cell_type": "markdown",
   "metadata": {},
   "source": [
    "This scatter plots shows the spread of the per capita crime rate. Lets look at some statistical measures of the crime rate"
   ]
  },
  {
   "cell_type": "code",
   "execution_count": 39,
   "metadata": {
    "collapsed": false
   },
   "outputs": [
    {
     "name": "stdout",
     "output_type": "stream",
     "text": [
      "Maximum Crime Rate: 88.9762\n",
      "Minimum Crime Rate: 0.00632\n",
      "Average Crime Rate: 3.6135235573122535\n",
      "Median  Crime Rate: 0.25651\n"
     ]
    }
   ],
   "source": [
    "print(\"Maximum Crime Rate:\", max(crimBoston))\n",
    "print(\"Minimum Crime Rate:\", min(crimBoston))\n",
    "print(\"Average Crime Rate:\", np.mean(crimBoston))\n",
    "print(\"Median  Crime Rate:\", np.median(crimBoston))"
   ]
  },
  {
   "cell_type": "markdown",
   "metadata": {},
   "source": [
    "The Average Crime per capita crime rate is very high compared to the median crime rate. This is because there are certains towns with very high per capita crime rate. Their data skews the average data. \n",
    "\n",
    "So we will use the following definitions:\n",
    "If Per Capita Crime < Median, then it is a low crime rate area.\n",
    "If Per Capita Crime > Median, then it is a high crime rate area."
   ]
  },
  {
   "cell_type": "markdown",
   "metadata": {},
   "source": [
    "For visualization, we will look at the plot of Per Capita Crime rate v.s Median House values and Distance of the town from the industrial center"
   ]
  },
  {
   "cell_type": "code",
   "execution_count": 141,
   "metadata": {
    "collapsed": false
   },
   "outputs": [
    {
     "data": {
      "text/plain": [
       "<matplotlib.text.Text at 0x45c5a402b0>"
      ]
     },
     "execution_count": 141,
     "metadata": {},
     "output_type": "execute_result"
    },
    {
     "data": {
      "image/png": "[encoded data removed]",
      "text/plain": [
       "<matplotlib.figure.Figure at 0x45c56b3c88>"
      ]
     },
     "metadata": {},
     "output_type": "display_data"
    }
   ],
   "source": [
    "boston = data\n",
    "fig,axs = plt.subplots(1,2, figsize=(16,8))\n",
    "axs[0].scatter(boston[boston[\"boolCrim\"]==0].dis,boston[boston[\"boolCrim\"]==0].crim, color = \"red\", marker =\"o\" )\n",
    "axs[0].scatter(boston[boston[\"boolCrim\"]==1].dis,boston[boston[\"boolCrim\"]==1].crim, color = \"blue\", marker = \"*\" )\n",
    "axs[0].set_xlabel(\"Distance from Industrial Center\")\n",
    "axs[0].set_ylabel(\"Per Capita Crime Rate\")\n",
    "axs[1].scatter(boston[boston[\"boolCrim\"]==0].medv,boston[boston[\"boolCrim\"]==0].crim, color = \"green\", marker =\"o\" )\n",
    "axs[1].scatter(boston[boston[\"boolCrim\"]==1].medv,boston[boston[\"boolCrim\"]==1].crim, color = \"orange\", marker = \"*\" )\n",
    "axs[1].set_xlabel(\"Median value of house\")\n",
    "axs[1].set_ylabel(\"Per Capita Crime Rate\")\n"
   ]
  },
  {
   "cell_type": "code",
   "execution_count": 144,
   "metadata": {
    "collapsed": true
   },
   "outputs": [],
   "source": [
    "#Factorizing the crime data and adding it to the dataframe\n",
    "bostonCrim = np.zeros(len(boston[\"crim\"]))\n",
    "bostonCrim = pd.Series(bostonCrim)\n",
    "bostonCrim[boston[\"crim\"]>np.mean(crimBoston)]=1\n",
    "bostonCrim[boston[\"crim\"]<np.mean(crimBoston)]=0\n",
    "boston[\"boolCrim\"] = bostonCrim\n",
    "\n",
    "#Partition the data into test and training samples\n",
    "trainBoston, testBoston = train_test_split(boston, test_size=0.2)"
   ]
  },
  {
   "cell_type": "code",
   "execution_count": 145,
   "metadata": {
    "collapsed": true
   },
   "outputs": [],
   "source": [
    "from sklearn.discriminant_analysis import LinearDiscriminantAnalysis as lda\n",
    "from sklearn.discriminant_analysis import QuadraticDiscriminantAnalysis as qda\n"
   ]
  },
  {
   "cell_type": "code",
   "execution_count": null,
   "metadata": {
    "collapsed": true
   },
   "outputs": [],
   "source": []
  }
 ],
 "metadata": {
  "kernelspec": {
   "display_name": "Python 3",
   "language": "python",
   "name": "python3"
  },
  "language_info": {
   "codemirror_mode": {
    "name": "ipython",
    "version": 3
   },
   "file_extension": ".py",
   "mimetype": "text/x-python",
   "name": "python",
   "nbconvert_exporter": "python",
   "pygments_lexer": "ipython3",
   "version": "3.5.2"
  }
 },
 "nbformat": 4,
 "nbformat_minor": 0
}
