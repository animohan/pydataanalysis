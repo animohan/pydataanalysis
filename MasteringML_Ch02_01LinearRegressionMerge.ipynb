{
 "cells": [
  {
   "cell_type": "code",
   "execution_count": 2,
   "metadata": {
    "collapsed": false
   },
   "outputs": [
    {
     "name": "stdout",
     "output_type": "stream",
     "text": [
      "Intercept alpha: -0.77\n",
      "Slope-Beta: 1.22\n"
     ]
    },
    {
     "data": {
      "image/png": "[encoded data removed]",
      "text/plain": [
       "<matplotlib.figure.Figure at 0x689f3f72e8>"
      ]
     },
     "metadata": {},
     "output_type": "display_data"
    }
   ],
   "source": [
    "import numpy as np\n",
    "import matplotlib.pyplot as plt\n",
    "import pandas as pd\n",
    "%matplotlib inline\n",
    "from sklearn.linear_model import LinearRegression\n",
    "\n",
    "#Linear regression\n",
    "x = pd.Series([6, 8, 10, 14,18])\n",
    "y = pd.Series([7,9,13,17.5,18])\n",
    "plt.plot(x,y, \"r*\")\n",
    "plt.axis([0,25,0,25])\n",
    "plt.xlabel(\"Pizza size in inches\")\n",
    "plt.ylabel(\"Pizza prices\")\n",
    "\n",
    "beta = np.cov(x,y)[0][1]/np.var(x)\n",
    "alpha = np.mean(y)-beta*np.mean(x)\n",
    "print(\"Intercept: alpha: %.2f\"%alpha)\n",
    "print(\"Slope: Beta: %.2f\" %beta)\n",
    "\n"
   ]
  },
  {
   "cell_type": "code",
   "execution_count": null,
   "metadata": {
    "collapsed": false
   },
   "outputs": [],
   "source": []
  },
  {
   "cell_type": "code",
   "execution_count": 72,
   "metadata": {
    "collapsed": false
   },
   "outputs": [
    {
     "name": "stdout",
     "output_type": "stream",
     "text": [
      "Dimensions of diabetes data (442, 10)\n",
      "Shape of input (442, 1)\n",
      "Diabetes y shape (442,)\n",
      "Coefficient : [ 949.43526038]\n",
      "Residual Sum of Squares is: 3890.45658546\n",
      "Variance Score  0.343923760225\n"
     ]
    },
    {
     "data": {
      "text/plain": [
       "[<matplotlib.lines.Line2D at 0x7f0e97904f60>]"
      ]
     },
     "execution_count": 72,
     "metadata": {},
     "output_type": "execute_result"
    },
    {
     "data": {
      "image/png": "[encoded data removed]",
      "text/plain": [
       "<matplotlib.figure.Figure at 0x7f0e984c79b0>"
      ]
     },
     "metadata": {},
     "output_type": "display_data"
    }
   ],
   "source": [
    "#Example from web\n",
    "\n",
    "from sklearn import datasets\n",
    "\n",
    "diabetes = datasets.load_diabetes()\n",
    "a = diabetes.data\n",
    "print(\"Dimensions of diabetes data\", a.shape)\n",
    "diabetesx = a[:,np.newaxis,2] #Without adding a newaxis, the data is not a \n",
    "                    # a two dimensional array\n",
    "print(\"Shape of input\", diabetesx.shape)\n",
    "diabetesy = diabetes.target\n",
    "\n",
    "print(\"Diabetes y shape\", diabetesy.shape)\n",
    "reg = LinearRegression()\n",
    "reg.fit(diabetesx,diabetesy)\n",
    "\n",
    "#The coefficients of linear regression\n",
    "print(\"Coefficient :\", reg.coef_)\n",
    "\n",
    "#The mean sum of squares\n",
    "print(\"Residual Sum of Squares is:\", \n",
    "      np.mean((reg.predict(diabetesx)-diabetesy)**2))\n",
    "\n",
    "print(\"Variance Score \", reg.score(diabetesx,diabetesy))\n",
    "plt.scatter(diabetesx,diabetesy, color =\"black\")\n",
    "plt.plot(diabetesx, reg.predict(diabetesx),color =\"blue\", linewidth =3)\n",
    "#plt.xticks(())\n",
    "#plt.yticks(())\n",
    "#plt.show()"
   ]
  },
  {
   "cell_type": "code",
   "execution_count": 124,
   "metadata": {
    "collapsed": false
   },
   "outputs": [
    {
     "name": "stdout",
     "output_type": "stream",
     "text": [
      "Array x: [ 6  8 10 14 18]\n",
      "Dimensions of input array x:  (5,)\n",
      "Dimensions of reshaped x (5, 1)\n",
      "X array:\n",
      " [[ 6]\n",
      " [ 8]\n",
      " [10]\n",
      " [14]\n",
      " [18]]\n",
      "\n",
      "Coefficients of linear model: [ 0.9762931]\n",
      "Residual sum of squares 1.74956896552\n",
      "R-Squared 0.910001596424\n",
      "(Manual) Intercept: alpha: -0.77\n",
      "(Manual) Slope: Beta: 1.22\n",
      "\n",
      "Total Variance (Manual): 97.2\n",
      "Residual Variance (Manual) 8.74784482759\n",
      "R Square value (Manual) 0.910001596424\n"
     ]
    }
   ],
   "source": [
    "#Back to book\n",
    "xin=np.array([6, 8, 10, 14,18])\n",
    "y=np.array([7,9,13,17.5,18])\n",
    "\n",
    "print(\"Array x:\",xin)\n",
    "print(\"Dimensions of input array x: \", xin.shape)\n",
    "#Since shape is 1 dimensional, converting it to a two dimensional array\n",
    "# all inputs for linear regression has to be 2 dimensional\n",
    "x = xin[:,np.newaxis]\n",
    "print(\"Dimensions of reshaped x\",x.shape)\n",
    "print(\"X array:\\n\", x)\n",
    "\n",
    "lm = LinearRegression() #create a linear model object\n",
    "lm.fit(x,y) #pass input and target\n",
    "\n",
    "print(\"\\nCoefficients of linear model:\", lm.coef_)\n",
    "print(\"Residual sum of squares\", np.mean((lm.predict(x)-y)**2))\n",
    "print(\"R-Squared\", lm.score(x,y))\n",
    "\n",
    "#Now calculating same coefficients by hand\n",
    "#FOR SOME STUPID REASON, COV DOESNT WORK WITH RESHAPED X and Y\n",
    "\n",
    "beta = np.cov(xin,y)[0][1]/np.var(xin)\n",
    "alpha = np.mean(ny)-beta*np.mean(xin)\n",
    "print(\"(Manual) Intercept: alpha: %.2f\"%alpha)\n",
    "print(\"(Manual) Slope: Beta: %.2f\" %beta)\n",
    "\n",
    "tss = np.sum((y-np.mean(y))**2)\n",
    "print(\"\\nTotal Variance (Manual):\", tss)\n",
    "rss = np.sum((y-lm.predict(x))**2)\n",
    "print(\"Residual Variance (Manual)\", rss)\n",
    "rsquare = (tss-rss)/tss\n",
    "print(\"R Square value (Manual)\", rsquare)\n",
    "\n"
   ]
  },
  {
   "cell_type": "code",
   "execution_count": 123,
   "metadata": {
    "collapsed": false
   },
   "outputs": [
    {
     "data": {
      "text/plain": [
       "array([[ 23.2 ,  22.65],\n",
       "       [ 22.65,  24.3 ]])"
      ]
     },
     "execution_count": 123,
     "metadata": {},
     "output_type": "execute_result"
    }
   ],
   "source": [
    "np.cov(xin,y)"
   ]
  },
  {
   "cell_type": "code",
   "execution_count": 98,
   "metadata": {
    "collapsed": false
   },
   "outputs": [
    {
     "name": "stdout",
     "output_type": "stream",
     "text": [
      "Total Variance: 56.8\n",
      "Residual Variance 19.19821359\n",
      "R Square value 0.6620032818661972\n",
      "Coefficient of the fit\n",
      "  [[ 0.9762931]]\n"
     ]
    },
    {
     "data": {
      "text/plain": [
       "array([[  9.77586207],\n",
       "       [ 10.75215517],\n",
       "       [ 12.70474138],\n",
       "       [ 17.5862069 ],\n",
       "       [ 13.68103448]])"
      ]
     },
     "execution_count": 98,
     "metadata": {},
     "output_type": "execute_result"
    }
   ],
   "source": [
    "#New test data:\n",
    "xtest = pd.Series([8, 9, 11, 16,12])#Declaring data as series\n",
    "ytest = pd.Series([11,8.5,15,18,11])\n",
    "ypred = pd.Series([9.7759, 10.7522,12.7048,17.5863,13.6811])\n",
    "\n",
    "\n",
    "#Fitting the model\n",
    "model = LinearRegression()\n",
    "#model.fit([x],[y])\n",
    "#print(\"Model prediction\", model.predict([8))\n",
    "#print(\"Rsquared Value\", model.score([xtest],[ytest]))\n",
    "\n",
    "#Evaluating a model manually\n",
    "tss = np.sum((ytest-np.mean(ytest))**2)\n",
    "print(\"Total Variance:\", tss)\n",
    "rss = np.sum((ytest-ypred)**2)\n",
    "print(\"Residual Variance\", rss)\n",
    "rsquare = (tss-rss)/tss\n",
    "print(\"R Square value\", rsquare)\n",
    "\n",
    "x=[[6], [8], [10], [14],[18]]\n",
    "y=[[7],[9],[13],[17.5],[18]]\n",
    "#x=[6, 8, 10, 14,18]\n",
    "#y=[7,9,13,17.5,18]\n",
    "#x = np.array([[6,8,10,14,18]])\n",
    "#y = np.array([[7,8,13,17.5,18]])\n",
    "lm = LinearRegression()\n",
    "lm.fit(x,y) #x and y are np.ndarray type\n",
    "print(\"Coefficient of the fit\\n \", lm.coef_)\n",
    "\n",
    "xtest = [[8], [9], [11], [16],[12]]\n",
    "lm.predict(xtest)\n",
    "\n",
    "#type(x)\n",
    "#lm.predict(np.array([1,2,3,4,5]))\n",
    "#print(\"Predict\",lm.predict([[xtest]))"
   ]
  },
  {
   "cell_type": "code",
   "execution_count": 95,
   "metadata": {
    "collapsed": false
   },
   "outputs": [
    {
     "name": "stdout",
     "output_type": "stream",
     "text": [
      "(1, 2, 2)\n",
      "[[[ 0.  0.]\n",
      "  [ 0.  0.]]]\n"
     ]
    }
   ],
   "source": []
  },
  {
   "cell_type": "code",
   "execution_count": 87,
   "metadata": {
    "collapsed": false
   },
   "outputs": [
    {
     "data": {
      "text/plain": [
       "array([[[ 1.,  1.],\n",
       "        [ 1.,  1.]]])"
      ]
     },
     "execution_count": 87,
     "metadata": {},
     "output_type": "execute_result"
    }
   ],
   "source": [
    "\n",
    "            "
   ]
  },
  {
   "cell_type": "code",
   "execution_count": null,
   "metadata": {
    "collapsed": true
   },
   "outputs": [],
   "source": []
  }
 ],
 "metadata": {
  "kernelspec": {
   "display_name": "Python 3",
   "language": "python",
   "name": "python3"
  },
  "language_info": {
   "codemirror_mode": {
    "name": "ipython",
    "version": 3
   },
   "file_extension": ".py",
   "mimetype": "text/x-python",
   "name": "python",
   "nbconvert_exporter": "python",
   "pygments_lexer": "ipython3",
   "version": "3.5.1"
  }
 },
 "nbformat": 4,
 "nbformat_minor": 0
}
