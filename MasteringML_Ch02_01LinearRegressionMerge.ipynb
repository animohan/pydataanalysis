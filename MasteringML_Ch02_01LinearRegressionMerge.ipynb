{
 "cells": [
  {
   "cell_type": "code",
   "execution_count": 63,
   "metadata": {
    "collapsed": false
   },
   "outputs": [
    {
     "ename": "SyntaxError",
     "evalue": "invalid syntax (<ipython-input-63-9556109f2d92>, line 50)",
     "output_type": "error",
     "traceback": [
      "\u001b[1;36m  File \u001b[1;32m\"<ipython-input-63-9556109f2d92>\"\u001b[1;36m, line \u001b[1;32m50\u001b[0m\n\u001b[1;33m    print(\"Predict\",lm.predict([[xtest]))\u001b[0m\n\u001b[1;37m                                       ^\u001b[0m\n\u001b[1;31mSyntaxError\u001b[0m\u001b[1;31m:\u001b[0m invalid syntax\n"
     ]
    }
   ],
   "source": [
    "import numpy as np\n",
    "import matplotlib.pyplot as plt\n",
    "import pandas as pd\n",
    "%matplotlib inline\n",
    "from sklearn.linear_model import LinearRegression\n",
    "\n",
    "#Linear regression\n",
    "x = pd.Series([6, 8, 10, 14,18])\n",
    "y = pd.Series([7,9,13,17.5,18])\n",
    "plt.plot(x,y, \"r*\")\n",
    "plt.axis([0,25,0,25])\n",
    "plt.xlabel(\"Pizza size in inches\")\n",
    "plt.ylabel(\"Pizza prices\")\n",
    "\n",
    "beta = np.cov(x,y)[0][1]/np.var(x)\n",
    "alpha = np.mean(y)-beta*np.mean(x)\n",
    "print(\"Intercept alpha: %.2f\"%alpha)\n",
    "print(\"Slope-Beta: %.2f\" %beta)\n",
    "\n",
    "\n",
    "\n",
    "\n",
    "\n",
    "#Test data\n",
    "xtest = pd.Series([8, 9, 11, 16,12])\n",
    "ytest = pd.Series([11,8.5,15,18,11])\n",
    "ypred = pd.Series([9.7759, 10.7522,12.7048,17.5863,13.6811])\n",
    "\n",
    "\n",
    "#Fitting the model\n",
    "model = LinearRegression()\n",
    "model.fit([x],[y])\n",
    "#print(\"Model prediction\", model.predict([8))\n",
    "#print(\"Rsquared Value\", model.score([xtest],[ytest]))\n",
    "\n",
    "#Evaluating a model manually\n",
    "tss = np.sum((ytest-np.mean(ytest))**2)\n",
    "print(\"Total Variance:\", tss)\n",
    "rss = np.sum((ytest-ypred)**2)\n",
    "print(\"Residual Variance\", rss)\n",
    "rsquare = (tss-rss)/tss\n",
    "print(\"R Square value\", rsquare)\n",
    "\n",
    "x=[[6], [8], [10], [14],[18]]\n",
    "y=[[7],[9],[13],[17.5],[18]]\n",
    "#x=[6, 8, 10, 14,18]\n",
    "#y=[7,9,13,17.5,18]\n",
    "lm = LinearRegression()\n",
    "lm.fit(x,y)\n",
    "print(\"Predict\",lm.predict([[xtest]))"
   ]
  },
  {
   "cell_type": "code",
   "execution_count": null,
   "metadata": {
    "collapsed": true
   },
   "outputs": [],
   "source": []
  },
  {
   "cell_type": "code",
   "execution_count": null,
   "metadata": {
    "collapsed": true
   },
   "outputs": [],
   "source": []
  }
 ],
 "metadata": {
  "kernelspec": {
   "display_name": "Python 3",
   "language": "python",
   "name": "python3"
  },
  "language_info": {
   "codemirror_mode": {
    "name": "ipython",
    "version": 3
   },
   "file_extension": ".py",
   "mimetype": "text/x-python",
   "name": "python",
   "nbconvert_exporter": "python",
   "pygments_lexer": "ipython3",
   "version": "3.5.1"
  }
 },
 "nbformat": 4,
 "nbformat_minor": 0
}
