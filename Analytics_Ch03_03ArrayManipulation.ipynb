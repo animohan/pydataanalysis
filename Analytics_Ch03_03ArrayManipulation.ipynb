{
 "cells": [
  {
   "cell_type": "code",
   "execution_count": 7,
   "metadata": {
    "collapsed": false
   },
   "outputs": [
    {
     "name": "stdout",
     "output_type": "stream",
     "text": [
      "[[ 1  2  3]\n",
      " [ 4  5  6]\n",
      " [ 7  8  9]\n",
      " [11 12 13]\n",
      " [14 15 16]\n",
      " [17 18 19]] \n",
      "\n",
      "[[ 1  2  3 11 12 13]\n",
      " [ 4  5  6 14 15 16]\n",
      " [ 7  8  9 17 18 19]] \n",
      "\n"
     ]
    }
   ],
   "source": [
    "import numpy as np\n",
    "#Joining Arrays\n",
    "a = np.arange(1,10).reshape(3,3)\n",
    "b = np.arange(11,20).reshape(3,3)\n",
    "\n",
    "print(np.vstack((a,b)),\"\\n\") #Vertical stacking for Arrays\n",
    "print(np.hstack((a,b)),\"\\n\")\n"
   ]
  },
  {
   "cell_type": "code",
   "execution_count": 11,
   "metadata": {
    "collapsed": false
   },
   "outputs": [
    {
     "name": "stdout",
     "output_type": "stream",
     "text": [
      "[[0 3 6]\n",
      " [1 4 7]\n",
      " [2 5 8]] \n",
      "\n",
      "[[0 1 2]\n",
      " [3 4 5]\n",
      " [6 7 8]]\n"
     ]
    }
   ],
   "source": [
    "#Column_Stack() and row_Stack() used on 1-D arrays\n",
    "\n",
    "a = np.array([0,1,2])\n",
    "b = np.array([3,4,5])\n",
    "c = np.array([6,7,8])\n",
    "print(np.column_stack((a,b,c)),\"\\n\") #each array become the column\n",
    "                                    #Note input it tuple\n",
    "print(np.row_stack((a,b,c))) #each array becomes the row"
   ]
  },
  {
   "cell_type": "code",
   "execution_count": 13,
   "metadata": {
    "collapsed": false
   },
   "outputs": [
    {
     "name": "stdout",
     "output_type": "stream",
     "text": [
      "[[ 0  1  2  3]\n",
      " [ 4  5  6  7]\n",
      " [ 8  9 10 11]\n",
      " [12 13 14 15]] \n",
      "\n",
      "[[ 0  1]\n",
      " [ 4  5]\n",
      " [ 8  9]\n",
      " [12 13]] \n",
      "\n",
      "[[ 2  3]\n",
      " [ 6  7]\n",
      " [10 11]\n",
      " [14 15]] \n",
      "\n",
      "[[0 1 2 3]\n",
      " [4 5 6 7]] \n",
      "\n",
      "[[ 8  9 10 11]\n",
      " [12 13 14 15]] \n",
      "\n"
     ]
    }
   ],
   "source": [
    "#Splitting arrays:\n",
    "a = np.arange(16).reshape(4,4)\n",
    "print(a,\"\\n\")\n",
    "[b,c] = np.hsplit(a,2) #split a horizontally into two segments\n",
    "print(b,\"\\n\")\n",
    "print(c,\"\\n\")\n",
    "\n",
    "[b,c] = np.vsplit(a,2) #split a vertically into two segments\n",
    "print(b,\"\\n\")\n",
    "print(c,\"\\n\")\n"
   ]
  },
  {
   "cell_type": "code",
   "execution_count": 14,
   "metadata": {
    "collapsed": false
   },
   "outputs": [
    {
     "name": "stdout",
     "output_type": "stream",
     "text": [
      "[[0 1 2]\n",
      " [3 4 5]\n",
      " [6 7 8]] \n",
      "\n",
      "[[0]\n",
      " [3]\n",
      " [6]] \n",
      "\n",
      "[[1]\n",
      " [4]\n",
      " [7]] \n",
      "\n",
      "[[2]\n",
      " [5]\n",
      " [8]] \n",
      "\n",
      "[[0 1 2]] \n",
      "\n",
      "[[3 4 5]] \n",
      "\n",
      "[[6 7 8]] \n",
      "\n"
     ]
    }
   ],
   "source": [
    "a = np.arange(9).reshape(3,3)\n",
    "print(a,\"\\n\")\n",
    "[b,c,d] = np.hsplit(a,3) #split a horizontally into three segments\n",
    "print(b,\"\\n\")\n",
    "print(c,\"\\n\")\n",
    "print(d,\"\\n\")\n",
    "\n",
    "[b,c,d] = np.vsplit(a,3) #split a vertically into three segments\n",
    "print(b,\"\\n\")\n",
    "print(c,\"\\n\")\n",
    "print(d,\"\\n\")"
   ]
  },
  {
   "cell_type": "code",
   "execution_count": 17,
   "metadata": {
    "collapsed": false
   },
   "outputs": [
    {
     "name": "stdout",
     "output_type": "stream",
     "text": [
      "[[ 0]\n",
      " [ 4]\n",
      " [ 8]\n",
      " [12]] \n",
      "\n",
      "[[ 1]\n",
      " [ 5]\n",
      " [ 9]\n",
      " [13]] \n",
      "\n",
      "[[ 2  3]\n",
      " [ 6  7]\n",
      " [10 11]\n",
      " [14 15]] \n",
      "\n"
     ]
    }
   ],
   "source": [
    "#Split function allows to split into nonsymetrical arrays\n",
    "a = np.arange(16).reshape(4,4)\n",
    "\n",
    "[a1,a2,a3] = np.split(a, [1,2], axis = 1)\n",
    "        # axis = 1 -> indexes indicate columnwise\n",
    "print(a1,\"\\n\")\n",
    "print(a2,\"\\n\")\n",
    "print(a3,\"\\n\")"
   ]
  },
  {
   "cell_type": "code",
   "execution_count": 18,
   "metadata": {
    "collapsed": false
   },
   "outputs": [
    {
     "name": "stdout",
     "output_type": "stream",
     "text": [
      "[[ 0]\n",
      " [ 4]\n",
      " [ 8]\n",
      " [12]] \n",
      "\n",
      "[[ 1  2]\n",
      " [ 5  6]\n",
      " [ 9 10]\n",
      " [13 14]] \n",
      "\n",
      "[[ 3]\n",
      " [ 7]\n",
      " [11]\n",
      " [15]] \n",
      "\n"
     ]
    }
   ],
   "source": [
    "#Split function allows to split into nonsymetrical arrays\n",
    "a = np.arange(16).reshape(4,4)\n",
    "\n",
    "[a1,a2,a3] = np.split(a, [1,3], axis = 1)\n",
    "        # axis = 1 -> indexes indicate columnwise\n",
    "print(a1,\"\\n\")\n",
    "print(a2,\"\\n\")\n",
    "print(a3,\"\\n\")"
   ]
  },
  {
   "cell_type": "code",
   "execution_count": 19,
   "metadata": {
    "collapsed": false
   },
   "outputs": [
    {
     "name": "stdout",
     "output_type": "stream",
     "text": [
      "[[ 0  1]\n",
      " [ 5  6]\n",
      " [10 11]\n",
      " [15 16]\n",
      " [20 21]] \n",
      "\n",
      "[[ 2  3]\n",
      " [ 7  8]\n",
      " [12 13]\n",
      " [17 18]\n",
      " [22 23]] \n",
      "\n",
      "[[ 4]\n",
      " [ 9]\n",
      " [14]\n",
      " [19]\n",
      " [24]] \n",
      "\n"
     ]
    }
   ],
   "source": [
    "#Split function allows to split into nonsymetrical arrays\n",
    "a = np.arange(25).reshape(5,5)\n",
    "\n",
    "[a1,a2,a3] = np.split(a, [2,4], axis = 1)\n",
    "        # axis = 1 -> indexes indicate columnwise\n",
    "print(a1,\"\\n\")\n",
    "print(a2,\"\\n\")\n",
    "print(a3,\"\\n\")"
   ]
  },
  {
   "cell_type": "code",
   "execution_count": null,
   "metadata": {
    "collapsed": true
   },
   "outputs": [],
   "source": []
  }
 ],
 "metadata": {
  "kernelspec": {
   "display_name": "Python 3",
   "language": "python",
   "name": "python3"
  },
  "language_info": {
   "codemirror_mode": {
    "name": "ipython",
    "version": 3
   },
   "file_extension": ".py",
   "mimetype": "text/x-python",
   "name": "python",
   "nbconvert_exporter": "python",
   "pygments_lexer": "ipython3",
   "version": "3.5.1"
  }
 },
 "nbformat": 4,
 "nbformat_minor": 0
}
