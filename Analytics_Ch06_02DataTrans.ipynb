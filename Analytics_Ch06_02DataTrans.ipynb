{
 "cells": [
  {
   "cell_type": "code",
   "execution_count": 1,
   "metadata": {
    "collapsed": true
   },
   "outputs": [],
   "source": [
    "#Data Transformation\n",
    "import numpy as np\n",
    "import pandas as pd"
   ]
  },
  {
   "cell_type": "code",
   "execution_count": 2,
   "metadata": {
    "collapsed": false
   },
   "outputs": [
    {
     "name": "stdout",
     "output_type": "stream",
     "text": [
      "   color  value\n",
      "0  white      2\n",
      "1  white      1\n",
      "2    red      3\n",
      "3    red      3\n",
      "4  white      2 \n",
      "\n",
      "0    False\n",
      "1    False\n",
      "2    False\n",
      "3     True\n",
      "4     True\n",
      "dtype: bool\n"
     ]
    }
   ],
   "source": [
    "#Removing duplicates\n",
    "\n",
    "dframe = pd.DataFrame({'color':[\"white\",\"white\",\"red\",\"red\",\"white\"],\n",
    "                      'value':[2,1,3,3,2]})\n",
    "print(dframe,\"\\n\")\n",
    "print(dframe.duplicated()) #print bool for duplicated row\n",
    "# duplicated row = exactly same color, value pair\n"
   ]
  },
  {
   "cell_type": "code",
   "execution_count": 3,
   "metadata": {
    "collapsed": false
   },
   "outputs": [
    {
     "data": {
      "text/html": [
       "<div>\n",
       "<table border=\"1\" class=\"dataframe\">\n",
       "  <thead>\n",
       "    <tr style=\"text-align: right;\">\n",
       "      <th></th>\n",
       "      <th>color</th>\n",
       "      <th>value</th>\n",
       "    </tr>\n",
       "  </thead>\n",
       "  <tbody>\n",
       "    <tr>\n",
       "      <th>3</th>\n",
       "      <td>red</td>\n",
       "      <td>3</td>\n",
       "    </tr>\n",
       "    <tr>\n",
       "      <th>4</th>\n",
       "      <td>white</td>\n",
       "      <td>2</td>\n",
       "    </tr>\n",
       "  </tbody>\n",
       "</table>\n",
       "</div>"
      ],
      "text/plain": [
       "   color  value\n",
       "3    red      3\n",
       "4  white      2"
      ]
     },
     "execution_count": 3,
     "metadata": {},
     "output_type": "execute_result"
    }
   ],
   "source": [
    "dframe[dframe.duplicated()] #shows only duplicated entries"
   ]
  },
  {
   "cell_type": "code",
   "execution_count": 4,
   "metadata": {
    "collapsed": false
   },
   "outputs": [
    {
     "data": {
      "text/html": [
       "<div>\n",
       "<table border=\"1\" class=\"dataframe\">\n",
       "  <thead>\n",
       "    <tr style=\"text-align: right;\">\n",
       "      <th></th>\n",
       "      <th>color</th>\n",
       "      <th>value</th>\n",
       "    </tr>\n",
       "  </thead>\n",
       "  <tbody>\n",
       "    <tr>\n",
       "      <th>0</th>\n",
       "      <td>white</td>\n",
       "      <td>2</td>\n",
       "    </tr>\n",
       "    <tr>\n",
       "      <th>1</th>\n",
       "      <td>white</td>\n",
       "      <td>1</td>\n",
       "    </tr>\n",
       "    <tr>\n",
       "      <th>2</th>\n",
       "      <td>red</td>\n",
       "      <td>3</td>\n",
       "    </tr>\n",
       "  </tbody>\n",
       "</table>\n",
       "</div>"
      ],
      "text/plain": [
       "   color  value\n",
       "0  white      2\n",
       "1  white      1\n",
       "2    red      3"
      ]
     },
     "execution_count": 4,
     "metadata": {},
     "output_type": "execute_result"
    }
   ],
   "source": [
    "dframe.drop_duplicates() #shows non duplicated entries."
   ]
  },
  {
   "cell_type": "code",
   "execution_count": 5,
   "metadata": {
    "collapsed": true
   },
   "outputs": [],
   "source": [
    "#Mapping: process of changning lable values\n",
    "\n",
    "#dictionaries are used for mapping\n",
    "map ={\n",
    "    'label1' : \"value1\",\n",
    "    'label2' : \"value2\"\n",
    "}\n",
    "\n",
    "#replace(): replaces values\n",
    "#map() creates a new column\n",
    "#rename() : replaces the index values"
   ]
  },
  {
   "cell_type": "code",
   "execution_count": 6,
   "metadata": {
    "collapsed": false
   },
   "outputs": [
    {
     "name": "stdout",
     "output_type": "stream",
     "text": [
      "    color     item  price\n",
      "0   white     ball   5.56\n",
      "1   rosso      mug   4.20\n",
      "2   verde      pen   1.30\n",
      "3   black   pencil   0.56\n",
      "4  yellow  ashtray   2.75 \n",
      "\n",
      "    color     item  price\n",
      "0   white     ball   5.56\n",
      "1     red      mug   4.20\n",
      "2   green      pen   1.30\n",
      "3   black   pencil   0.56\n",
      "4  yellow  ashtray   2.75 \n",
      "\n"
     ]
    }
   ],
   "source": [
    "#Replacing values via mapping\n",
    "frame = pd.DataFrame({\"item\":[\"ball\",\"mug\",\"pen\",\"pencil\",\"ashtray\"],\n",
    "                     \"color\":[\"white\",\"rosso\",\"verde\",\"black\",\"yellow\"],\n",
    "                     \"price\":[5.56,4.2,1.3,0.56,2.75]})\n",
    "print(frame,\"\\n\")\n",
    "#want to change the value of some of the colors\n",
    "newcolors = {\n",
    "    \"rosso\":\"red\",\n",
    "    \"verde\" :\"green\"\n",
    "}\n",
    "\n",
    "print(frame.replace(newcolors),\"\\n\")"
   ]
  },
  {
   "cell_type": "code",
   "execution_count": 7,
   "metadata": {
    "collapsed": false
   },
   "outputs": [
    {
     "name": "stdout",
     "output_type": "stream",
     "text": [
      "0    1.0\n",
      "1    3.0\n",
      "2    NaN\n",
      "3    4.0\n",
      "4    6.0\n",
      "5    NaN\n",
      "6    3.0\n",
      "dtype: float64 \n",
      "\n",
      "0    1.0\n",
      "1    3.0\n",
      "2    0.0\n",
      "3    4.0\n",
      "4    6.0\n",
      "5    0.0\n",
      "6    3.0\n",
      "dtype: float64 \n",
      "\n"
     ]
    }
   ],
   "source": [
    "#can replace entries as well. e.g replace NaN with 0\n",
    "ser = pd.Series([1,3,np.nan,4,6,np.nan,3])\n",
    "print(ser,\"\\n\")\n",
    "print(ser.replace(np.nan,0),\"\\n\")"
   ]
  },
  {
   "cell_type": "code",
   "execution_count": 8,
   "metadata": {
    "collapsed": false
   },
   "outputs": [
    {
     "name": "stdout",
     "output_type": "stream",
     "text": [
      "    color     item  price\n",
      "0   white     ball   5.56\n",
      "1   rosso      mug   4.20\n",
      "2   verde      pen   1.30\n",
      "3   black   pencil   0.56\n",
      "4  yellow  ashtray   2.75\n",
      "    color     item  price\n",
      "0   white     ball   5.56\n",
      "1   rosso      mug   4.20\n",
      "2   verde      pen   1.30\n",
      "3   black   pencil   0.56\n",
      "4  yellow  ashtray   2.75\n"
     ]
    }
   ],
   "source": [
    "#Adding values via mapping (instead of substituion)\n",
    "frame5 = pd.DataFrame({\"item\":[\"ball\",\"mug\",\"pen\",\"pencil\",\"ashtray\"],\n",
    "                     \"color\":[\"white\",\"rosso\",\"verde\",\"black\",\"yellow\"]})\n",
    "print(frame)\n",
    "#now you want ot add the price list column that is available\n",
    "price = {\n",
    "    \"ball\":5.56,\n",
    "    \"mug\":4.2,\n",
    "    \"bottle\":1.3,\n",
    "    \"Scissors\":3.41,\n",
    "    \"pen\":1.3,\n",
    "    \"pencil\":0.56,\n",
    "    \"ashtray\":2.75\n",
    "}\n",
    "\n",
    "frame[\"price\"] = frame['item'].map(price) # add price as frame[\"price\"]\n",
    "        # by mapping the names to frame[\"item\"] and adding prices dict\n",
    "\n",
    "print(frame)"
   ]
  },
  {
   "cell_type": "code",
   "execution_count": 9,
   "metadata": {
    "collapsed": false
   },
   "outputs": [
    {
     "name": "stdout",
     "output_type": "stream",
     "text": [
      "    color     item  price\n",
      "0   white     ball   5.56\n",
      "1   rosso      mug   4.20\n",
      "2   verde      pen   1.30\n",
      "3   black   pencil   0.56\n",
      "4  yellow  ashtray   2.75 \n",
      "\n"
     ]
    },
    {
     "data": {
      "text/html": [
       "<div>\n",
       "<table border=\"1\" class=\"dataframe\">\n",
       "  <thead>\n",
       "    <tr style=\"text-align: right;\">\n",
       "      <th></th>\n",
       "      <th>color</th>\n",
       "      <th>item</th>\n",
       "      <th>price</th>\n",
       "    </tr>\n",
       "  </thead>\n",
       "  <tbody>\n",
       "    <tr>\n",
       "      <th>first</th>\n",
       "      <td>white</td>\n",
       "      <td>ball</td>\n",
       "      <td>5.56</td>\n",
       "    </tr>\n",
       "    <tr>\n",
       "      <th>second</th>\n",
       "      <td>rosso</td>\n",
       "      <td>mug</td>\n",
       "      <td>4.20</td>\n",
       "    </tr>\n",
       "    <tr>\n",
       "      <th>third</th>\n",
       "      <td>verde</td>\n",
       "      <td>pen</td>\n",
       "      <td>1.30</td>\n",
       "    </tr>\n",
       "    <tr>\n",
       "      <th>fourth</th>\n",
       "      <td>black</td>\n",
       "      <td>pencil</td>\n",
       "      <td>0.56</td>\n",
       "    </tr>\n",
       "    <tr>\n",
       "      <th>fifth</th>\n",
       "      <td>yellow</td>\n",
       "      <td>ashtray</td>\n",
       "      <td>2.75</td>\n",
       "    </tr>\n",
       "  </tbody>\n",
       "</table>\n",
       "</div>"
      ],
      "text/plain": [
       "         color     item  price\n",
       "first    white     ball   5.56\n",
       "second   rosso      mug   4.20\n",
       "third    verde      pen   1.30\n",
       "fourth   black   pencil   0.56\n",
       "fifth   yellow  ashtray   2.75"
      ]
     },
     "execution_count": 9,
     "metadata": {},
     "output_type": "execute_result"
    }
   ],
   "source": [
    "#Rename the index of the axes\n",
    "reindex = {\n",
    "    0: \"first\",\n",
    "    1: \"second\",\n",
    "    2: \"third\",\n",
    "    3: \"fourth\",\n",
    "    4: \"fifth\"\n",
    "}\n",
    "print(frame,\"\\n\")\n",
    "frame.rename(reindex) #indexes are renamed"
   ]
  },
  {
   "cell_type": "code",
   "execution_count": 10,
   "metadata": {
    "collapsed": false
   },
   "outputs": [
    {
     "data": {
      "text/html": [
       "<div>\n",
       "<table border=\"1\" class=\"dataframe\">\n",
       "  <thead>\n",
       "    <tr style=\"text-align: right;\">\n",
       "      <th></th>\n",
       "      <th>color</th>\n",
       "      <th>object</th>\n",
       "      <th>value</th>\n",
       "    </tr>\n",
       "  </thead>\n",
       "  <tbody>\n",
       "    <tr>\n",
       "      <th>first</th>\n",
       "      <td>white</td>\n",
       "      <td>ball</td>\n",
       "      <td>5.56</td>\n",
       "    </tr>\n",
       "    <tr>\n",
       "      <th>second</th>\n",
       "      <td>rosso</td>\n",
       "      <td>mug</td>\n",
       "      <td>4.20</td>\n",
       "    </tr>\n",
       "    <tr>\n",
       "      <th>third</th>\n",
       "      <td>verde</td>\n",
       "      <td>pen</td>\n",
       "      <td>1.30</td>\n",
       "    </tr>\n",
       "    <tr>\n",
       "      <th>fourth</th>\n",
       "      <td>black</td>\n",
       "      <td>pencil</td>\n",
       "      <td>0.56</td>\n",
       "    </tr>\n",
       "    <tr>\n",
       "      <th>fifth</th>\n",
       "      <td>yellow</td>\n",
       "      <td>ashtray</td>\n",
       "      <td>2.75</td>\n",
       "    </tr>\n",
       "  </tbody>\n",
       "</table>\n",
       "</div>"
      ],
      "text/plain": [
       "         color   object  value\n",
       "first    white     ball   5.56\n",
       "second   rosso      mug   4.20\n",
       "third    verde      pen   1.30\n",
       "fourth   black   pencil   0.56\n",
       "fifth   yellow  ashtray   2.75"
      ]
     },
     "execution_count": 10,
     "metadata": {},
     "output_type": "execute_result"
    }
   ],
   "source": [
    "recolumn = {\"item\":\"object\",\n",
    "           \"price\": \"value\"}\n",
    "frame.rename(index = reindex, columns = recolumn) #replace column and index"
   ]
  },
  {
   "cell_type": "code",
   "execution_count": 11,
   "metadata": {
    "collapsed": false
   },
   "outputs": [
    {
     "data": {
      "text/html": [
       "<div>\n",
       "<table border=\"1\" class=\"dataframe\">\n",
       "  <thead>\n",
       "    <tr style=\"text-align: right;\">\n",
       "      <th></th>\n",
       "      <th>color</th>\n",
       "      <th>jjjjj</th>\n",
       "      <th>price</th>\n",
       "    </tr>\n",
       "  </thead>\n",
       "  <tbody>\n",
       "    <tr>\n",
       "      <th>0</th>\n",
       "      <td>white</td>\n",
       "      <td>ball</td>\n",
       "      <td>5.56</td>\n",
       "    </tr>\n",
       "    <tr>\n",
       "      <th>kkkkk</th>\n",
       "      <td>rosso</td>\n",
       "      <td>mug</td>\n",
       "      <td>4.20</td>\n",
       "    </tr>\n",
       "    <tr>\n",
       "      <th>2</th>\n",
       "      <td>verde</td>\n",
       "      <td>pen</td>\n",
       "      <td>1.30</td>\n",
       "    </tr>\n",
       "    <tr>\n",
       "      <th>3</th>\n",
       "      <td>black</td>\n",
       "      <td>pencil</td>\n",
       "      <td>0.56</td>\n",
       "    </tr>\n",
       "    <tr>\n",
       "      <th>4</th>\n",
       "      <td>yellow</td>\n",
       "      <td>ashtray</td>\n",
       "      <td>2.75</td>\n",
       "    </tr>\n",
       "  </tbody>\n",
       "</table>\n",
       "</div>"
      ],
      "text/plain": [
       "        color    jjjjj  price\n",
       "0       white     ball   5.56\n",
       "kkkkk   rosso      mug   4.20\n",
       "2       verde      pen   1.30\n",
       "3       black   pencil   0.56\n",
       "4      yellow  ashtray   2.75"
      ]
     },
     "execution_count": 11,
     "metadata": {},
     "output_type": "execute_result"
    }
   ],
   "source": [
    "frame.rename(index ={1:\"kkkkk\"},columns={\"item\":\"jjjjj\"})"
   ]
  },
  {
   "cell_type": "code",
   "execution_count": 13,
   "metadata": {
    "collapsed": false
   },
   "outputs": [
    {
     "data": {
      "text/html": [
       "<div>\n",
       "<table border=\"1\" class=\"dataframe\">\n",
       "  <thead>\n",
       "    <tr style=\"text-align: right;\">\n",
       "      <th></th>\n",
       "      <th>color</th>\n",
       "      <th>object</th>\n",
       "      <th>price</th>\n",
       "    </tr>\n",
       "  </thead>\n",
       "  <tbody>\n",
       "    <tr>\n",
       "      <th>0</th>\n",
       "      <td>white</td>\n",
       "      <td>ball</td>\n",
       "      <td>5.56</td>\n",
       "    </tr>\n",
       "    <tr>\n",
       "      <th>1</th>\n",
       "      <td>rosso</td>\n",
       "      <td>mug</td>\n",
       "      <td>4.20</td>\n",
       "    </tr>\n",
       "    <tr>\n",
       "      <th>2</th>\n",
       "      <td>verde</td>\n",
       "      <td>pen</td>\n",
       "      <td>1.30</td>\n",
       "    </tr>\n",
       "    <tr>\n",
       "      <th>3</th>\n",
       "      <td>black</td>\n",
       "      <td>pencil</td>\n",
       "      <td>0.56</td>\n",
       "    </tr>\n",
       "    <tr>\n",
       "      <th>4</th>\n",
       "      <td>yellow</td>\n",
       "      <td>ashtray</td>\n",
       "      <td>2.75</td>\n",
       "    </tr>\n",
       "  </tbody>\n",
       "</table>\n",
       "</div>"
      ],
      "text/plain": [
       "    color   object  price\n",
       "0   white     ball   5.56\n",
       "1   rosso      mug   4.20\n",
       "2   verde      pen   1.30\n",
       "3   black   pencil   0.56\n",
       "4  yellow  ashtray   2.75"
      ]
     },
     "execution_count": 13,
     "metadata": {},
     "output_type": "execute_result"
    }
   ],
   "source": [
    "#replace does not change the original frame\n",
    "frame.rename(columns ={\"item\":\"object\"}, inplace = True) # changes the \n",
    "                                                         #object\n",
    "frame"
   ]
  },
  {
   "cell_type": "code",
   "execution_count": 21,
   "metadata": {
    "collapsed": false
   },
   "outputs": [
    {
     "name": "stdout",
     "output_type": "stream",
     "text": [
      "\n",
      "Index(['(0, 25]', '(25, 50]', '(50, 75]', '(75, 100]'], dtype='object') \n",
      "\n",
      "[0 1 2 2 1 3 3 0 0 2 2 1 3 0 1 3 3] \n",
      "\n"
     ]
    },
    {
     "data": {
      "text/plain": [
       "(75, 100]    5\n",
       "(50, 75]     4\n",
       "(25, 50]     4\n",
       "(0, 25]      4\n",
       "dtype: int64"
      ]
     },
     "execution_count": 21,
     "metadata": {},
     "output_type": "execute_result"
    }
   ],
   "source": [
    "#Discretization and Binning\n",
    "results =[12,34,67,55,28,90,99,12,3,56,74,44,87,23,49,89,87]\n",
    "len(results)\n",
    "print()\n",
    "bins =[0,25,50,75,100] #declare the bins \n",
    "cat = pd.cut(results,bins)  #partition the data into bins\n",
    "cat #results are objects that contain levels array indicating names and\n",
    "    #labels array containing list of values\n",
    "    \n",
    "#print(cat.levels)  #deprecated\n",
    "print(cat.categories,\"\\n\")\n",
    "\n",
    "#print(cat.labels) #deprecated\n",
    "print(cat.codes,\"\\n\")\n",
    "\n",
    "pd.value_counts(cat) #histogram"
   ]
  },
  {
   "cell_type": "code",
   "execution_count": 27,
   "metadata": {
    "collapsed": false
   },
   "outputs": [
    {
     "data": {
      "text/plain": [
       "[unlikely, less_likely, likely, likely, less_likely, ..., highly likely, unlikely, less_likely, highly likely, highly likely]\n",
       "Length: 17\n",
       "Categories (4, object): [unlikely < less_likely < likely < highly likely]"
      ]
     },
     "execution_count": 27,
     "metadata": {},
     "output_type": "execute_result"
    }
   ],
   "source": [
    "#another value for bins\n",
    "bin_names=[\"unlikely\",\"less_likely\",\"likely\",\"highly likely\"]\n",
    "        #bin levels are 1 less than values in bin\n",
    "pd.cut(results, bins, labels= bin_names)"
   ]
  },
  {
   "cell_type": "code",
   "execution_count": 31,
   "metadata": {
    "collapsed": false
   },
   "outputs": [
    {
     "name": "stdout",
     "output_type": "stream",
     "text": [
      "Index(['(2.904, 22.2]', '(22.2, 41.4]', '(41.4, 60.6]', '(60.6, 79.8]',\n",
      "       '(79.8, 99]'],\n",
      "      dtype='object')\n"
     ]
    },
    {
     "data": {
      "text/plain": [
       "(79.8, 99]       5\n",
       "(41.4, 60.6]     4\n",
       "(22.2, 41.4]     3\n",
       "(2.904, 22.2]    3\n",
       "(60.6, 79.8]     2\n",
       "dtype: int64"
      ]
     },
     "execution_count": 31,
     "metadata": {},
     "output_type": "execute_result"
    }
   ],
   "source": [
    "cat = pd.cut(results, 5) #split the range into 5 levels\n",
    "print(cat.categories)\n",
    "pd.value_counts(cat)"
   ]
  },
  {
   "cell_type": "code",
   "execution_count": 33,
   "metadata": {
    "collapsed": false
   },
   "outputs": [
    {
     "name": "stdout",
     "output_type": "stream",
     "text": [
      "[[3, 24], (24, 46], (62.6, 87], (46, 62.6], (24, 46], ..., (62.6, 87], [3, 24], (46, 62.6], (87, 99], (62.6, 87]]\n",
      "Length: 17\n",
      "Categories (5, object): [[3, 24] < (24, 46] < (46, 62.6] < (62.6, 87] < (87, 99]] \n",
      "\n",
      "(62.6, 87]    4\n",
      "[3, 24]       4\n",
      "(87, 99]      3\n",
      "(46, 62.6]    3\n",
      "(24, 46]      3\n",
      "dtype: int64\n"
     ]
    }
   ],
   "source": [
    "#qcut divides into quintiles\n",
    "quintiles = pd.qcut(results, 5)\n",
    "print(quintiles,\"\\n\")\n",
    "print(pd.value_counts(quintiles)) ## of values in each range should be \n",
    "                                    #similar"
   ]
  },
  {
   "cell_type": "code",
   "execution_count": 34,
   "metadata": {
    "collapsed": false
   },
   "outputs": [
    {
     "data": {
      "text/html": [
       "<div>\n",
       "<table border=\"1\" class=\"dataframe\">\n",
       "  <thead>\n",
       "    <tr style=\"text-align: right;\">\n",
       "      <th></th>\n",
       "      <th>0</th>\n",
       "      <th>1</th>\n",
       "      <th>2</th>\n",
       "    </tr>\n",
       "  </thead>\n",
       "  <tbody>\n",
       "    <tr>\n",
       "      <th>count</th>\n",
       "      <td>1000.000000</td>\n",
       "      <td>1000.000000</td>\n",
       "      <td>1000.000000</td>\n",
       "    </tr>\n",
       "    <tr>\n",
       "      <th>mean</th>\n",
       "      <td>0.495291</td>\n",
       "      <td>0.494692</td>\n",
       "      <td>0.506694</td>\n",
       "    </tr>\n",
       "    <tr>\n",
       "      <th>std</th>\n",
       "      <td>0.283156</td>\n",
       "      <td>0.293646</td>\n",
       "      <td>0.285321</td>\n",
       "    </tr>\n",
       "    <tr>\n",
       "      <th>min</th>\n",
       "      <td>0.000416</td>\n",
       "      <td>0.000182</td>\n",
       "      <td>0.000324</td>\n",
       "    </tr>\n",
       "    <tr>\n",
       "      <th>25%</th>\n",
       "      <td>0.259428</td>\n",
       "      <td>0.235330</td>\n",
       "      <td>0.260602</td>\n",
       "    </tr>\n",
       "    <tr>\n",
       "      <th>50%</th>\n",
       "      <td>0.501150</td>\n",
       "      <td>0.491070</td>\n",
       "      <td>0.513286</td>\n",
       "    </tr>\n",
       "    <tr>\n",
       "      <th>75%</th>\n",
       "      <td>0.735503</td>\n",
       "      <td>0.741351</td>\n",
       "      <td>0.751164</td>\n",
       "    </tr>\n",
       "    <tr>\n",
       "      <th>max</th>\n",
       "      <td>0.998478</td>\n",
       "      <td>0.999060</td>\n",
       "      <td>0.998569</td>\n",
       "    </tr>\n",
       "  </tbody>\n",
       "</table>\n",
       "</div>"
      ],
      "text/plain": [
       "                 0            1            2\n",
       "count  1000.000000  1000.000000  1000.000000\n",
       "mean      0.495291     0.494692     0.506694\n",
       "std       0.283156     0.293646     0.285321\n",
       "min       0.000416     0.000182     0.000324\n",
       "25%       0.259428     0.235330     0.260602\n",
       "50%       0.501150     0.491070     0.513286\n",
       "75%       0.735503     0.741351     0.751164\n",
       "max       0.998478     0.999060     0.998569"
      ]
     },
     "execution_count": 34,
     "metadata": {},
     "output_type": "execute_result"
    }
   ],
   "source": [
    "#Detecting and Filtering Outliers\n",
    "randframe = pd.DataFrame(np.random.rand(1000,3))\n",
    "randframe.describe() #statistics of the columns"
   ]
  },
  {
   "cell_type": "code",
   "execution_count": 36,
   "metadata": {
    "collapsed": false
   },
   "outputs": [
    {
     "data": {
      "text/html": [
       "<div>\n",
       "<table border=\"1\" class=\"dataframe\">\n",
       "  <thead>\n",
       "    <tr style=\"text-align: right;\">\n",
       "      <th></th>\n",
       "      <th>0</th>\n",
       "      <th>1</th>\n",
       "      <th>2</th>\n",
       "    </tr>\n",
       "  </thead>\n",
       "  <tbody>\n",
       "    <tr>\n",
       "      <th>0</th>\n",
       "      <td>False</td>\n",
       "      <td>False</td>\n",
       "      <td>False</td>\n",
       "    </tr>\n",
       "    <tr>\n",
       "      <th>1</th>\n",
       "      <td>False</td>\n",
       "      <td>False</td>\n",
       "      <td>False</td>\n",
       "    </tr>\n",
       "    <tr>\n",
       "      <th>2</th>\n",
       "      <td>False</td>\n",
       "      <td>False</td>\n",
       "      <td>False</td>\n",
       "    </tr>\n",
       "    <tr>\n",
       "      <th>3</th>\n",
       "      <td>False</td>\n",
       "      <td>False</td>\n",
       "      <td>False</td>\n",
       "    </tr>\n",
       "    <tr>\n",
       "      <th>4</th>\n",
       "      <td>False</td>\n",
       "      <td>False</td>\n",
       "      <td>False</td>\n",
       "    </tr>\n",
       "  </tbody>\n",
       "</table>\n",
       "</div>"
      ],
      "text/plain": [
       "       0      1      2\n",
       "0  False  False  False\n",
       "1  False  False  False\n",
       "2  False  False  False\n",
       "3  False  False  False\n",
       "4  False  False  False"
      ]
     },
     "execution_count": 36,
     "metadata": {},
     "output_type": "execute_result"
    }
   ],
   "source": [
    "#apply filtering to remove values more than 3 std deviatons away\n",
    "(np.abs(randframe) > 3* randframe.std()).head() #show 5 entries \n",
    "            #such that entries in randomframe are more than 3 std dev away"
   ]
  },
  {
   "cell_type": "code",
   "execution_count": 39,
   "metadata": {
    "collapsed": false
   },
   "outputs": [
    {
     "data": {
      "text/html": [
       "<div>\n",
       "<table border=\"1\" class=\"dataframe\">\n",
       "  <thead>\n",
       "    <tr style=\"text-align: right;\">\n",
       "      <th></th>\n",
       "      <th>0</th>\n",
       "      <th>1</th>\n",
       "      <th>2</th>\n",
       "    </tr>\n",
       "  </thead>\n",
       "  <tbody>\n",
       "    <tr>\n",
       "      <th>0</th>\n",
       "      <td>NaN</td>\n",
       "      <td>NaN</td>\n",
       "      <td>NaN</td>\n",
       "    </tr>\n",
       "    <tr>\n",
       "      <th>1</th>\n",
       "      <td>NaN</td>\n",
       "      <td>NaN</td>\n",
       "      <td>NaN</td>\n",
       "    </tr>\n",
       "    <tr>\n",
       "      <th>2</th>\n",
       "      <td>NaN</td>\n",
       "      <td>NaN</td>\n",
       "      <td>NaN</td>\n",
       "    </tr>\n",
       "    <tr>\n",
       "      <th>3</th>\n",
       "      <td>NaN</td>\n",
       "      <td>NaN</td>\n",
       "      <td>NaN</td>\n",
       "    </tr>\n",
       "    <tr>\n",
       "      <th>4</th>\n",
       "      <td>NaN</td>\n",
       "      <td>NaN</td>\n",
       "      <td>NaN</td>\n",
       "    </tr>\n",
       "    <tr>\n",
       "      <th>5</th>\n",
       "      <td>NaN</td>\n",
       "      <td>0.959352</td>\n",
       "      <td>NaN</td>\n",
       "    </tr>\n",
       "    <tr>\n",
       "      <th>6</th>\n",
       "      <td>NaN</td>\n",
       "      <td>NaN</td>\n",
       "      <td>NaN</td>\n",
       "    </tr>\n",
       "    <tr>\n",
       "      <th>7</th>\n",
       "      <td>0.965613</td>\n",
       "      <td>NaN</td>\n",
       "      <td>NaN</td>\n",
       "    </tr>\n",
       "    <tr>\n",
       "      <th>8</th>\n",
       "      <td>NaN</td>\n",
       "      <td>NaN</td>\n",
       "      <td>NaN</td>\n",
       "    </tr>\n",
       "    <tr>\n",
       "      <th>9</th>\n",
       "      <td>NaN</td>\n",
       "      <td>NaN</td>\n",
       "      <td>NaN</td>\n",
       "    </tr>\n",
       "  </tbody>\n",
       "</table>\n",
       "</div>"
      ],
      "text/plain": [
       "          0         1   2\n",
       "0       NaN       NaN NaN\n",
       "1       NaN       NaN NaN\n",
       "2       NaN       NaN NaN\n",
       "3       NaN       NaN NaN\n",
       "4       NaN       NaN NaN\n",
       "5       NaN  0.959352 NaN\n",
       "6       NaN       NaN NaN\n",
       "7  0.965613       NaN NaN\n",
       "8       NaN       NaN NaN\n",
       "9       NaN       NaN NaN"
      ]
     },
     "execution_count": 39,
     "metadata": {},
     "output_type": "execute_result"
    }
   ],
   "source": [
    "randframe[np.abs(randframe) > 3* randframe.std()].head(10)"
   ]
  },
  {
   "cell_type": "code",
   "execution_count": 47,
   "metadata": {
    "collapsed": false
   },
   "outputs": [
    {
     "data": {
      "text/html": [
       "<div>\n",
       "<table border=\"1\" class=\"dataframe\">\n",
       "  <thead>\n",
       "    <tr style=\"text-align: right;\">\n",
       "      <th></th>\n",
       "      <th>0</th>\n",
       "      <th>1</th>\n",
       "      <th>2</th>\n",
       "    </tr>\n",
       "  </thead>\n",
       "  <tbody>\n",
       "    <tr>\n",
       "      <th>5</th>\n",
       "      <td>0.022365</td>\n",
       "      <td>0.959352</td>\n",
       "      <td>0.012346</td>\n",
       "    </tr>\n",
       "    <tr>\n",
       "      <th>7</th>\n",
       "      <td>0.965613</td>\n",
       "      <td>0.073339</td>\n",
       "      <td>0.078173</td>\n",
       "    </tr>\n",
       "    <tr>\n",
       "      <th>11</th>\n",
       "      <td>0.991071</td>\n",
       "      <td>0.806041</td>\n",
       "      <td>0.823682</td>\n",
       "    </tr>\n",
       "    <tr>\n",
       "      <th>12</th>\n",
       "      <td>0.042240</td>\n",
       "      <td>0.936733</td>\n",
       "      <td>0.517043</td>\n",
       "    </tr>\n",
       "    <tr>\n",
       "      <th>18</th>\n",
       "      <td>0.811393</td>\n",
       "      <td>0.926609</td>\n",
       "      <td>0.992800</td>\n",
       "    </tr>\n",
       "  </tbody>\n",
       "</table>\n",
       "</div>"
      ],
      "text/plain": [
       "           0         1         2\n",
       "5   0.022365  0.959352  0.012346\n",
       "7   0.965613  0.073339  0.078173\n",
       "11  0.991071  0.806041  0.823682\n",
       "12  0.042240  0.936733  0.517043\n",
       "18  0.811393  0.926609  0.992800"
      ]
     },
     "execution_count": 47,
     "metadata": {},
     "output_type": "execute_result"
    }
   ],
   "source": [
    "randframe[(np.abs(randframe) > 3*(randframe.std())).any(1)].head()\n",
    "#not sure whats supposed to happen here"
   ]
  },
  {
   "cell_type": "code",
   "execution_count": 53,
   "metadata": {
    "collapsed": false
   },
   "outputs": [
    {
     "name": "stdout",
     "output_type": "stream",
     "text": [
      "    0   1   2   3   4\n",
      "0   0   1   2   3   4\n",
      "1   5   6   7   8   9\n",
      "2  10  11  12  13  14\n",
      "3  15  16  17  18  19\n",
      "4  20  21  22  23  24 \n",
      "\n",
      "[3 2 0 4 1] \n",
      "\n",
      "    0   1   2   3   4\n",
      "3  15  16  17  18  19\n",
      "2  10  11  12  13  14\n",
      "0   0   1   2   3   4\n",
      "4  20  21  22  23  24\n",
      "1   5   6   7   8   9 \n",
      "\n"
     ]
    },
    {
     "data": {
      "text/html": [
       "<div>\n",
       "<table border=\"1\" class=\"dataframe\">\n",
       "  <thead>\n",
       "    <tr style=\"text-align: right;\">\n",
       "      <th></th>\n",
       "      <th>0</th>\n",
       "      <th>1</th>\n",
       "      <th>2</th>\n",
       "      <th>3</th>\n",
       "      <th>4</th>\n",
       "    </tr>\n",
       "  </thead>\n",
       "  <tbody>\n",
       "    <tr>\n",
       "      <th>3</th>\n",
       "      <td>15</td>\n",
       "      <td>16</td>\n",
       "      <td>17</td>\n",
       "      <td>18</td>\n",
       "      <td>19</td>\n",
       "    </tr>\n",
       "    <tr>\n",
       "      <th>4</th>\n",
       "      <td>20</td>\n",
       "      <td>21</td>\n",
       "      <td>22</td>\n",
       "      <td>23</td>\n",
       "      <td>24</td>\n",
       "    </tr>\n",
       "    <tr>\n",
       "      <th>2</th>\n",
       "      <td>10</td>\n",
       "      <td>11</td>\n",
       "      <td>12</td>\n",
       "      <td>13</td>\n",
       "      <td>14</td>\n",
       "    </tr>\n",
       "  </tbody>\n",
       "</table>\n",
       "</div>"
      ],
      "text/plain": [
       "    0   1   2   3   4\n",
       "3  15  16  17  18  19\n",
       "4  20  21  22  23  24\n",
       "2  10  11  12  13  14"
      ]
     },
     "execution_count": 53,
     "metadata": {},
     "output_type": "execute_result"
    }
   ],
   "source": [
    "#Permutation\n",
    "#randome reordering of series and dataframe\n",
    "\n",
    "nframe = pd.DataFrame(np.arange(25).reshape(5,5))\n",
    "print(nframe,\"\\n\")\n",
    "\n",
    "new_order = np.random.permutation(5)#permutation of 5 element array\n",
    "print(new_order, \"\\n\")\n",
    "\n",
    "print(nframe.take(new_order),\"\\n\") #note that rows numbers have changed to match\n",
    "                # the order specified by new_order\n",
    "    \n",
    "new_order = [3,4,2] # 0,1 are not considered\n",
    "nframe.take(new_order)"
   ]
  },
  {
   "cell_type": "code",
   "execution_count": null,
   "metadata": {
    "collapsed": true
   },
   "outputs": [],
   "source": []
  }
 ],
 "metadata": {
  "kernelspec": {
   "display_name": "Python 3",
   "language": "python",
   "name": "python3"
  },
  "language_info": {
   "codemirror_mode": {
    "name": "ipython",
    "version": 3
   },
   "file_extension": ".py",
   "mimetype": "text/x-python",
   "name": "python",
   "nbconvert_exporter": "python",
   "pygments_lexer": "ipython3",
   "version": "3.5.1"
  }
 },
 "nbformat": 4,
 "nbformat_minor": 0
}
