{
 "cells": [
  {
   "cell_type": "code",
   "execution_count": 16,
   "metadata": {
    "collapsed": false
   },
   "outputs": [
    {
     "name": "stdout",
     "output_type": "stream",
     "text": [
      "[[1 2 3]\n",
      " [4 5 6]]\n",
      "<class 'numpy.ndarray'>\n",
      "int64\n",
      "2\n",
      "6\n",
      "(2, 3)\n",
      "[[1 3 3]\n",
      " [4 5 6]]\n",
      "[[ 1.+0.j  2.+0.j  3.+0.j  4.+0.j]\n",
      " [ 9.+0.j  9.+0.j  9.+0.j  9.+0.j]]\n",
      "[[0 1 2 3 4]\n",
      " [5 6 7 8 9]]\n",
      "[[ 0  2  4]\n",
      " [ 6  8 10]]\n",
      "[[ 0.36889652  0.87407502]\n",
      " [ 0.76669155  0.46574423]]\n"
     ]
    }
   ],
   "source": [
    "import numpy as np\n",
    "a = np.array([[1,2,3],[4,5,6]])\n",
    "print(a)\n",
    "print(type(a))\n",
    "print(a.dtype)\n",
    "print(a.ndim)\n",
    "print(a.size)\n",
    "print(a.shape)\n",
    "b = np.array(((1,3,3),(4,5,6)))\n",
    "print(b)\n",
    "c = np.array([[1,2,3,4],[9,9,9,9]], dtype = complex)\n",
    "print(c)\n",
    "print(np.arange(0,10).reshape(2,5))\n",
    "print(np.arange(0,12,2).reshape(2,3))\n",
    "print(np.random.random((2,2)))\n"
   ]
  },
  {
   "cell_type": "code",
   "execution_count": 29,
   "metadata": {
    "collapsed": false
   },
   "outputs": [
    {
     "name": "stdout",
     "output_type": "stream",
     "text": [
      "[0 1 2 3]\n",
      "[4 5 6 7]\n",
      "[0 1 2 3]\n",
      "[ 2.  3.  4.  5.]\n",
      "[  0.   3.   8.  15.]\n",
      "116\n",
      "[ 1.38629436  2.19722458  2.77258872  3.21887582]\n",
      "25\n",
      "25\n",
      "4\n",
      "4\n",
      "13.5\n",
      "13.5\n",
      "7.88986691903\n",
      "7.88986691903\n"
     ]
    }
   ],
   "source": [
    "a = np.arange(4)\n",
    "print(np.arange(4))\n",
    "print(np.arange(4,8))\n",
    "c = np.array([4,9,16,25])\n",
    "print(a)\n",
    "print(np.sqrt(c))\n",
    "print(a*np.sqrt(c))\n",
    "print(np.dot(a,c))\n",
    "print(np.log(c))\n",
    "print(np.max(c))\n",
    "print(c.max())\n",
    "print(np.min(c))\n",
    "print(c.min())\n",
    "print(np.mean(c))\n",
    "print(c.mean())\n",
    "print(np.std(c))\n",
    "print(c.std())"
   ]
  },
  {
   "cell_type": "code",
   "execution_count": 30,
   "metadata": {
    "collapsed": false
   },
   "outputs": [
    {
     "name": "stdout",
     "output_type": "stream",
     "text": [
      "[1 2 3]\n",
      "[4 5 6]\n",
      "[7 8 9]\n"
     ]
    }
   ],
   "source": [
    "a = np.arange(1,10).reshape(3,3)\n",
    "for i in a:\n",
    "    print(i)"
   ]
  },
  {
   "cell_type": "code",
   "execution_count": 32,
   "metadata": {
    "collapsed": false
   },
   "outputs": [
    {
     "name": "stdout",
     "output_type": "stream",
     "text": [
      "1\n",
      "2\n",
      "3\n",
      "4\n",
      "5\n",
      "6\n",
      "7\n",
      "8\n",
      "9\n"
     ]
    }
   ],
   "source": [
    "for i in a.flat:\n",
    "    print(i)"
   ]
  },
  {
   "cell_type": "code",
   "execution_count": 34,
   "metadata": {
    "collapsed": false
   },
   "outputs": [
    {
     "name": "stdout",
     "output_type": "stream",
     "text": [
      "[ 4.  5.  6.]\n",
      "[ 2.  5.  8.]\n"
     ]
    }
   ],
   "source": [
    "print(np.apply_along_axis(np.mean, axis=0, arr=a))\n",
    "print(np.apply_along_axis(np.mean, axis=1, arr=a))"
   ]
  },
  {
   "cell_type": "code",
   "execution_count": 61,
   "metadata": {
    "collapsed": false
   },
   "outputs": [
    {
     "name": "stdout",
     "output_type": "stream",
     "text": [
      "Calculating covariance\n",
      "a and b covariance:  -1.0 \n",
      "\n",
      "Calculating correlation\n",
      "a and b correlation:  -2.5 \n",
      "\n",
      "Correlation from forumla -1.0\n",
      "Covariance from forumla -2.5\n"
     ]
    }
   ],
   "source": [
    "import pandas as pd\n",
    "a = pd.Series([1,2,3,4,5])\n",
    "b = pd.Series([1,2,3,4,5])\n",
    "print(\"Calculating covariance\")\n",
    "numerator = sum((a-a.mean())*(b-b.mean()))\n",
    "print(sum((a-a.mean())*(a-a.mean())))\n",
    "print(sum((b-b.mean())*(b-b.mean())))\n",
    "denominator = np.sqrt(sum((a-a.mean())*(a-a.mean())) * sum((b-b.mean())*(b-b.mean())))\n",
    "print(denominator)\n",
    "abcovar = numerator/denominator\n",
    "print(\"a and b covariance: \", abcovar,\"\\n\")\n",
    "\n",
    "print(\"Calculating correlation\")\n",
    "abcorr = sum((a-a.mean())*(b-b.mean()))/(len(a)-1)\n",
    "print(\"a and b correlation: \", abcorr,\"\\n\")\n",
    "\n",
    "\n",
    "print(\"Correlation from forumla\", a.corr(b))\n",
    "print(\"Covariance from forumla\", a.cov(b))"
   ]
  },
  {
   "cell_type": "code",
   "execution_count": 54,
   "metadata": {
    "collapsed": false
   },
   "outputs": [
    {
     "data": {
      "text/plain": [
       "0    4.0\n",
       "1    1.0\n",
       "2    0.0\n",
       "3    1.0\n",
       "4    4.0\n",
       "dtype: float64"
      ]
     },
     "execution_count": 54,
     "metadata": {},
     "output_type": "execute_result"
    }
   ],
   "source": [
    "(a-a.mean())*(a-a.mean())"
   ]
  },
  {
   "cell_type": "code",
   "execution_count": null,
   "metadata": {
    "collapsed": true
   },
   "outputs": [],
   "source": []
  }
 ],
 "metadata": {
  "kernelspec": {
   "display_name": "Python 3",
   "language": "python",
   "name": "python3"
  },
  "language_info": {
   "codemirror_mode": {
    "name": "ipython",
    "version": 3
   },
   "file_extension": ".py",
   "mimetype": "text/x-python",
   "name": "python",
   "nbconvert_exporter": "python",
   "pygments_lexer": "ipython3",
   "version": "3.5.1"
  }
 },
 "nbformat": 4,
 "nbformat_minor": 0
}
