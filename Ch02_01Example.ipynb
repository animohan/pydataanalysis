{
 "cells": [
  {
   "cell_type": "code",
   "execution_count": 2,
   "metadata": {
    "collapsed": false
   },
   "outputs": [
    {
     "name": "stdout",
     "output_type": "stream",
     "text": [
      "Ipython Version:  4.2.0\n",
      "Hello World\n"
     ]
    }
   ],
   "source": [
    "#Checking version\n",
    "\n",
    "import IPython\n",
    "print(\"Ipython Version: %6.6s\" %IPython.__version__)\n",
    "\n",
    "import numpy as np\n",
    "print(\"Numby version: %6.6s\" %np.__version__)\n",
    "\n",
    "import scipy as sp\n",
    "print(\"Scipy version: %6.6s\" %sp.__version___)\n",
    "\n",
    "import pandas as pd\n",
    "print(\"Pandas version: %6.6s\" %pd.__version__)\n",
    "\n",
    "import matplotlib\n",
    "print(\"Matplotlib: %6.6s\" %matplotlib.__version__)\n",
    "\n",
    "import sklearn\n",
    "print(\"Scikit-Learn: %6.6s\" %sklearn.__version__)\n",
    "\n",
    "\n"
   ]
  },
  {
   "cell_type": "code",
   "execution_count": null,
   "metadata": {
    "collapsed": true
   },
   "outputs": [],
   "source": []
  }
 ],
 "metadata": {
  "kernelspec": {
   "display_name": "Python [Root]",
   "language": "python",
   "name": "Python [Root]"
  },
  "language_info": {
   "codemirror_mode": {
    "name": "ipython",
    "version": 3
   },
   "file_extension": ".py",
   "mimetype": "text/x-python",
   "name": "python",
   "nbconvert_exporter": "python",
   "pygments_lexer": "ipython3",
   "version": "3.5.2"
  }
 },
 "nbformat": 4,
 "nbformat_minor": 0
}
