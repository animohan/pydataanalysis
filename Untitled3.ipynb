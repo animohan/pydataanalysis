{
 "cells": [
  {
   "cell_type": "code",
   "execution_count": 6,
   "metadata": {
    "collapsed": false
   },
   "outputs": [
    {
     "name": "stdout",
     "output_type": "stream",
     "text": [
      "Month: 1\n",
      "Minimum monthly payment:193.68\n",
      "Remaining balance: 4725.79\n",
      "Month: 2\n",
      "Minimum monthly payment:189.03\n",
      "Remaining balance: 4612.37\n",
      "Month: 3\n",
      "Minimum monthly payment:184.49\n",
      "Remaining balance: 4501.68\n",
      "Month: 4\n",
      "Minimum monthly payment:180.07\n",
      "Remaining balance: 4393.64\n",
      "Month: 5\n",
      "Minimum monthly payment:175.75\n",
      "Remaining balance: 4288.19\n",
      "Month: 6\n",
      "Minimum monthly payment:171.53\n",
      "Remaining balance: 4185.27\n",
      "Month: 7\n",
      "Minimum monthly payment:167.41\n",
      "Remaining balance: 4084.83\n",
      "Month: 8\n",
      "Minimum monthly payment:163.39\n",
      "Remaining balance: 3986.79\n",
      "Month: 9\n",
      "Minimum monthly payment:159.47\n",
      "Remaining balance: 3891.11\n",
      "Month: 10\n",
      "Minimum monthly payment:155.64\n",
      "Remaining balance: 3797.72\n",
      "Month: 11\n",
      "Minimum monthly payment:151.91\n",
      "Remaining balance: 3706.57\n",
      "Month: 12\n",
      "Minimum monthly payment:148.26\n",
      "Remaining balance: 3617.62\n"
     ]
    }
   ],
   "source": [
    "balance = 4842\n",
    "monthlyPaymentRate = 0.04\n",
    "annualInterestRate = 0.2\n",
    "\n",
    "for i in range(1,13):\n",
    "    print(\"Month:\", i)\n",
    "    print(\"Minimum monthly payment:%0.2f\" %(monthlyPaymentRate*balance))\n",
    "    newbal = (balance - (monthlyPaymentRate*balance))\n",
    "    interest = newbal*annualInterestRate/12.0\n",
    "    newbal = newbal + interest\n",
    "    print(\"Remaining balance: %0.2f\" %(newbal))\n",
    "    balance = newbal"
   ]
  },
  {
   "cell_type": "code",
   "execution_count": 7,
   "metadata": {
    "collapsed": false
   },
   "outputs": [
    {
     "name": "stdout",
     "output_type": "stream",
     "text": [
      "110.0\n",
      "121.0\n",
      "133.1\n",
      "146.41\n",
      "161.051\n",
      "177.15609999999998\n",
      "194.87170999999998\n"
     ]
    }
   ],
   "source": [
    "val =100\n",
    "for i in range(1,8):\n",
    "    val = val+val*0.1\n",
    "    print(val)"
   ]
  },
  {
   "cell_type": "code",
   "execution_count": null,
   "metadata": {
    "collapsed": true
   },
   "outputs": [],
   "source": [
    "1"
   ]
  }
 ],
 "metadata": {
  "kernelspec": {
   "display_name": "Python 3",
   "language": "python",
   "name": "python3"
  },
  "language_info": {
   "codemirror_mode": {
    "name": "ipython",
    "version": 3
   },
   "file_extension": ".py",
   "mimetype": "text/x-python",
   "name": "python",
   "nbconvert_exporter": "python",
   "pygments_lexer": "ipython3",
   "version": "3.5.1"
  }
 },
 "nbformat": 4,
 "nbformat_minor": 0
}
