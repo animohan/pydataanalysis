{
 "cells": [
  {
   "cell_type": "code",
   "execution_count": 1,
   "metadata": {
    "collapsed": true
   },
   "outputs": [],
   "source": [
    "import pandas as pd\n",
    "import numpy as np"
   ]
  },
  {
   "cell_type": "code",
   "execution_count": 2,
   "metadata": {
    "collapsed": false
   },
   "outputs": [
    {
     "data": {
      "text/plain": [
       "0    12\n",
       "1    -4\n",
       "2     7\n",
       "3     9\n",
       "dtype: int64"
      ]
     },
     "execution_count": 2,
     "metadata": {},
     "output_type": "execute_result"
    }
   ],
   "source": [
    "#Series:\n",
    "#Pandas object designed to represent one dimensional data structures\n",
    "#Consists of two arrays associated with each other: Index and Data\n",
    "s = pd.Series([12,-4,7,9]) #Only data; Indexes are created automatically\n",
    "s"
   ]
  },
  {
   "cell_type": "code",
   "execution_count": 3,
   "metadata": {
    "collapsed": false
   },
   "outputs": [
    {
     "data": {
      "text/plain": [
       "a    12\n",
       "b    -4\n",
       "c     7\n",
       "d     9\n",
       "dtype: int64"
      ]
     },
     "execution_count": 3,
     "metadata": {},
     "output_type": "execute_result"
    }
   ],
   "source": [
    "s = pd.Series([12,-4,7,9], index =['a','b','c','d']) #Data and Index added\n",
    "s"
   ]
  },
  {
   "cell_type": "code",
   "execution_count": 6,
   "metadata": {
    "collapsed": false
   },
   "outputs": [
    {
     "name": "stdout",
     "output_type": "stream",
     "text": [
      "Index(['a', 'b', 'c', 'd'], dtype='object') \n",
      "\n",
      "[12 -4  7  9]\n"
     ]
    }
   ],
   "source": [
    "print(s.index,\"\\n\")\n",
    "print(s.values)"
   ]
  },
  {
   "cell_type": "code",
   "execution_count": 20,
   "metadata": {
    "collapsed": false
   },
   "outputs": [
    {
     "name": "stdout",
     "output_type": "stream",
     "text": [
      "7\n",
      "7\n",
      "\n",
      "12\n",
      "-4\n",
      "7\n",
      "9\n",
      "\n",
      "12\n",
      "-4\n",
      "7\n",
      "9\n"
     ]
    }
   ],
   "source": [
    "#Selecting Internal Elements:\n",
    "\n",
    "print(s[2]) #Selecting an element by treating this as an ordinary array\n",
    "print(s['c'])\n",
    "print() \n",
    "for i in s.index:\n",
    "    print(s[i])\n",
    "print()\n",
    "\n",
    "for i in range(0,4):\n",
    "    print(s[i])"
   ]
  },
  {
   "cell_type": "code",
   "execution_count": 22,
   "metadata": {
    "collapsed": false
   },
   "outputs": [
    {
     "name": "stdout",
     "output_type": "stream",
     "text": [
      "a    12\n",
      "b    -4\n",
      "dtype: int64 \n",
      "\n",
      "a    12\n",
      "b    -4\n",
      "dtype: int64\n"
     ]
    }
   ],
   "source": [
    "#slicing\n",
    "print(s[0:2], \"\\n\")\n",
    "print(s[\"a\":'b'])"
   ]
  },
  {
   "cell_type": "code",
   "execution_count": 23,
   "metadata": {
    "collapsed": false
   },
   "outputs": [
    {
     "name": "stdout",
     "output_type": "stream",
     "text": [
      "a     999\n",
      "b    9999\n",
      "c       7\n",
      "d       9\n",
      "dtype: int64\n"
     ]
    }
   ],
   "source": [
    "#Assigning value to series elements\n",
    "s[0]=999 #Assigning using automatic index\n",
    "s[\"b\"]=9999 #assigning using actual index\n",
    "print(s)"
   ]
  },
  {
   "cell_type": "code",
   "execution_count": 28,
   "metadata": {
    "collapsed": false
   },
   "outputs": [
    {
     "data": {
      "text/plain": [
       "0      1\n",
       "1      2\n",
       "2      3\n",
       "3    555\n",
       "dtype: int64"
      ]
     },
     "execution_count": 28,
     "metadata": {},
     "output_type": "execute_result"
    }
   ],
   "source": [
    "arr = np.array([1,2,3,4]) #numpy array\n",
    "s3 = pd.Series(arr) #Define new series using numpy array\n",
    "s3\n",
    "\n",
    "arr[3] =555 \n",
    "s3          #s3 references the array; hence changing the array value is \n",
    "            # reflected in the series value"
   ]
  },
  {
   "cell_type": "code",
   "execution_count": 27,
   "metadata": {
    "collapsed": false
   },
   "outputs": [
    {
     "data": {
      "text/plain": [
       "a     999\n",
       "b    9999\n",
       "c       7\n",
       "d       9\n",
       "dtype: int64"
      ]
     },
     "execution_count": 27,
     "metadata": {},
     "output_type": "execute_result"
    }
   ],
   "source": [
    "s4 = pd.Series(s) #Series can be created from existing series\n",
    "s"
   ]
  },
  {
   "cell_type": "code",
   "execution_count": 31,
   "metadata": {
    "collapsed": false
   },
   "outputs": [
    {
     "name": "stdout",
     "output_type": "stream",
     "text": [
      "a     True\n",
      "b     True\n",
      "c    False\n",
      "d     True\n",
      "dtype: bool \n",
      "\n",
      "a     999\n",
      "b    9999\n",
      "d       9\n",
      "dtype: int64\n"
     ]
    }
   ],
   "source": [
    "#Filtering\n",
    "print(s>8, \"\\n\")\n",
    "print(s[s>8])"
   ]
  },
  {
   "cell_type": "code",
   "execution_count": 33,
   "metadata": {
    "collapsed": false
   },
   "outputs": [
    {
     "name": "stdout",
     "output_type": "stream",
     "text": [
      "0     0.5\n",
      "1     2.0\n",
      "2     4.5\n",
      "3     8.0\n",
      "4    12.5\n",
      "5    18.0\n",
      "6    24.5\n",
      "7    32.0\n",
      "8    40.5\n",
      "9    50.0\n",
      "dtype: float64 \n",
      "\n",
      "0    0.000000\n",
      "1    1.386294\n",
      "2    2.197225\n",
      "3    2.772589\n",
      "4    3.218876\n",
      "5    3.583519\n",
      "6    3.891820\n",
      "7    4.158883\n",
      "8    4.394449\n",
      "9    4.605170\n",
      "dtype: float64\n"
     ]
    }
   ],
   "source": [
    "#Mathematical Functions\n",
    "s = pd.Series([1,4,9,16,25,36,49,64,81,100])\n",
    "print(s/2,\"\\n\") #Division\n",
    "print(np.log(s)) #Numpy log\n"
   ]
  },
  {
   "cell_type": "code",
   "execution_count": 35,
   "metadata": {
    "collapsed": false
   },
   "outputs": [
    {
     "name": "stdout",
     "output_type": "stream",
     "text": [
      "[1 0 2 3]\n",
      "\n"
     ]
    },
    {
     "data": {
      "text/plain": [
       "2    2\n",
       "1    2\n",
       "3    1\n",
       "0    1\n",
       "dtype: int64"
      ]
     },
     "execution_count": 35,
     "metadata": {},
     "output_type": "execute_result"
    }
   ],
   "source": [
    "#Evaluating values:\n",
    "serd = pd.Series([1,0,2,1,2,3], index = [\"white\",\"white\",\"blue\",\n",
    "                                         \"green\",\"green\",\"yellow\"])\n",
    "\n",
    "print(serd.unique()) #gives unique values\n",
    "print()\n",
    "serd.value_counts() #gives unique values and their counts"
   ]
  },
  {
   "cell_type": "code",
   "execution_count": 39,
   "metadata": {
    "collapsed": false
   },
   "outputs": [
    {
     "name": "stdout",
     "output_type": "stream",
     "text": [
      "white     False\n",
      "white      True\n",
      "blue      False\n",
      "green     False\n",
      "green     False\n",
      "yellow     True\n",
      "dtype: bool\n"
     ]
    }
   ],
   "source": [
    "#membership fucntion: isin\n",
    "print(serd.isin([0,3]))\n",
    "#print(serd.isin([0:3])) Range like input does not work"
   ]
  },
  {
   "cell_type": "code",
   "execution_count": 41,
   "metadata": {
    "collapsed": false
   },
   "outputs": [
    {
     "data": {
      "text/plain": [
       "0     5.0\n",
       "1    -4.0\n",
       "2     NaN\n",
       "3    14.0\n",
       "dtype: float64"
      ]
     },
     "execution_count": 41,
     "metadata": {},
     "output_type": "execute_result"
    }
   ],
   "source": [
    "#NaN can be added as an entry\n",
    "s2 = pd.Series([5,-4, np.NaN, 14]) #NaN is accepted in the series\n",
    "s2"
   ]
  },
  {
   "cell_type": "code",
   "execution_count": 42,
   "metadata": {
    "collapsed": false
   },
   "outputs": [
    {
     "name": "stdout",
     "output_type": "stream",
     "text": [
      "0    False\n",
      "1    False\n",
      "2     True\n",
      "3    False\n",
      "dtype: bool\n",
      "0     True\n",
      "1     True\n",
      "2    False\n",
      "3     True\n",
      "dtype: bool\n"
     ]
    }
   ],
   "source": [
    "print(s2.isnull()) # which indices are without value\n",
    "print(s2.notnull()) #which indices have values"
   ]
  },
  {
   "cell_type": "code",
   "execution_count": 44,
   "metadata": {
    "collapsed": false
   },
   "outputs": [
    {
     "name": "stdout",
     "output_type": "stream",
     "text": [
      "2   NaN\n",
      "dtype: float64 \n",
      "\n",
      "0     5.0\n",
      "1    -4.0\n",
      "3    14.0\n",
      "dtype: float64\n"
     ]
    }
   ],
   "source": [
    "#isnull() and notnull() can be used for filterting\n",
    "print(s2[s2.isnull()],\"\\n\")\n",
    "print(s2[s2.notnull()])"
   ]
  },
  {
   "cell_type": "code",
   "execution_count": 47,
   "metadata": {
    "collapsed": false
   },
   "outputs": [
    {
     "name": "stdout",
     "output_type": "stream",
     "text": [
      "[1000 1000 2000  500]\n",
      "Index(['blue', 'orange', 'red', 'yellow'], dtype='object')\n"
     ]
    }
   ],
   "source": [
    "#Series can be treated as dictionaries:\n",
    "mydict ={\"red\":2000,\"blue\":1000, \"yellow\":500,\"orange\":1000}\n",
    "myseries = pd.Series(mydict)\n",
    "print(myseries.values) #dictionary data is used as values\n",
    "print(myseries.index) #keys are used as indices"
   ]
  },
  {
   "cell_type": "code",
   "execution_count": 50,
   "metadata": {
    "collapsed": false
   },
   "outputs": [
    {
     "name": "stdout",
     "output_type": "stream",
     "text": [
      "green       NaN\n",
      "Red         NaN\n",
      "blue     1000.0\n",
      "grey        NaN\n",
      "pink        NaN\n",
      "dtype: float64\n"
     ]
    },
    {
     "data": {
      "text/plain": [
       "red       2000.0\n",
       "blue      1000.0\n",
       "yellow     500.0\n",
       "orange    1000.0\n",
       "pink         NaN\n",
       "dtype: float64"
      ]
     },
     "execution_count": 50,
     "metadata": {},
     "output_type": "execute_result"
    }
   ],
   "source": [
    "colors =[\"green\",\"Red\",\"blue\",'grey',\"pink\"] #different indices than keys\n",
    "myseries =pd.Series(mydict, index = colors)\n",
    "print(myseries) #only blue has an associated key value pair in the dict\n",
    "\n",
    "colors =[\"red\",\"blue\",\"yellow\",'orange',\"pink\"]\n",
    "myseries =pd.Series(mydict, index = colors)\n",
    "myseries # all values except pink have key value pairs in dicts"
   ]
  },
  {
   "cell_type": "code",
   "execution_count": 51,
   "metadata": {
    "collapsed": false
   },
   "outputs": [
    {
     "data": {
      "text/plain": [
       "black        NaN\n",
       "blue         NaN\n",
       "orange       NaN\n",
       "red       4000.0\n",
       "yellow    1000.0\n",
       "dtype: float64"
      ]
     },
     "execution_count": 51,
     "metadata": {},
     "output_type": "execute_result"
    }
   ],
   "source": [
    "#Operation between Series\n",
    "mydict ={\"red\":2000,\"blue\":1000, \"yellow\":500,\"orange\":1000}\n",
    "myseries = pd.Series(mydict)\n",
    "\n",
    "mydict2 = {\"red\":2000,\"yellow\":500,\"black\":700}\n",
    "myseries2 = pd.Series(mydict2)\n",
    "\n",
    "myseries+myseries2 #values are matched using indices, ordering inside\n",
    "                    # series does not matter"
   ]
  },
  {
   "cell_type": "code",
   "execution_count": null,
   "metadata": {
    "collapsed": true
   },
   "outputs": [],
   "source": [
    "#Selecting elements"
   ]
  }
 ],
 "metadata": {
  "kernelspec": {
   "display_name": "Python 3",
   "language": "python",
   "name": "python3"
  },
  "language_info": {
   "codemirror_mode": {
    "name": "ipython",
    "version": 3
   },
   "file_extension": ".py",
   "mimetype": "text/x-python",
   "name": "python",
   "nbconvert_exporter": "python",
   "pygments_lexer": "ipython3",
   "version": "3.5.1"
  }
 },
 "nbformat": 4,
 "nbformat_minor": 0
}
