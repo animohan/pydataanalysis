{
 "cells": [
  {
   "cell_type": "code",
   "execution_count": 2,
   "metadata": {
    "collapsed": false
   },
   "outputs": [
    {
     "data": {
      "text/html": [
       "<div>\n",
       "<table border=\"1\" class=\"dataframe\">\n",
       "  <thead>\n",
       "    <tr style=\"text-align: right;\">\n",
       "      <th></th>\n",
       "      <th>color</th>\n",
       "      <th>object</th>\n",
       "      <th>price1</th>\n",
       "      <th>price2</th>\n",
       "    </tr>\n",
       "  </thead>\n",
       "  <tbody>\n",
       "    <tr>\n",
       "      <th>0</th>\n",
       "      <td>white</td>\n",
       "      <td>pen</td>\n",
       "      <td>5.56</td>\n",
       "      <td>4.75</td>\n",
       "    </tr>\n",
       "    <tr>\n",
       "      <th>1</th>\n",
       "      <td>red</td>\n",
       "      <td>pencil</td>\n",
       "      <td>4.20</td>\n",
       "      <td>4.12</td>\n",
       "    </tr>\n",
       "    <tr>\n",
       "      <th>2</th>\n",
       "      <td>green</td>\n",
       "      <td>pencil</td>\n",
       "      <td>1.30</td>\n",
       "      <td>1.60</td>\n",
       "    </tr>\n",
       "    <tr>\n",
       "      <th>3</th>\n",
       "      <td>red</td>\n",
       "      <td>ashtray</td>\n",
       "      <td>0.56</td>\n",
       "      <td>0.75</td>\n",
       "    </tr>\n",
       "    <tr>\n",
       "      <th>4</th>\n",
       "      <td>green</td>\n",
       "      <td>pen</td>\n",
       "      <td>2.75</td>\n",
       "      <td>3.15</td>\n",
       "    </tr>\n",
       "  </tbody>\n",
       "</table>\n",
       "</div>"
      ],
      "text/plain": [
       "   color   object  price1  price2\n",
       "0  white      pen    5.56    4.75\n",
       "1    red   pencil    4.20    4.12\n",
       "2  green   pencil    1.30    1.60\n",
       "3    red  ashtray    0.56    0.75\n",
       "4  green      pen    2.75    3.15"
      ]
     },
     "execution_count": 2,
     "metadata": {},
     "output_type": "execute_result"
    }
   ],
   "source": [
    "import numpy as np\n",
    "import pandas as pd\n",
    "#Data Aggregation-. give a single result e.g sum(), avg()\n",
    "#Group-by is basically map-reduce philophy\n",
    "#splitting: division into groups of datasets\n",
    "#applying: application of a function on each group\n",
    "# combining: combination of all results obtained by different groups.\n",
    "\n",
    "frame = pd.DataFrame({'color':[\"white\",\"red\",\"green\",\"red\",\"green\"],\n",
    "                     'object': [\"pen\",'pencil',\"pencil\",\"ashtray\",\"pen\"],\n",
    "                     \"price1\": [5.56,4.20,1.3,0.56,2.75],\n",
    "                     \"price2\": [4.75, 4.12,1.6,0.75, 3.15]})\n",
    "frame"
   ]
  },
  {
   "cell_type": "code",
   "execution_count": 5,
   "metadata": {
    "collapsed": false
   },
   "outputs": [
    {
     "data": {
      "text/plain": [
       "{'green': [2, 4], 'red': [1, 3], 'white': [0]}"
      ]
     },
     "execution_count": 5,
     "metadata": {},
     "output_type": "execute_result"
    }
   ],
   "source": [
    "group = frame[\"price1\"].groupby(frame[\"color\"])\n",
    "group #object that contains details\n",
    "group.groups #shows the color, index grouping for price\n"
   ]
  },
  {
   "cell_type": "code",
   "execution_count": 6,
   "metadata": {
    "collapsed": false
   },
   "outputs": [
    {
     "data": {
      "text/plain": [
       "color\n",
       "green    2.025\n",
       "red      2.380\n",
       "white    5.560\n",
       "Name: price1, dtype: float64"
      ]
     },
     "execution_count": 6,
     "metadata": {},
     "output_type": "execute_result"
    }
   ],
   "source": [
    "group.mean()#mean \"price1\" for each group of color"
   ]
  },
  {
   "cell_type": "code",
   "execution_count": 8,
   "metadata": {
    "collapsed": false
   },
   "outputs": [
    {
     "data": {
      "text/plain": [
       "color\n",
       "green    4.05\n",
       "red      4.76\n",
       "white    5.56\n",
       "Name: price1, dtype: float64"
      ]
     },
     "execution_count": 8,
     "metadata": {},
     "output_type": "execute_result"
    }
   ],
   "source": [
    "group.sum() #sum of \"price1\" for each group of color"
   ]
  },
  {
   "cell_type": "code",
   "execution_count": 12,
   "metadata": {
    "collapsed": false
   },
   "outputs": [
    {
     "name": "stdout",
     "output_type": "stream",
     "text": [
      "color  object \n",
      "green  pen        2.75\n",
      "       pencil     1.30\n",
      "red    ashtray    0.56\n",
      "       pencil     4.20\n",
      "white  pen        5.56\n",
      "Name: price1, dtype: float64 \n",
      "\n",
      "color  object \n",
      "green  pen        2.75\n",
      "       pencil     1.30\n",
      "red    ashtray    0.56\n",
      "       pencil     4.20\n",
      "white  pen        5.56\n",
      "Name: price1, dtype: float64 \n",
      "\n"
     ]
    }
   ],
   "source": [
    "#Hierarchial grouping\n",
    "#grouping to multiple columns as key\n",
    "\n",
    "group2 = frame[\"price1\"].groupby([frame[\"color\"],frame[\"object\"]])\n",
    "            #grouping on muliple columns\n",
    "print(group2.sum(),\"\\n\")\n",
    "print(group2.mean(),\"\\n\")\n"
   ]
  },
  {
   "cell_type": "code",
   "execution_count": 15,
   "metadata": {
    "collapsed": false
   },
   "outputs": [
    {
     "name": "stdout",
     "output_type": "stream",
     "text": [
      "       price1  price2\n",
      "color                \n",
      "green    4.05    4.75\n",
      "red      4.76    4.87\n",
      "white    5.56    4.75 \n",
      "\n",
      "       price1  price2\n",
      "color                \n",
      "green   2.025   2.375\n",
      "red     2.380   2.435\n",
      "white   5.560   4.750\n"
     ]
    }
   ],
   "source": [
    "group3 = frame[[\"price1\",\"price2\"]].groupby(frame[\"color\"]) \n",
    "            #select multiple items to enumerate for a group\n",
    "print(group3.sum(),\"\\n\")\n",
    "print(group3.mean())"
   ]
  },
  {
   "cell_type": "code",
   "execution_count": 24,
   "metadata": {
    "collapsed": false
   },
   "outputs": [
    {
     "name": "stdout",
     "output_type": "stream",
     "text": [
      "{'white': [0], 'red': [1, 3], 'green': [2, 4]} \n",
      "\n",
      "green\n",
      "   color  object  price1  price2\n",
      "2  green  pencil    1.30    1.60\n",
      "4  green     pen    2.75    3.15\n",
      "\n",
      "red\n",
      "  color   object  price1  price2\n",
      "1   red   pencil    4.20    4.12\n",
      "3   red  ashtray    0.56    0.75\n",
      "\n",
      "white\n",
      "   color object  price1  price2\n",
      "0  white    pen    5.56    4.75\n",
      "\n"
     ]
    }
   ],
   "source": [
    "#Group Iteration\n",
    "#groupby is uspported on tuples\n",
    "print(frame.groupby(\"color\").groups,\"\\n\")\n",
    "\n",
    "for(name,group) in frame.groupby('color'):\n",
    "    print(name)\n",
    "    print(group)\n",
    "    print()"
   ]
  },
  {
   "cell_type": "code",
   "execution_count": 29,
   "metadata": {
    "collapsed": false
   },
   "outputs": [
    {
     "name": "stdout",
     "output_type": "stream",
     "text": [
      "<class 'pandas.core.series.Series'>\n"
     ]
    },
    {
     "data": {
      "text/plain": [
       "pandas.core.frame.DataFrame"
      ]
     },
     "execution_count": 29,
     "metadata": {},
     "output_type": "execute_result"
    }
   ],
   "source": [
    "#chain of transofmrations\n",
    "\n",
    "result1 = frame['price1'].groupby(frame[\"color\"]).mean()\n",
    "print(type(result1)) # output is a panda object: series\n",
    "\n",
    "result2 = frame.groupby(frame['color']).mean()\n",
    "type(result2) #o/p is dataFrame"
   ]
  },
  {
   "cell_type": "code",
   "execution_count": 36,
   "metadata": {
    "collapsed": false
   },
   "outputs": [
    {
     "name": "stdout",
     "output_type": "stream",
     "text": [
      "color\n",
      "green    2.025\n",
      "red      2.380\n",
      "white    5.560\n",
      "Name: price1, dtype: float64 \n",
      "\n",
      "color\n",
      "green    2.025\n",
      "red      2.380\n",
      "white    5.560\n",
      "Name: price1, dtype: float64 \n",
      "\n"
     ]
    },
    {
     "data": {
      "text/plain": [
       "color\n",
       "green    2.025\n",
       "red      2.380\n",
       "white    5.560\n",
       "Name: price1, dtype: float64"
      ]
     },
     "execution_count": 36,
     "metadata": {},
     "output_type": "execute_result"
    }
   ],
   "source": [
    "print(frame[\"price1\"].groupby(frame[\"color\"]).mean(),\"\\n\")\n",
    "print(frame.groupby(frame[\"color\"])[\"price1\"].mean(),\"\\n\")\n",
    "(frame.groupby(frame[\"color\"]).mean())[\"price1\"]"
   ]
  },
  {
   "cell_type": "code",
   "execution_count": 39,
   "metadata": {
    "collapsed": false
   },
   "outputs": [
    {
     "data": {
      "text/html": [
       "<div>\n",
       "<table border=\"1\" class=\"dataframe\">\n",
       "  <thead>\n",
       "    <tr style=\"text-align: right;\">\n",
       "      <th></th>\n",
       "      <th>mean1_price1</th>\n",
       "      <th>mean1_price2</th>\n",
       "    </tr>\n",
       "    <tr>\n",
       "      <th>color</th>\n",
       "      <th></th>\n",
       "      <th></th>\n",
       "    </tr>\n",
       "  </thead>\n",
       "  <tbody>\n",
       "    <tr>\n",
       "      <th>green</th>\n",
       "      <td>2.025</td>\n",
       "      <td>2.375</td>\n",
       "    </tr>\n",
       "    <tr>\n",
       "      <th>red</th>\n",
       "      <td>2.380</td>\n",
       "      <td>2.435</td>\n",
       "    </tr>\n",
       "    <tr>\n",
       "      <th>white</th>\n",
       "      <td>5.560</td>\n",
       "      <td>4.750</td>\n",
       "    </tr>\n",
       "  </tbody>\n",
       "</table>\n",
       "</div>"
      ],
      "text/plain": [
       "       mean1_price1  mean1_price2\n",
       "color                            \n",
       "green         2.025         2.375\n",
       "red           2.380         2.435\n",
       "white         5.560         4.750"
      ]
     },
     "execution_count": 39,
     "metadata": {},
     "output_type": "execute_result"
    }
   ],
   "source": [
    "#add a column name\n",
    "frame.groupby(frame[\"color\"]).mean().add_prefix(\"mean1_\")"
   ]
  },
  {
   "cell_type": "code",
   "execution_count": null,
   "metadata": {
    "collapsed": true
   },
   "outputs": [],
   "source": []
  }
 ],
 "metadata": {
  "kernelspec": {
   "display_name": "Python 3",
   "language": "python",
   "name": "python3"
  },
  "language_info": {
   "codemirror_mode": {
    "name": "ipython",
    "version": 3
   },
   "file_extension": ".py",
   "mimetype": "text/x-python",
   "name": "python",
   "nbconvert_exporter": "python",
   "pygments_lexer": "ipython3",
   "version": "3.5.1"
  }
 },
 "nbformat": 4,
 "nbformat_minor": 0
}
