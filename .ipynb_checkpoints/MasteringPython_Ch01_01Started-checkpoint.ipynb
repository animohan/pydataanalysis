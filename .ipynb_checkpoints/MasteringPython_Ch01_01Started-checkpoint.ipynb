{
 "cells": [
  {
   "cell_type": "code",
   "execution_count": 5,
   "metadata": {
    "collapsed": false
   },
   "outputs": [
    {
     "name": "stdout",
     "output_type": "stream",
     "text": [
      "Array: \n",
      " [[ 0  1  2  3]\n",
      " [ 4  5  6  7]\n",
      " [ 8  9 10 11]]\n",
      "Dimension of array: 2\n",
      "Shape of the array:  (3, 4)\n",
      "Size of the array:  12\n",
      "Array type: int64\n"
     ]
    }
   ],
   "source": [
    "import numpy as np\n",
    "import pandas as pd\n",
    "\n",
    "n_array = np.array([[0,1,2,3],[4,5,6,7],[8,9,10,11]])\n",
    "print(\"Array: \\n\",n_array)\n",
    "print(\"Dimension of array:\", n_array.ndim)\n",
    "print(\"Shape of the array: \", n_array.shape)\n",
    "print(\"Size of the array: \",n_array.size)\n",
    "print(\"Array type:\", n_array.dtype)"
   ]
  },
  {
   "cell_type": "code",
   "execution_count": 7,
   "metadata": {
    "collapsed": false
   },
   "outputs": [
    {
     "data": {
      "text/plain": [
       "<class 'pandas.core.panel.Panel'>\n",
       "Dimensions: 2 (items) x 4 (major_axis) x 3 (minor_axis)\n",
       "Items axis: item1 to item2\n",
       "Major_axis axis: 0 to 3\n",
       "Minor_axis axis: 0 to 2"
      ]
     },
     "execution_count": 7,
     "metadata": {},
     "output_type": "execute_result"
    }
   ],
   "source": [
    "#Panel\n",
    "#Panel handles 3D data structure:\n",
    "\n",
    "d ={\"item1\": pd.DataFrame(np.random.randn(4,3)),\n",
    "    \"item2\": pd.DataFrame(np.random.randn(4,2))}\n",
    "pd.Panel(d)"
   ]
  },
  {
   "cell_type": "code",
   "execution_count": null,
   "metadata": {
    "collapsed": true
   },
   "outputs": [],
   "source": []
  }
 ],
 "metadata": {
  "kernelspec": {
   "display_name": "Python 3",
   "language": "python",
   "name": "python3"
  },
  "language_info": {
   "codemirror_mode": {
    "name": "ipython",
    "version": 3
   },
   "file_extension": ".py",
   "mimetype": "text/x-python",
   "name": "python",
   "nbconvert_exporter": "python",
   "pygments_lexer": "ipython3",
   "version": "3.5.1"
  }
 },
 "nbformat": 4,
 "nbformat_minor": 0
}
