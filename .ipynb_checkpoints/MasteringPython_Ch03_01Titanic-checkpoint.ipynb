{
 "cells": [
  {
   "cell_type": "code",
   "execution_count": 52,
   "metadata": {
    "collapsed": false
   },
   "outputs": [
    {
     "name": "stdout",
     "output_type": "stream",
     "text": [
      "Dimensions of the data (891, 12)\n",
      "\n",
      "Names of the columns in Titanic Data Index(['PassengerId', 'Survived', 'Pclass', 'Name', 'Sex', 'Age', 'SibSp',\n",
      "       'Parch', 'Ticket', 'Fare', 'Cabin', 'Embarked'],\n",
      "      dtype='object')\n",
      "False    891\n",
      "Name: Pclass, dtype: int64\n",
      "Total Passengers on board: Pclass\n",
      "1    216\n",
      "2    184\n",
      "3    491\n",
      "Name: PassengerId, dtype: int64\n",
      "Survivors:  Pclass\n",
      "1    136\n",
      "2     87\n",
      "3    119\n",
      "Name: Survived, dtype: int64\n"
     ]
    }
   ],
   "source": [
    "import pandas as pd\n",
    "import numpy as np\n",
    "import matplotlib.pyplot as plt\n",
    "%matplotlib inline\n",
    "\n",
    "df = pd.read_csv('datasets/titanic/train.csv')\n",
    "\n",
    "#Basic details about data\n",
    "print(\"Dimensions of the data\", df.shape)\n",
    "#There are 891 rows and 12 columns\n",
    "\n",
    "#Name of the columns\n",
    "print(\"\\nNames of the columns in Titanic Data\", df.columns)\n",
    "\n",
    "a=df[df.isnull()==False]\n",
    "a.shape #Looks like there is no missing data\n",
    "\n",
    "a = df[\"Pclass\"].isnull().value_counts()\n",
    "type(a)\n",
    "print(a)\n",
    "#print(\"Number of non null entries in PClass:\")\n",
    "\n",
    "\n",
    "#Passengers survived in each class\n",
    "\n",
    "#Group by PCClass and count the number of passenger Ids\n",
    "total_passengers = df.groupby('Pclass')[\"PassengerId\"].count()\n",
    "print(\"Total Passengers on board:\", total_passengers)\n",
    "\n",
    "#Number of survivors in each class\n",
    "#survivors = df.groupby('Pclass')['Survived'].count()\n",
    "#cannot use the above, because that just counts the number of people in the\n",
    "#survival list.\n",
    "#in this case, survived  = 1, not survived =0. We just need sum of survived\n",
    "\n",
    "survivors = df.groupby('Pclass')['Survived'].sum()\n",
    "print(\"Survivors: \", survivors)\n",
    "\n",
    "#Survivor percentage\n",
    "survivor_percent = survivors/total_passengers\n"
   ]
  },
  {
   "cell_type": "code",
   "execution_count": 51,
   "metadata": {
    "collapsed": false
   },
   "outputs": [
    {
     "data": {
      "image/png": "[encoded data removed]",
      "text/plain": [
       "<matplotlib.figure.Figure at 0x7ff4549f8a20>"
      ]
     },
     "metadata": {},
     "output_type": "display_data"
    }
   ],
   "source": [
    "#Plotting the total number of survivors\n",
    "fig = plt.figure()\n",
    "ax = fig.add_subplot(111)\n",
    "rect = ax.bar(survivors.index.values.tolist(), survivors, color =\"b\",\n",
    "             width= 0.5)\n",
    "ax.set_ylabel(\"No of Survivors\")\n",
    "ax.set_title(\"Total number of survivors based on class\")\n",
    "xTickmarks = survivors.index.values.tolist()\n",
    "ax.set_xticks(survivors.index.values.tolist())\n",
    "xtickNames = ax.set_xticklabels(xTickmarks)\n",
    "plt.setp(xtickNames, fontsize = 20)\n",
    "plt.show()"
   ]
  },
  {
   "cell_type": "code",
   "execution_count": 54,
   "metadata": {
    "collapsed": false
   },
   "outputs": [
    {
     "data": {
      "text/plain": [
       "[<matplotlib.axis.XTick at 0x7ff44126cb00>,\n",
       " <matplotlib.axis.XTick at 0x7ff454a4bda0>,\n",
       " <matplotlib.axis.XTick at 0x7ff441324240>]"
      ]
     },
     "execution_count": 54,
     "metadata": {},
     "output_type": "execute_result"
    },
    {
     "data": {
      "image/png": "[encoded data removed]",
      "text/plain": [
       "<matplotlib.figure.Figure at 0x7ff454a4ba58>"
      ]
     },
     "metadata": {},
     "output_type": "display_data"
    }
   ],
   "source": [
    "#Same thing as above with bit different syntax\n",
    "fig,ax  = plt.subplots(1,1)\n",
    "x = survivors.index.values.tolist()\n",
    "ax.vlines(x,0,survivors)\n",
    "plt.axis([0,4,0,150])\n",
    "plt.xlabel(\"Seating Class\")\n",
    "plt.ylabel(\"Number of Survivors\")\n",
    "ax.set_xticks(survivors.index.values.tolist())\n"
   ]
  },
  {
   "cell_type": "code",
   "execution_count": 59,
   "metadata": {
    "collapsed": false
   },
   "outputs": [
    {
     "data": {
      "text/plain": [
       "[<matplotlib.axis.XTick at 0x7ff4411a7b38>,\n",
       " <matplotlib.axis.XTick at 0x7ff454a67320>,\n",
       " <matplotlib.axis.XTick at 0x7ff440ed26a0>]"
      ]
     },
     "execution_count": 59,
     "metadata": {},
     "output_type": "execute_result"
    },
    {
     "data": {
      "image/png": "[encoded data removed]",
      "text/plain": [
       "<matplotlib.figure.Figure at 0x7ff440ed8240>"
      ]
     },
     "metadata": {},
     "output_type": "display_data"
    }
   ],
   "source": [
    "fig,ax  = plt.subplots(1,1)\n",
    "x = survivors.index.values.tolist()\n",
    "ax.bar(x,survivor_percent)\n",
    "plt.axis([0,4,0,1])\n",
    "plt.xlabel(\"Seating Class\")\n",
    "plt.ylabel(\"% of Survivors\")\n",
    "ax.set_xticks(survivors.index.values.tolist())"
   ]
  },
  {
   "cell_type": "code",
   "execution_count": 60,
   "metadata": {
    "collapsed": true
   },
   "outputs": [],
   "source": [
    "#Conclusions:\n",
    "#Graph shows that 60% of 1st class, 50% of 2nd class and 25% of 3rd class\n",
    "#passengers survived"
   ]
  },
  {
   "cell_type": "code",
   "execution_count": 102,
   "metadata": {
    "collapsed": false
   },
   "outputs": [
    {
     "name": "stdout",
     "output_type": "stream",
     "text": [
      "Number of male passengers = 577 Number of female passengers = 314\n",
      "Number of male survivors = 109, Number of female survivors = 233\n"
     ]
    },
    {
     "data": {
      "text/plain": [
       "<Container object of 2 artists>"
      ]
     },
     "execution_count": 102,
     "metadata": {},
     "output_type": "execute_result"
    },
    {
     "data": {
      "image/png": "[encoded data removed]",
      "text/plain": [
       "<matplotlib.figure.Figure at 0x7ff440b06828>"
      ]
     },
     "metadata": {},
     "output_type": "display_data"
    }
   ],
   "source": [
    "#What is the distribution of survivors based on gender\n",
    "gender_dist = df.groupby(\"Sex\")[\"PassengerId\"].count()\n",
    "print(\"Number of male passengers = %i Number of female passengers = %i\"\n",
    "      %(gender_dist.male,gender_dist.female))\n",
    "\n",
    "gender_survival= df.groupby(\"Sex\")[\"Survived\"].sum()\n",
    "print(\"Number of male survivors = %i, Number of female survivors = %i\"\n",
    "     %(gender_survival.male, gender_survival.female))\n",
    "\n",
    "gender_survival_ratio = gender_survival/gender_dist\n",
    "gender_survival_ratio\n",
    "fig,ax = plt.subplots(1,1)\n",
    "#x = gender_survival.index.values.tolist() #Doesnt work, looks like\n",
    "                        # x has to be numbers\n",
    "x = (1,2)\n",
    "ax.bar(x,gender_survival_ratio)\n"
   ]
  },
  {
   "cell_type": "code",
   "execution_count": 141,
   "metadata": {
    "collapsed": false
   },
   "outputs": [],
   "source": [
    "#Books method to do this\n",
    "\n",
    "#1. Check for null values\n",
    "df[\"Sex\"].isnull().value_counts() #No null values\n",
    "    #All 891 values have non null values\n",
    "    \n",
    "#Male passengers survived in each class\n",
    "male_total_passengers = df[df.Sex==\"male\"].groupby('Pclass')[\"PassengerId\"].count()\n",
    "male_survivors = df[df.Sex == \"male\"].groupby('Pclass')[\"Survived\"].sum()\n",
    "male_survivor_percent  = male_survivors/male_total_passengers\n",
    "\n",
    "#Female passengers who survived in each class\n",
    "female_total_passengers = df[df.Sex == \"female\"].groupby('Pclass')[\"PassengerId\"].count()\n",
    "female_survivors = df[df.Sex ==\"female\"].groupby('Pclass')['Survived'].sum()\n",
    "female_survivor_percent = female_survivors/female_total_passengers\n"
   ]
  },
  {
   "cell_type": "code",
   "execution_count": 139,
   "metadata": {
    "collapsed": false
   },
   "outputs": [
    {
     "data": {
      "text/plain": [
       "<matplotlib.text.Text at 0x7ff44067a0b8>"
      ]
     },
     "execution_count": 139,
     "metadata": {},
     "output_type": "execute_result"
    },
    {
     "data": {
      "image/png": "[encoded data removed]",
      "text/plain": [
       "<matplotlib.figure.Figure at 0x7ff4406842b0>"
      ]
     },
     "metadata": {},
     "output_type": "display_data"
    }
   ],
   "source": [
    "#Plotting the male and female passengers who survived\n",
    "fig, ax = plt.subplots(1,1)\n",
    "index = np.arange(male_survivors.count())\n",
    "    #male survivors count = 3 because there are 3 classes\n",
    "bar_width = 0.35\n",
    "#Setting up bar charts\n",
    "ax.bar(index, male_survivors,bar_width, color = \"y\", label = \"Men\")\n",
    "ax.bar(index+bar_width, female_survivors,bar_width, color = \"g\", label = \"Women\")\n",
    "\n",
    "xTickmarks = male_survivors.index.values.tolist()\n",
    "ax.set_xticks(index+bar_width)\n",
    "xtickNames = ax.set_xticklabels(xTickmarks)\n",
    "plt.legend()\n",
    "ax.set_title(\"Male and Femal survivors in each class\")\n",
    "plt.ylabel(\"Number of Survivors\")\n",
    "plt.xlabel(\"Class\")"
   ]
  },
  {
   "cell_type": "code",
   "execution_count": 155,
   "metadata": {
    "collapsed": false
   },
   "outputs": [
    {
     "data": {
      "image/png": "[encoded data removed]",
      "text/plain": [
       "<matplotlib.figure.Figure at 0x7ff4403d9f60>"
      ]
     },
     "metadata": {},
     "output_type": "display_data"
    }
   ],
   "source": [
    "#Plotting the percentage of survivors in each class\n",
    "\n",
    "fig, ax = plt.subplots(1,1)\n",
    "index = np.arange(male_survivors.count())\n",
    "bar_width = 0.35\n",
    "\n",
    "ax.bar(index, male_survivor_percent, bar_width,color = \"y\", label = \"Men\")\n",
    "ax.bar(index+bar_width, female_survivor_percent, bar_width, color = \"g\", label = \"Women\")\n",
    "ax.legend()\n",
    "\n",
    "xTickMarks = male_survivors.index.values.tolist()\n",
    "ax.set_xticks(index+ bar_width)\n",
    "xTickNames = ax.set_xticklabels(xTickMarks)"
   ]
  },
  {
   "cell_type": "code",
   "execution_count": 145,
   "metadata": {
    "collapsed": false
   },
   "outputs": [
    {
     "data": {
      "text/plain": [
       "array([0, 1, 2])"
      ]
     },
     "execution_count": 145,
     "metadata": {},
     "output_type": "execute_result"
    }
   ],
   "source": [
    "# Takeaways\n",
    "# 1. More women than men survived. 90% of women in 1st and 2nd class survived\n",
    "# the accident."
   ]
  },
  {
   "cell_type": "code",
   "execution_count": null,
   "metadata": {
    "collapsed": true
   },
   "outputs": [],
   "source": [
    "#What is the distribution of non-surviv"
   ]
  }
 ],
 "metadata": {
  "kernelspec": {
   "display_name": "Python 3",
   "language": "python",
   "name": "python3"
  },
  "language_info": {
   "codemirror_mode": {
    "name": "ipython",
    "version": 3
   },
   "file_extension": ".py",
   "mimetype": "text/x-python",
   "name": "python",
   "nbconvert_exporter": "python",
   "pygments_lexer": "ipython3",
   "version": "3.5.1"
  }
 },
 "nbformat": 4,
 "nbformat_minor": 0
}
