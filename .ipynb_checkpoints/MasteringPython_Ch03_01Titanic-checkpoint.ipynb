{
 "cells": [
  {
   "cell_type": "code",
   "execution_count": 52,
   "metadata": {
    "collapsed": false
   },
   "outputs": [
    {
     "name": "stdout",
     "output_type": "stream",
     "text": [
      "Dimensions of the data (891, 12)\n",
      "\n",
      "Names of the columns in Titanic Data Index(['PassengerId', 'Survived', 'Pclass', 'Name', 'Sex', 'Age', 'SibSp',\n",
      "       'Parch', 'Ticket', 'Fare', 'Cabin', 'Embarked'],\n",
      "      dtype='object')\n",
      "False    891\n",
      "Name: Pclass, dtype: int64\n",
      "Total Passengers on board: Pclass\n",
      "1    216\n",
      "2    184\n",
      "3    491\n",
      "Name: PassengerId, dtype: int64\n",
      "Survivors:  Pclass\n",
      "1    136\n",
      "2     87\n",
      "3    119\n",
      "Name: Survived, dtype: int64\n"
     ]
    }
   ],
   "source": [
    "import pandas as pd\n",
    "import numpy as np\n",
    "import matplotlib.pyplot as plt\n",
    "%matplotlib inline\n",
    "\n",
    "df = pd.read_csv('datasets/titanic/train.csv')\n",
    "\n",
    "#Basic details about data\n",
    "print(\"Dimensions of the data\", df.shape)\n",
    "#There are 891 rows and 12 columns\n",
    "\n",
    "#Name of the columns\n",
    "print(\"\\nNames of the columns in Titanic Data\", df.columns)\n",
    "\n",
    "a=df[df.isnull()==False]\n",
    "a.shape #Looks like there is no missing data\n",
    "\n",
    "a = df[\"Pclass\"].isnull().value_counts()\n",
    "type(a)\n",
    "print(a)\n",
    "#print(\"Number of non null entries in PClass:\")\n",
    "\n",
    "\n",
    "#Passengers survived in each class\n",
    "\n",
    "#Group by PCClass and count the number of passenger Ids\n",
    "total_passengers = df.groupby('Pclass')[\"PassengerId\"].count()\n",
    "print(\"Total Passengers on board:\", total_passengers)\n",
    "\n",
    "#Number of survivors in each class\n",
    "#survivors = df.groupby('Pclass')['Survived'].count()\n",
    "#cannot use the above, because that just counts the number of people in the\n",
    "#survival list.\n",
    "#in this case, survived  = 1, not survived =0. We just need sum of survived\n",
    "\n",
    "survivors = df.groupby('Pclass')['Survived'].sum()\n",
    "print(\"Survivors: \", survivors)\n",
    "\n",
    "#Survivor percentage\n",
    "survivor_percent = survivors/total_passengers\n"
   ]
  },
  {
   "cell_type": "code",
   "execution_count": 51,
   "metadata": {
    "collapsed": false
   },
   "outputs": [
    {
     "data": {
      "image/png": "[encoded data removed]",
      "text/plain": [
       "<matplotlib.figure.Figure at 0x7ff4549f8a20>"
      ]
     },
     "metadata": {},
     "output_type": "display_data"
    }
   ],
   "source": [
    "#Plotting the total number of survivors\n",
    "fig = plt.figure()\n",
    "ax = fig.add_subplot(111)\n",
    "rect = ax.bar(survivors.index.values.tolist(), survivors, color =\"b\",\n",
    "             width= 0.5)\n",
    "ax.set_ylabel(\"No of Survivors\")\n",
    "ax.set_title(\"Total number of survivors based on class\")\n",
    "xTickmarks = survivors.index.values.tolist()\n",
    "ax.set_xticks(survivors.index.values.tolist())\n",
    "xtickNames = ax.set_xticklabels(xTickmarks)\n",
    "plt.setp(xtickNames, fontsize = 20)\n",
    "plt.show()"
   ]
  },
  {
   "cell_type": "code",
   "execution_count": 54,
   "metadata": {
    "collapsed": false
   },
   "outputs": [
    {
     "data": {
      "text/plain": [
       "[<matplotlib.axis.XTick at 0x7ff44126cb00>,\n",
       " <matplotlib.axis.XTick at 0x7ff454a4bda0>,\n",
       " <matplotlib.axis.XTick at 0x7ff441324240>]"
      ]
     },
     "execution_count": 54,
     "metadata": {},
     "output_type": "execute_result"
    },
    {
     "data": {
      "image/png": "[encoded data removed]",
      "text/plain": [
       "<matplotlib.figure.Figure at 0x7ff454a4ba58>"
      ]
     },
     "metadata": {},
     "output_type": "display_data"
    }
   ],
   "source": [
    "#Same thing as above with bit different syntax\n",
    "fig,ax  = plt.subplots(1,1)\n",
    "x = survivors.index.values.tolist()\n",
    "ax.vlines(x,0,survivors)\n",
    "plt.axis([0,4,0,150])\n",
    "plt.xlabel(\"Seating Class\")\n",
    "plt.ylabel(\"Number of Survivors\")\n",
    "ax.set_xticks(survivors.index.values.tolist())\n"
   ]
  },
  {
   "cell_type": "code",
   "execution_count": 59,
   "metadata": {
    "collapsed": false
   },
   "outputs": [
    {
     "data": {
      "text/plain": [
       "[<matplotlib.axis.XTick at 0x7ff4411a7b38>,\n",
       " <matplotlib.axis.XTick at 0x7ff454a67320>,\n",
       " <matplotlib.axis.XTick at 0x7ff440ed26a0>]"
      ]
     },
     "execution_count": 59,
     "metadata": {},
     "output_type": "execute_result"
    },
    {
     "data": {
      "image/png": "[encoded data removed]",
      "text/plain": [
       "<matplotlib.figure.Figure at 0x7ff440ed8240>"
      ]
     },
     "metadata": {},
     "output_type": "display_data"
    }
   ],
   "source": [
    "fig,ax  = plt.subplots(1,1)\n",
    "x = survivors.index.values.tolist()\n",
    "ax.bar(x,survivor_percent)\n",
    "plt.axis([0,4,0,1])\n",
    "plt.xlabel(\"Seating Class\")\n",
    "plt.ylabel(\"% of Survivors\")\n",
    "ax.set_xticks(survivors.index.values.tolist())"
   ]
  },
  {
   "cell_type": "code",
   "execution_count": 60,
   "metadata": {
    "collapsed": true
   },
   "outputs": [],
   "source": [
    "#Conclusions:\n",
    "#Graph shows that 60% of 1st class, 50% of 2nd class and 25% of 3rd class\n",
    "#passengers survived"
   ]
  },
  {
   "cell_type": "code",
   "execution_count": 102,
   "metadata": {
    "collapsed": false
   },
   "outputs": [
    {
     "name": "stdout",
     "output_type": "stream",
     "text": [
      "Number of male passengers = 577 Number of female passengers = 314\n",
      "Number of male survivors = 109, Number of female survivors = 233\n"
     ]
    },
    {
     "data": {
      "text/plain": [
       "<Container object of 2 artists>"
      ]
     },
     "execution_count": 102,
     "metadata": {},
     "output_type": "execute_result"
    },
    {
     "data": {
      "image/png": "[encoded data removed]",
      "text/plain": [
       "<matplotlib.figure.Figure at 0x7ff440b06828>"
      ]
     },
     "metadata": {},
     "output_type": "display_data"
    }
   ],
   "source": [
    "#What is the distribution of survivors based on gender\n",
    "gender_dist = df.groupby(\"Sex\")[\"PassengerId\"].count()\n",
    "print(\"Number of male passengers = %i Number of female passengers = %i\"\n",
    "      %(gender_dist.male,gender_dist.female))\n",
    "\n",
    "gender_survival= df.groupby(\"Sex\")[\"Survived\"].sum()\n",
    "print(\"Number of male survivors = %i, Number of female survivors = %i\"\n",
    "     %(gender_survival.male, gender_survival.female))\n",
    "\n",
    "gender_survival_ratio = gender_survival/gender_dist\n",
    "gender_survival_ratio\n",
    "fig,ax = plt.subplots(1,1)\n",
    "#x = gender_survival.index.values.tolist() #Doesnt work, looks like\n",
    "                        # x has to be numbers\n",
    "x = (1,2)\n",
    "ax.bar(x,gender_survival_ratio)\n"
   ]
  },
  {
   "cell_type": "code",
   "execution_count": 141,
   "metadata": {
    "collapsed": false
   },
   "outputs": [],
   "source": [
    "#Books method to do this\n",
    "\n",
    "#1. Check for null values\n",
    "df[\"Sex\"].isnull().value_counts() #No null values\n",
    "    #All 891 values have non null values\n",
    "    \n",
    "#Male passengers survived in each class\n",
    "male_total_passengers = df[df.Sex==\"male\"].groupby('Pclass')[\"PassengerId\"].count()\n",
    "male_survivors = df[df.Sex == \"male\"].groupby('Pclass')[\"Survived\"].sum()\n",
    "male_survivor_percent  = male_survivors/male_total_passengers\n",
    "\n",
    "#Female passengers who survived in each class\n",
    "female_total_passengers = df[df.Sex == \"female\"].groupby('Pclass')[\"PassengerId\"].count()\n",
    "female_survivors = df[df.Sex ==\"female\"].groupby('Pclass')['Survived'].sum()\n",
    "female_survivor_percent = female_survivors/female_total_passengers\n"
   ]
  },
  {
   "cell_type": "code",
   "execution_count": 139,
   "metadata": {
    "collapsed": false
   },
   "outputs": [
    {
     "data": {
      "text/plain": [
       "<matplotlib.text.Text at 0x7ff44067a0b8>"
      ]
     },
     "execution_count": 139,
     "metadata": {},
     "output_type": "execute_result"
    },
    {
     "data": {
      "image/png": "[encoded data removed]",
      "text/plain": [
       "<matplotlib.figure.Figure at 0x7ff4406842b0>"
      ]
     },
     "metadata": {},
     "output_type": "display_data"
    }
   ],
   "source": [
    "#Plotting the male and female passengers who survived\n",
    "fig, ax = plt.subplots(1,1)\n",
    "index = np.arange(male_survivors.count())\n",
    "    #male survivors count = 3 because there are 3 classes\n",
    "bar_width = 0.35\n",
    "#Setting up bar charts\n",
    "ax.bar(index, male_survivors,bar_width, color = \"y\", label = \"Men\")\n",
    "ax.bar(index+bar_width, female_survivors,bar_width, color = \"g\", label = \"Women\")\n",
    "\n",
    "xTickmarks = male_survivors.index.values.tolist()\n",
    "ax.set_xticks(index+bar_width)\n",
    "xtickNames = ax.set_xticklabels(xTickmarks)\n",
    "plt.legend()\n",
    "ax.set_title(\"Male and Femal survivors in each class\")\n",
    "plt.ylabel(\"Number of Survivors\")\n",
    "plt.xlabel(\"Class\")"
   ]
  },
  {
   "cell_type": "code",
   "execution_count": 155,
   "metadata": {
    "collapsed": false
   },
   "outputs": [
    {
     "data": {
      "image/png": "[encoded data removed]",
      "text/plain": [
       "<matplotlib.figure.Figure at 0x7ff4403d9f60>"
      ]
     },
     "metadata": {},
     "output_type": "display_data"
    }
   ],
   "source": [
    "#Plotting the percentage of survivors in each class\n",
    "\n",
    "fig, ax = plt.subplots(1,1)\n",
    "index = np.arange(male_survivors.count())\n",
    "bar_width = 0.35\n",
    "\n",
    "ax.bar(index, male_survivor_percent, bar_width,color = \"y\", label = \"Men\")\n",
    "ax.bar(index+bar_width, female_survivor_percent, bar_width, color = \"g\", label = \"Women\")\n",
    "ax.legend()\n",
    "\n",
    "xTickMarks = male_survivors.index.values.tolist()\n",
    "ax.set_xticks(index+ bar_width)\n",
    "xTickNames = ax.set_xticklabels(xTickMarks)"
   ]
  },
  {
   "cell_type": "code",
   "execution_count": 145,
   "metadata": {
    "collapsed": false
   },
   "outputs": [
    {
     "data": {
      "text/plain": [
       "array([0, 1, 2])"
      ]
     },
     "execution_count": 145,
     "metadata": {},
     "output_type": "execute_result"
    }
   ],
   "source": [
    "# Takeaways\n",
    "# 1. More women than men survived. 90% of women in 1st and 2nd class survived\n",
    "# the accident."
   ]
  },
  {
   "cell_type": "code",
   "execution_count": 178,
   "metadata": {
    "collapsed": false
   },
   "outputs": [
    {
     "name": "stdout",
     "output_type": "stream",
     "text": [
      "False    891\n",
      "Name: SibSp, dtype: int64\n",
      "False    891\n",
      "Name: Parch, dtype: int64\n"
     ]
    },
    {
     "data": {
      "text/plain": [
       "Pclass\n",
       "1    0.407407\n",
       "2    0.358696\n",
       "3    0.311609\n",
       "dtype: float64"
      ]
     },
     "execution_count": 178,
     "metadata": {},
     "output_type": "execute_result"
    }
   ],
   "source": [
    "#What is the distribution of non-survivors among the various classes \n",
    "#who have family aboard the ship.\n",
    "\n",
    "#Sibsp = shows the number of siblings or spouses aboard the ship.\n",
    "#parch = shows the number of parents or children aboard\n",
    "\n",
    "#Checking for null entries\n",
    "print(df['SibSp'].isnull().value_counts())\n",
    "print(df['Parch'].isnull().value_counts())\n",
    "#None of the entries have null values\n",
    "\n",
    "#Total number of survivors in each class\n",
    "nonsurvivors_withfamily = df[(df['SibSp']>0) | (df['Parch']>0) & (df['Survived'] == 0)].groupby('Pclass')[\"Survived\"].count()\n",
    "\n",
    "#Total number of passengers in each class\n",
    "total_passengers = df.groupby('Pclass')[\"PassengerId\"].count()\n",
    "\n",
    "nonsurvivor_withfamily_percent = nonsurvivors_withfamily/total_passengers\n",
    "nonsurvivor_withfamily_percent"
   ]
  },
  {
   "cell_type": "code",
   "execution_count": 180,
   "metadata": {
    "collapsed": false
   },
   "outputs": [
    {
     "data": {
      "image/png": "[encoded data removed]",
      "text/plain": [
       "<matplotlib.figure.Figure at 0x7ff440b5ccf8>"
      ]
     },
     "metadata": {},
     "output_type": "display_data"
    }
   ],
   "source": [
    "#Plotting number of non survivors who had family\n",
    "fig,ax = plt.subplots(1,1)\n",
    "x = nonsurvivors_withfamily.index.values.tolist()\n",
    "ax.bar(x, nonsurvivors_withfamily, color = \"g\", width = 0.5)\n",
    "xtickmarks = x\n",
    "ax.set_xticks(xtickmarks)\n",
    "ax.set_xlabel(\"Class of the non-survivors with family\")\n",
    "ax.set_ylabel(\"# of Survivors\")\n",
    "xticknames = ax.set_xticklabels(xtickmarks)\n"
   ]
  },
  {
   "cell_type": "code",
   "execution_count": 186,
   "metadata": {
    "collapsed": false
   },
   "outputs": [
    {
     "data": {
      "text/plain": [
       "<matplotlib.text.Text at 0x7ff4405830f0>"
      ]
     },
     "execution_count": 186,
     "metadata": {},
     "output_type": "execute_result"
    },
    {
     "data": {
      "image/png": "[encoded data removed]",
      "text/plain": [
       "<matplotlib.figure.Figure at 0x7ff4405f7160>"
      ]
     },
     "metadata": {},
     "output_type": "display_data"
    }
   ],
   "source": [
    "#Plotting % of non survivors\n",
    "fig, ax = plt.subplots(1,1)\n",
    "x = nonsurvivors_withfamily.index.values.tolist()\n",
    "ax.bar (x, nonsurvivor_withfamily_percent, color = \"b\", width = 0.5)\n",
    "xtickmarks = x\n",
    "ax.set_xticks(xtickmarks)\n",
    "ax.set_xlabel(\"Class of the non survivors with family\")\n",
    "ax.set_ylabel(\" Non Survival percentage\")\n",
    "        "
   ]
  },
  {
   "cell_type": "code",
   "execution_count": 187,
   "metadata": {
    "collapsed": false
   },
   "outputs": [
    {
     "data": {
      "text/plain": [
       "False    714\n",
       "True     177\n",
       "Name: Age, dtype: int64"
      ]
     },
     "execution_count": 187,
     "metadata": {},
     "output_type": "execute_result"
    }
   ],
   "source": [
    "#What is the survival percentage among different age groups\n",
    "\n",
    "#Checking for null values\n",
    "df[\"Age\"].isnull().value_counts()\n",
    "#In this case we have some entries that do not have values"
   ]
  },
  {
   "cell_type": "code",
   "execution_count": 207,
   "metadata": {
    "collapsed": false
   },
   "outputs": [
    {
     "name": "stderr",
     "output_type": "stream",
     "text": [
      "/home/animo/anaconda3/lib/python3.5/site-packages/ipykernel/__main__.py:10: SettingWithCopyWarning: \n",
      "A value is trying to be set on a copy of a slice from a DataFrame.\n",
      "Try using .loc[row_indexer,col_indexer] = value instead\n",
      "\n",
      "See the caveats in the documentation: http://pandas.pydata.org/pandas-docs/stable/indexing.html#indexing-view-versus-copy\n"
     ]
    },
    {
     "data": {
      "text/plain": [
       "AgeBin\n",
       "(0, 18]      0.503597\n",
       "(18, 25]     0.333333\n",
       "(25, 40]     0.422053\n",
       "(40, 60]     0.390625\n",
       "(60, 100]    0.227273\n",
       "Name: Survived, dtype: float64"
      ]
     },
     "execution_count": 207,
     "metadata": {},
     "output_type": "execute_result"
    }
   ],
   "source": [
    "#My thought process\n",
    "#Removing the rows that did not have any age.\n",
    "dfnew = df[df.Age.notnull()]\n",
    "\n",
    "age_bin = [0,18,25,40,60,100] #Age binning interval\n",
    "\n",
    "\n",
    "#creating the bins\n",
    "dfnew[\"AgeBin\"] = pd.cut(dfnew.Age, bins = age_bin)\n",
    "    #pandas to split the data into bings given by age_bin\n",
    "survivors = dfnew.groupby('AgeBin')[\"Survived\"].sum()\n",
    "total_passengers = dfnew.groupby(\"AgeBin\")[\"Survived\"].count()\n",
    "\n",
    "perage_survival = survivors/total_passengers\n",
    "perage_survival\n"
   ]
  },
  {
   "cell_type": "code",
   "execution_count": 211,
   "metadata": {
    "collapsed": false
   },
   "outputs": [
    {
     "data": {
      "text/plain": [
       "AgeBin\n",
       "(0, 18]      0.503597\n",
       "(18, 25]     0.333333\n",
       "(25, 40]     0.422053\n",
       "(40, 60]     0.390625\n",
       "(60, 100]    0.227273\n",
       "Name: Survived, dtype: float64"
      ]
     },
     "execution_count": 211,
     "metadata": {},
     "output_type": "execute_result"
    }
   ],
   "source": [
    "#Books way\n",
    "age_bin = [0,18,25,40, 60, 100]\n",
    "\n",
    "#creating the bins\n",
    "df[\"AgeBin\"] = pd.cut(df.Age, bins = age_bin)\n",
    "\n",
    "#Removing the null rows\n",
    "d_temp = df[np.isfinite(df[\"Age\"])] #removing all na insntance\n",
    "\n",
    "#Number of survivors based on Age Bin\n",
    "survivors = d_temp.groupby(\"AgeBin\")[\"Survived\"].sum()\n",
    "\n",
    "#Total passengers in each list\n",
    "total_passengers = d_temp.groupby('AgeBin')[\"Survived\"].count()\n",
    "\n",
    "#percent survival per group\n",
    "survival_per_age_group = survivors/total_passengers\n",
    "survival_per_age_group"
   ]
  },
  {
   "cell_type": "code",
   "execution_count": 223,
   "metadata": {
    "collapsed": false
   },
   "outputs": [
    {
     "data": {
      "text/plain": [
       "([<matplotlib.patches.Wedge at 0x7ff42ff7aef0>,\n",
       "  <matplotlib.patches.Wedge at 0x7ff42ff05828>,\n",
       "  <matplotlib.patches.Wedge at 0x7ff42ff11128>,\n",
       "  <matplotlib.patches.Wedge at 0x7ff42ff169e8>,\n",
       "  <matplotlib.patches.Wedge at 0x7ff42ff222e8>],\n",
       " [<matplotlib.text.Text at 0x7ff42ff7fd30>,\n",
       "  <matplotlib.text.Text at 0x7ff42ff0a630>,\n",
       "  <matplotlib.text.Text at 0x7ff42ff11ef0>,\n",
       "  <matplotlib.text.Text at 0x7ff42ff1b7f0>,\n",
       "  <matplotlib.text.Text at 0x7ff42ff270f0>],\n",
       " [<matplotlib.text.Text at 0x7ff42ff052e8>,\n",
       "  <matplotlib.text.Text at 0x7ff42ff0aba8>,\n",
       "  <matplotlib.text.Text at 0x7ff42ff164a8>,\n",
       "  <matplotlib.text.Text at 0x7ff42ff1bd68>,\n",
       "  <matplotlib.text.Text at 0x7ff42ff27668>])"
      ]
     },
     "execution_count": 223,
     "metadata": {},
     "output_type": "execute_result"
    },
    {
     "data": {
      "image/png": "[encoded data removed]",
      "text/plain": [
       "<matplotlib.figure.Figure at 0x7ff440497748>"
      ]
     },
     "metadata": {},
     "output_type": "display_data"
    }
   ],
   "source": [
    "#Plotting pie charts\n",
    "x=total_passengers.index.values.categories\n",
    "plt.pie(total_passengers, labels = x, autopct ='%1.1f%%', shadow= True, startangle = 90)\n",
    "\n",
    "plt.title(\"Total Passengers in different age group\")"
   ]
  },
  {
   "cell_type": "code",
   "execution_count": 225,
   "metadata": {
    "collapsed": false
   },
   "outputs": [
    {
     "data": {
      "text/plain": [
       "([<matplotlib.patches.Wedge at 0x7ff42fe6c668>,\n",
       "  <matplotlib.patches.Wedge at 0x7ff42fe72f60>,\n",
       "  <matplotlib.patches.Wedge at 0x7ff42fe7f860>,\n",
       "  <matplotlib.patches.Wedge at 0x7ff42fe0a160>,\n",
       "  <matplotlib.patches.Wedge at 0x7ff42fe0fa20>],\n",
       " [<matplotlib.text.Text at 0x7ff42fe724a8>,\n",
       "  <matplotlib.text.Text at 0x7ff42fe79d68>,\n",
       "  <matplotlib.text.Text at 0x7ff42fe05668>,\n",
       "  <matplotlib.text.Text at 0x7ff42fe0af28>,\n",
       "  <matplotlib.text.Text at 0x7ff42fe15828>],\n",
       " [<matplotlib.text.Text at 0x7ff42fe72a20>,\n",
       "  <matplotlib.text.Text at 0x7ff42fe7f320>,\n",
       "  <matplotlib.text.Text at 0x7ff42fe05be0>,\n",
       "  <matplotlib.text.Text at 0x7ff42fe0f4e0>,\n",
       "  <matplotlib.text.Text at 0x7ff42fe15da0>])"
      ]
     },
     "execution_count": 225,
     "metadata": {},
     "output_type": "execute_result"
    },
    {
     "data": {
      "image/png": "[encoded data removed]",
      "text/plain": [
       "<matplotlib.figure.Figure at 0x7ff42fec57b8>"
      ]
     },
     "metadata": {},
     "output_type": "display_data"
    }
   ],
   "source": [
    "#plotting the piechart of survival percent\n",
    "plt.pie(survivors, labels= x, autopct = '%1.1f%%', shadow= True,startangle =90 )"
   ]
  },
  {
   "cell_type": "code",
   "execution_count": null,
   "metadata": {
    "collapsed": true
   },
   "outputs": [],
   "source": []
  }
 ],
 "metadata": {
  "kernelspec": {
   "display_name": "Python 3",
   "language": "python",
   "name": "python3"
  },
  "language_info": {
   "codemirror_mode": {
    "name": "ipython",
    "version": 3
   },
   "file_extension": ".py",
   "mimetype": "text/x-python",
   "name": "python",
   "nbconvert_exporter": "python",
   "pygments_lexer": "ipython3",
   "version": "3.5.1"
  }
 },
 "nbformat": 4,
 "nbformat_minor": 0
}
