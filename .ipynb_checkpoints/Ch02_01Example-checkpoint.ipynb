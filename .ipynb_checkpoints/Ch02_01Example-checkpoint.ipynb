{
 "cells": [
  {
   "cell_type": "code",
   "execution_count": 3,
   "metadata": {
    "collapsed": false
   },
   "outputs": [
    {
     "name": "stdout",
     "output_type": "stream",
     "text": [
      "Ipython Version:  4.1.2\n",
      "Numby version: 1.10.4\n",
      "Scipy version: 0.17.0\n",
      "Pandas version: 0.18.0\n",
      "Matplotlib:  1.5.1\n",
      "Scikit-Learn: 0.17.1\n"
     ]
    }
   ],
   "source": [
    "#Checking version\n",
    "\n",
    "import IPython\n",
    "print(\"Ipython Version: %6.6s\" %IPython.__version__)\n",
    "\n",
    "import numpy as np\n",
    "print(\"Numby version: %6.6s\" %np.__version__)\n",
    "\n",
    "import scipy as sp\n",
    "print(\"Scipy version: %6.6s\" %sp.__version__)\n",
    "\n",
    "import pandas as pd\n",
    "print(\"Pandas version: %6.6s\" %pd.__version__)\n",
    "\n",
    "import matplotlib\n",
    "print(\"Matplotlib: %6.6s\" %matplotlib.__version__)\n",
    "\n",
    "import sklearn\n",
    "print(\"Scikit-Learn: %6.6s\" %sklearn.__version__)\n",
    "\n",
    "\n"
   ]
  },
  {
   "cell_type": "code",
   "execution_count": 10,
   "metadata": {
    "collapsed": false
   },
   "outputs": [
    {
     "data": {
      "text/plain": [
       "'America/New_York'"
      ]
     },
     "execution_count": 10,
     "metadata": {},
     "output_type": "execute_result"
    }
   ],
   "source": [
    "import json\n",
    "path = 'Ch02/usagov_bitly_data2012-03-16-1331923249.txt'\n",
    "records = [json.loads(line) for line in open(path)] #uses comprehension\n",
    "\n",
    "#result of this call are the list of dictionaries\n",
    "records[0]\n"
   ]
  },
  {
   "cell_type": "code",
   "execution_count": 11,
   "metadata": {
    "collapsed": false
   },
   "outputs": [
    {
     "data": {
      "text/plain": [
       "'America/New_York'"
      ]
     },
     "execution_count": 11,
     "metadata": {},
     "output_type": "execute_result"
    }
   ],
   "source": [
    "#accessing the individual dictionary\n",
    "records[0]['tz']"
   ]
  },
  {
   "cell_type": "code",
   "execution_count": 14,
   "metadata": {
    "collapsed": false
   },
   "outputs": [
    {
     "name": "stdout",
     "output_type": "stream",
     "text": [
      "America/New_York\n",
      "America/Denver\n",
      "America/New_York\n",
      "America/Sao_Paulo\n",
      "America/New_York\n",
      "America/New_York\n",
      "Europe/Warsaw\n",
      "\n",
      "\n",
      "\n",
      "America/Los_Angeles\n",
      "America/New_York\n",
      "America/New_York\n"
     ]
    },
    {
     "ename": "KeyError",
     "evalue": "'tz'",
     "output_type": "error",
     "traceback": [
      "\u001b[1;31m---------------------------------------------------------------------------\u001b[0m",
      "\u001b[1;31mKeyError\u001b[0m                                  Traceback (most recent call last)",
      "\u001b[1;32m<ipython-input-14-504846a7dac3>\u001b[0m in \u001b[0;36m<module>\u001b[1;34m()\u001b[0m\n\u001b[0;32m      1\u001b[0m \u001b[1;31m#Counting Time Zones\u001b[0m\u001b[1;33m\u001b[0m\u001b[1;33m\u001b[0m\u001b[0m\n\u001b[0;32m      2\u001b[0m \u001b[1;32mfor\u001b[0m \u001b[0mrec\u001b[0m \u001b[1;32min\u001b[0m \u001b[0mrecords\u001b[0m\u001b[1;33m:\u001b[0m\u001b[1;33m\u001b[0m\u001b[0m\n\u001b[1;32m----> 3\u001b[1;33m     \u001b[0mprint\u001b[0m\u001b[1;33m(\u001b[0m\u001b[0mrec\u001b[0m\u001b[1;33m[\u001b[0m\u001b[1;34m'tz'\u001b[0m\u001b[1;33m]\u001b[0m\u001b[1;33m)\u001b[0m\u001b[1;33m\u001b[0m\u001b[0m\n\u001b[0m\u001b[0;32m      4\u001b[0m \u001b[0mtime_zones\u001b[0m \u001b[1;33m=\u001b[0m \u001b[1;33m[\u001b[0m\u001b[0mrec\u001b[0m\u001b[1;33m[\u001b[0m\u001b[1;34m'tz'\u001b[0m\u001b[1;33m]\u001b[0m \u001b[1;32mfor\u001b[0m \u001b[0mrec\u001b[0m \u001b[1;32min\u001b[0m \u001b[0mrecords\u001b[0m\u001b[1;33m]\u001b[0m\u001b[1;33m\u001b[0m\u001b[0m\n\u001b[0;32m      5\u001b[0m \u001b[0mtime_zones\u001b[0m\u001b[1;33m\u001b[0m\u001b[0m\n",
      "\u001b[1;31mKeyError\u001b[0m: 'tz'"
     ]
    }
   ],
   "source": [
    "#Counting Time Zones\n",
    "time_zones = [rec['tz'] for rec in records] #Error because not all records\n",
    "                                       # have  time zone field"
   ]
  },
  {
   "cell_type": "code",
   "execution_count": 19,
   "metadata": {
    "collapsed": false
   },
   "outputs": [
    {
     "data": {
      "text/plain": [
       "['America/Denver',\n",
       " 'America/New_York',\n",
       " 'America/Sao_Paulo',\n",
       " 'America/New_York',\n",
       " 'America/New_York',\n",
       " 'Europe/Warsaw',\n",
       " '',\n",
       " '',\n",
       " '']"
      ]
     },
     "execution_count": 19,
     "metadata": {},
     "output_type": "execute_result"
    }
   ],
   "source": [
    "time_zones = [rec['tz'] for rec in records if 'tz' in rec]\n",
    "time_zones[1:10]"
   ]
  },
  {
   "cell_type": "code",
   "execution_count": 28,
   "metadata": {
    "collapsed": false
   },
   "outputs": [
    {
     "name": "stdout",
     "output_type": "stream",
     "text": [
      "<class 'dict'>\n"
     ]
    },
    {
     "data": {
      "text/plain": [
       "191"
      ]
     },
     "execution_count": 28,
     "metadata": {},
     "output_type": "execute_result"
    }
   ],
   "source": [
    "#one way to count timezones:\n",
    "def get_count(sequence):\n",
    "    counts={}\n",
    "    for x in sequence:\n",
    "        if x in counts:\n",
    "            counts[x]+=1\n",
    "        else :\n",
    "            counts[x]=1\n",
    "    return(counts)\n",
    "\n",
    "# Bit more concise:\n",
    "def get_counts2(sequence):\n",
    "    counts = defaultdict(int)\n",
    "    for x in sequence:\n",
    "        counts[x]+=1\n",
    "    return counts\n",
    "\n",
    "counts = get_count(time_zones)\n",
    "\n",
    "#counts is a dictionary\n",
    "print(type(counts))\n",
    "#keys are the timezones and the values are the counts\n",
    "\n",
    "counts['America/Denver']\n",
    "type(counts)\n",
    "\n",
    "counts2 = get_count(time_zones)\n",
    "counts['America/Denver']"
   ]
  },
  {
   "cell_type": "code",
   "execution_count": 40,
   "metadata": {
    "collapsed": false
   },
   "outputs": [
    {
     "data": {
      "text/plain": [
       "[(33, 'America/Sao_Paulo'),\n",
       " (35, 'Europe/Madrid'),\n",
       " (36, 'Pacific/Honolulu'),\n",
       " (37, 'Asia/Tokyo'),\n",
       " (74, 'Europe/London'),\n",
       " (191, 'America/Denver'),\n",
       " (382, 'America/Los_Angeles'),\n",
       " (400, 'America/Chicago'),\n",
       " (521, ''),\n",
       " (1251, 'America/New_York')]"
      ]
     },
     "execution_count": 40,
     "metadata": {},
     "output_type": "execute_result"
    }
   ],
   "source": [
    "#Top 10 time-zones and their count\n",
    "\n",
    "def top_counts(count_dict, n=10):\n",
    "    value_key_pairs =[(count,tz) for tz,count in count_dict.items()]\n",
    "    #The dictionary will contain time zones and counts of the timezone\n",
    "    #collect the (count,tz) pair in a list\n",
    "    # need to record (count, tz), so that we can sort the list on counts\n",
    "\n",
    "    value_key_pairs.sort() #Sort the list of tuples on counts\n",
    "    return value_key_pairs[-n:] #Report the top 10 results; List is sorted \n",
    "                                # in descending order\n",
    "\n",
    "top_counts(counts)"
   ]
  },
  {
   "cell_type": "code",
   "execution_count": 37,
   "metadata": {
    "collapsed": false
   },
   "outputs": [
    {
     "data": {
      "text/plain": [
       "[('America/New_York', 1251),\n",
       " ('', 521),\n",
       " ('America/Chicago', 400),\n",
       " ('America/Los_Angeles', 382),\n",
       " ('America/Denver', 191),\n",
       " ('Europe/London', 74),\n",
       " ('Asia/Tokyo', 37),\n",
       " ('Pacific/Honolulu', 36),\n",
       " ('Europe/Madrid', 35),\n",
       " ('America/Sao_Paulo', 33)]"
      ]
     },
     "execution_count": 37,
     "metadata": {},
     "output_type": "execute_result"
    }
   ],
   "source": [
    "#using collections.Counter from Python Std Library:\n",
    "from collections import Counter\n",
    "counts = Counter(time_zones)\n",
    "counts.most_common(10)"
   ]
  },
  {
   "cell_type": "code",
   "execution_count": 43,
   "metadata": {
    "collapsed": false
   },
   "outputs": [
    {
     "data": {
      "text/html": [
       "<div>\n",
       "<table border=\"1\" class=\"dataframe\">\n",
       "  <thead>\n",
       "    <tr style=\"text-align: right;\">\n",
       "      <th></th>\n",
       "      <th>_heartbeat_</th>\n",
       "      <th>a</th>\n",
       "      <th>al</th>\n",
       "      <th>c</th>\n",
       "      <th>cy</th>\n",
       "      <th>g</th>\n",
       "      <th>gr</th>\n",
       "      <th>h</th>\n",
       "      <th>hc</th>\n",
       "      <th>hh</th>\n",
       "      <th>kw</th>\n",
       "      <th>l</th>\n",
       "      <th>ll</th>\n",
       "      <th>nk</th>\n",
       "      <th>r</th>\n",
       "      <th>t</th>\n",
       "      <th>tz</th>\n",
       "      <th>u</th>\n",
       "    </tr>\n",
       "  </thead>\n",
       "  <tbody>\n",
       "    <tr>\n",
       "      <th>1</th>\n",
       "      <td>NaN</td>\n",
       "      <td>GoogleMaps/RochesterNY</td>\n",
       "      <td>NaN</td>\n",
       "      <td>US</td>\n",
       "      <td>Provo</td>\n",
       "      <td>mwszkS</td>\n",
       "      <td>UT</td>\n",
       "      <td>mwszkS</td>\n",
       "      <td>1.308262e+09</td>\n",
       "      <td>j.mp</td>\n",
       "      <td>NaN</td>\n",
       "      <td>bitly</td>\n",
       "      <td>[40.218102, -111.613297]</td>\n",
       "      <td>0.0</td>\n",
       "      <td>http://www.AwareMap.com/</td>\n",
       "      <td>1.331923e+09</td>\n",
       "      <td>America/Denver</td>\n",
       "      <td>http://www.monroecounty.gov/etc/911/rss.php</td>\n",
       "    </tr>\n",
       "    <tr>\n",
       "      <th>2</th>\n",
       "      <td>NaN</td>\n",
       "      <td>Mozilla/4.0 (compatible; MSIE 8.0; Windows NT ...</td>\n",
       "      <td>en-US</td>\n",
       "      <td>US</td>\n",
       "      <td>Washington</td>\n",
       "      <td>xxr3Qb</td>\n",
       "      <td>DC</td>\n",
       "      <td>xxr3Qb</td>\n",
       "      <td>1.331920e+09</td>\n",
       "      <td>1.usa.gov</td>\n",
       "      <td>NaN</td>\n",
       "      <td>bitly</td>\n",
       "      <td>[38.9007, -77.043098]</td>\n",
       "      <td>1.0</td>\n",
       "      <td>http://t.co/03elZC4Q</td>\n",
       "      <td>1.331923e+09</td>\n",
       "      <td>America/New_York</td>\n",
       "      <td>http://boxer.senate.gov/en/press/releases/0316...</td>\n",
       "    </tr>\n",
       "    <tr>\n",
       "      <th>3</th>\n",
       "      <td>NaN</td>\n",
       "      <td>Mozilla/5.0 (Macintosh; Intel Mac OS X 10_6_8)...</td>\n",
       "      <td>pt-br</td>\n",
       "      <td>BR</td>\n",
       "      <td>Braz</td>\n",
       "      <td>zCaLwp</td>\n",
       "      <td>27</td>\n",
       "      <td>zUtuOu</td>\n",
       "      <td>1.331923e+09</td>\n",
       "      <td>1.usa.gov</td>\n",
       "      <td>NaN</td>\n",
       "      <td>alelex88</td>\n",
       "      <td>[-23.549999, -46.616699]</td>\n",
       "      <td>0.0</td>\n",
       "      <td>direct</td>\n",
       "      <td>1.331923e+09</td>\n",
       "      <td>America/Sao_Paulo</td>\n",
       "      <td>http://apod.nasa.gov/apod/ap120312.html</td>\n",
       "    </tr>\n",
       "    <tr>\n",
       "      <th>4</th>\n",
       "      <td>NaN</td>\n",
       "      <td>Mozilla/5.0 (Windows NT 6.1; WOW64) AppleWebKi...</td>\n",
       "      <td>en-US,en;q=0.8</td>\n",
       "      <td>US</td>\n",
       "      <td>Shrewsbury</td>\n",
       "      <td>9b6kNl</td>\n",
       "      <td>MA</td>\n",
       "      <td>9b6kNl</td>\n",
       "      <td>1.273672e+09</td>\n",
       "      <td>bit.ly</td>\n",
       "      <td>NaN</td>\n",
       "      <td>bitly</td>\n",
       "      <td>[42.286499, -71.714699]</td>\n",
       "      <td>0.0</td>\n",
       "      <td>http://www.shrewsbury-ma.gov/selco/</td>\n",
       "      <td>1.331923e+09</td>\n",
       "      <td>America/New_York</td>\n",
       "      <td>http://www.shrewsbury-ma.gov/egov/gallery/1341...</td>\n",
       "    </tr>\n",
       "  </tbody>\n",
       "</table>\n",
       "</div>"
      ],
      "text/plain": [
       "   _heartbeat_                                                  a  \\\n",
       "1          NaN                             GoogleMaps/RochesterNY   \n",
       "2          NaN  Mozilla/4.0 (compatible; MSIE 8.0; Windows NT ...   \n",
       "3          NaN  Mozilla/5.0 (Macintosh; Intel Mac OS X 10_6_8)...   \n",
       "4          NaN  Mozilla/5.0 (Windows NT 6.1; WOW64) AppleWebKi...   \n",
       "\n",
       "               al   c          cy       g  gr       h            hc  \\\n",
       "1             NaN  US       Provo  mwszkS  UT  mwszkS  1.308262e+09   \n",
       "2           en-US  US  Washington  xxr3Qb  DC  xxr3Qb  1.331920e+09   \n",
       "3           pt-br  BR        Braz  zCaLwp  27  zUtuOu  1.331923e+09   \n",
       "4  en-US,en;q=0.8  US  Shrewsbury  9b6kNl  MA  9b6kNl  1.273672e+09   \n",
       "\n",
       "          hh   kw         l                        ll   nk  \\\n",
       "1       j.mp  NaN     bitly  [40.218102, -111.613297]  0.0   \n",
       "2  1.usa.gov  NaN     bitly     [38.9007, -77.043098]  1.0   \n",
       "3  1.usa.gov  NaN  alelex88  [-23.549999, -46.616699]  0.0   \n",
       "4     bit.ly  NaN     bitly   [42.286499, -71.714699]  0.0   \n",
       "\n",
       "                                     r             t                 tz  \\\n",
       "1             http://www.AwareMap.com/  1.331923e+09     America/Denver   \n",
       "2                 http://t.co/03elZC4Q  1.331923e+09   America/New_York   \n",
       "3                               direct  1.331923e+09  America/Sao_Paulo   \n",
       "4  http://www.shrewsbury-ma.gov/selco/  1.331923e+09   America/New_York   \n",
       "\n",
       "                                                   u  \n",
       "1        http://www.monroecounty.gov/etc/911/rss.php  \n",
       "2  http://boxer.senate.gov/en/press/releases/0316...  \n",
       "3            http://apod.nasa.gov/apod/ap120312.html  \n",
       "4  http://www.shrewsbury-ma.gov/egov/gallery/1341...  "
      ]
     },
     "execution_count": 43,
     "metadata": {},
     "output_type": "execute_result"
    }
   ],
   "source": [
    "#Counting TimeZone with pandas\n",
    "from pandas import DataFrame, Series\n",
    "import pandas as pd\n",
    "frame = DataFrame(records)\n",
    "frame[1:5]"
   ]
  },
  {
   "cell_type": "code",
   "execution_count": 44,
   "metadata": {
    "collapsed": false
   },
   "outputs": [
    {
     "data": {
      "text/plain": [
       "0     America/New_York\n",
       "1       America/Denver\n",
       "2     America/New_York\n",
       "3    America/Sao_Paulo\n",
       "4     America/New_York\n",
       "5     America/New_York\n",
       "6        Europe/Warsaw\n",
       "7                     \n",
       "8                     \n",
       "9                     \n",
       "Name: tz, dtype: object"
      ]
     },
     "execution_count": 44,
     "metadata": {},
     "output_type": "execute_result"
    }
   ],
   "source": [
    "frame['tz'][:10]"
   ]
  },
  {
   "cell_type": "code",
   "execution_count": 47,
   "metadata": {
    "collapsed": false
   },
   "outputs": [
    {
     "data": {
      "text/plain": [
       "                       521\n",
       "America/Chicago        400\n",
       "America/Los_Angeles    382\n",
       "America/Denver         191\n",
       "Europe/London           74\n",
       "Asia/Tokyo              37\n",
       "Pacific/Honolulu        36\n",
       "Europe/Madrid           35\n",
       "America/Sao_Paulo       33\n",
       "Name: tz, dtype: int64"
      ]
     },
     "execution_count": 47,
     "metadata": {},
     "output_type": "execute_result"
    }
   ],
   "source": [
    "tz_counts = frame['tz'].value_counts()\n",
    "tz_counts[1:10]"
   ]
  },
  {
   "cell_type": "code",
   "execution_count": 49,
   "metadata": {
    "collapsed": false
   },
   "outputs": [
    {
     "data": {
      "text/plain": [
       "America/New_York       1251\n",
       "Unknown                 521\n",
       "America/Chicago         400\n",
       "America/Los_Angeles     382\n",
       "America/Denver          191\n",
       "Missing                 120\n",
       "Europe/London            74\n",
       "Asia/Tokyo               37\n",
       "Pacific/Honolulu         36\n",
       "Europe/Madrid            35\n",
       "Name: tz, dtype: int64"
      ]
     },
     "execution_count": 49,
     "metadata": {},
     "output_type": "execute_result"
    }
   ],
   "source": [
    "clean_tz = frame['tz'].fillna('Missing') #Fillna function can be used for\n",
    "clean_tz[clean_tz == ''] = 'Unknown' # Fill empty string as unknown\n",
    "tz_counts = clean_tz.value_counts()\n",
    "tz_counts[:10]"
   ]
  },
  {
   "cell_type": "code",
   "execution_count": 52,
   "metadata": {
    "collapsed": false
   },
   "outputs": [
    {
     "data": {
      "text/plain": [
       "<matplotlib.axes._subplots.AxesSubplot at 0x7f6c10027b38>"
      ]
     },
     "execution_count": 52,
     "metadata": {},
     "output_type": "execute_result"
    },
    {
     "data": {
      "image/png": "[encoded data removed]",
      "text/plain": [
       "<matplotlib.figure.Figure at 0x7f6c100270b8>"
      ]
     },
     "metadata": {},
     "output_type": "display_data"
    }
   ],
   "source": [
    "%matplotlib inline #Needed else matplot does not show map inline\n",
    "tz_counts[:5].plot(kind = 'barh', rot = 0)"
   ]
  },
  {
   "cell_type": "code",
   "execution_count": 55,
   "metadata": {
    "collapsed": false
   },
   "outputs": [
    {
     "data": {
      "text/plain": [
       "1                               GoogleMaps/RochesterNY\n",
       "2    Mozilla/4.0 (compatible; MSIE 8.0; Windows NT ...\n",
       "3    Mozilla/5.0 (Macintosh; Intel Mac OS X 10_6_8)...\n",
       "4    Mozilla/5.0 (Windows NT 6.1; WOW64) AppleWebKi...\n",
       "Name: a, dtype: object"
      ]
     },
     "execution_count": 55,
     "metadata": {},
     "output_type": "execute_result"
    }
   ],
   "source": [
    "#The 'a' field\n",
    "\n",
    "frame['a'][1:5]\n",
    "#contains information about the browser, device, or application used to \n",
    "#perform URL shortening"
   ]
  },
  {
   "cell_type": "code",
   "execution_count": 56,
   "metadata": {
    "collapsed": false
   },
   "outputs": [
    {
     "data": {
      "text/plain": [
       "0               Mozilla/5.0\n",
       "1    GoogleMaps/RochesterNY\n",
       "2               Mozilla/4.0\n",
       "3               Mozilla/5.0\n",
       "4               Mozilla/5.0\n",
       "dtype: object"
      ]
     },
     "execution_count": 56,
     "metadata": {},
     "output_type": "execute_result"
    }
   ],
   "source": [
    "#split off first token in string and make summary of user behavior\n",
    "results = Series([x.split()[0] for x in frame.a.dropna()])\n",
    "results[:5]"
   ]
  },
  {
   "cell_type": "code",
   "execution_count": 57,
   "metadata": {
    "collapsed": false
   },
   "outputs": [
    {
     "data": {
      "text/plain": [
       "Mozilla/5.0                 2594\n",
       "Mozilla/4.0                  601\n",
       "GoogleMaps/RochesterNY       121\n",
       "Opera/9.80                    34\n",
       "TEST_INTERNET_AGENT           24\n",
       "GoogleProducer                21\n",
       "Mozilla/6.0                    5\n",
       "BlackBerry8520/5.0.0.681       4\n",
       "dtype: int64"
      ]
     },
     "execution_count": 57,
     "metadata": {},
     "output_type": "execute_result"
    }
   ],
   "source": [
    "results.value_counts()[:8]"
   ]
  },
  {
   "cell_type": "code",
   "execution_count": 58,
   "metadata": {
    "collapsed": false
   },
   "outputs": [
    {
     "data": {
      "text/plain": [
       "array(['Windows', 'Not Windows', 'Windows', 'Not Windows', 'Windows'], \n",
       "      dtype='<U11')"
      ]
     },
     "execution_count": 58,
     "metadata": {},
     "output_type": "execute_result"
    }
   ],
   "source": [
    "#Decomposing the top time zone into Windows vs non-windows\n",
    "cframe = frame[frame.a.notnull()]\n",
    "operating_system = np.where(cframe['a'].str.contains('Windows'),'Windows','Not Windows')\n",
    "operating_system[:5]"
   ]
  },
  {
   "cell_type": "code",
   "execution_count": null,
   "metadata": {
    "collapsed": true
   },
   "outputs": [],
   "source": []
  }
 ],
 "metadata": {
  "kernelspec": {
   "display_name": "Python 3",
   "language": "python",
   "name": "python3"
  },
  "language_info": {
   "codemirror_mode": {
    "name": "ipython",
    "version": 3
   },
   "file_extension": ".py",
   "mimetype": "text/x-python",
   "name": "python",
   "nbconvert_exporter": "python",
   "pygments_lexer": "ipython3",
   "version": "3.5.1"
  }
 },
 "nbformat": 4,
 "nbformat_minor": 0
}
