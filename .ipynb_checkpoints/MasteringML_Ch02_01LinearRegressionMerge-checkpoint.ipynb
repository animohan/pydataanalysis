{
 "cells": [
  {
   "cell_type": "code",
   "execution_count": 2,
   "metadata": {
    "collapsed": false
   },
   "outputs": [
    {
     "name": "stdout",
     "output_type": "stream",
     "text": [
      "Intercept alpha: -0.77\n",
      "Slope-Beta: 1.22\n"
     ]
    },
    {
     "data": {
      "image/png": "[encoded data removed]",
      "text/plain": [
       "<matplotlib.figure.Figure at 0x689f3f72e8>"
      ]
     },
     "metadata": {},
     "output_type": "display_data"
    }
   ],
   "source": [
    "import numpy as np\n",
    "import matplotlib.pyplot as plt\n",
    "import pandas as pd\n",
    "%matplotlib inline\n",
    "from sklearn.linear_model import LinearRegression\n",
    "\n",
    "#Linear regression\n",
    "x = pd.Series([6, 8, 10, 14,18])\n",
    "y = pd.Series([7,9,13,17.5,18])\n",
    "plt.plot(x,y, \"r*\")\n",
    "plt.axis([0,25,0,25])\n",
    "plt.xlabel(\"Pizza size in inches\")\n",
    "plt.ylabel(\"Pizza prices\")\n",
    "\n",
    "beta = np.cov(x,y)[0][1]/np.var(x)\n",
    "alpha = np.mean(y)-beta*np.mean(x)\n",
    "print(\"Intercept: alpha: %.2f\"%alpha)\n",
    "print(\"Slope: Beta: %.2f\" %beta)\n",
    "\n"
   ]
  },
  {
   "cell_type": "code",
   "execution_count": 37,
   "metadata": {
    "collapsed": false
   },
   "outputs": [
    {
     "name": "stdout",
     "output_type": "stream",
     "text": [
      "Total Variance: 56.8\n",
      "Residual Variance 19.19821359\n",
      "R Square value 0.6620032818661972\n",
      "Coefficient of the fit\n",
      "  [[ 0.9762931]]\n"
     ]
    },
    {
     "data": {
      "text/plain": [
       "array([ 9.77586226])"
      ]
     },
     "execution_count": 37,
     "metadata": {},
     "output_type": "execute_result"
    }
   ],
   "source": [
    "#Test data\n",
    "xtest = pd.Series([8, 9, 11, 16,12])#Declaring data as series\n",
    "ytest = pd.Series([11,8.5,15,18,11])\n",
    "ypred = pd.Series([9.7759, 10.7522,12.7048,17.5863,13.6811])\n",
    "\n",
    "\n",
    "#Fitting the model\n",
    "model = LinearRegression()\n",
    "#model.fit([x],[y])\n",
    "#print(\"Model prediction\", model.predict([8))\n",
    "#print(\"Rsquared Value\", model.score([xtest],[ytest]))\n",
    "\n",
    "#Evaluating a model manually\n",
    "tss = np.sum((ytest-np.mean(ytest))**2)\n",
    "print(\"Total Variance:\", tss)\n",
    "rss = np.sum((ytest-ypred)**2)\n",
    "print(\"Residual Variance\", rss)\n",
    "rsquare = (tss-rss)/tss\n",
    "print(\"R Square value\", rsquare)\n",
    "\n",
    "x=[[6], [8], [10], [14],[18]]\n",
    "y=[[7],[9],[13],[17.5],[18]]\n",
    "#x=[6, 8, 10, 14,18]\n",
    "#y=[7,9,13,17.5,18]\n",
    "#x = np.array([[6,8,10,14,18]])\n",
    "#y = np.array([[7,8,13,17.5,18]])\n",
    "lm = LinearRegression()\n",
    "lm.fit(x,y) #x and y are np.ndarray type\n",
    "print(\"Coefficient of the fit\\n \", lm.coef_)\n",
    "\n",
    "xtest = [[8], [9], [11], [16],[12]]\n",
    "lm.predict(xtest)\n",
    "\n",
    "#type(x)\n",
    "#lm.predict(np.array([1,2,3,4,5]))\n",
    "#print(\"Predict\",lm.predict([[xtest]))"
   ]
  },
  {
   "cell_type": "code",
   "execution_count": 103,
   "metadata": {
    "collapsed": false
   },
   "outputs": [
    {
     "name": "stdout",
     "output_type": "stream",
     "text": [
      "Dimensions of diabetes data (442, 10)\n",
      "Shape of input (442, 1)\n"
     ]
    },
    {
     "data": {
      "text/plain": [
       "LinearRegression(copy_X=True, fit_intercept=True, n_jobs=1, normalize=False)"
      ]
     },
     "execution_count": 103,
     "metadata": {},
     "output_type": "execute_result"
    }
   ],
   "source": [
    "from sklearn import datasets\n",
    "#Example from web\n",
    "diabetes = datasets.load_diabetes()\n",
    "a = diabetes.data\n",
    "print(\"Dimensions of diabetes data\", a.shape)\n",
    "diabetesx = a[:,np.newaxis,1]\n",
    "print(\"Shape of input\", diabetesx.shape)\n",
    "diabetesy = diabetes.target\n",
    "\n",
    "reg = LinearRegression()\n",
    "reg.fit(diabetesx,diabetesy)\n",
    "print(\"Coefficient\")\n"
   ]
  },
  {
   "cell_type": "code",
   "execution_count": 102,
   "metadata": {
    "collapsed": false
   },
   "outputs": [
    {
     "data": {
      "text/plain": [
       "(3, 1)"
      ]
     },
     "execution_count": 102,
     "metadata": {},
     "output_type": "execute_result"
    }
   ],
   "source": [
    "a = np.array([[1],[2],[3]])\n",
    "a.shape"
   ]
  },
  {
   "cell_type": "code",
   "execution_count": 94,
   "metadata": {
    "collapsed": false
   },
   "outputs": [
    {
     "name": "stdout",
     "output_type": "stream",
     "text": [
      "(2, 1, 2)\n",
      "[[[ 0.  0.]]\n",
      "\n",
      " [[ 0.  0.]]]\n"
     ]
    }
   ],
   "source": []
  },
  {
   "cell_type": "code",
   "execution_count": 95,
   "metadata": {
    "collapsed": false
   },
   "outputs": [
    {
     "name": "stdout",
     "output_type": "stream",
     "text": [
      "(1, 2, 2)\n",
      "[[[ 0.  0.]\n",
      "  [ 0.  0.]]]\n"
     ]
    }
   ],
   "source": []
  },
  {
   "cell_type": "code",
   "execution_count": 87,
   "metadata": {
    "collapsed": false
   },
   "outputs": [
    {
     "data": {
      "text/plain": [
       "array([[[ 1.,  1.],\n",
       "        [ 1.,  1.]]])"
      ]
     },
     "execution_count": 87,
     "metadata": {},
     "output_type": "execute_result"
    }
   ],
   "source": [
    "\n",
    "            "
   ]
  },
  {
   "cell_type": "code",
   "execution_count": null,
   "metadata": {
    "collapsed": true
   },
   "outputs": [],
   "source": []
  }
 ],
 "metadata": {
  "kernelspec": {
   "display_name": "Python 3",
   "language": "python",
   "name": "python3"
  },
  "language_info": {
   "codemirror_mode": {
    "name": "ipython",
    "version": 3
   },
   "file_extension": ".py",
   "mimetype": "text/x-python",
   "name": "python",
   "nbconvert_exporter": "python",
   "pygments_lexer": "ipython3",
   "version": "3.5.1"
  }
 },
 "nbformat": 4,
 "nbformat_minor": 0
}
