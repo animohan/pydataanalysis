{
 "cells": [
  {
   "cell_type": "code",
   "execution_count": 2,
   "metadata": {
    "collapsed": true
   },
   "outputs": [],
   "source": [
    "import numpy as np\n",
    "import pandas as pd\n",
    "import matplotlib.pyplot as plt\n",
    "import matplotlib as mpl\n",
    "import seaborn as sns\n",
    "import statsmodels.formula.api as smf\n",
    "\n",
    "%matplotlib inline"
   ]
  },
  {
   "cell_type": "code",
   "execution_count": 7,
   "metadata": {
    "collapsed": false
   },
   "outputs": [
    {
     "data": {
      "text/html": [
       "<div>\n",
       "<table border=\"1\" class=\"dataframe\">\n",
       "  <thead>\n",
       "    <tr style=\"text-align: right;\">\n",
       "      <th></th>\n",
       "      <th>crim</th>\n",
       "      <th>zn</th>\n",
       "      <th>indus</th>\n",
       "      <th>chas</th>\n",
       "      <th>nox</th>\n",
       "      <th>rm</th>\n",
       "      <th>age</th>\n",
       "      <th>dis</th>\n",
       "      <th>rad</th>\n",
       "      <th>tax</th>\n",
       "      <th>ptratio</th>\n",
       "      <th>black</th>\n",
       "      <th>lstat</th>\n",
       "      <th>medv</th>\n",
       "    </tr>\n",
       "  </thead>\n",
       "  <tbody>\n",
       "    <tr>\n",
       "      <th>0</th>\n",
       "      <td>0.00632</td>\n",
       "      <td>18.0</td>\n",
       "      <td>2.31</td>\n",
       "      <td>0</td>\n",
       "      <td>0.538</td>\n",
       "      <td>6.575</td>\n",
       "      <td>65.2</td>\n",
       "      <td>4.0900</td>\n",
       "      <td>1</td>\n",
       "      <td>296</td>\n",
       "      <td>15.3</td>\n",
       "      <td>396.90</td>\n",
       "      <td>4.98</td>\n",
       "      <td>24.0</td>\n",
       "    </tr>\n",
       "    <tr>\n",
       "      <th>1</th>\n",
       "      <td>0.02731</td>\n",
       "      <td>0.0</td>\n",
       "      <td>7.07</td>\n",
       "      <td>0</td>\n",
       "      <td>0.469</td>\n",
       "      <td>6.421</td>\n",
       "      <td>78.9</td>\n",
       "      <td>4.9671</td>\n",
       "      <td>2</td>\n",
       "      <td>242</td>\n",
       "      <td>17.8</td>\n",
       "      <td>396.90</td>\n",
       "      <td>9.14</td>\n",
       "      <td>21.6</td>\n",
       "    </tr>\n",
       "    <tr>\n",
       "      <th>2</th>\n",
       "      <td>0.02729</td>\n",
       "      <td>0.0</td>\n",
       "      <td>7.07</td>\n",
       "      <td>0</td>\n",
       "      <td>0.469</td>\n",
       "      <td>7.185</td>\n",
       "      <td>61.1</td>\n",
       "      <td>4.9671</td>\n",
       "      <td>2</td>\n",
       "      <td>242</td>\n",
       "      <td>17.8</td>\n",
       "      <td>392.83</td>\n",
       "      <td>4.03</td>\n",
       "      <td>34.7</td>\n",
       "    </tr>\n",
       "    <tr>\n",
       "      <th>3</th>\n",
       "      <td>0.03237</td>\n",
       "      <td>0.0</td>\n",
       "      <td>2.18</td>\n",
       "      <td>0</td>\n",
       "      <td>0.458</td>\n",
       "      <td>6.998</td>\n",
       "      <td>45.8</td>\n",
       "      <td>6.0622</td>\n",
       "      <td>3</td>\n",
       "      <td>222</td>\n",
       "      <td>18.7</td>\n",
       "      <td>394.63</td>\n",
       "      <td>2.94</td>\n",
       "      <td>33.4</td>\n",
       "    </tr>\n",
       "    <tr>\n",
       "      <th>4</th>\n",
       "      <td>0.06905</td>\n",
       "      <td>0.0</td>\n",
       "      <td>2.18</td>\n",
       "      <td>0</td>\n",
       "      <td>0.458</td>\n",
       "      <td>7.147</td>\n",
       "      <td>54.2</td>\n",
       "      <td>6.0622</td>\n",
       "      <td>3</td>\n",
       "      <td>222</td>\n",
       "      <td>18.7</td>\n",
       "      <td>396.90</td>\n",
       "      <td>5.33</td>\n",
       "      <td>36.2</td>\n",
       "    </tr>\n",
       "  </tbody>\n",
       "</table>\n",
       "</div>"
      ],
      "text/plain": [
       "      crim    zn  indus  chas    nox     rm   age     dis  rad  tax  ptratio  \\\n",
       "0  0.00632  18.0   2.31     0  0.538  6.575  65.2  4.0900    1  296     15.3   \n",
       "1  0.02731   0.0   7.07     0  0.469  6.421  78.9  4.9671    2  242     17.8   \n",
       "2  0.02729   0.0   7.07     0  0.469  7.185  61.1  4.9671    2  242     17.8   \n",
       "3  0.03237   0.0   2.18     0  0.458  6.998  45.8  6.0622    3  222     18.7   \n",
       "4  0.06905   0.0   2.18     0  0.458  7.147  54.2  6.0622    3  222     18.7   \n",
       "\n",
       "    black  lstat  medv  \n",
       "0  396.90   4.98  24.0  \n",
       "1  396.90   9.14  21.6  \n",
       "2  392.83   4.03  34.7  \n",
       "3  394.63   2.94  33.4  \n",
       "4  396.90   5.33  36.2  "
      ]
     },
     "execution_count": 7,
     "metadata": {},
     "output_type": "execute_result"
    }
   ],
   "source": [
    "# Read the Boston Data\n",
    "data = pd.read_csv(\"datasets/ISLR/Boston.csv\")\n",
    "data.head()"
   ]
  },
  {
   "cell_type": "code",
   "execution_count": null,
   "metadata": {
    "collapsed": false
   },
   "outputs": [],
   "source": [
    "#Description of the Boston Data\n",
    "# Boston dataset has 506 rows and 14 columns\n",
    "# Columns are:\n",
    "# crim: per capita crime rate by town\n",
    "# zn: proportion of residential land zoned for lots over 250000 sqft\n",
    "# indux: proportion of non-retail business acres per town\n",
    "# chas: Charles River dummy variable(=1 if tract bounds river,  otherwise)\n",
    "# nox: nitrogen oxides concentration(parts per 10 million)\n",
    "# rm: average number of rooms per dwelling\n",
    "# age: proportion of owner occupied units built prior to 1940\n",
    "# dis: weighted mean of distances to five Boston Employment centers\n",
    "# rad: index of accessibility to radial highways\n",
    "# tax: full-value property-tax rate per $10K\n",
    "# ptratio:  pupli-teacher ratio per town.\n",
    "# black: 1000*(Bk -0.63)^2 where Bk is the proportion of blacks by town.\n",
    "# lstat: lower status of the population(percent)\n",
    "# medv: median value of owner occupied homes in $1000s\n",
    "\n",
    "# Source:\n",
    "# Harrison, D. and Rubinfeld, D.L. (1978) Hedonic prices and the demand for clean air. J. Environ. Economics and Management 5, 81–102.\n",
    "# Belsley D.A., Kuh, E. and Welsch, R.E. (1980) Regression Diagnostics. Identifying Influential Data and Sources of Collinearity. New York: Wiley."
   ]
  },
  {
   "cell_type": "code",
   "execution_count": 55,
   "metadata": {
    "collapsed": false
   },
   "outputs": [
    {
     "data": {
      "text/plain": [
       "<matplotlib.text.Text at 0x2865ef2ef0>"
      ]
     },
     "execution_count": 55,
     "metadata": {},
     "output_type": "execute_result"
    },
    {
     "data": {
      "image/png": "[encoded data removed]",
      "text/plain": [
       "<matplotlib.figure.Figure at 0x2865e91978>"
      ]
     },
     "metadata": {},
     "output_type": "display_data"
    }
   ],
   "source": [
    "fig,axs = plt.subplots(1,2)\n",
    "data.plot(kind = \"scatter\", x = \"age\", y = \"crim\", marker = '*',color =\"green\",ax= axs[0], figsize =(12,8))\n",
    "axs[0].set_xlabel(\"Age of property\")\n",
    "axs[0].set_ylabel(\"Per capita crime Rate\")\n",
    "\n",
    "data.plot(kind = \"scatter\", x = \"dis\", y = \"crim\", color = \"red\", marker = 'o',ax= axs[1])\n",
    "axs[1].set_xlabel(\"Distance to Employment Center\")\n",
    "axs[1].set_ylabel(\"Per capita crime Rate\")"
   ]
  },
  {
   "cell_type": "markdown",
   "metadata": {},
   "source": [
    "Graph on the left shows the relationship between the per capita crime rate \n",
    "and proportion of owner occupied units that are built prior to 1940. There seems to be higher rate of crime, when the community has older buildings.\n",
    "\n",
    "Graph on the right shows come relationship between the per capita crime rate and the distance of the city/count to the five development centers.\n",
    "Crime rate seems to be lower as the distance from Employment centers increase.\n"
   ]
  },
  {
   "cell_type": "code",
   "execution_count": 60,
   "metadata": {
    "collapsed": false
   },
   "outputs": [
    {
     "data": {
      "text/plain": [
       "<matplotlib.text.Text at 0x2867313518>"
      ]
     },
     "execution_count": 60,
     "metadata": {},
     "output_type": "execute_result"
    },
    {
     "data": {
      "image/png": "[encoded data removed]",
      "text/plain": [
       "<matplotlib.figure.Figure at 0x2867159470>"
      ]
     },
     "metadata": {},
     "output_type": "display_data"
    }
   ],
   "source": [
    "fig,(ax1,ax2) = plt.subplots(1,2,figsize =(12,8))\n",
    "ax1.scatter(data[\"crim\"],data[\"lstat\"], color = \"blue\", marker = \"o\")\n",
    "ax1.set_xlabel(\"% of Lower Status Population\")\n",
    "ax1.set_ylabel(\"Per capita crime rate.\")\n",
    "\n",
    "ax2.scatter(data[\"crim\"],data[\"medv\"],color = \"red\", marker = \"*\" )\n",
    "ax2.set_xlabel(\"Median value of owner occupied home\")\n",
    "ax2.set_ylabel(\"Per capita crime rate\")\n",
    "\n"
   ]
  },
  {
   "cell_type": "markdown",
   "metadata": {},
   "source": [
    "Graph on the left shows the relationship between the per capita crime rate and proportion of population being lower status population.\n",
    "\n",
    "Graph on the right shows come relationship between the per capita crime rate and median value of the house. Crime rate seems to be lower as the median value of the houses increase.\n"
   ]
  },
  {
   "cell_type": "markdown",
   "metadata": {},
   "source": [
    "## Multi-Linear Regression"
   ]
  },
  {
   "cell_type": "code",
   "execution_count": 80,
   "metadata": {
    "collapsed": false
   },
   "outputs": [],
   "source": [
    "import statsmodels.formula.api as smf\n",
    "from sklearn.cross_validation import train_test_split\n",
    "\n",
    "#Partition the data into test and training samples\n",
    "trainBoston, testBoston = train_test_split(data, test_size=0.2)"
   ]
  },
  {
   "cell_type": "code",
   "execution_count": 82,
   "metadata": {
    "collapsed": false
   },
   "outputs": [
    {
     "name": "stdout",
     "output_type": "stream",
     "text": [
      "Training Data dimensions: (404, 14)\n",
      "Test Data dimensions: (102, 14)\n"
     ]
    },
    {
     "data": {
      "text/html": [
       "<div>\n",
       "<table border=\"1\" class=\"dataframe\">\n",
       "  <thead>\n",
       "    <tr style=\"text-align: right;\">\n",
       "      <th></th>\n",
       "      <th>crim</th>\n",
       "      <th>zn</th>\n",
       "      <th>indus</th>\n",
       "      <th>chas</th>\n",
       "      <th>nox</th>\n",
       "      <th>rm</th>\n",
       "      <th>age</th>\n",
       "      <th>dis</th>\n",
       "      <th>rad</th>\n",
       "      <th>tax</th>\n",
       "      <th>ptratio</th>\n",
       "      <th>black</th>\n",
       "      <th>lstat</th>\n",
       "      <th>medv</th>\n",
       "    </tr>\n",
       "  </thead>\n",
       "  <tbody>\n",
       "    <tr>\n",
       "      <th>323</th>\n",
       "      <td>0.28392</td>\n",
       "      <td>0.0</td>\n",
       "      <td>7.38</td>\n",
       "      <td>0</td>\n",
       "      <td>0.493</td>\n",
       "      <td>5.708</td>\n",
       "      <td>74.3</td>\n",
       "      <td>4.7211</td>\n",
       "      <td>5</td>\n",
       "      <td>287</td>\n",
       "      <td>19.6</td>\n",
       "      <td>391.13</td>\n",
       "      <td>11.74</td>\n",
       "      <td>18.5</td>\n",
       "    </tr>\n",
       "    <tr>\n",
       "      <th>476</th>\n",
       "      <td>4.87141</td>\n",
       "      <td>0.0</td>\n",
       "      <td>18.10</td>\n",
       "      <td>0</td>\n",
       "      <td>0.614</td>\n",
       "      <td>6.484</td>\n",
       "      <td>93.6</td>\n",
       "      <td>2.3053</td>\n",
       "      <td>24</td>\n",
       "      <td>666</td>\n",
       "      <td>20.2</td>\n",
       "      <td>396.21</td>\n",
       "      <td>18.68</td>\n",
       "      <td>16.7</td>\n",
       "    </tr>\n",
       "    <tr>\n",
       "      <th>29</th>\n",
       "      <td>1.00245</td>\n",
       "      <td>0.0</td>\n",
       "      <td>8.14</td>\n",
       "      <td>0</td>\n",
       "      <td>0.538</td>\n",
       "      <td>6.674</td>\n",
       "      <td>87.3</td>\n",
       "      <td>4.2390</td>\n",
       "      <td>4</td>\n",
       "      <td>307</td>\n",
       "      <td>21.0</td>\n",
       "      <td>380.23</td>\n",
       "      <td>11.98</td>\n",
       "      <td>21.0</td>\n",
       "    </tr>\n",
       "    <tr>\n",
       "      <th>421</th>\n",
       "      <td>7.02259</td>\n",
       "      <td>0.0</td>\n",
       "      <td>18.10</td>\n",
       "      <td>0</td>\n",
       "      <td>0.718</td>\n",
       "      <td>6.006</td>\n",
       "      <td>95.3</td>\n",
       "      <td>1.8746</td>\n",
       "      <td>24</td>\n",
       "      <td>666</td>\n",
       "      <td>20.2</td>\n",
       "      <td>319.98</td>\n",
       "      <td>15.70</td>\n",
       "      <td>14.2</td>\n",
       "    </tr>\n",
       "    <tr>\n",
       "      <th>287</th>\n",
       "      <td>0.03871</td>\n",
       "      <td>52.5</td>\n",
       "      <td>5.32</td>\n",
       "      <td>0</td>\n",
       "      <td>0.405</td>\n",
       "      <td>6.209</td>\n",
       "      <td>31.3</td>\n",
       "      <td>7.3172</td>\n",
       "      <td>6</td>\n",
       "      <td>293</td>\n",
       "      <td>16.6</td>\n",
       "      <td>396.90</td>\n",
       "      <td>7.14</td>\n",
       "      <td>23.2</td>\n",
       "    </tr>\n",
       "  </tbody>\n",
       "</table>\n",
       "</div>"
      ],
      "text/plain": [
       "        crim    zn  indus  chas    nox     rm   age     dis  rad  tax  \\\n",
       "323  0.28392   0.0   7.38     0  0.493  5.708  74.3  4.7211    5  287   \n",
       "476  4.87141   0.0  18.10     0  0.614  6.484  93.6  2.3053   24  666   \n",
       "29   1.00245   0.0   8.14     0  0.538  6.674  87.3  4.2390    4  307   \n",
       "421  7.02259   0.0  18.10     0  0.718  6.006  95.3  1.8746   24  666   \n",
       "287  0.03871  52.5   5.32     0  0.405  6.209  31.3  7.3172    6  293   \n",
       "\n",
       "     ptratio   black  lstat  medv  \n",
       "323     19.6  391.13  11.74  18.5  \n",
       "476     20.2  396.21  18.68  16.7  \n",
       "29      21.0  380.23  11.98  21.0  \n",
       "421     20.2  319.98  15.70  14.2  \n",
       "287     16.6  396.90   7.14  23.2  "
      ]
     },
     "execution_count": 82,
     "metadata": {},
     "output_type": "execute_result"
    }
   ],
   "source": [
    "#Verify the training and test splits\n",
    "print(\"Training Data dimensions:\", trainBoston.shape)\n",
    "print(\"Test Data dimensions:\", testBoston.shape)\n",
    "trainBoston.head()"
   ]
  },
  {
   "cell_type": "code",
   "execution_count": 90,
   "metadata": {
    "collapsed": false
   },
   "outputs": [
    {
     "data": {
      "text/plain": [
       "Intercept    15.841841\n",
       "zn            0.047038\n",
       "indus        -0.055046\n",
       "chas         -1.032958\n",
       "nox         -11.132480\n",
       "rm            0.956085\n",
       "age          -0.007007\n",
       "dis          -1.087897\n",
       "rad           0.617717\n",
       "tax          -0.004686\n",
       "ptratio      -0.278142\n",
       "black        -0.007033\n",
       "lstat         0.155803\n",
       "medv         -0.241206\n",
       "dtype: float64"
      ]
     },
     "execution_count": 90,
     "metadata": {},
     "output_type": "execute_result"
    }
   ],
   "source": [
    "#Applying Multi linear regression \n",
    "mlm = smf.ols(formula=\"crim~zn+indus+chas+nox+rm+age+dis+rad+tax+ptratio+black+lstat+medv\", data = trainBoston)\n",
    "mlmfit = mlm.fit()\n",
    "mlmfit.params"
   ]
  },
  {
   "cell_type": "markdown",
   "metadata": {},
   "source": [
    "The above table shows the the weighting of the various parameters as produced by the linear regression model. Lets look at a more detailed picture about the parameters and the associated confidence levels with the value."
   ]
  },
  {
   "cell_type": "code",
   "execution_count": 88,
   "metadata": {
    "collapsed": false
   },
   "outputs": [
    {
     "data": {
      "text/html": [
       "<table class=\"simpletable\">\n",
       "<caption>OLS Regression Results</caption>\n",
       "<tr>\n",
       "  <th>Dep. Variable:</th>          <td>crim</td>       <th>  R-squared:         </th> <td>   0.444</td>\n",
       "</tr>\n",
       "<tr>\n",
       "  <th>Model:</th>                   <td>OLS</td>       <th>  Adj. R-squared:    </th> <td>   0.425</td>\n",
       "</tr>\n",
       "<tr>\n",
       "  <th>Method:</th>             <td>Least Squares</td>  <th>  F-statistic:       </th> <td>   23.91</td>\n",
       "</tr>\n",
       "<tr>\n",
       "  <th>Date:</th>             <td>Thu, 27 Oct 2016</td> <th>  Prob (F-statistic):</th> <td>4.03e-42</td>\n",
       "</tr>\n",
       "<tr>\n",
       "  <th>Time:</th>                 <td>15:15:53</td>     <th>  Log-Likelihood:    </th> <td> -1353.7</td>\n",
       "</tr>\n",
       "<tr>\n",
       "  <th>No. Observations:</th>      <td>   404</td>      <th>  AIC:               </th> <td>   2735.</td>\n",
       "</tr>\n",
       "<tr>\n",
       "  <th>Df Residuals:</th>          <td>   390</td>      <th>  BIC:               </th> <td>   2791.</td>\n",
       "</tr>\n",
       "<tr>\n",
       "  <th>Df Model:</th>              <td>    13</td>      <th>                     </th>     <td> </td>   \n",
       "</tr>\n",
       "<tr>\n",
       "  <th>Covariance Type:</th>      <td>nonrobust</td>    <th>                     </th>     <td> </td>   \n",
       "</tr>\n",
       "</table>\n",
       "<table class=\"simpletable\">\n",
       "<tr>\n",
       "      <td></td>         <th>coef</th>     <th>std err</th>      <th>t</th>      <th>P>|t|</th> <th>[95.0% Conf. Int.]</th> \n",
       "</tr>\n",
       "<tr>\n",
       "  <th>Intercept</th> <td>   15.8418</td> <td>    8.751</td> <td>    1.810</td> <td> 0.071</td> <td>   -1.362    33.046</td>\n",
       "</tr>\n",
       "<tr>\n",
       "  <th>zn</th>        <td>    0.0470</td> <td>    0.023</td> <td>    2.089</td> <td> 0.037</td> <td>    0.003     0.091</td>\n",
       "</tr>\n",
       "<tr>\n",
       "  <th>indus</th>     <td>   -0.0550</td> <td>    0.103</td> <td>   -0.536</td> <td> 0.592</td> <td>   -0.257     0.147</td>\n",
       "</tr>\n",
       "<tr>\n",
       "  <th>chas</th>      <td>   -1.0330</td> <td>    1.440</td> <td>   -0.717</td> <td> 0.474</td> <td>   -3.864     1.798</td>\n",
       "</tr>\n",
       "<tr>\n",
       "  <th>nox</th>       <td>  -11.1325</td> <td>    6.541</td> <td>   -1.702</td> <td> 0.090</td> <td>  -23.992     1.727</td>\n",
       "</tr>\n",
       "<tr>\n",
       "  <th>rm</th>        <td>    0.9561</td> <td>    0.784</td> <td>    1.220</td> <td> 0.223</td> <td>   -0.585     2.497</td>\n",
       "</tr>\n",
       "<tr>\n",
       "  <th>age</th>       <td>   -0.0070</td> <td>    0.022</td> <td>   -0.315</td> <td> 0.753</td> <td>   -0.051     0.037</td>\n",
       "</tr>\n",
       "<tr>\n",
       "  <th>dis</th>       <td>   -1.0879</td> <td>    0.334</td> <td>   -3.252</td> <td> 0.001</td> <td>   -1.746    -0.430</td>\n",
       "</tr>\n",
       "<tr>\n",
       "  <th>rad</th>       <td>    0.6177</td> <td>    0.110</td> <td>    5.592</td> <td> 0.000</td> <td>    0.401     0.835</td>\n",
       "</tr>\n",
       "<tr>\n",
       "  <th>tax</th>       <td>   -0.0047</td> <td>    0.006</td> <td>   -0.722</td> <td> 0.471</td> <td>   -0.017     0.008</td>\n",
       "</tr>\n",
       "<tr>\n",
       "  <th>ptratio</th>   <td>   -0.2781</td> <td>    0.228</td> <td>   -1.218</td> <td> 0.224</td> <td>   -0.727     0.171</td>\n",
       "</tr>\n",
       "<tr>\n",
       "  <th>black</th>     <td>   -0.0070</td> <td>    0.004</td> <td>   -1.578</td> <td> 0.115</td> <td>   -0.016     0.002</td>\n",
       "</tr>\n",
       "<tr>\n",
       "  <th>lstat</th>     <td>    0.1558</td> <td>    0.095</td> <td>    1.646</td> <td> 0.101</td> <td>   -0.030     0.342</td>\n",
       "</tr>\n",
       "<tr>\n",
       "  <th>medv</th>      <td>   -0.2412</td> <td>    0.080</td> <td>   -2.999</td> <td> 0.003</td> <td>   -0.399    -0.083</td>\n",
       "</tr>\n",
       "</table>\n",
       "<table class=\"simpletable\">\n",
       "<tr>\n",
       "  <th>Omnibus:</th>       <td>511.755</td> <th>  Durbin-Watson:     </th> <td>   1.600</td> \n",
       "</tr>\n",
       "<tr>\n",
       "  <th>Prob(Omnibus):</th> <td> 0.000</td>  <th>  Jarque-Bera (JB):  </th> <td>46891.497</td>\n",
       "</tr>\n",
       "<tr>\n",
       "  <th>Skew:</th>          <td> 6.068</td>  <th>  Prob(JB):          </th> <td>    0.00</td> \n",
       "</tr>\n",
       "<tr>\n",
       "  <th>Kurtosis:</th>      <td>54.365</td>  <th>  Cond. No.          </th> <td>1.57e+04</td> \n",
       "</tr>\n",
       "</table>"
      ],
      "text/plain": [
       "<class 'statsmodels.iolib.summary.Summary'>\n",
       "\"\"\"\n",
       "                            OLS Regression Results                            \n",
       "==============================================================================\n",
       "Dep. Variable:                   crim   R-squared:                       0.444\n",
       "Model:                            OLS   Adj. R-squared:                  0.425\n",
       "Method:                 Least Squares   F-statistic:                     23.91\n",
       "Date:                Thu, 27 Oct 2016   Prob (F-statistic):           4.03e-42\n",
       "Time:                        15:15:53   Log-Likelihood:                -1353.7\n",
       "No. Observations:                 404   AIC:                             2735.\n",
       "Df Residuals:                     390   BIC:                             2791.\n",
       "Df Model:                          13                                         \n",
       "Covariance Type:            nonrobust                                         \n",
       "==============================================================================\n",
       "                 coef    std err          t      P>|t|      [95.0% Conf. Int.]\n",
       "------------------------------------------------------------------------------\n",
       "Intercept     15.8418      8.751      1.810      0.071        -1.362    33.046\n",
       "zn             0.0470      0.023      2.089      0.037         0.003     0.091\n",
       "indus         -0.0550      0.103     -0.536      0.592        -0.257     0.147\n",
       "chas          -1.0330      1.440     -0.717      0.474        -3.864     1.798\n",
       "nox          -11.1325      6.541     -1.702      0.090       -23.992     1.727\n",
       "rm             0.9561      0.784      1.220      0.223        -0.585     2.497\n",
       "age           -0.0070      0.022     -0.315      0.753        -0.051     0.037\n",
       "dis           -1.0879      0.334     -3.252      0.001        -1.746    -0.430\n",
       "rad            0.6177      0.110      5.592      0.000         0.401     0.835\n",
       "tax           -0.0047      0.006     -0.722      0.471        -0.017     0.008\n",
       "ptratio       -0.2781      0.228     -1.218      0.224        -0.727     0.171\n",
       "black         -0.0070      0.004     -1.578      0.115        -0.016     0.002\n",
       "lstat          0.1558      0.095      1.646      0.101        -0.030     0.342\n",
       "medv          -0.2412      0.080     -2.999      0.003        -0.399    -0.083\n",
       "==============================================================================\n",
       "Omnibus:                      511.755   Durbin-Watson:                   1.600\n",
       "Prob(Omnibus):                  0.000   Jarque-Bera (JB):            46891.497\n",
       "Skew:                           6.068   Prob(JB):                         0.00\n",
       "Kurtosis:                      54.365   Cond. No.                     1.57e+04\n",
       "==============================================================================\n",
       "\n",
       "Warnings:\n",
       "[1] Standard Errors assume that the covariance matrix of the errors is correctly specified.\n",
       "[2] The condition number is large, 1.57e+04. This might indicate that there are\n",
       "strong multicollinearity or other numerical problems.\n",
       "\"\"\""
      ]
     },
     "execution_count": 88,
     "metadata": {},
     "output_type": "execute_result"
    }
   ],
   "source": [
    "mlmfit.summary()"
   ]
  },
  {
   "cell_type": "markdown",
   "metadata": {},
   "source": [
    "### Adj R.Squared of the model: 0.425\n",
    "This implies that model accounts for ~43% of the error taking into account that there are 13 variables. Adj R.Squared = $1 - \\frac {\\frac{RSS}{n-d-1}}{\\frac{TSS}{n-1}}$\n",
    "- RSS = Residual Sum of Squares and \n",
    "- TSS = Total sum of squares for the response $\\sum(y- \\hat y)^2$ \n",
    "\n",
    "### P-Value: Ranges from 0.001 to 0.8\n",
    "The t-statistic scores are not that high and hence the p-values are not low. For selecting a metric, we generally target a p-value of 0.05 or lower because that gives us 95% accuracy probability\n",
    "\n",
    "### Significant factors:\n",
    "From the model, it looks like the top 5 factors that could influence the per capita crime rates are:\n",
    "\n",
    "- zn: proportion of residential land zoned for lots over 250000 sqft\n",
    "- dis: weighted mean of distances to five Boston Employment centers\n",
    "- rad: index of accessibility to radial highways\n",
    "- medv: median value of owner occupied homes in $1000s\n",
    "\n",
    "Next we will try to just build the model with these key variables. Then we will compare the result of the full model and the reduced model with the test data"
   ]
  },
  {
   "cell_type": "code",
   "execution_count": 100,
   "metadata": {
    "collapsed": false
   },
   "outputs": [
    {
     "data": {
      "text/plain": [
       "1258.3761631712446"
      ]
     },
     "execution_count": 100,
     "metadata": {},
     "output_type": "execute_result"
    }
   ],
   "source": [
    "#Prediction on the test data set.\n",
    "predictTestBoston = mlmfit.predict(testBoston)\n",
    "error = sum(np.square((predictTestBoston - testBoston[\"crim\"])))\n",
    "\n",
    "#Total Squared Error in the the Test set prediction\n",
    "print(\"Prediction Error: \", error)\n"
   ]
  },
  {
   "cell_type": "code",
   "execution_count": 117,
   "metadata": {
    "collapsed": false
   },
   "outputs": [
    {
     "data": {
      "text/html": [
       "<table class=\"simpletable\">\n",
       "<caption>OLS Regression Results</caption>\n",
       "<tr>\n",
       "  <th>Dep. Variable:</th>          <td>crim</td>       <th>  R-squared:         </th> <td>   0.421</td>\n",
       "</tr>\n",
       "<tr>\n",
       "  <th>Model:</th>                   <td>OLS</td>       <th>  Adj. R-squared:    </th> <td>   0.416</td>\n",
       "</tr>\n",
       "<tr>\n",
       "  <th>Method:</th>             <td>Least Squares</td>  <th>  F-statistic:       </th> <td>   72.62</td>\n",
       "</tr>\n",
       "<tr>\n",
       "  <th>Date:</th>             <td>Thu, 27 Oct 2016</td> <th>  Prob (F-statistic):</th> <td>3.44e-46</td>\n",
       "</tr>\n",
       "<tr>\n",
       "  <th>Time:</th>                 <td>16:37:23</td>     <th>  Log-Likelihood:    </th> <td> -1361.6</td>\n",
       "</tr>\n",
       "<tr>\n",
       "  <th>No. Observations:</th>      <td>   404</td>      <th>  AIC:               </th> <td>   2733.</td>\n",
       "</tr>\n",
       "<tr>\n",
       "  <th>Df Residuals:</th>          <td>   399</td>      <th>  BIC:               </th> <td>   2753.</td>\n",
       "</tr>\n",
       "<tr>\n",
       "  <th>Df Model:</th>              <td>     4</td>      <th>                     </th>     <td> </td>   \n",
       "</tr>\n",
       "<tr>\n",
       "  <th>Covariance Type:</th>      <td>nonrobust</td>    <th>                     </th>     <td> </td>   \n",
       "</tr>\n",
       "</table>\n",
       "<table class=\"simpletable\">\n",
       "<tr>\n",
       "      <td></td>         <th>coef</th>     <th>std err</th>      <th>t</th>      <th>P>|t|</th> <th>[95.0% Conf. Int.]</th> \n",
       "</tr>\n",
       "<tr>\n",
       "  <th>Intercept</th> <td>    5.5997</td> <td>    1.697</td> <td>    3.300</td> <td> 0.001</td> <td>    2.264     8.936</td>\n",
       "</tr>\n",
       "<tr>\n",
       "  <th>zn</th>        <td>    0.0563</td> <td>    0.021</td> <td>    2.679</td> <td> 0.008</td> <td>    0.015     0.098</td>\n",
       "</tr>\n",
       "<tr>\n",
       "  <th>rad</th>       <td>    0.5241</td> <td>    0.051</td> <td>   10.369</td> <td> 0.000</td> <td>    0.425     0.623</td>\n",
       "</tr>\n",
       "<tr>\n",
       "  <th>dis</th>       <td>   -0.7354</td> <td>    0.245</td> <td>   -3.003</td> <td> 0.003</td> <td>   -1.217    -0.254</td>\n",
       "</tr>\n",
       "<tr>\n",
       "  <th>medv</th>      <td>   -0.2064</td> <td>    0.046</td> <td>   -4.473</td> <td> 0.000</td> <td>   -0.297    -0.116</td>\n",
       "</tr>\n",
       "</table>\n",
       "<table class=\"simpletable\">\n",
       "<tr>\n",
       "  <th>Omnibus:</th>       <td>509.955</td> <th>  Durbin-Watson:     </th> <td>   1.561</td> \n",
       "</tr>\n",
       "<tr>\n",
       "  <th>Prob(Omnibus):</th> <td> 0.000</td>  <th>  Jarque-Bera (JB):  </th> <td>45048.214</td>\n",
       "</tr>\n",
       "<tr>\n",
       "  <th>Skew:</th>          <td> 6.048</td>  <th>  Prob(JB):          </th> <td>    0.00</td> \n",
       "</tr>\n",
       "<tr>\n",
       "  <th>Kurtosis:</th>      <td>53.297</td>  <th>  Cond. No.          </th> <td>    150.</td> \n",
       "</tr>\n",
       "</table>"
      ],
      "text/plain": [
       "<class 'statsmodels.iolib.summary.Summary'>\n",
       "\"\"\"\n",
       "                            OLS Regression Results                            \n",
       "==============================================================================\n",
       "Dep. Variable:                   crim   R-squared:                       0.421\n",
       "Model:                            OLS   Adj. R-squared:                  0.416\n",
       "Method:                 Least Squares   F-statistic:                     72.62\n",
       "Date:                Thu, 27 Oct 2016   Prob (F-statistic):           3.44e-46\n",
       "Time:                        16:37:23   Log-Likelihood:                -1361.6\n",
       "No. Observations:                 404   AIC:                             2733.\n",
       "Df Residuals:                     399   BIC:                             2753.\n",
       "Df Model:                           4                                         \n",
       "Covariance Type:            nonrobust                                         \n",
       "==============================================================================\n",
       "                 coef    std err          t      P>|t|      [95.0% Conf. Int.]\n",
       "------------------------------------------------------------------------------\n",
       "Intercept      5.5997      1.697      3.300      0.001         2.264     8.936\n",
       "zn             0.0563      0.021      2.679      0.008         0.015     0.098\n",
       "rad            0.5241      0.051     10.369      0.000         0.425     0.623\n",
       "dis           -0.7354      0.245     -3.003      0.003        -1.217    -0.254\n",
       "medv          -0.2064      0.046     -4.473      0.000        -0.297    -0.116\n",
       "==============================================================================\n",
       "Omnibus:                      509.955   Durbin-Watson:                   1.561\n",
       "Prob(Omnibus):                  0.000   Jarque-Bera (JB):            45048.214\n",
       "Skew:                           6.048   Prob(JB):                         0.00\n",
       "Kurtosis:                      53.297   Cond. No.                         150.\n",
       "==============================================================================\n",
       "\n",
       "Warnings:\n",
       "[1] Standard Errors assume that the covariance matrix of the errors is correctly specified.\n",
       "\"\"\""
      ]
     },
     "execution_count": 117,
     "metadata": {},
     "output_type": "execute_result"
    }
   ],
   "source": [
    "#Applying Multi linear regression with reduced set of parameters\n",
    "red_mlm = smf.ols(formula=\"crim~zn+rad+dis+medv\", data = trainBoston)\n",
    "red_mlmfit = red_mlm.fit()\n",
    "red_mlmfit.summary()"
   ]
  },
  {
   "cell_type": "markdown",
   "metadata": {},
   "source": [
    "Adj.R.Squared = 0.416 i.e with reduced set of variables, the model accounts for about 42% of error compared to Total Sum of Square error of the model.\n",
    "\n",
    "The p-values of the features are fairly low indicating  higher confidence in the accuracy of these parameters. Let's calculate error on the training set"
   ]
  },
  {
   "cell_type": "code",
   "execution_count": 118,
   "metadata": {
    "collapsed": false
   },
   "outputs": [
    {
     "name": "stdout",
     "output_type": "stream",
     "text": [
      "Prediction Error:  1215.06476965\n"
     ]
    }
   ],
   "source": [
    "#Prediction on the test data set.\n",
    "predictTestBoston = red_mlmfit.predict(testBoston)\n",
    "error = sum(np.square((predictTestBoston - testBoston[\"crim\"])))\n",
    "\n",
    "#Total Squared Error in the the Test set prediction\n",
    "print(\"Prediction Error: \", error)"
   ]
  },
  {
   "cell_type": "markdown",
   "metadata": {},
   "source": [
    "# Logistic Regression Model"
   ]
  },
  {
   "cell_type": "code",
   "execution_count": null,
   "metadata": {
    "collapsed": true
   },
   "outputs": [],
   "source": []
  }
 ],
 "metadata": {
  "kernelspec": {
   "display_name": "Python 3",
   "language": "python",
   "name": "python3"
  },
  "language_info": {
   "codemirror_mode": {
    "name": "ipython",
    "version": 3
   },
   "file_extension": ".py",
   "mimetype": "text/x-python",
   "name": "python",
   "nbconvert_exporter": "python",
   "pygments_lexer": "ipython3",
   "version": "3.5.2"
  }
 },
 "nbformat": 4,
 "nbformat_minor": 0
}
