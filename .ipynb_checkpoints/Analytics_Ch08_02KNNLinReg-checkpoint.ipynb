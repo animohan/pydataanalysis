{
 "cells": [
  {
   "cell_type": "code",
   "execution_count": 24,
   "metadata": {
    "collapsed": false
   },
   "outputs": [
    {
     "name": "stdout",
     "output_type": "stream",
     "text": [
      "Predict Output [1 2 1 0 0 0 2 1 2 0]\n",
      "Actual Output [1 1 1 0 0 0 2 1 2 0]\n",
      "[ True False  True  True  True  True  True  True  True  True]\n"
     ]
    }
   ],
   "source": [
    "import numpy as np\n",
    "from sklearn import datasets\n",
    "%matplotlib inline\n",
    "np.random.seed(0)\n",
    "iris = datasets.load_iris()\n",
    "x = iris.data\n",
    "y = iris.target\n",
    "i = np.random.permutation(len(iris.data)) # this create a permutation of the \n",
    "        # of numbers from 0 to # of rows of iris and stores in a list\n",
    "x_train = x[i[0:-10]] #all entries except last 10 are training\n",
    "y_train = y[i[0:-10]] # target values\n",
    "x_test  = x[i[-10:]] #last 10 values are test value\n",
    "y_test =  y[i[-10:]] #target test value\n",
    "\n",
    "#KNN classifier\n",
    "from sklearn.neighbors import KNeighborsClassifier\n",
    "knn = KNeighborsClassifier()\n",
    "knn.fit(x_train, y_train) #fitting the model\n",
    "\n",
    "#prediction\n",
    "print(\"Predict Output\", knn.predict(x_test)) #model is built in knn object\n",
    "#Acutal output\n",
    "print(\"Actual Output\" , y_test)\n",
    "print(knn.predict(x_test)==y_test)\n",
    "\n",
    "# 1 entry is classified errorneously. 10% error rate"
   ]
  },
  {
   "cell_type": "code",
   "execution_count": 37,
   "metadata": {
    "collapsed": false
   },
   "outputs": [
    {
     "data": {
      "text/plain": [
       "(1.5, 4.900000000000003)"
      ]
     },
     "execution_count": 37,
     "metadata": {},
     "output_type": "execute_result"
    },
    {
     "data": {
      "image/png": "[encoded data removed]",
      "text/plain": [
       "<matplotlib.figure.Figure at 0xe10bdc7400>"
      ]
     },
     "metadata": {},
     "output_type": "display_data"
    }
   ],
   "source": [
    "#Visualizing the decision boundaries\n",
    "import matplotlib.pyplot as plt\n",
    "from matplotlib.colors import ListedColormap\n",
    "from sklearn import datasets\n",
    "from sklearn.neighbors import KNeighborsClassifier\n",
    "iris = datasets.load_iris()\n",
    "\n",
    "x = iris.data[:,:2] #Sepal length and width\n",
    "y = iris.target #Species of flowers\n",
    "\n",
    "x_min, x_max = x[:,0].min()-0.5,x[:,0].max()+0.5 #the min max is used for\n",
    "                    #plotting\n",
    "y_min, y_max = x[:,1].min()-0.5,x[:,1].max()+0.5 # the y is not related to \n",
    "                    # the y in target set, but is just needed for plotting\n",
    "                    # the graph\n",
    "\n",
    "        \n",
    "#Mesh\n",
    "cmap_light = ListedColormap(['#AAAAFF',\"#AAFFAA\",\"#FFAAAA\"])\n",
    "h = 0.02\n",
    "xx, yy = np.meshgrid(np.arange(x_min, x_max, h), np.arange(y_min, y_max,h))\n",
    "\n",
    "    ##meshgrid is basically intermediate values in x and y axis for which\n",
    "    # we have to calcualte the value of function f(x,y); in this case\n",
    "    # it is the class\n",
    "\n",
    "    #xx contains a range for values from x axis\n",
    "    #yy contains range of value from y axis.\n",
    "    # now xx unraveled is just a list of values in x axis and similarly yy\n",
    "    # meshgrid just produces a cross*product\n",
    "knn = KNeighborsClassifier()\n",
    "knn.fit(x,y) #model is built using classifier\n",
    "z= knn.predict(np.c_[xx.ravel(),yy.ravel()]) #apply the model to points \n",
    "                #generated on the mesh\n",
    "#z contains the prediction values \n",
    "\n",
    "z = z.reshape(xx.shape) #why  ?\n",
    "\n",
    "#plotting\n",
    "plt.figure()\n",
    "plt.pcolormesh(xx,yy,z,cmap = cmap_light)\n",
    "\n",
    "#plot training points\n",
    "plt.scatter(x[:,0],x[:,1],c=y)\n",
    "plt.xlim(xx.min(),xx.max())\n",
    "plt.ylim(yy.min(),yy.max())"
   ]
  },
  {
   "cell_type": "code",
   "execution_count": 34,
   "metadata": {
    "collapsed": false
   },
   "outputs": [
    {
     "name": "stdout",
     "output_type": "stream",
     "text": [
      "[[ 3.8  4.8]\n",
      " [ 3.8  4.8]\n",
      " [ 3.8  4.8]\n",
      " [ 3.8  4.8]] [[ 1.5  1.5]\n",
      " [ 2.5  2.5]\n",
      " [ 3.5  3.5]\n",
      " [ 4.5  4.5]] [[1 1]\n",
      " [0 1]\n",
      " [0 0]\n",
      " [0 0]]\n"
     ]
    }
   ],
   "source": [
    "np.meshgrid([1,2,3],[9,10,11])#what does meshgrid do.\n",
    "print(xx,yy, z)"
   ]
  },
  {
   "cell_type": "code",
   "execution_count": 23,
   "metadata": {
    "collapsed": false
   },
   "outputs": [
    {
     "name": "stdout",
     "output_type": "stream",
     "text": [
      "[ 3.8  4.8  3.8  4.8  3.8  4.8  3.8  4.8]\n",
      "[ 1.5  1.5  2.5  2.5  3.5  3.5  4.5  4.5]\n"
     ]
    },
    {
     "data": {
      "text/plain": [
       "(4, 2)"
      ]
     },
     "execution_count": 23,
     "metadata": {},
     "output_type": "execute_result"
    }
   ],
   "source": [
    "print(xx.ravel())\n",
    "print(yy.ravel())\n",
    "np.c_[xx.ravel(),yy.ravel()] #combines the values of the array \n",
    "xx.shape"
   ]
  },
  {
   "cell_type": "code",
   "execution_count": 56,
   "metadata": {
    "collapsed": false
   },
   "outputs": [
    {
     "ename": "SyntaxError",
     "evalue": "unexpected EOF while parsing (<ipython-input-56-1bda70ccca42>, line 15)",
     "output_type": "error",
     "traceback": [
      "\u001b[1;36m  File \u001b[1;32m\"<ipython-input-56-1bda70ccca42>\"\u001b[1;36m, line \u001b[1;32m15\u001b[0m\n\u001b[1;33m    #knn.fit(x,z)\u001b[0m\n\u001b[1;37m                 ^\u001b[0m\n\u001b[1;31mSyntaxError\u001b[0m\u001b[1;31m:\u001b[0m unexpected EOF while parsing\n"
     ]
    }
   ],
   "source": [
    "#The same thing can be done for petals as well.\n",
    "\n",
    "#store the value of petals\n",
    "x = iris.data[:,2:4] #Petal length and width\n",
    "z = iris.target\n",
    "\n",
    "xx = np.arange(x[:,0].min() , x[:,0].max(),0.02)\n",
    "yy = np.arange(x[:,1].min(), x[:,1].max(),0.02)\n",
    "\n",
    "#combined the expanded x and y coordinates\n",
    "u  = np.zeros((len(xx),2)\n",
    "#u[:,0] = xx\n",
    "#u[:,1] = yy\n",
    "#knn = KNeighborsClassifier()\n",
    "#knn.fit(x,z)\n",
    "\n",
    "\n",
    "\n",
    "\n",
    "\n",
    "\n"
   ]
  },
  {
   "cell_type": "code",
   "execution_count": 54,
   "metadata": {
    "collapsed": false
   },
   "outputs": [
    {
     "data": {
      "text/plain": [
       "[array([ 1.  ,  1.02,  1.04,  1.06,  1.08,  1.1 ,  1.12,  1.14,  1.16,\n",
       "         1.18,  1.2 ,  1.22,  1.24,  1.26,  1.28,  1.3 ,  1.32,  1.34,\n",
       "         1.36,  1.38,  1.4 ,  1.42,  1.44,  1.46,  1.48,  1.5 ,  1.52,\n",
       "         1.54,  1.56,  1.58,  1.6 ,  1.62,  1.64,  1.66,  1.68,  1.7 ,\n",
       "         1.72,  1.74,  1.76,  1.78,  1.8 ,  1.82,  1.84,  1.86,  1.88,\n",
       "         1.9 ,  1.92,  1.94,  1.96,  1.98,  2.  ,  2.02,  2.04,  2.06,\n",
       "         2.08,  2.1 ,  2.12,  2.14,  2.16,  2.18,  2.2 ,  2.22,  2.24,\n",
       "         2.26,  2.28,  2.3 ,  2.32,  2.34,  2.36,  2.38,  2.4 ,  2.42,\n",
       "         2.44,  2.46,  2.48,  2.5 ,  2.52,  2.54,  2.56,  2.58,  2.6 ,\n",
       "         2.62,  2.64,  2.66,  2.68,  2.7 ,  2.72,  2.74,  2.76,  2.78,\n",
       "         2.8 ,  2.82,  2.84,  2.86,  2.88,  2.9 ,  2.92,  2.94,  2.96,\n",
       "         2.98,  3.  ,  3.02,  3.04,  3.06,  3.08,  3.1 ,  3.12,  3.14,\n",
       "         3.16,  3.18,  3.2 ,  3.22,  3.24,  3.26,  3.28,  3.3 ,  3.32,\n",
       "         3.34,  3.36,  3.38,  3.4 ,  3.42,  3.44,  3.46,  3.48,  3.5 ,\n",
       "         3.52,  3.54,  3.56,  3.58,  3.6 ,  3.62,  3.64,  3.66,  3.68,\n",
       "         3.7 ,  3.72,  3.74,  3.76,  3.78,  3.8 ,  3.82,  3.84,  3.86,\n",
       "         3.88,  3.9 ,  3.92,  3.94,  3.96,  3.98,  4.  ,  4.02,  4.04,\n",
       "         4.06,  4.08,  4.1 ,  4.12,  4.14,  4.16,  4.18,  4.2 ,  4.22,\n",
       "         4.24,  4.26,  4.28,  4.3 ,  4.32,  4.34,  4.36,  4.38,  4.4 ,\n",
       "         4.42,  4.44,  4.46,  4.48,  4.5 ,  4.52,  4.54,  4.56,  4.58,\n",
       "         4.6 ,  4.62,  4.64,  4.66,  4.68,  4.7 ,  4.72,  4.74,  4.76,\n",
       "         4.78,  4.8 ,  4.82,  4.84,  4.86,  4.88,  4.9 ,  4.92,  4.94,\n",
       "         4.96,  4.98,  5.  ,  5.02,  5.04,  5.06,  5.08,  5.1 ,  5.12,\n",
       "         5.14,  5.16,  5.18,  5.2 ,  5.22,  5.24,  5.26,  5.28,  5.3 ,\n",
       "         5.32,  5.34,  5.36,  5.38,  5.4 ,  5.42,  5.44,  5.46,  5.48,\n",
       "         5.5 ,  5.52,  5.54,  5.56,  5.58,  5.6 ,  5.62,  5.64,  5.66,\n",
       "         5.68,  5.7 ,  5.72,  5.74,  5.76,  5.78,  5.8 ,  5.82,  5.84,\n",
       "         5.86,  5.88,  5.9 ,  5.92,  5.94,  5.96,  5.98,  6.  ,  6.02,\n",
       "         6.04,  6.06,  6.08,  6.1 ,  6.12,  6.14,  6.16,  6.18,  6.2 ,\n",
       "         6.22,  6.24,  6.26,  6.28,  6.3 ,  6.32,  6.34,  6.36,  6.38,\n",
       "         6.4 ,  6.42,  6.44,  6.46,  6.48,  6.5 ,  6.52,  6.54,  6.56,\n",
       "         6.58,  6.6 ,  6.62,  6.64,  6.66,  6.68,  6.7 ,  6.72,  6.74,\n",
       "         6.76,  6.78,  6.8 ,  6.82,  6.84,  6.86,  6.88]),\n",
       " array([ 0.1 ,  0.12,  0.14,  0.16,  0.18,  0.2 ,  0.22,  0.24,  0.26,\n",
       "         0.28,  0.3 ,  0.32,  0.34,  0.36,  0.38,  0.4 ,  0.42,  0.44,\n",
       "         0.46,  0.48,  0.5 ,  0.52,  0.54,  0.56,  0.58,  0.6 ,  0.62,\n",
       "         0.64,  0.66,  0.68,  0.7 ,  0.72,  0.74,  0.76,  0.78,  0.8 ,\n",
       "         0.82,  0.84,  0.86,  0.88,  0.9 ,  0.92,  0.94,  0.96,  0.98,\n",
       "         1.  ,  1.02,  1.04,  1.06,  1.08,  1.1 ,  1.12,  1.14,  1.16,\n",
       "         1.18,  1.2 ,  1.22,  1.24,  1.26,  1.28,  1.3 ,  1.32,  1.34,\n",
       "         1.36,  1.38,  1.4 ,  1.42,  1.44,  1.46,  1.48,  1.5 ,  1.52,\n",
       "         1.54,  1.56,  1.58,  1.6 ,  1.62,  1.64,  1.66,  1.68,  1.7 ,\n",
       "         1.72,  1.74,  1.76,  1.78,  1.8 ,  1.82,  1.84,  1.86,  1.88,\n",
       "         1.9 ,  1.92,  1.94,  1.96,  1.98,  2.  ,  2.02,  2.04,  2.06,\n",
       "         2.08,  2.1 ,  2.12,  2.14,  2.16,  2.18,  2.2 ,  2.22,  2.24,\n",
       "         2.26,  2.28,  2.3 ,  2.32,  2.34,  2.36,  2.38,  2.4 ,  2.42,\n",
       "         2.44,  2.46,  2.48])]"
      ]
     },
     "execution_count": 54,
     "metadata": {},
     "output_type": "execute_result"
    }
   ],
   "source": [
    "u"
   ]
  },
  {
   "cell_type": "code",
   "execution_count": null,
   "metadata": {
    "collapsed": true
   },
   "outputs": [],
   "source": []
  }
 ],
 "metadata": {
  "kernelspec": {
   "display_name": "Python 3",
   "language": "python",
   "name": "python3"
  },
  "language_info": {
   "codemirror_mode": {
    "name": "ipython",
    "version": 3
   },
   "file_extension": ".py",
   "mimetype": "text/x-python",
   "name": "python",
   "nbconvert_exporter": "python",
   "pygments_lexer": "ipython3",
   "version": "3.5.1"
  }
 },
 "nbformat": 4,
 "nbformat_minor": 0
}
