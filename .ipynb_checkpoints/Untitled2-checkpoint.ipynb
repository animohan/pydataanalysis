{
 "cells": [
  {
   "cell_type": "code",
   "execution_count": 19,
   "metadata": {
    "collapsed": false
   },
   "outputs": [
    {
     "data": {
      "text/html": [
       "<div>\n",
       "<table border=\"1\" class=\"dataframe\">\n",
       "  <thead>\n",
       "    <tr style=\"text-align: right;\">\n",
       "      <th></th>\n",
       "      <th>Unnamed: 0</th>\n",
       "      <th>mv</th>\n",
       "      <th>crim</th>\n",
       "      <th>zn</th>\n",
       "      <th>indus</th>\n",
       "      <th>chas</th>\n",
       "      <th>nox</th>\n",
       "      <th>rm</th>\n",
       "      <th>age</th>\n",
       "      <th>dis</th>\n",
       "      <th>rad</th>\n",
       "      <th>tax</th>\n",
       "      <th>ptratio</th>\n",
       "      <th>blacks</th>\n",
       "      <th>lstat</th>\n",
       "      <th>townid</th>\n",
       "    </tr>\n",
       "  </thead>\n",
       "  <tbody>\n",
       "    <tr>\n",
       "      <th>0</th>\n",
       "      <td>1</td>\n",
       "      <td>10.08580</td>\n",
       "      <td>0.00632</td>\n",
       "      <td>18.0</td>\n",
       "      <td>2.309999</td>\n",
       "      <td>no</td>\n",
       "      <td>28.944401</td>\n",
       "      <td>43.230598</td>\n",
       "      <td>65.199951</td>\n",
       "      <td>1.40854</td>\n",
       "      <td>0.00000</td>\n",
       "      <td>296</td>\n",
       "      <td>15.299995</td>\n",
       "      <td>0.39690</td>\n",
       "      <td>-3.00074</td>\n",
       "      <td>1</td>\n",
       "    </tr>\n",
       "    <tr>\n",
       "      <th>1</th>\n",
       "      <td>2</td>\n",
       "      <td>9.98045</td>\n",
       "      <td>0.02731</td>\n",
       "      <td>0.0</td>\n",
       "      <td>7.070000</td>\n",
       "      <td>no</td>\n",
       "      <td>21.996099</td>\n",
       "      <td>41.229198</td>\n",
       "      <td>78.899963</td>\n",
       "      <td>1.60283</td>\n",
       "      <td>0.69315</td>\n",
       "      <td>242</td>\n",
       "      <td>17.799988</td>\n",
       "      <td>0.39690</td>\n",
       "      <td>-2.39251</td>\n",
       "      <td>2</td>\n",
       "    </tr>\n",
       "    <tr>\n",
       "      <th>2</th>\n",
       "      <td>3</td>\n",
       "      <td>10.45450</td>\n",
       "      <td>0.02730</td>\n",
       "      <td>0.0</td>\n",
       "      <td>7.070000</td>\n",
       "      <td>no</td>\n",
       "      <td>21.996099</td>\n",
       "      <td>51.624199</td>\n",
       "      <td>61.099976</td>\n",
       "      <td>1.60283</td>\n",
       "      <td>0.69315</td>\n",
       "      <td>242</td>\n",
       "      <td>17.799988</td>\n",
       "      <td>0.39283</td>\n",
       "      <td>-3.21165</td>\n",
       "      <td>2</td>\n",
       "    </tr>\n",
       "    <tr>\n",
       "      <th>3</th>\n",
       "      <td>4</td>\n",
       "      <td>10.41630</td>\n",
       "      <td>0.03237</td>\n",
       "      <td>0.0</td>\n",
       "      <td>2.179998</td>\n",
       "      <td>no</td>\n",
       "      <td>20.976400</td>\n",
       "      <td>48.972000</td>\n",
       "      <td>45.799988</td>\n",
       "      <td>1.80207</td>\n",
       "      <td>1.09861</td>\n",
       "      <td>222</td>\n",
       "      <td>18.699997</td>\n",
       "      <td>0.39464</td>\n",
       "      <td>-3.52744</td>\n",
       "      <td>3</td>\n",
       "    </tr>\n",
       "    <tr>\n",
       "      <th>4</th>\n",
       "      <td>5</td>\n",
       "      <td>10.49680</td>\n",
       "      <td>0.06905</td>\n",
       "      <td>0.0</td>\n",
       "      <td>2.179998</td>\n",
       "      <td>no</td>\n",
       "      <td>20.976400</td>\n",
       "      <td>51.079601</td>\n",
       "      <td>54.199982</td>\n",
       "      <td>1.80207</td>\n",
       "      <td>1.09861</td>\n",
       "      <td>222</td>\n",
       "      <td>18.699997</td>\n",
       "      <td>0.39690</td>\n",
       "      <td>-2.93163</td>\n",
       "      <td>3</td>\n",
       "    </tr>\n",
       "  </tbody>\n",
       "</table>\n",
       "</div>"
      ],
      "text/plain": [
       "   Unnamed: 0        mv     crim    zn     indus chas        nox         rm  \\\n",
       "0           1  10.08580  0.00632  18.0  2.309999   no  28.944401  43.230598   \n",
       "1           2   9.98045  0.02731   0.0  7.070000   no  21.996099  41.229198   \n",
       "2           3  10.45450  0.02730   0.0  7.070000   no  21.996099  51.624199   \n",
       "3           4  10.41630  0.03237   0.0  2.179998   no  20.976400  48.972000   \n",
       "4           5  10.49680  0.06905   0.0  2.179998   no  20.976400  51.079601   \n",
       "\n",
       "         age      dis      rad  tax    ptratio   blacks    lstat  townid  \n",
       "0  65.199951  1.40854  0.00000  296  15.299995  0.39690 -3.00074       1  \n",
       "1  78.899963  1.60283  0.69315  242  17.799988  0.39690 -2.39251       2  \n",
       "2  61.099976  1.60283  0.69315  242  17.799988  0.39283 -3.21165       2  \n",
       "3  45.799988  1.80207  1.09861  222  18.699997  0.39464 -3.52744       3  \n",
       "4  54.199982  1.80207  1.09861  222  18.699997  0.39690 -2.93163       3  "
      ]
     },
     "execution_count": 19,
     "metadata": {},
     "output_type": "execute_result"
    }
   ],
   "source": [
    "import pandas as pd\n",
    "import numpy as np\n",
    "import sklearn.linear_model as skl_lm\n",
    "import matplotlib.pyplot as plt\n",
    "%matplotlib inline\n",
    "\n",
    "Boston = pd.read_csv(\"Boston.csv\")\n",
    "Boston.head()"
   ]
  },
  {
   "cell_type": "code",
   "execution_count": 20,
   "metadata": {
    "collapsed": false
   },
   "outputs": [
    {
     "name": "stdout",
     "output_type": "stream",
     "text": [
      "<class 'pandas.core.frame.DataFrame'>\n",
      "RangeIndex: 506 entries, 0 to 505\n",
      "Data columns (total 16 columns):\n",
      "Unnamed: 0    506 non-null int64\n",
      "mv            506 non-null float64\n",
      "crim          506 non-null float64\n",
      "zn            506 non-null float64\n",
      "indus         506 non-null float64\n",
      "chas          506 non-null object\n",
      "nox           506 non-null float64\n",
      "rm            506 non-null float64\n",
      "age           506 non-null float64\n",
      "dis           506 non-null float64\n",
      "rad           506 non-null float64\n",
      "tax           506 non-null int64\n",
      "ptratio       506 non-null float64\n",
      "blacks        506 non-null float64\n",
      "lstat         506 non-null float64\n",
      "townid        506 non-null int64\n",
      "dtypes: float64(12), int64(3), object(1)\n",
      "memory usage: 63.3+ KB\n",
      "None\n"
     ]
    }
   ],
   "source": [
    "print(Boston.info())"
   ]
  },
  {
   "cell_type": "code",
   "execution_count": 40,
   "metadata": {
    "collapsed": false
   },
   "outputs": [
    {
     "data": {
      "text/plain": [
       "[<matplotlib.lines.Line2D at 0x7f54aafd5da0>]"
      ]
     },
     "execution_count": 40,
     "metadata": {},
     "output_type": "execute_result"
    },
    {
     "data": {
      "image/png": "[encoded data removed]",
      "text/plain": [
       "<matplotlib.figure.Figure at 0x7f54b005a630>"
      ]
     },
     "metadata": {},
     "output_type": "display_data"
    }
   ],
   "source": [
    "#Simple plotting\n",
    "plt.axis([8,11,-4.5,-0.5]) #Axis limits\n",
    "plt.title(\"Boston Median Income vs Boston % of lower stat population\",\n",
    "         fontsize =14)\n",
    "\n",
    "plt.xlabel(\"Boston Median Income\", color =\"gray\")\n",
    "plt.ylabel(\"Bostong Lower Status population\", color =\"blue\")\n",
    "\n",
    "\n",
    "plt.plot(Boston.mv,Boston.lstat,'ro') #Red point plot\n",
    "#Boston.mv = Median value of the income in the neighborhood\n",
    "#Boston.lstat = % of lower status population\n",
    "\n",
    "\n",
    "\n"
   ]
  },
  {
   "cell_type": "code",
   "execution_count": null,
   "metadata": {
    "collapsed": true
   },
   "outputs": [],
   "source": []
  }
 ],
 "metadata": {
  "kernelspec": {
   "display_name": "Python 3",
   "language": "python",
   "name": "python3"
  },
  "language_info": {
   "codemirror_mode": {
    "name": "ipython",
    "version": 3
   },
   "file_extension": ".py",
   "mimetype": "text/x-python",
   "name": "python",
   "nbconvert_exporter": "python",
   "pygments_lexer": "ipython3",
   "version": "3.5.1"
  }
 },
 "nbformat": 4,
 "nbformat_minor": 0
}
