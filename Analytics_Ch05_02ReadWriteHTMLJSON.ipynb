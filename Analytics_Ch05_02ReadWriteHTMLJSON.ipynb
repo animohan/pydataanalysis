{
 "cells": [
  {
   "cell_type": "code",
   "execution_count": 1,
   "metadata": {
    "collapsed": false
   },
   "outputs": [
    {
     "name": "stdout",
     "output_type": "stream",
     "text": [
      "<table border=\"1\" class=\"dataframe\">\n",
      "  <thead>\n",
      "    <tr style=\"text-align: right;\">\n",
      "      <th></th>\n",
      "      <th>0</th>\n",
      "      <th>1</th>\n",
      "    </tr>\n",
      "  </thead>\n",
      "  <tbody>\n",
      "    <tr>\n",
      "      <th>0</th>\n",
      "      <td>0</td>\n",
      "      <td>1</td>\n",
      "    </tr>\n",
      "    <tr>\n",
      "      <th>1</th>\n",
      "      <td>2</td>\n",
      "      <td>3</td>\n",
      "    </tr>\n",
      "  </tbody>\n",
      "</table>\n"
     ]
    }
   ],
   "source": [
    "import numpy as np\n",
    "import pandas as pd\n",
    "#remember to run and install html5lib by running conda install html5lib\n",
    "\n",
    "#Can convert a DataFrame to HTML\n",
    "\n",
    "frame = pd.DataFrame(np.arange(4).reshape(2,2))\n",
    "print(frame.to_html()) #convert dataframe to html"
   ]
  },
  {
   "cell_type": "code",
   "execution_count": 3,
   "metadata": {
    "collapsed": false
   },
   "outputs": [],
   "source": [
    "frame = pd.DataFrame(np.random.random((4,4)), index =[\"white\",\"black\",\"red\",\n",
    "        \"blue\"],columns =[\"up\",\"down\",\"right\",\"left\"])\n",
    "frame\n",
    "\n",
    "#creating an html file\n",
    "s = [\"<HTML>\"]\n",
    "s.append('<HEAD><TITLE> My DataFrame </TITLE></HEAD>')\n",
    "s.append('<BODY>')\n",
    "s.append(frame.to_html())\n",
    "s.append(\"</BODY></HTML>\")\n",
    "html = ''.join(s)\n",
    "\n",
    "html_file = open(\"myFrame.html\",\"w\")\n",
    "html_file.write(html)\n",
    "html_file.close()\n"
   ]
  },
  {
   "cell_type": "code",
   "execution_count": 4,
   "metadata": {
    "collapsed": false
   },
   "outputs": [
    {
     "data": {
      "text/html": [
       "<div>\n",
       "<table border=\"1\" class=\"dataframe\">\n",
       "  <thead>\n",
       "    <tr style=\"text-align: right;\">\n",
       "      <th></th>\n",
       "      <th>Unnamed: 0</th>\n",
       "      <th>up</th>\n",
       "      <th>down</th>\n",
       "      <th>right</th>\n",
       "      <th>left</th>\n",
       "    </tr>\n",
       "  </thead>\n",
       "  <tbody>\n",
       "    <tr>\n",
       "      <th>0</th>\n",
       "      <td>white</td>\n",
       "      <td>0.440577</td>\n",
       "      <td>0.693260</td>\n",
       "      <td>0.153645</td>\n",
       "      <td>0.756566</td>\n",
       "    </tr>\n",
       "    <tr>\n",
       "      <th>1</th>\n",
       "      <td>black</td>\n",
       "      <td>0.900525</td>\n",
       "      <td>0.742767</td>\n",
       "      <td>0.758565</td>\n",
       "      <td>0.561864</td>\n",
       "    </tr>\n",
       "    <tr>\n",
       "      <th>2</th>\n",
       "      <td>red</td>\n",
       "      <td>0.423630</td>\n",
       "      <td>0.885188</td>\n",
       "      <td>0.805657</td>\n",
       "      <td>0.553705</td>\n",
       "    </tr>\n",
       "    <tr>\n",
       "      <th>3</th>\n",
       "      <td>blue</td>\n",
       "      <td>0.432239</td>\n",
       "      <td>0.544432</td>\n",
       "      <td>0.548060</td>\n",
       "      <td>0.273659</td>\n",
       "    </tr>\n",
       "  </tbody>\n",
       "</table>\n",
       "</div>"
      ],
      "text/plain": [
       "  Unnamed: 0        up      down     right      left\n",
       "0      white  0.440577  0.693260  0.153645  0.756566\n",
       "1      black  0.900525  0.742767  0.758565  0.561864\n",
       "2        red  0.423630  0.885188  0.805657  0.553705\n",
       "3       blue  0.432239  0.544432  0.548060  0.273659"
      ]
     },
     "execution_count": 4,
     "metadata": {},
     "output_type": "execute_result"
    }
   ],
   "source": [
    "#Reading Data from an HTML file\n",
    "#Reading html and converting tables to dataframes\n",
    "\n",
    "web_frames = pd.read_html(\"myFrame.html\")\n",
    "web_frames[0] #read_html function returs a list of DataFrame. Here since\n",
    "#since there is only 1 table, the first entry of the list is the table."
   ]
  },
  {
   "cell_type": "code",
   "execution_count": 8,
   "metadata": {
    "collapsed": false
   },
   "outputs": [],
   "source": [
    "ranking = pd.read_html(\"http://www.meccanismocomplesso.org/en/meccanismo-complesso-sito-2/classifica-punteggio/\")                \n",
    "ranking[0].head() #reading a table from a page."
   ]
  },
  {
   "cell_type": "code",
   "execution_count": 10,
   "metadata": {
    "collapsed": false
   },
   "outputs": [
    {
     "data": {
      "text/html": [
       "<div>\n",
       "<table border=\"1\" class=\"dataframe\">\n",
       "  <thead>\n",
       "    <tr style=\"text-align: right;\">\n",
       "      <th></th>\n",
       "      <th>Member</th>\n",
       "      <th>points</th>\n",
       "      <th>levels</th>\n",
       "      <th>Unnamed: 3</th>\n",
       "    </tr>\n",
       "  </thead>\n",
       "  <tbody>\n",
       "    <tr>\n",
       "      <th>0</th>\n",
       "      <td>1</td>\n",
       "      <td>BrunoOrsini</td>\n",
       "      <td>2075</td>\n",
       "      <td>NaN</td>\n",
       "    </tr>\n",
       "    <tr>\n",
       "      <th>1</th>\n",
       "      <td>2</td>\n",
       "      <td>Berserker</td>\n",
       "      <td>700</td>\n",
       "      <td>NaN</td>\n",
       "    </tr>\n",
       "    <tr>\n",
       "      <th>2</th>\n",
       "      <td>3</td>\n",
       "      <td>albertosallu</td>\n",
       "      <td>275</td>\n",
       "      <td>NaN</td>\n",
       "    </tr>\n",
       "    <tr>\n",
       "      <th>3</th>\n",
       "      <td>4</td>\n",
       "      <td>Jon</td>\n",
       "      <td>180</td>\n",
       "      <td>NaN</td>\n",
       "    </tr>\n",
       "    <tr>\n",
       "      <th>4</th>\n",
       "      <td>5</td>\n",
       "      <td>Mr.Y</td>\n",
       "      <td>180</td>\n",
       "      <td>NaN</td>\n",
       "    </tr>\n",
       "  </tbody>\n",
       "</table>\n",
       "</div>"
      ],
      "text/plain": [
       "   Member        points  levels  Unnamed: 3\n",
       "0       1   BrunoOrsini    2075         NaN\n",
       "1       2     Berserker     700         NaN\n",
       "2       3  albertosallu     275         NaN\n",
       "3       4           Jon     180         NaN\n",
       "4       5          Mr.Y     180         NaN"
      ]
     },
     "execution_count": 10,
     "metadata": {},
     "output_type": "execute_result"
    }
   ],
   "source": []
  },
  {
   "cell_type": "code",
   "execution_count": 12,
   "metadata": {
    "collapsed": false
   },
   "outputs": [
    {
     "ename": "XMLSyntaxError",
     "evalue": "Opening and ending tag mismatch: Book line 3 and Author, line 4, column 31 (<string>)",
     "output_type": "error",
     "traceback": [
      "\u001b[1;36m  File \u001b[1;32m\"<string>\"\u001b[1;36m, line \u001b[1;32munknown\u001b[0m\n\u001b[1;31mXMLSyntaxError\u001b[0m\u001b[1;31m:\u001b[0m Opening and ending tag mismatch: Book line 3 and Author, line 4, column 31\n"
     ]
    }
   ],
   "source": [
    "#XML NEEDS BIT REVIEW AND LOOKING INTO\n",
    "#Reading data from a XML file\n",
    "#from lxml import objectify\n",
    "#xml = objectify.parse(\"books.xml\")"
   ]
  },
  {
   "cell_type": "code",
   "execution_count": 15,
   "metadata": {
    "collapsed": false
   },
   "outputs": [
    {
     "data": {
      "text/html": [
       "<div>\n",
       "<table border=\"1\" class=\"dataframe\">\n",
       "  <thead>\n",
       "    <tr style=\"text-align: right;\">\n",
       "      <th></th>\n",
       "      <th>id</th>\n",
       "      <th>value2</th>\n",
       "      <th>value2.1</th>\n",
       "      <th>value3</th>\n",
       "    </tr>\n",
       "  </thead>\n",
       "  <tbody>\n",
       "    <tr>\n",
       "      <th>0</th>\n",
       "      <td>22</td>\n",
       "      <td>5</td>\n",
       "      <td>7</td>\n",
       "      <td>8</td>\n",
       "    </tr>\n",
       "    <tr>\n",
       "      <th>1</th>\n",
       "      <td>23</td>\n",
       "      <td>10</td>\n",
       "      <td>14</td>\n",
       "      <td>16</td>\n",
       "    </tr>\n",
       "    <tr>\n",
       "      <th>2</th>\n",
       "      <td>24</td>\n",
       "      <td>15</td>\n",
       "      <td>21</td>\n",
       "      <td>24</td>\n",
       "    </tr>\n",
       "  </tbody>\n",
       "</table>\n",
       "</div>"
      ],
      "text/plain": [
       "   id  value2  value2.1  value3\n",
       "0  22       5         7       8\n",
       "1  23      10        14      16\n",
       "2  24      15        21      24"
      ]
     },
     "execution_count": 15,
     "metadata": {},
     "output_type": "execute_result"
    }
   ],
   "source": [
    "#Reading and Writing Data on Microsoft Excel Files\n",
    "pd.read_excel(\"data.xls\") #loading xls file in first spreadsheet\n",
    "pd.read_excel(\"data.xls\",1)"
   ]
  },
  {
   "cell_type": "code",
   "execution_count": 14,
   "metadata": {
    "collapsed": false
   },
   "outputs": [
    {
     "data": {
      "text/html": [
       "<div>\n",
       "<table border=\"1\" class=\"dataframe\">\n",
       "  <thead>\n",
       "    <tr style=\"text-align: right;\">\n",
       "      <th></th>\n",
       "      <th>id</th>\n",
       "      <th>value2</th>\n",
       "      <th>value2.1</th>\n",
       "      <th>value3</th>\n",
       "    </tr>\n",
       "  </thead>\n",
       "  <tbody>\n",
       "    <tr>\n",
       "      <th>0</th>\n",
       "      <td>22</td>\n",
       "      <td>5</td>\n",
       "      <td>7</td>\n",
       "      <td>8</td>\n",
       "    </tr>\n",
       "    <tr>\n",
       "      <th>1</th>\n",
       "      <td>23</td>\n",
       "      <td>10</td>\n",
       "      <td>14</td>\n",
       "      <td>16</td>\n",
       "    </tr>\n",
       "    <tr>\n",
       "      <th>2</th>\n",
       "      <td>24</td>\n",
       "      <td>15</td>\n",
       "      <td>21</td>\n",
       "      <td>24</td>\n",
       "    </tr>\n",
       "  </tbody>\n",
       "</table>\n",
       "</div>"
      ],
      "text/plain": [
       "   id  value2  value2.1  value3\n",
       "0  22       5         7       8\n",
       "1  23      10        14      16\n",
       "2  24      15        21      24"
      ]
     },
     "execution_count": 14,
     "metadata": {},
     "output_type": "execute_result"
    }
   ],
   "source": [
    "pd.read_excel(\"data.xls\",\"Sheet2\") #Reading data from 2nd sheet"
   ]
  },
  {
   "cell_type": "code",
   "execution_count": 17,
   "metadata": {
    "collapsed": false
   },
   "outputs": [],
   "source": [
    "#similar thing applies for writing\n",
    "frame = pd.DataFrame(np.random.random((4,4)), index = [\"exp1\",\"exp2\",\n",
    "        \"exp3\",\"exp4\"],columns =[\"Jan2015\",\"Feb2015\",\"Mar2015\",\"Apr2015\"] )\n",
    "frame.to_excel(\"data2.xlsx\")"
   ]
  },
  {
   "cell_type": "code",
   "execution_count": 19,
   "metadata": {
    "collapsed": false
   },
   "outputs": [],
   "source": [
    "#JSON Data\n",
    "frame = pd.DataFrame(np.arange(16).reshape(4,4), index = [\"white\",\"black\",\n",
    "                \"red\",\"blue\"], columns =[\"up\",\"down\",\"right\",\"left\"])\n",
    "frame.to_json(\"frame.json\") #Write the table to a json file\n",
    "    # for all practice purpse json seems to be like an xml file with\n",
    "    #tags and content"
   ]
  },
  {
   "cell_type": "code",
   "execution_count": 20,
   "metadata": {
    "collapsed": false
   },
   "outputs": [
    {
     "data": {
      "text/html": [
       "<div>\n",
       "<table border=\"1\" class=\"dataframe\">\n",
       "  <thead>\n",
       "    <tr style=\"text-align: right;\">\n",
       "      <th></th>\n",
       "      <th>down</th>\n",
       "      <th>left</th>\n",
       "      <th>right</th>\n",
       "      <th>up</th>\n",
       "    </tr>\n",
       "  </thead>\n",
       "  <tbody>\n",
       "    <tr>\n",
       "      <th>black</th>\n",
       "      <td>5</td>\n",
       "      <td>7</td>\n",
       "      <td>6</td>\n",
       "      <td>4</td>\n",
       "    </tr>\n",
       "    <tr>\n",
       "      <th>blue</th>\n",
       "      <td>13</td>\n",
       "      <td>15</td>\n",
       "      <td>14</td>\n",
       "      <td>12</td>\n",
       "    </tr>\n",
       "    <tr>\n",
       "      <th>red</th>\n",
       "      <td>9</td>\n",
       "      <td>11</td>\n",
       "      <td>10</td>\n",
       "      <td>8</td>\n",
       "    </tr>\n",
       "    <tr>\n",
       "      <th>white</th>\n",
       "      <td>1</td>\n",
       "      <td>3</td>\n",
       "      <td>2</td>\n",
       "      <td>0</td>\n",
       "    </tr>\n",
       "  </tbody>\n",
       "</table>\n",
       "</div>"
      ],
      "text/plain": [
       "       down  left  right  up\n",
       "black     5     7      6   4\n",
       "blue     13    15     14  12\n",
       "red       9    11     10   8\n",
       "white     1     3      2   0"
      ]
     },
     "execution_count": 20,
     "metadata": {},
     "output_type": "execute_result"
    }
   ],
   "source": [
    "pd.read_json(\"frame.json\") # reading froma  json file that has a straight up \n",
    "                           # table"
   ]
  },
  {
   "cell_type": "code",
   "execution_count": 30,
   "metadata": {
    "collapsed": false
   },
   "outputs": [
    {
     "name": "stdout",
     "output_type": "stream",
     "text": [
      "[{'writer': 'Mark Ross', 'books': [{'title': 'XML Cookbook', 'price': 23.56}, {'title': 'Python Fundamentals', 'price': 50.7}, {'title': 'The NumPy library', 'price': 12.3}], 'nationality': 'USA'}, {'writer': 'Barbara Bracket', 'books': [{'title': 'Java Enterprise', 'price': 28.6}, {'title': 'HTML5', 'price': 31.35}, {'title': 'Python for Dummies', 'price': 28.0}], 'nationality': 'UK'}]\n"
     ]
    },
    {
     "data": {
      "text/html": [
       "<div>\n",
       "<table border=\"1\" class=\"dataframe\">\n",
       "  <thead>\n",
       "    <tr style=\"text-align: right;\">\n",
       "      <th></th>\n",
       "      <th>price</th>\n",
       "      <th>title</th>\n",
       "    </tr>\n",
       "  </thead>\n",
       "  <tbody>\n",
       "    <tr>\n",
       "      <th>0</th>\n",
       "      <td>23.56</td>\n",
       "      <td>XML Cookbook</td>\n",
       "    </tr>\n",
       "    <tr>\n",
       "      <th>1</th>\n",
       "      <td>50.70</td>\n",
       "      <td>Python Fundamentals</td>\n",
       "    </tr>\n",
       "    <tr>\n",
       "      <th>2</th>\n",
       "      <td>12.30</td>\n",
       "      <td>The NumPy library</td>\n",
       "    </tr>\n",
       "    <tr>\n",
       "      <th>3</th>\n",
       "      <td>28.60</td>\n",
       "      <td>Java Enterprise</td>\n",
       "    </tr>\n",
       "    <tr>\n",
       "      <th>4</th>\n",
       "      <td>31.35</td>\n",
       "      <td>HTML5</td>\n",
       "    </tr>\n",
       "    <tr>\n",
       "      <th>5</th>\n",
       "      <td>28.00</td>\n",
       "      <td>Python for Dummies</td>\n",
       "    </tr>\n",
       "  </tbody>\n",
       "</table>\n",
       "</div>"
      ],
      "text/plain": [
       "   price                title\n",
       "0  23.56         XML Cookbook\n",
       "1  50.70  Python Fundamentals\n",
       "2  12.30    The NumPy library\n",
       "3  28.60      Java Enterprise\n",
       "4  31.35                HTML5\n",
       "5  28.00   Python for Dummies"
      ]
     },
     "execution_count": 30,
     "metadata": {},
     "output_type": "execute_result"
    }
   ],
   "source": [
    "#json files do not generally have a simple tabular form; \n",
    "# they have a nested dictionary sort of format that we need to normalize\n",
    "# json_normalize is used for normalization\n",
    "\n",
    "from pandas.io.json import json_normalize\n",
    "file = open('books.json','r') #open the file for reading\n",
    "text = file.read()            #read the file into text\n",
    "text = pd.json.loads(text)    #json load the text file\n",
    "print(text)\n",
    "json_normalize(text, \"books\") #normalize the text content to read a\n",
    "                # a particular tag, in this case, we are reading the list\n",
    "                # of books that contain book title and prices.\n",
    "        # note that it does not then take the writer into accoutn.\n",
    "        # Read all elements that have Book as the key.\n",
    "        "
   ]
  },
  {
   "cell_type": "code",
   "execution_count": 32,
   "metadata": {
    "collapsed": false
   },
   "outputs": [
    {
     "data": {
      "text/html": [
       "<div>\n",
       "<table border=\"1\" class=\"dataframe\">\n",
       "  <thead>\n",
       "    <tr style=\"text-align: right;\">\n",
       "      <th></th>\n",
       "      <th>price</th>\n",
       "      <th>title</th>\n",
       "      <th>writer</th>\n",
       "    </tr>\n",
       "  </thead>\n",
       "  <tbody>\n",
       "    <tr>\n",
       "      <th>0</th>\n",
       "      <td>23.56</td>\n",
       "      <td>XML Cookbook</td>\n",
       "      <td>Mark Ross</td>\n",
       "    </tr>\n",
       "    <tr>\n",
       "      <th>1</th>\n",
       "      <td>50.70</td>\n",
       "      <td>Python Fundamentals</td>\n",
       "      <td>Mark Ross</td>\n",
       "    </tr>\n",
       "    <tr>\n",
       "      <th>2</th>\n",
       "      <td>12.30</td>\n",
       "      <td>The NumPy library</td>\n",
       "      <td>Mark Ross</td>\n",
       "    </tr>\n",
       "    <tr>\n",
       "      <th>3</th>\n",
       "      <td>28.60</td>\n",
       "      <td>Java Enterprise</td>\n",
       "      <td>Barbara Bracket</td>\n",
       "    </tr>\n",
       "    <tr>\n",
       "      <th>4</th>\n",
       "      <td>31.35</td>\n",
       "      <td>HTML5</td>\n",
       "      <td>Barbara Bracket</td>\n",
       "    </tr>\n",
       "    <tr>\n",
       "      <th>5</th>\n",
       "      <td>28.00</td>\n",
       "      <td>Python for Dummies</td>\n",
       "      <td>Barbara Bracket</td>\n",
       "    </tr>\n",
       "  </tbody>\n",
       "</table>\n",
       "</div>"
      ],
      "text/plain": [
       "   price                title           writer\n",
       "0  23.56         XML Cookbook        Mark Ross\n",
       "1  50.70  Python Fundamentals        Mark Ross\n",
       "2  12.30    The NumPy library        Mark Ross\n",
       "3  28.60      Java Enterprise  Barbara Bracket\n",
       "4  31.35                HTML5  Barbara Bracket\n",
       "5  28.00   Python for Dummies  Barbara Bracket"
      ]
     },
     "execution_count": 32,
     "metadata": {},
     "output_type": "execute_result"
    }
   ],
   "source": [
    "#In previous example DataFram contained only info about book. Adding other\n",
    "# value of keys is possible.\n",
    "\n",
    "#insert a key list\n",
    "json_normalize(text, \"books\",[\"writer\"])"
   ]
  },
  {
   "cell_type": "code",
   "execution_count": 33,
   "metadata": {
    "collapsed": false
   },
   "outputs": [
    {
     "data": {
      "text/html": [
       "<div>\n",
       "<table border=\"1\" class=\"dataframe\">\n",
       "  <thead>\n",
       "    <tr style=\"text-align: right;\">\n",
       "      <th></th>\n",
       "      <th>price</th>\n",
       "      <th>title</th>\n",
       "      <th>writer</th>\n",
       "      <th>nationality</th>\n",
       "    </tr>\n",
       "  </thead>\n",
       "  <tbody>\n",
       "    <tr>\n",
       "      <th>0</th>\n",
       "      <td>23.56</td>\n",
       "      <td>XML Cookbook</td>\n",
       "      <td>Mark Ross</td>\n",
       "      <td>USA</td>\n",
       "    </tr>\n",
       "    <tr>\n",
       "      <th>1</th>\n",
       "      <td>50.70</td>\n",
       "      <td>Python Fundamentals</td>\n",
       "      <td>Mark Ross</td>\n",
       "      <td>USA</td>\n",
       "    </tr>\n",
       "    <tr>\n",
       "      <th>2</th>\n",
       "      <td>12.30</td>\n",
       "      <td>The NumPy library</td>\n",
       "      <td>Mark Ross</td>\n",
       "      <td>USA</td>\n",
       "    </tr>\n",
       "    <tr>\n",
       "      <th>3</th>\n",
       "      <td>28.60</td>\n",
       "      <td>Java Enterprise</td>\n",
       "      <td>Barbara Bracket</td>\n",
       "      <td>UK</td>\n",
       "    </tr>\n",
       "    <tr>\n",
       "      <th>4</th>\n",
       "      <td>31.35</td>\n",
       "      <td>HTML5</td>\n",
       "      <td>Barbara Bracket</td>\n",
       "      <td>UK</td>\n",
       "    </tr>\n",
       "    <tr>\n",
       "      <th>5</th>\n",
       "      <td>28.00</td>\n",
       "      <td>Python for Dummies</td>\n",
       "      <td>Barbara Bracket</td>\n",
       "      <td>UK</td>\n",
       "    </tr>\n",
       "  </tbody>\n",
       "</table>\n",
       "</div>"
      ],
      "text/plain": [
       "   price                title           writer nationality\n",
       "0  23.56         XML Cookbook        Mark Ross         USA\n",
       "1  50.70  Python Fundamentals        Mark Ross         USA\n",
       "2  12.30    The NumPy library        Mark Ross         USA\n",
       "3  28.60      Java Enterprise  Barbara Bracket          UK\n",
       "4  31.35                HTML5  Barbara Bracket          UK\n",
       "5  28.00   Python for Dummies  Barbara Bracket          UK"
      ]
     },
     "execution_count": 33,
     "metadata": {},
     "output_type": "execute_result"
    }
   ],
   "source": [
    "json_normalize(text, \"books\",[\"writer\",\"nationality\"])"
   ]
  },
  {
   "cell_type": "code",
   "execution_count": null,
   "metadata": {
    "collapsed": true
   },
   "outputs": [],
   "source": []
  }
 ],
 "metadata": {
  "kernelspec": {
   "display_name": "Python 3",
   "language": "python",
   "name": "python3"
  },
  "language_info": {
   "codemirror_mode": {
    "name": "ipython",
    "version": 3
   },
   "file_extension": ".py",
   "mimetype": "text/x-python",
   "name": "python",
   "nbconvert_exporter": "python",
   "pygments_lexer": "ipython3",
   "version": "3.5.1"
  }
 },
 "nbformat": 4,
 "nbformat_minor": 0
}
