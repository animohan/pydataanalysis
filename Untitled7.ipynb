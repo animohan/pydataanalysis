{
 "cells": [
  {
   "cell_type": "code",
   "execution_count": 21,
   "metadata": {
    "collapsed": false
   },
   "outputs": [
    {
     "data": {
      "text/plain": [
       "[2, -1]"
      ]
     },
     "execution_count": 21,
     "metadata": {},
     "output_type": "execute_result"
    }
   ],
   "source": [
    "def count_positives_sum_negatives(arr):\n",
    "    count_positive = 0\n",
    "    sum_negative = 0\n",
    "    if arr ==[]:\n",
    "        return []\n",
    "    else:\n",
    "        for i in arr:\n",
    "            if i>0:\n",
    "                count_positive = count_positive+1\n",
    "            else:\n",
    "                sum_negative = sum_negative+i\n",
    "        return ([count_positive, sum_negative])\n",
    "\n",
    "count_positives_sum_negatives([0,1,1,-1])\n",
    "\n",
    "def cpsn(arr):\n",
    "    count_positive = 0\n",
    "    sum_negative = 0\n",
    "    if arr ==[]:\n",
    "        return []\n",
    "    else:\n",
    "        return([count_positive,sum_negative] count_positive+1 for i in arr)\n",
    "        for i in arr:\n",
    "            if i>0:\n",
    "                count_positive = count_positive+1\n",
    "            else:\n",
    "                sum_negative = sum_negative+i\n",
    "        return ([count_positive, sum_negative])\n"
   ]
  },
  {
   "cell_type": "code",
   "execution_count": null,
   "metadata": {
    "collapsed": true
   },
   "outputs": [],
   "source": []
  }
 ],
 "metadata": {
  "kernelspec": {
   "display_name": "Python 3",
   "language": "python",
   "name": "python3"
  },
  "language_info": {
   "codemirror_mode": {
    "name": "ipython",
    "version": 3
   },
   "file_extension": ".py",
   "mimetype": "text/x-python",
   "name": "python",
   "nbconvert_exporter": "python",
   "pygments_lexer": "ipython3",
   "version": "3.5.1"
  }
 },
 "nbformat": 4,
 "nbformat_minor": 0
}
