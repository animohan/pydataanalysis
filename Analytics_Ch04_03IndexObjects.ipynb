{
 "cells": [
  {
   "cell_type": "code",
   "execution_count": 8,
   "metadata": {
    "collapsed": false
   },
   "outputs": [
    {
     "data": {
      "text/plain": [
       "Index(['red', 'blue', 'yellow', 'white', 'green'], dtype='object')"
      ]
     },
     "execution_count": 8,
     "metadata": {},
     "output_type": "execute_result"
    }
   ],
   "source": [
    "import numpy as np\n",
    "import pandas as pd\n",
    "#Index objects\n",
    "#Index objects are responsible for the labels on the axes and name of axes\n",
    "\n",
    "ser = pd.Series([0,5,3,8,4], index =[\"red\",\"blue\",\"yellow\",\"white\",\"green\"])\n",
    "ser.index"
   ]
  },
  {
   "cell_type": "code",
   "execution_count": 9,
   "metadata": {
    "collapsed": true
   },
   "outputs": [],
   "source": [
    "#Indexes once declared cannot be changed; ensures secure sharing between\n",
    "# the various data structures"
   ]
  },
  {
   "cell_type": "code",
   "execution_count": 10,
   "metadata": {
    "collapsed": false
   },
   "outputs": [
    {
     "name": "stdout",
     "output_type": "stream",
     "text": [
      "red\n"
     ]
    },
    {
     "data": {
      "text/plain": [
       "'white'"
      ]
     },
     "execution_count": 10,
     "metadata": {},
     "output_type": "execute_result"
    }
   ],
   "source": [
    "#Methods on Index\n",
    "print(ser.idxmin()) # maximum index\n",
    "ser.idxmax() #minimum index"
   ]
  },
  {
   "cell_type": "code",
   "execution_count": 11,
   "metadata": {
    "collapsed": false
   },
   "outputs": [
    {
     "name": "stdout",
     "output_type": "stream",
     "text": [
      "white     0\n",
      "white     1\n",
      "blue      2\n",
      "green     3\n",
      "green     4\n",
      "yellow    5\n",
      "dtype: int64 \n",
      "\n",
      "white    0\n",
      "white    1\n",
      "dtype: int64\n"
     ]
    }
   ],
   "source": [
    "#Index with duplicate labels:\n",
    "serd = pd.Series(range(6),index =[\"white\",\"white\",\"blue\",\n",
    "                                  \"green\",\"green\",\"yellow\"]) \n",
    "                                 #Duplicate indices\n",
    "print(serd,\"\\n\")\n",
    "print(serd[\"white\"])"
   ]
  },
  {
   "cell_type": "code",
   "execution_count": 12,
   "metadata": {
    "collapsed": false
   },
   "outputs": [
    {
     "name": "stdout",
     "output_type": "stream",
     "text": [
      "False\n",
      "True\n"
     ]
    }
   ],
   "source": [
    "print(serd.index.is_unique)\n",
    "\n",
    "frame4 = pd.DataFrame(np.arange(0,16).reshape((4,4)),\n",
    "                     index = [\"red\",\"blue\",\"yellow\",\"white\"],\n",
    "                     columns=[\"ball\",\"pen\",\"pencil\",\"paper\"])\n",
    "print(frame4.index.is_unique)"
   ]
  },
  {
   "cell_type": "code",
   "execution_count": 13,
   "metadata": {
    "collapsed": false
   },
   "outputs": [
    {
     "name": "stdout",
     "output_type": "stream",
     "text": [
      "one      1\n",
      "two      2\n",
      "three    3\n",
      "four     4\n",
      "dtype: int64\n"
     ]
    },
    {
     "data": {
      "text/plain": [
       "three    3.0\n",
       "four     4.0\n",
       "five     NaN\n",
       "one      1.0\n",
       "dtype: float64"
      ]
     },
     "execution_count": 13,
     "metadata": {},
     "output_type": "execute_result"
    }
   ],
   "source": [
    "#Other functonalities on index\n",
    "#Reindexing\n",
    "\n",
    "#Indexing once assigned cannot be changed; reindexing is a way to overcome\n",
    "ser  = pd.Series([1,2,3,4],index=[\"one\",\"two\",\"three\",\"four\"])\n",
    "print(ser)\n",
    "\n",
    "ser.reindex([\"three\",\"four\",\"five\",\"one\"]) #Reindex creates a new series\n",
    "              # object  with the values of previous Series rearranged\n",
    "              # according to the new sequence of labels\n",
    "              # In this operation: Can re-order, add and delete indexes"
   ]
  },
  {
   "cell_type": "code",
   "execution_count": 14,
   "metadata": {
    "collapsed": false
   },
   "outputs": [
    {
     "name": "stdout",
     "output_type": "stream",
     "text": [
      "0    1\n",
      "3    5\n",
      "5    6\n",
      "6    3\n",
      "dtype: int64\n"
     ]
    },
    {
     "data": {
      "text/plain": [
       "0    1\n",
       "1    1\n",
       "2    1\n",
       "3    5\n",
       "4    5\n",
       "5    6\n",
       "dtype: int64"
      ]
     },
     "execution_count": 14,
     "metadata": {},
     "output_type": "execute_result"
    }
   ],
   "source": [
    "ser3 = pd.Series([1,5,6,3], index =[0,3,5,6]) # A common task would be to \n",
    "                            #interpolate missing values\n",
    "print(ser3)\n",
    "\n",
    "ser3.reindex(range(6), method = \"ffill\") #to achieve interpolation of\n",
    "                #complete sequence of numbers, use reindex with ffill option\n",
    "    #indices that were not present were added  and the value was set to \n",
    "    # the value of lowest given index within interpolated indices"
   ]
  },
  {
   "cell_type": "code",
   "execution_count": 15,
   "metadata": {
    "collapsed": false
   },
   "outputs": [
    {
     "data": {
      "text/plain": [
       "0    1\n",
       "1    5\n",
       "2    5\n",
       "3    5\n",
       "4    6\n",
       "5    6\n",
       "6    3\n",
       "7    2\n",
       "8    2\n",
       "dtype: int64"
      ]
     },
     "execution_count": 15,
     "metadata": {},
     "output_type": "execute_result"
    }
   ],
   "source": [
    "ser3 = pd.Series([1,5,6,3,2], index =[0,3,5,6,9]) # A common task would be to \n",
    "                            #interpolate missing values\n",
    "ser3.reindex(range(9), method = \"bfill\") #fill with value of higher known\n",
    "                            #index for interpolation"
   ]
  },
  {
   "cell_type": "code",
   "execution_count": 18,
   "metadata": {
    "collapsed": false
   },
   "outputs": [
    {
     "name": "stdout",
     "output_type": "stream",
     "text": [
      "    color  object  price\n",
      "0    blue    ball    1.2\n",
      "1   green     pen    1.0\n",
      "2  yellow  pencil    0.6\n",
      "3     red   paper    0.9\n",
      "4   white     mug    1.7\n"
     ]
    },
    {
     "data": {
      "text/html": [
       "<div>\n",
       "<table border=\"1\" class=\"dataframe\">\n",
       "  <thead>\n",
       "    <tr style=\"text-align: right;\">\n",
       "      <th></th>\n",
       "      <th>color</th>\n",
       "      <th>price</th>\n",
       "      <th>new</th>\n",
       "      <th>object</th>\n",
       "    </tr>\n",
       "  </thead>\n",
       "  <tbody>\n",
       "    <tr>\n",
       "      <th>0</th>\n",
       "      <td>blue</td>\n",
       "      <td>1.2</td>\n",
       "      <td>NaN</td>\n",
       "      <td>ball</td>\n",
       "    </tr>\n",
       "    <tr>\n",
       "      <th>1</th>\n",
       "      <td>green</td>\n",
       "      <td>1.0</td>\n",
       "      <td>NaN</td>\n",
       "      <td>pen</td>\n",
       "    </tr>\n",
       "    <tr>\n",
       "      <th>2</th>\n",
       "      <td>yellow</td>\n",
       "      <td>0.6</td>\n",
       "      <td>NaN</td>\n",
       "      <td>pencil</td>\n",
       "    </tr>\n",
       "    <tr>\n",
       "      <th>3</th>\n",
       "      <td>red</td>\n",
       "      <td>0.9</td>\n",
       "      <td>NaN</td>\n",
       "      <td>paper</td>\n",
       "    </tr>\n",
       "    <tr>\n",
       "      <th>4</th>\n",
       "      <td>white</td>\n",
       "      <td>1.7</td>\n",
       "      <td>NaN</td>\n",
       "      <td>mug</td>\n",
       "    </tr>\n",
       "  </tbody>\n",
       "</table>\n",
       "</div>"
      ],
      "text/plain": [
       "    color  price  new  object\n",
       "0    blue    1.2  NaN    ball\n",
       "1   green    1.0  NaN     pen\n",
       "2  yellow    0.6  NaN  pencil\n",
       "3     red    0.9  NaN   paper\n",
       "4   white    1.7  NaN     mug"
      ]
     },
     "execution_count": 18,
     "metadata": {},
     "output_type": "execute_result"
    }
   ],
   "source": [
    "#Samething can be done for DataFrames\n",
    "\n",
    "#create a dictionary object\n",
    "data = {'color': ['blue','green',\"yellow\",\"red\",\"white\"],\n",
    "       \"object\": [\"ball\",'pen',\"pencil\",\"paper\",\"mug\"],\n",
    "       \"price\":[1.2,1.0,0.6,0.9,1.7]}\n",
    "frame = pd.DataFrame(data) #pass the dicitionary objects to a dataframe\n",
    "print(frame)\n",
    "\n",
    "frame.reindex(range(5), method = \"ffill\",columns = [\"color\", \"price\",\n",
    "                                                   \"new\", \"object\"])\n",
    "# In dataFrames, we can rearrage rows and columns or both. \n",
    "# Addition of new row(index) or column is done and since we have missing\n",
    "# values for \"new\" column NaN is added"
   ]
  },
  {
   "cell_type": "code",
   "execution_count": 26,
   "metadata": {
    "collapsed": false
   },
   "outputs": [
    {
     "name": "stdout",
     "output_type": "stream",
     "text": [
      "red       0.0\n",
      "blue      1.0\n",
      "yellow    2.0\n",
      "white     3.0\n",
      "dtype: float64 \n",
      "\n",
      "red      0.0\n",
      "blue     1.0\n",
      "white    3.0\n",
      "dtype: float64 \n",
      "\n",
      "red       0.0\n",
      "yellow    2.0\n",
      "dtype: float64\n"
     ]
    }
   ],
   "source": [
    "#Dropping Indices\n",
    "\n",
    "ser = pd.Series(np.arange(4.), index = [\"red\",\"blue\",\"yellow\",\"white\"])\n",
    "print(ser,\"\\n\")\n",
    "print(ser.drop(\"yellow\"),\"\\n\")\n",
    "print(ser.drop([\"blue\",\"white\"]))\n"
   ]
  },
  {
   "cell_type": "code",
   "execution_count": 28,
   "metadata": {
    "collapsed": false
   },
   "outputs": [
    {
     "name": "stdout",
     "output_type": "stream",
     "text": [
      "        ball  pen  pencil  paper\n",
      "red        0    1       2      3\n",
      "blue       4    5       6      7\n",
      "yellow     8    9      10     11\n",
      "white     12   13      14     15 \n",
      "\n"
     ]
    },
    {
     "data": {
      "text/html": [
       "<div>\n",
       "<table border=\"1\" class=\"dataframe\">\n",
       "  <thead>\n",
       "    <tr style=\"text-align: right;\">\n",
       "      <th></th>\n",
       "      <th>ball</th>\n",
       "      <th>pen</th>\n",
       "      <th>pencil</th>\n",
       "      <th>paper</th>\n",
       "    </tr>\n",
       "  </thead>\n",
       "  <tbody>\n",
       "    <tr>\n",
       "      <th>red</th>\n",
       "      <td>0</td>\n",
       "      <td>1</td>\n",
       "      <td>2</td>\n",
       "      <td>3</td>\n",
       "    </tr>\n",
       "    <tr>\n",
       "      <th>white</th>\n",
       "      <td>12</td>\n",
       "      <td>13</td>\n",
       "      <td>14</td>\n",
       "      <td>15</td>\n",
       "    </tr>\n",
       "  </tbody>\n",
       "</table>\n",
       "</div>"
      ],
      "text/plain": [
       "       ball  pen  pencil  paper\n",
       "red       0    1       2      3\n",
       "white    12   13      14     15"
      ]
     },
     "execution_count": 28,
     "metadata": {},
     "output_type": "execute_result"
    }
   ],
   "source": [
    "#Dropping indices for DataFrame\n",
    "frame = pd.DataFrame(np.arange(16).reshape((4,4)), index = [\"red\",\"blue\",\n",
    "            \"yellow\",\"white\"], columns=[\"ball\",\"pen\",\"pencil\",\"paper\"])\n",
    "print(frame,\"\\n\")\n",
    "frame.drop([\"blue\",\"yellow\"]) #multiple argument can be passed in array"
   ]
  },
  {
   "cell_type": "code",
   "execution_count": 30,
   "metadata": {
    "collapsed": false
   },
   "outputs": [
    {
     "data": {
      "text/html": [
       "<div>\n",
       "<table border=\"1\" class=\"dataframe\">\n",
       "  <thead>\n",
       "    <tr style=\"text-align: right;\">\n",
       "      <th></th>\n",
       "      <th>ball</th>\n",
       "      <th>paper</th>\n",
       "    </tr>\n",
       "  </thead>\n",
       "  <tbody>\n",
       "    <tr>\n",
       "      <th>red</th>\n",
       "      <td>0</td>\n",
       "      <td>3</td>\n",
       "    </tr>\n",
       "    <tr>\n",
       "      <th>blue</th>\n",
       "      <td>4</td>\n",
       "      <td>7</td>\n",
       "    </tr>\n",
       "    <tr>\n",
       "      <th>yellow</th>\n",
       "      <td>8</td>\n",
       "      <td>11</td>\n",
       "    </tr>\n",
       "    <tr>\n",
       "      <th>white</th>\n",
       "      <td>12</td>\n",
       "      <td>15</td>\n",
       "    </tr>\n",
       "  </tbody>\n",
       "</table>\n",
       "</div>"
      ],
      "text/plain": [
       "        ball  paper\n",
       "red        0      3\n",
       "blue       4      7\n",
       "yellow     8     11\n",
       "white     12     15"
      ]
     },
     "execution_count": 30,
     "metadata": {},
     "output_type": "execute_result"
    }
   ],
   "source": [
    "#deleting columns from frame\n",
    "frame.drop(['pen',\"pencil\"], axis =1) #axis =1 for dropping row."
   ]
  },
  {
   "cell_type": "code",
   "execution_count": 31,
   "metadata": {
    "collapsed": false
   },
   "outputs": [
    {
     "data": {
      "text/plain": [
       "black     NaN\n",
       "blue      3.0\n",
       "brown     NaN\n",
       "green     NaN\n",
       "white     4.0\n",
       "yellow    6.0\n",
       "dtype: float64"
      ]
     },
     "execution_count": 31,
     "metadata": {},
     "output_type": "execute_result"
    }
   ],
   "source": [
    "#Arithmetic and Data Alignment\n",
    "# Pandas can perform alignment of indexes coming from different data struct\n",
    "\n",
    "s1 = pd.Series([3,2,5,1],[\"white\",\"yellow\",\"green\",\"blue\"])\n",
    "s2 = pd.Series([1,4,7,2,1],[\"white\",\"yellow\",\"black\",\"blue\",\"brown\"])\n",
    "\n",
    "s1+s2"
   ]
  },
  {
   "cell_type": "code",
   "execution_count": 34,
   "metadata": {
    "collapsed": false
   },
   "outputs": [
    {
     "name": "stdout",
     "output_type": "stream",
     "text": [
      "        ball  pen  pencil  paper\n",
      "red        0    1       2      3\n",
      "blue       4    5       6      7\n",
      "yellow     8    9      10     11\n",
      "white     12   13      14     15 \n",
      "\n",
      "        mug  pen  ball\n",
      "blue      0    1     2\n",
      "green     3    4     5\n",
      "white     6    7     8\n",
      "yellow    9   10    11 \n",
      "\n"
     ]
    },
    {
     "data": {
      "text/html": [
       "<div>\n",
       "<table border=\"1\" class=\"dataframe\">\n",
       "  <thead>\n",
       "    <tr style=\"text-align: right;\">\n",
       "      <th></th>\n",
       "      <th>ball</th>\n",
       "      <th>mug</th>\n",
       "      <th>paper</th>\n",
       "      <th>pen</th>\n",
       "      <th>pencil</th>\n",
       "    </tr>\n",
       "  </thead>\n",
       "  <tbody>\n",
       "    <tr>\n",
       "      <th>blue</th>\n",
       "      <td>6.0</td>\n",
       "      <td>NaN</td>\n",
       "      <td>NaN</td>\n",
       "      <td>6.0</td>\n",
       "      <td>NaN</td>\n",
       "    </tr>\n",
       "    <tr>\n",
       "      <th>green</th>\n",
       "      <td>NaN</td>\n",
       "      <td>NaN</td>\n",
       "      <td>NaN</td>\n",
       "      <td>NaN</td>\n",
       "      <td>NaN</td>\n",
       "    </tr>\n",
       "    <tr>\n",
       "      <th>red</th>\n",
       "      <td>NaN</td>\n",
       "      <td>NaN</td>\n",
       "      <td>NaN</td>\n",
       "      <td>NaN</td>\n",
       "      <td>NaN</td>\n",
       "    </tr>\n",
       "    <tr>\n",
       "      <th>white</th>\n",
       "      <td>20.0</td>\n",
       "      <td>NaN</td>\n",
       "      <td>NaN</td>\n",
       "      <td>20.0</td>\n",
       "      <td>NaN</td>\n",
       "    </tr>\n",
       "    <tr>\n",
       "      <th>yellow</th>\n",
       "      <td>19.0</td>\n",
       "      <td>NaN</td>\n",
       "      <td>NaN</td>\n",
       "      <td>19.0</td>\n",
       "      <td>NaN</td>\n",
       "    </tr>\n",
       "  </tbody>\n",
       "</table>\n",
       "</div>"
      ],
      "text/plain": [
       "        ball  mug  paper   pen  pencil\n",
       "blue     6.0  NaN    NaN   6.0     NaN\n",
       "green    NaN  NaN    NaN   NaN     NaN\n",
       "red      NaN  NaN    NaN   NaN     NaN\n",
       "white   20.0  NaN    NaN  20.0     NaN\n",
       "yellow  19.0  NaN    NaN  19.0     NaN"
      ]
     },
     "execution_count": 34,
     "metadata": {},
     "output_type": "execute_result"
    }
   ],
   "source": [
    "frame1 = pd.DataFrame(np.arange(16).reshape((4,4)),index = [\"red\",\"blue\",\n",
    "            \"yellow\",\"white\"], columns = [\"ball\",\"pen\",\"pencil\",\"paper\"])\n",
    "\n",
    "frame2 = pd.DataFrame(np.arange(12).reshape((4,3)),index = [\"blue\",\"green\",\n",
    "            \"white\",\"yellow\"], columns = [\"mug\",\"pen\",\"ball\"])\n",
    "print(frame1,\"\\n\")\n",
    "print(frame2,\"\\n\")\n",
    "\n",
    "frame1+ frame2 #Math indices and columns. Only values that have entries\n",
    "# for the same column and index name in both frames have the + operation\n",
    "# performed upon"
   ]
  },
  {
   "cell_type": "code",
   "execution_count": null,
   "metadata": {
    "collapsed": true
   },
   "outputs": [],
   "source": []
  }
 ],
 "metadata": {
  "kernelspec": {
   "display_name": "Python 3",
   "language": "python",
   "name": "python3"
  },
  "language_info": {
   "codemirror_mode": {
    "name": "ipython",
    "version": 3
   },
   "file_extension": ".py",
   "mimetype": "text/x-python",
   "name": "python",
   "nbconvert_exporter": "python",
   "pygments_lexer": "ipython3",
   "version": "3.5.2"
  }
 },
 "nbformat": 4,
 "nbformat_minor": 0
}
