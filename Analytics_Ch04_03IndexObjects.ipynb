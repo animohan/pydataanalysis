{
 "cells": [
  {
   "cell_type": "code",
   "execution_count": 7,
   "metadata": {
    "collapsed": false
   },
   "outputs": [
    {
     "data": {
      "text/plain": [
       "Index(['red', 'blue', 'yellow', 'white', 'green'], dtype='object')"
      ]
     },
     "execution_count": 7,
     "metadata": {},
     "output_type": "execute_result"
    }
   ],
   "source": [
    "import numpy as np\n",
    "import pandas as pd\n",
    "#Index objects\n",
    "#Index objects are responsible for the labels on the axes and name of axes\n",
    "\n",
    "ser = pd.Series([0,5,3,8,4], index =[\"red\",\"blue\",\"yellow\",\"white\",\"green\"])\n",
    "ser.index"
   ]
  },
  {
   "cell_type": "code",
   "execution_count": 8,
   "metadata": {
    "collapsed": true
   },
   "outputs": [],
   "source": [
    "#Indexes once declared cannot be changed; ensures secure sharing between\n",
    "# the various data structures"
   ]
  },
  {
   "cell_type": "code",
   "execution_count": 9,
   "metadata": {
    "collapsed": false
   },
   "outputs": [
    {
     "name": "stdout",
     "output_type": "stream",
     "text": [
      "red\n"
     ]
    },
    {
     "data": {
      "text/plain": [
       "'white'"
      ]
     },
     "execution_count": 9,
     "metadata": {},
     "output_type": "execute_result"
    }
   ],
   "source": [
    "#Methods on Index\n",
    "print(ser.idxmin()) # maximum index\n",
    "ser.idxmax() #minimum index"
   ]
  },
  {
   "cell_type": "code",
   "execution_count": 12,
   "metadata": {
    "collapsed": false
   },
   "outputs": [
    {
     "name": "stdout",
     "output_type": "stream",
     "text": [
      "white     0\n",
      "white     1\n",
      "blue      2\n",
      "green     3\n",
      "green     4\n",
      "yellow    5\n",
      "dtype: int32 \n",
      "\n",
      "white    0\n",
      "white    1\n",
      "dtype: int32\n"
     ]
    }
   ],
   "source": [
    "#Index with duplicate labels:\n",
    "serd = pd.Series(range(6),index =[\"white\",\"white\",\"blue\",\n",
    "                                  \"green\",\"green\",\"yellow\"]) \n",
    "                                 #Duplicate indices\n",
    "print(serd,\"\\n\")\n",
    "print(serd[\"white\"])"
   ]
  },
  {
   "cell_type": "code",
   "execution_count": 14,
   "metadata": {
    "collapsed": false
   },
   "outputs": [
    {
     "name": "stdout",
     "output_type": "stream",
     "text": [
      "False\n",
      "True\n"
     ]
    }
   ],
   "source": [
    "print(serd.index.is_unique)\n",
    "\n",
    "frame4 = pd.DataFrame(np.arange(0,16).reshape((4,4)),\n",
    "                     index = [\"red\",\"blue\",\"yellow\",\"white\"],\n",
    "                     columns=[\"ball\",\"pen\",\"pencil\",\"paper\"])\n",
    "print(frame4.index.is_unique)"
   ]
  },
  {
   "cell_type": "code",
   "execution_count": 17,
   "metadata": {
    "collapsed": false
   },
   "outputs": [
    {
     "name": "stdout",
     "output_type": "stream",
     "text": [
      "one      1\n",
      "two      2\n",
      "three    3\n",
      "four     4\n",
      "dtype: int64\n"
     ]
    },
    {
     "data": {
      "text/plain": [
       "three    3.0\n",
       "four     4.0\n",
       "five     NaN\n",
       "one      1.0\n",
       "dtype: float64"
      ]
     },
     "execution_count": 17,
     "metadata": {},
     "output_type": "execute_result"
    }
   ],
   "source": [
    "#Other functonalities on index\n",
    "#Reindexing\n",
    "\n",
    "#Indexing once assigned cannot be changed; reindexing is a way to overcome\n",
    "ser  = pd.Series([1,2,3,4],index=[\"one\",\"two\",\"three\",\"four\"])\n",
    "print(ser)\n",
    "\n",
    "ser.reindex([\"three\",\"four\",\"five\",\"one\"]) #Reindex creates a new series\n",
    "              # object  with the values of previous Series rearranged\n",
    "              # according to the new sequence of labels\n",
    "              # In this operation: Can re-order, add and delete indexes"
   ]
  },
  {
   "cell_type": "code",
   "execution_count": null,
   "metadata": {
    "collapsed": true
   },
   "outputs": [],
   "source": [
    "ser = pd.Series"
   ]
  }
 ],
 "metadata": {
  "kernelspec": {
   "display_name": "Python 3",
   "language": "python",
   "name": "python3"
  },
  "language_info": {
   "codemirror_mode": {
    "name": "ipython",
    "version": 3
   },
   "file_extension": ".py",
   "mimetype": "text/x-python",
   "name": "python",
   "nbconvert_exporter": "python",
   "pygments_lexer": "ipython3",
   "version": "3.5.1"
  }
 },
 "nbformat": 4,
 "nbformat_minor": 0
}
