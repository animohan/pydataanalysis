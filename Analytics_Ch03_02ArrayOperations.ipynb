{
 "cells": [
  {
   "cell_type": "code",
   "execution_count": 2,
   "metadata": {
    "collapsed": false
   },
   "outputs": [
    {
     "name": "stdout",
     "output_type": "stream",
     "text": [
      "[0 1 2 3]\n",
      "\n",
      "[4 5 6 7]\n",
      "\n",
      "[0 2 4 6]\n",
      "\n",
      "[0 3 6 9]\n"
     ]
    }
   ],
   "source": [
    "import numpy as np\n",
    "a = np.arange(4)\n",
    "print(a) #Print array\n",
    "print()\n",
    "print(a+4) #Addition\n",
    "print()\n",
    "print(a*2) #Multiplication\n",
    "print()\n",
    "print(a+a+a) #array addition"
   ]
  },
  {
   "cell_type": "code",
   "execution_count": 6,
   "metadata": {
    "collapsed": false
   },
   "outputs": [
    {
     "data": {
      "text/plain": [
       "array([[ 0.        ,  0.84147098,  1.68294197,  2.52441295]])"
      ]
     },
     "execution_count": 6,
     "metadata": {},
     "output_type": "execute_result"
    }
   ],
   "source": [
    "a = np.arange(4)\n",
    "b = np.ones((1,4))\n",
    "print(a*np.sin(b)) #adding sin of a value"
   ]
  },
  {
   "cell_type": "code",
   "execution_count": 7,
   "metadata": {
    "collapsed": false
   },
   "outputs": [
    {
     "name": "stdout",
     "output_type": "stream",
     "text": [
      "[ 0.          2.23606798  4.89897949  7.93725393]\n"
     ]
    }
   ],
   "source": [
    "a = np.arange(4)\n",
    "b = np.arange(4,8)\n",
    "print(a*np.sqrt(b)) #square root"
   ]
  },
  {
   "cell_type": "code",
   "execution_count": 10,
   "metadata": {
    "collapsed": false
   },
   "outputs": [
    {
     "name": "stdout",
     "output_type": "stream",
     "text": [
      "[[0 1 2]\n",
      " [3 4 5]\n",
      " [6 7 8]]\n",
      "\n",
      "[[ 1.  1.  1.]\n",
      " [ 1.  1.  1.]\n",
      " [ 1.  1.  1.]]\n",
      "\n",
      "[[ 0.  1.  2.]\n",
      " [ 3.  4.  5.]\n",
      " [ 6.  7.  8.]]\n",
      "\n",
      "[[  3.   3.   3.]\n",
      " [ 12.  12.  12.]\n",
      " [ 21.  21.  21.]]\n"
     ]
    }
   ],
   "source": [
    "#Multi dimensional operations\n",
    "a = np.arange(0,9).reshape(3,3)\n",
    "b = np.ones((3,3))\n",
    "print(a)\n",
    "print()\n",
    "print(b)\n",
    "print()\n",
    "print(a*b) #per element multiplication\n",
    "print()\n",
    "print(np.dot(a,b)) #Matrix multiplication"
   ]
  },
  {
   "cell_type": "code",
   "execution_count": 4,
   "metadata": {
    "collapsed": false
   },
   "outputs": [
    {
     "name": "stdout",
     "output_type": "stream",
     "text": [
      "[[ 1.  2.  3.  4.  5.]]\n",
      "[[ 0.          1.38629436  2.19722458  2.77258872  3.21887582]]\n",
      "[[ 0.84147098 -0.7568025   0.41211849 -0.28790332 -0.13235175]]\n"
     ]
    }
   ],
   "source": [
    "#universal function\n",
    "#universal funtion is a function operating on an array element yb element\n",
    "#e.g sqrt, log, sin etc\n",
    "\n",
    "a = np.array([[1,4,9,16,25]])\n",
    "print(np.sqrt(a))\n",
    "print(np.log(a))\n",
    "print(np.sin(a))"
   ]
  },
  {
   "cell_type": "code",
   "execution_count": 6,
   "metadata": {
    "collapsed": false
   },
   "outputs": [
    {
     "name": "stdout",
     "output_type": "stream",
     "text": [
      "17\n",
      "1\n",
      "5\n",
      "1.62480768093\n"
     ]
    }
   ],
   "source": [
    "#Aggregate functions\n",
    "#Acts on arrays and produces a single result\n",
    "a = np.array([[1,2,4,5,5]])\n",
    "print(a.sum())\n",
    "print(a.min())\n",
    "print(a.max())\n",
    "print(a.std())"
   ]
  },
  {
   "cell_type": "code",
   "execution_count": 25,
   "metadata": {
    "collapsed": false
   },
   "outputs": [
    {
     "name": "stdout",
     "output_type": "stream",
     "text": [
      "[10 11 12 13 14 15]\n",
      "10\n",
      "[11 12]\n",
      "\n",
      "15\n",
      "[12 13]\n",
      "[13 14]\n",
      "[10 12 14]\n"
     ]
    }
   ],
   "source": [
    "#Indexing; Slicing; Iterating\n",
    "a = np.arange(10,16) #Note 16 is not included\n",
    "print(a)\n",
    "print(a[0]) #1st element\n",
    "print(a[[1,2]]) #2nd and 3rd element\n",
    "print()\n",
    "print(a[-1]) #Last element\n",
    "print(a[2:4]) #3rd to 5th element\n",
    "print(a[-3:-1]) # last to 3rd last lement\n",
    "print(a[0:5:2])\n",
    "print(A[0:0:2])"
   ]
  },
  {
   "cell_type": "code",
   "execution_count": 22,
   "metadata": {
    "collapsed": false
   },
   "outputs": [
    {
     "name": "stdout",
     "output_type": "stream",
     "text": [
      "[[1 2 3]\n",
      " [4 5 6]\n",
      " [7 8 9]]\n",
      "\n",
      "1\n",
      "9\n",
      "3\n"
     ]
    }
   ],
   "source": [
    "a = np.arange(1,10).reshape(3,3)\n",
    "print(a)\n",
    "print()\n",
    "\n",
    "print(a[0,0])\n",
    "print(a[2,2])\n",
    "print(a[0,2])"
   ]
  },
  {
   "cell_type": "code",
   "execution_count": null,
   "metadata": {
    "collapsed": true
   },
   "outputs": [],
   "source": []
  }
 ],
 "metadata": {
  "kernelspec": {
   "display_name": "Python 3",
   "language": "python",
   "name": "python3"
  },
  "language_info": {
   "codemirror_mode": {
    "name": "ipython",
    "version": 3
   },
   "file_extension": ".py",
   "mimetype": "text/x-python",
   "name": "python",
   "nbconvert_exporter": "python",
   "pygments_lexer": "ipython3",
   "version": "3.5.1"
  }
 },
 "nbformat": 4,
 "nbformat_minor": 0
}
