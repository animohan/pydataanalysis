{
 "cells": [
  {
   "cell_type": "code",
   "execution_count": 2,
   "metadata": {
    "collapsed": false
   },
   "outputs": [
    {
     "name": "stdout",
     "output_type": "stream",
     "text": [
      "[0 1 2 3]\n",
      "\n",
      "[4 5 6 7]\n",
      "\n",
      "[0 2 4 6]\n",
      "\n",
      "[0 3 6 9]\n"
     ]
    }
   ],
   "source": [
    "import numpy as np\n",
    "a = np.arange(4)\n",
    "print(a) #Print array\n",
    "print()\n",
    "print(a+4) #Addition\n",
    "print()\n",
    "print(a*2) #Multiplication\n",
    "print()\n",
    "print(a+a+a) #array addition"
   ]
  },
  {
   "cell_type": "code",
   "execution_count": 6,
   "metadata": {
    "collapsed": false
   },
   "outputs": [
    {
     "data": {
      "text/plain": [
       "array([[ 0.        ,  0.84147098,  1.68294197,  2.52441295]])"
      ]
     },
     "execution_count": 6,
     "metadata": {},
     "output_type": "execute_result"
    }
   ],
   "source": [
    "a = np.arange(4)\n",
    "b = np.ones((1,4))\n",
    "print(a*np.sin(b)) #adding sin of a value"
   ]
  },
  {
   "cell_type": "code",
   "execution_count": 7,
   "metadata": {
    "collapsed": false
   },
   "outputs": [
    {
     "name": "stdout",
     "output_type": "stream",
     "text": [
      "[ 0.          2.23606798  4.89897949  7.93725393]\n"
     ]
    }
   ],
   "source": [
    "a = np.arange(4)\n",
    "b = np.arange(4,8)\n",
    "print(a*np.sqrt(b)) #square root"
   ]
  },
  {
   "cell_type": "code",
   "execution_count": 10,
   "metadata": {
    "collapsed": false
   },
   "outputs": [
    {
     "name": "stdout",
     "output_type": "stream",
     "text": [
      "[[0 1 2]\n",
      " [3 4 5]\n",
      " [6 7 8]]\n",
      "\n",
      "[[ 1.  1.  1.]\n",
      " [ 1.  1.  1.]\n",
      " [ 1.  1.  1.]]\n",
      "\n",
      "[[ 0.  1.  2.]\n",
      " [ 3.  4.  5.]\n",
      " [ 6.  7.  8.]]\n",
      "\n",
      "[[  3.   3.   3.]\n",
      " [ 12.  12.  12.]\n",
      " [ 21.  21.  21.]]\n"
     ]
    }
   ],
   "source": [
    "#Multi dimensional operations\n",
    "a = np.arange(0,9).reshape(3,3)\n",
    "b = np.ones((3,3))\n",
    "print(a)\n",
    "print()\n",
    "print(b)\n",
    "print()\n",
    "print(a*b) #per element multiplication\n",
    "print()\n",
    "print(np.dot(a,b)) #Matrix multiplication"
   ]
  },
  {
   "cell_type": "code",
   "execution_count": 4,
   "metadata": {
    "collapsed": false
   },
   "outputs": [
    {
     "name": "stdout",
     "output_type": "stream",
     "text": [
      "[[ 1.  2.  3.  4.  5.]]\n",
      "[[ 0.          1.38629436  2.19722458  2.77258872  3.21887582]]\n",
      "[[ 0.84147098 -0.7568025   0.41211849 -0.28790332 -0.13235175]]\n"
     ]
    }
   ],
   "source": [
    "#universal function\n",
    "#universal funtion is a function operating on an array element yb element\n",
    "#e.g sqrt, log, sin etc\n",
    "\n",
    "a = np.array([[1,4,9,16,25]])\n",
    "print(np.sqrt(a))\n",
    "print(np.log(a))\n",
    "print(np.sin(a))"
   ]
  },
  {
   "cell_type": "code",
   "execution_count": 6,
   "metadata": {
    "collapsed": false
   },
   "outputs": [
    {
     "name": "stdout",
     "output_type": "stream",
     "text": [
      "17\n",
      "1\n",
      "5\n",
      "1.62480768093\n"
     ]
    }
   ],
   "source": [
    "#Aggregate functions\n",
    "#Acts on arrays and produces a single result\n",
    "a = np.array([[1,2,4,5,5]])\n",
    "print(a.sum())\n",
    "print(a.min())\n",
    "print(a.max())\n",
    "print(a.std())"
   ]
  },
  {
   "cell_type": "code",
   "execution_count": 4,
   "metadata": {
    "collapsed": false
   },
   "outputs": [
    {
     "name": "stdout",
     "output_type": "stream",
     "text": [
      "[10 11 12 13 14 15]\n",
      "10\n",
      "[11 12]\n",
      "\n",
      "15\n",
      "[12 13]\n",
      "[13 14]\n",
      "[10 12 14]\n",
      "[]\n"
     ]
    }
   ],
   "source": [
    "#Indexing; Slicing; Iterating\n",
    "a = np.arange(10,16) #Note 16 is not included\n",
    "print(a)\n",
    "print(a[0]) #1st element\n",
    "print(a[[1,2]]) #2nd and 3rd element\n",
    "print()\n",
    "print(a[-1]) #Last element\n",
    "print(a[2:4]) #3rd to 5th element\n",
    "print(a[-3:-1]) # last to 3rd last lement\n",
    "print(a[0:5:2])\n",
    "print(a[0:0:2])"
   ]
  },
  {
   "cell_type": "code",
   "execution_count": 22,
   "metadata": {
    "collapsed": false
   },
   "outputs": [
    {
     "name": "stdout",
     "output_type": "stream",
     "text": [
      "[[1 2 3]\n",
      " [4 5 6]\n",
      " [7 8 9]]\n",
      "\n",
      "1\n",
      "9\n",
      "3\n"
     ]
    }
   ],
   "source": [
    "a = np.arange(1,10).reshape(3,3)\n",
    "print(a)\n",
    "print()\n",
    "\n",
    "print(a[0,0])\n",
    "print(a[2,2])\n",
    "print(a[0,2])"
   ]
  },
  {
   "cell_type": "code",
   "execution_count": 7,
   "metadata": {
    "collapsed": false
   },
   "outputs": [
    {
     "name": "stdout",
     "output_type": "stream",
     "text": [
      "[[1 2 3]\n",
      " [4 5 6]\n",
      " [7 8 9]]\n",
      "\n",
      "[1 2 3]\n",
      "\n",
      "[1 4 7]\n"
     ]
    }
   ],
   "source": [
    "a = np.arange(1,10).reshape(3,3)\n",
    "print(a)\n",
    "print()\n",
    "print(a[0,:]) # 1st row\n",
    "print()\n",
    "print(a[:,0]) # 1st column"
   ]
  },
  {
   "cell_type": "code",
   "execution_count": 11,
   "metadata": {
    "collapsed": false
   },
   "outputs": [
    {
     "name": "stdout",
     "output_type": "stream",
     "text": [
      "[[1 2 3]\n",
      " [4 5 6]\n",
      " [7 8 9]]\n",
      "\n",
      "[[1 2]\n",
      " [4 5]]\n"
     ]
    }
   ],
   "source": [
    "#Sub matrices:\n",
    "a = np.arange(1,10).reshape(3,3)\n",
    "print(a)\n",
    "print()\n",
    "b=a[0:2,0:2] #copy 1st and 2nd row and column\n",
    "print(b)"
   ]
  },
  {
   "cell_type": "code",
   "execution_count": 13,
   "metadata": {
    "collapsed": false
   },
   "outputs": [
    {
     "name": "stdout",
     "output_type": "stream",
     "text": [
      "[[1 2 3]\n",
      " [4 5 6]\n",
      " [7 8 9]]\n",
      "\n",
      "[[1 2]\n",
      " [7 8]]\n"
     ]
    }
   ],
   "source": [
    "a = np.arange(1,10).reshape(3,3)\n",
    "print(a)\n",
    "print()\n",
    "b=a[[0,2],0:2] #copy 1st and 3rd row; and 1st and 2nd column\n",
    "print(b)"
   ]
  },
  {
   "cell_type": "code",
   "execution_count": 15,
   "metadata": {
    "collapsed": false
   },
   "outputs": [
    {
     "name": "stdout",
     "output_type": "stream",
     "text": [
      "\n",
      "[1 2 3]\n",
      "\n",
      "[4 5 6]\n",
      "\n",
      "[7 8 9]\n",
      "\n"
     ]
    }
   ],
   "source": [
    "#iterating an array\n",
    "a = np.arange(1,10).reshape(3,3)\n",
    "print()\n",
    "for i in a:\n",
    "    print(i) # each i is a row/axis\n",
    "    print()"
   ]
  },
  {
   "cell_type": "code",
   "execution_count": 3,
   "metadata": {
    "collapsed": false
   },
   "outputs": [
    {
     "name": "stdout",
     "output_type": "stream",
     "text": [
      "\n",
      "1\n",
      "2\n",
      "3\n",
      "4\n"
     ]
    }
   ],
   "source": [
    "#per element loop\n",
    "a = np.arange(1,5).reshape(2,2)\n",
    "print()\n",
    "for i in a.flat:\n",
    "    print(i)"
   ]
  },
  {
   "cell_type": "code",
   "execution_count": 6,
   "metadata": {
    "collapsed": false
   },
   "outputs": [
    {
     "name": "stdout",
     "output_type": "stream",
     "text": [
      "[[1 2 3]\n",
      " [4 5 6]\n",
      " [7 8 9]]\n",
      "\n",
      "[ 4.  5.  6.]\n",
      "\n",
      "[ 2.  5.  8.]\n"
     ]
    }
   ],
   "source": [
    "#Alternative to loop; applying a function to row or column\n",
    "a = np.arange(1,10).reshape(3,3)\n",
    "print(a)\n",
    "print()\n",
    "print(np.apply_along_axis(np.mean, axis =0, arr = a)) #columnwise mean\n",
    "print()\n",
    "print(np.apply_along_axis(np.mean, axis =1, arr = a)) #Rowwise mean"
   ]
  },
  {
   "cell_type": "code",
   "execution_count": 14,
   "metadata": {
    "collapsed": false
   },
   "outputs": [
    {
     "name": "stdout",
     "output_type": "stream",
     "text": [
      "[[1 2 3]\n",
      " [4 5 6]\n",
      " [7 8 9]]\n",
      "\n",
      "[[ 0.5  1.   1.5]\n",
      " [ 2.   2.5  3. ]\n",
      " [ 3.5  4.   4.5]] \n",
      "\n",
      "[12 15 18] \n",
      "\n",
      "[ 6 15 24] n\n"
     ]
    }
   ],
   "source": [
    "#apply_along_axis is more powerful because you can define your own function\n",
    "print(a)\n",
    "print()\n",
    "def halve(x):\n",
    "    return x/2\n",
    "def tsum(x):\n",
    "    return sum(x)\n",
    "print(np.apply_along_axis(halve, axis =0, arr = a), \"\\n\") #halves all elments\n",
    "print(np.apply_along_axis(sum, axis =0, arr = a),\"\\n\") #columnwise sum\n",
    "print(np.apply_along_axis(sum, axis =1, arr = a),\"\\n\") #rowwise sum"
   ]
  },
  {
   "cell_type": "code",
   "execution_count": 15,
   "metadata": {
    "collapsed": false
   },
   "outputs": [
    {
     "name": "stdout",
     "output_type": "stream",
     "text": [
      "[[ 0.32251607  0.09921411  0.36983647  0.39000434]\n",
      " [ 0.86731344  0.13530269  0.50416858  0.02193761]\n",
      " [ 0.91047874  0.62474231  0.93162511  0.81913449]\n",
      " [ 0.60179465  0.16902447  0.62368365  0.14725971]] \n",
      "\n",
      "[[ True  True  True  True]\n",
      " [False  True False  True]\n",
      " [False False False False]\n",
      " [False  True False  True]] \n",
      "\n",
      "[ 0.32251607  0.09921411  0.36983647  0.39000434  0.13530269  0.02193761\n",
      "  0.16902447  0.14725971] \n",
      "\n"
     ]
    }
   ],
   "source": [
    "#Conditional and Boolean Arrays\n",
    "\n",
    "a = np.random.random((4,4))\n",
    "print(a,\"\\n\")\n",
    "print(a<0.5,\"\\n\") #boolean array giving which values satisfy the condition\n",
    "print(a[a<0.5],\"\\n\") #gives a list of entries with values larger than 0.5"
   ]
  },
  {
   "cell_type": "code",
   "execution_count": 21,
   "metadata": {
    "collapsed": false
   },
   "outputs": [
    {
     "name": "stdout",
     "output_type": "stream",
     "text": [
      "[ 0.4590292   0.39368942  0.00524018  0.47488693  0.50958411  0.88985135\n",
      "  0.94296341  0.05411268  0.23540655  0.66608822  0.46731678  0.32016034] \n",
      "\n",
      "[[ 0.4590292   0.39368942  0.00524018  0.47488693]\n",
      " [ 0.50958411  0.88985135  0.94296341  0.05411268]\n",
      " [ 0.23540655  0.66608822  0.46731678  0.32016034]] \n",
      "\n",
      "[ 0.4590292   0.39368942  0.00524018  0.47488693  0.50958411  0.88985135\n",
      "  0.94296341  0.05411268  0.23540655  0.66608822  0.46731678  0.32016034] \n",
      "\n",
      "[[ 0.4590292   0.39368942  0.00524018  0.47488693]\n",
      " [ 0.50958411  0.88985135  0.94296341  0.05411268]\n",
      " [ 0.23540655  0.66608822  0.46731678  0.32016034]]\n"
     ]
    }
   ],
   "source": [
    "#Shape Manipulation\n",
    "a = np.random.random(12)\n",
    "print(a,\"\\n\")\n",
    "#Reshape creates a new array with required shape\n",
    "print(a.reshape(3,4),\"\\n\") #new array with the shape\n",
    "print(a,\"\\n\") #shape of a is unchanged\n",
    "\n",
    "#assign values a tuple for reshaping the existing array\n",
    "a.shape = (3,4)\n",
    "print(a)"
   ]
  },
  {
   "cell_type": "code",
   "execution_count": 24,
   "metadata": {
    "collapsed": false
   },
   "outputs": [
    {
     "name": "stdout",
     "output_type": "stream",
     "text": [
      "[[1 2 3]\n",
      " [4 5 6]\n",
      " [7 8 9]] \n",
      "\n",
      "[1 2 3 4 5 6 7 8 9] \n",
      "\n",
      "[1 2 3 4 5 6 7 8 9]\n"
     ]
    }
   ],
   "source": [
    "#ravel converts a 2-D array to 1-D array\n",
    "a = np.arange(1,10).reshape(3,3)\n",
    "b = a\n",
    "print(a,\"\\n\")\n",
    "a = a.ravel()\n",
    "print(a,\"\\n\")\n",
    "b.shape = (9) #shaping to a single dimension does same as ravel()\n",
    "print(b)\n"
   ]
  },
  {
   "cell_type": "code",
   "execution_count": 25,
   "metadata": {
    "collapsed": false
   },
   "outputs": [
    {
     "name": "stdout",
     "output_type": "stream",
     "text": [
      "[[1 2 3]\n",
      " [4 5 6]\n",
      " [7 8 9]] \n",
      "\n"
     ]
    },
    {
     "data": {
      "text/plain": [
       "array([[1, 4, 7],\n",
       "       [2, 5, 8],\n",
       "       [3, 6, 9]])"
      ]
     },
     "execution_count": 25,
     "metadata": {},
     "output_type": "execute_result"
    }
   ],
   "source": [
    "#Transpose\n",
    "a = np.arange(1,10).reshape(3,3)\n",
    "print(a,\"\\n\")\n",
    "a.transpose()"
   ]
  },
  {
   "cell_type": "code",
   "execution_count": null,
   "metadata": {
    "collapsed": true
   },
   "outputs": [],
   "source": []
  }
 ],
 "metadata": {
  "anaconda-cloud": {},
  "kernelspec": {
   "display_name": "Python [default]",
   "language": "python",
   "name": "python3"
  },
  "language_info": {
   "codemirror_mode": {
    "name": "ipython",
    "version": 3
   },
   "file_extension": ".py",
   "mimetype": "text/x-python",
   "name": "python",
   "nbconvert_exporter": "python",
   "pygments_lexer": "ipython3",
   "version": "3.5.2"
  }
 },
 "nbformat": 4,
 "nbformat_minor": 0
}
